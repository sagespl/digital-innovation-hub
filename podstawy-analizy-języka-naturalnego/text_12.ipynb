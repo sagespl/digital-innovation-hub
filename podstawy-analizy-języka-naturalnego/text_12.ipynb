{
 "cells": [
  {
   "cell_type": "markdown",
   "id": "coated-tokyo",
   "metadata": {
    "slideshow": {
     "slide_type": "slide"
    }
   },
   "source": [
    "# Podobieństwo tekstu"
   ]
  },
  {
   "cell_type": "markdown",
   "id": "naughty-veteran",
   "metadata": {
    "slideshow": {
     "slide_type": "fragment"
    }
   },
   "source": [
    "- słów\n",
    "- dokumentów"
   ]
  },
  {
   "cell_type": "markdown",
   "id": "combined-darwin",
   "metadata": {
    "slideshow": {
     "slide_type": "slide"
    }
   },
   "source": [
    "## Podobieństwo słów"
   ]
  },
  {
   "cell_type": "markdown",
   "id": "arabic-screening",
   "metadata": {
    "slideshow": {
     "slide_type": "fragment"
    }
   },
   "source": [
    "```\n",
    "pip install jellyfish\n",
    "```"
   ]
  },
  {
   "cell_type": "code",
   "execution_count": 1,
   "id": "native-kruger",
   "metadata": {
    "slideshow": {
     "slide_type": "fragment"
    }
   },
   "outputs": [
    {
     "name": "stderr",
     "output_type": "stream",
     "text": [
      "Warning : `load_model` does not return WordVectorModel or SupervisedModel any more, but a `FastText` object which is very similar.\n"
     ]
    }
   ],
   "source": [
    "import pandas as pd\n",
    "import numpy as np\n",
    "import fasttext\n",
    "import jellyfish\n",
    "import spacy\n",
    "\n",
    "nlp = spacy.load(\"pl_core_news_md\")\n",
    "ft = fasttext.load_model(\"cc.pl.300.bin\")"
   ]
  },
  {
   "cell_type": "markdown",
   "id": "prescribed-fiber",
   "metadata": {
    "slideshow": {
     "slide_type": "fragment"
    }
   },
   "source": [
    "```\n",
    "ziemniak\n",
    "ziemnjak\n",
    "iemniak\n",
    "kartofel\n",
    "```"
   ]
  },
  {
   "cell_type": "markdown",
   "id": "present-upset",
   "metadata": {
    "id": "j2CujViFo1Xd",
    "slideshow": {
     "slide_type": "slide"
    }
   },
   "source": [
    "### Hamming"
   ]
  },
  {
   "cell_type": "code",
   "execution_count": 2,
   "id": "continuous-somerset",
   "metadata": {
    "slideshow": {
     "slide_type": "fragment"
    }
   },
   "outputs": [
    {
     "data": {
      "text/plain": [
       "1"
      ]
     },
     "execution_count": 2,
     "metadata": {},
     "output_type": "execute_result"
    }
   ],
   "source": [
    "jellyfish.hamming_distance(\"ziemniak\", \"ziemnjak\")"
   ]
  },
  {
   "cell_type": "code",
   "execution_count": 3,
   "id": "verbal-telescope",
   "metadata": {
    "slideshow": {
     "slide_type": "fragment"
    }
   },
   "outputs": [
    {
     "data": {
      "text/plain": [
       "8"
      ]
     },
     "execution_count": 3,
     "metadata": {},
     "output_type": "execute_result"
    }
   ],
   "source": [
    "jellyfish.hamming_distance(\"ziemniak\", \"iemniak\")"
   ]
  },
  {
   "cell_type": "code",
   "execution_count": 4,
   "id": "determined-biography",
   "metadata": {
    "slideshow": {
     "slide_type": "fragment"
    }
   },
   "outputs": [
    {
     "data": {
      "text/plain": [
       "8"
      ]
     },
     "execution_count": 4,
     "metadata": {},
     "output_type": "execute_result"
    }
   ],
   "source": [
    "jellyfish.hamming_distance(\"ziemniak\", \"kartofel\")"
   ]
  },
  {
   "cell_type": "markdown",
   "id": "stuck-moisture",
   "metadata": {
    "id": "K2WO4IMxzxqM",
    "slideshow": {
     "slide_type": "slide"
    }
   },
   "source": [
    "### Levenshtein\n",
    "\n"
   ]
  },
  {
   "cell_type": "code",
   "execution_count": 5,
   "id": "internal-score",
   "metadata": {
    "slideshow": {
     "slide_type": "fragment"
    }
   },
   "outputs": [
    {
     "data": {
      "text/plain": [
       "1"
      ]
     },
     "execution_count": 5,
     "metadata": {},
     "output_type": "execute_result"
    }
   ],
   "source": [
    "jellyfish.levenshtein_distance(\"ziemniak\", \"ziemnjak\")"
   ]
  },
  {
   "cell_type": "code",
   "execution_count": 6,
   "id": "palestinian-prophet",
   "metadata": {
    "slideshow": {
     "slide_type": "fragment"
    }
   },
   "outputs": [
    {
     "data": {
      "text/plain": [
       "1"
      ]
     },
     "execution_count": 6,
     "metadata": {},
     "output_type": "execute_result"
    }
   ],
   "source": [
    "jellyfish.levenshtein_distance(\"ziemniak\", \"iemniak\")"
   ]
  },
  {
   "cell_type": "code",
   "execution_count": 7,
   "id": "orange-supplier",
   "metadata": {
    "slideshow": {
     "slide_type": "fragment"
    }
   },
   "outputs": [
    {
     "data": {
      "text/plain": [
       "8"
      ]
     },
     "execution_count": 7,
     "metadata": {},
     "output_type": "execute_result"
    }
   ],
   "source": [
    "jellyfish.levenshtein_distance(\"ziemniak\", \"kartofel\")"
   ]
  },
  {
   "cell_type": "markdown",
   "id": "inner-rainbow",
   "metadata": {
    "slideshow": {
     "slide_type": "slide"
    }
   },
   "source": [
    "### Cosinus"
   ]
  },
  {
   "cell_type": "code",
   "execution_count": 8,
   "id": "returning-aviation",
   "metadata": {
    "slideshow": {
     "slide_type": "fragment"
    }
   },
   "outputs": [],
   "source": [
    "from sklearn.metrics.pairwise import cosine_similarity"
   ]
  },
  {
   "cell_type": "code",
   "execution_count": 9,
   "id": "placed-aside",
   "metadata": {
    "slideshow": {
     "slide_type": "fragment"
    }
   },
   "outputs": [],
   "source": [
    "w1 = ft.get_word_vector(\"ziemniak\")\n",
    "w2 = ft.get_word_vector(\"ziemnjak\")\n",
    "w3 = ft.get_word_vector(\"iemniak\")\n",
    "w4 = ft.get_word_vector(\"kartofel\")"
   ]
  },
  {
   "cell_type": "code",
   "execution_count": 10,
   "id": "inner-object",
   "metadata": {
    "slideshow": {
     "slide_type": "slide"
    }
   },
   "outputs": [
    {
     "data": {
      "text/plain": [
       "array([[1.        , 0.31650072],\n",
       "       [0.31650072, 0.9999998 ]], dtype=float32)"
      ]
     },
     "execution_count": 10,
     "metadata": {},
     "output_type": "execute_result"
    }
   ],
   "source": [
    "cosine_similarity((w1, w2))"
   ]
  },
  {
   "cell_type": "code",
   "execution_count": 11,
   "id": "french-watts",
   "metadata": {
    "slideshow": {
     "slide_type": "fragment"
    }
   },
   "outputs": [
    {
     "data": {
      "text/plain": [
       "(['ziemniak', '<ziem', 'ziemn', 'iemni', 'emnia', 'mniak', 'niak>'],\n",
       " array([  93004, 3555220, 2003060, 3545679, 2207861, 2800225, 2474106]))"
      ]
     },
     "execution_count": 11,
     "metadata": {},
     "output_type": "execute_result"
    }
   ],
   "source": [
    "ft.get_subwords(\"ziemniak\")"
   ]
  },
  {
   "cell_type": "code",
   "execution_count": 12,
   "id": "marine-bridges",
   "metadata": {
    "slideshow": {
     "slide_type": "fragment"
    }
   },
   "outputs": [
    {
     "data": {
      "text/plain": [
       "(['<ziem', 'ziemn', 'iemnj', 'emnja', 'mnjak', 'njak>'],\n",
       " array([3555220, 2003060, 2323298, 2956006, 2145392, 3266749]))"
      ]
     },
     "execution_count": 12,
     "metadata": {},
     "output_type": "execute_result"
    }
   ],
   "source": [
    "ft.get_subwords(\"ziemnjak\")"
   ]
  },
  {
   "cell_type": "code",
   "execution_count": 13,
   "id": "iraqi-conjunction",
   "metadata": {
    "slideshow": {
     "slide_type": "slide"
    }
   },
   "outputs": [
    {
     "data": {
      "text/plain": [
       "array([[1.        , 0.45804375],\n",
       "       [0.45804375, 0.9999999 ]], dtype=float32)"
      ]
     },
     "execution_count": 13,
     "metadata": {},
     "output_type": "execute_result"
    }
   ],
   "source": [
    "cosine_similarity((w1, w3))"
   ]
  },
  {
   "cell_type": "code",
   "execution_count": 14,
   "id": "likely-zealand",
   "metadata": {
    "slideshow": {
     "slide_type": "fragment"
    }
   },
   "outputs": [
    {
     "data": {
      "text/plain": [
       "array([[1.        , 0.6329498 ],\n",
       "       [0.6329498 , 0.99999964]], dtype=float32)"
      ]
     },
     "execution_count": 14,
     "metadata": {},
     "output_type": "execute_result"
    }
   ],
   "source": [
    "cosine_similarity((w1, w4))"
   ]
  },
  {
   "cell_type": "code",
   "execution_count": 15,
   "id": "forty-glenn",
   "metadata": {
    "slideshow": {
     "slide_type": "fragment"
    }
   },
   "outputs": [],
   "source": [
    "t1 = nlp(\"ziemniak\")[0]\n",
    "t4 = nlp(\"kartofel\")[0]"
   ]
  },
  {
   "cell_type": "code",
   "execution_count": 16,
   "id": "systematic-acrobat",
   "metadata": {
    "slideshow": {
     "slide_type": "fragment"
    }
   },
   "outputs": [
    {
     "data": {
      "text/plain": [
       "array([[1.        , 0.35773095],\n",
       "       [0.35773095, 1.0000001 ]], dtype=float32)"
      ]
     },
     "execution_count": 16,
     "metadata": {},
     "output_type": "execute_result"
    }
   ],
   "source": [
    "cosine_similarity((t1.vector, t4.vector))"
   ]
  },
  {
   "cell_type": "code",
   "execution_count": 17,
   "id": "provincial-disease",
   "metadata": {
    "slideshow": {
     "slide_type": "fragment"
    }
   },
   "outputs": [
    {
     "data": {
      "text/plain": [
       "0.35773084"
      ]
     },
     "execution_count": 17,
     "metadata": {},
     "output_type": "execute_result"
    }
   ],
   "source": [
    "t1.similarity(t4)"
   ]
  },
  {
   "cell_type": "markdown",
   "id": "animal-election",
   "metadata": {
    "slideshow": {
     "slide_type": "skip"
    }
   },
   "source": [
    "\n"
   ]
  }
 ],
 "metadata": {
  "celltoolbar": "Slideshow",
  "kernelspec": {
   "display_name": "Python 3",
   "language": "python",
   "name": "python3"
  },
  "language_info": {
   "codemirror_mode": {
    "name": "ipython",
    "version": 3
   },
   "file_extension": ".py",
   "mimetype": "text/x-python",
   "name": "python",
   "nbconvert_exporter": "python",
   "pygments_lexer": "ipython3",
   "version": "3.8.5"
  }
 },
 "nbformat": 4,
 "nbformat_minor": 5
}
