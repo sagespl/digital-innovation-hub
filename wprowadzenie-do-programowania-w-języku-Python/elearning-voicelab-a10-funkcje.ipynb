{
 "cells": [
  {
   "cell_type": "markdown",
   "id": "pregnant-rapid",
   "metadata": {},
   "source": [
    "# Funkcje"
   ]
  },
  {
   "cell_type": "markdown",
   "id": "employed-advocate",
   "metadata": {},
   "source": [
    "## Co to jest?"
   ]
  },
  {
   "cell_type": "code",
   "execution_count": 8,
   "id": "published-toner",
   "metadata": {},
   "outputs": [],
   "source": [
    "def add(a, b):\n",
    "    print(a + b)\n",
    "    \n",
    "def sub(a, b):\n",
    "    print(a - b)\n",
    "    \n",
    "def mul(a, b):\n",
    "    print(a * b)"
   ]
  },
  {
   "cell_type": "code",
   "execution_count": 12,
   "id": "suspected-guyana",
   "metadata": {},
   "outputs": [
    {
     "name": "stdout",
     "output_type": "stream",
     "text": [
      "14\n"
     ]
    }
   ],
   "source": [
    "result = add(5,9)"
   ]
  },
  {
   "cell_type": "code",
   "execution_count": 13,
   "id": "adolescent-insulin",
   "metadata": {},
   "outputs": [],
   "source": [
    "result"
   ]
  },
  {
   "cell_type": "markdown",
   "id": "behavioral-exercise",
   "metadata": {},
   "source": [
    "## Zwracanie wartości"
   ]
  },
  {
   "cell_type": "code",
   "execution_count": 14,
   "id": "through-affairs",
   "metadata": {},
   "outputs": [],
   "source": [
    "def add(a, b):\n",
    "    return a + b\n",
    "    \n",
    "def sub(a, b):\n",
    "    return a - b\n",
    "    \n",
    "def mul(a, b):\n",
    "    return a * b"
   ]
  },
  {
   "cell_type": "code",
   "execution_count": null,
   "id": "biological-nightlife",
   "metadata": {},
   "outputs": [],
   "source": []
  },
  {
   "cell_type": "code",
   "execution_count": 17,
   "id": "metropolitan-major",
   "metadata": {},
   "outputs": [],
   "source": [
    "result = add(5,9)"
   ]
  },
  {
   "cell_type": "code",
   "execution_count": 19,
   "id": "informational-impression",
   "metadata": {},
   "outputs": [],
   "source": [
    "x = pow(2, 4)"
   ]
  },
  {
   "cell_type": "code",
   "execution_count": 20,
   "id": "increased-generation",
   "metadata": {},
   "outputs": [
    {
     "name": "stdout",
     "output_type": "stream",
     "text": [
      "16\n"
     ]
    }
   ],
   "source": [
    "print(x)"
   ]
  },
  {
   "cell_type": "code",
   "execution_count": 24,
   "id": "organic-soundtrack",
   "metadata": {},
   "outputs": [],
   "source": [
    "def mojafunckcja():\n",
    "    return (1,2,3)"
   ]
  },
  {
   "cell_type": "code",
   "execution_count": 25,
   "id": "optical-entertainment",
   "metadata": {},
   "outputs": [],
   "source": [
    "x = mojafunckcja()"
   ]
  },
  {
   "cell_type": "code",
   "execution_count": 30,
   "id": "mexican-chile",
   "metadata": {},
   "outputs": [
    {
     "data": {
      "text/plain": [
       "True"
      ]
     },
     "execution_count": 30,
     "metadata": {},
     "output_type": "execute_result"
    }
   ],
   "source": [
    "def mojafunckcja():\n",
    "    return None\n",
    "\n",
    "\n",
    "x = mojafunckcja()\n",
    "x is None"
   ]
  },
  {
   "cell_type": "code",
   "execution_count": 37,
   "id": "neutral-packet",
   "metadata": {},
   "outputs": [
    {
     "data": {
      "text/plain": [
       "1"
      ]
     },
     "execution_count": 37,
     "metadata": {},
     "output_type": "execute_result"
    }
   ],
   "source": [
    "def mojafunckcja():\n",
    "    return 1\n",
    "    print('hello')\n",
    "    \n",
    "    \n",
    "x = mojafunckcja()\n",
    "x"
   ]
  },
  {
   "cell_type": "markdown",
   "id": "linear-germany",
   "metadata": {},
   "source": [
    "## Parametry"
   ]
  },
  {
   "cell_type": "code",
   "execution_count": 54,
   "id": "eligible-syracuse",
   "metadata": {},
   "outputs": [
    {
     "ename": "TypeError",
     "evalue": "add() takes from 2 to 3 positional arguments but 4 were given",
     "output_type": "error",
     "traceback": [
      "Traceback \u001b[1;36m(most recent call last)\u001b[0m:\n",
      "\u001b[1;36m  File \u001b[1;32m\"<ipython-input-54-1e35393139c4>\"\u001b[1;36m, line \u001b[1;32m4\u001b[1;36m, in \u001b[1;35m<module>\u001b[1;36m\u001b[0m\n\u001b[1;33m    add(1, 2, 4, 5)\u001b[0m\n",
      "\u001b[1;31mTypeError\u001b[0m\u001b[1;31m:\u001b[0m add() takes from 2 to 3 positional arguments but 4 were given\n"
     ]
    }
   ],
   "source": [
    "def add(a, b, c=0):\n",
    "    return a + b + c\n",
    "\n",
    "add(1, 2, 4, 5)"
   ]
  },
  {
   "cell_type": "markdown",
   "id": "prescribed-agency",
   "metadata": {},
   "source": [
    "## Argumenty"
   ]
  },
  {
   "cell_type": "code",
   "execution_count": 55,
   "id": "quantitative-vancouver",
   "metadata": {},
   "outputs": [
    {
     "data": {
      "text/plain": [
       "3"
      ]
     },
     "execution_count": 55,
     "metadata": {},
     "output_type": "execute_result"
    }
   ],
   "source": [
    "# pozycyjne\n",
    "add(1, 2)"
   ]
  },
  {
   "cell_type": "code",
   "execution_count": 56,
   "id": "harmful-hamilton",
   "metadata": {},
   "outputs": [
    {
     "data": {
      "text/plain": [
       "3"
      ]
     },
     "execution_count": 56,
     "metadata": {},
     "output_type": "execute_result"
    }
   ],
   "source": [
    "# keyword\n",
    "add(a=1, b=2)"
   ]
  },
  {
   "cell_type": "code",
   "execution_count": 57,
   "id": "opening-intensity",
   "metadata": {},
   "outputs": [],
   "source": [
    "def sub(a, b):\n",
    "    return a - b"
   ]
  },
  {
   "cell_type": "code",
   "execution_count": 60,
   "id": "graphic-subscriber",
   "metadata": {},
   "outputs": [
    {
     "data": {
      "text/plain": [
       "-1"
      ]
     },
     "execution_count": 60,
     "metadata": {},
     "output_type": "execute_result"
    }
   ],
   "source": [
    "sub(1, 2)"
   ]
  },
  {
   "cell_type": "code",
   "execution_count": 61,
   "id": "bound-refrigerator",
   "metadata": {},
   "outputs": [
    {
     "data": {
      "text/plain": [
       "1"
      ]
     },
     "execution_count": 61,
     "metadata": {},
     "output_type": "execute_result"
    }
   ],
   "source": [
    "sub(2, 1)"
   ]
  },
  {
   "cell_type": "code",
   "execution_count": 62,
   "id": "coordinate-significance",
   "metadata": {},
   "outputs": [
    {
     "data": {
      "text/plain": [
       "-1"
      ]
     },
     "execution_count": 62,
     "metadata": {},
     "output_type": "execute_result"
    }
   ],
   "source": [
    "sub(a=1, b=2)"
   ]
  },
  {
   "cell_type": "code",
   "execution_count": null,
   "id": "unsigned-definition",
   "metadata": {},
   "outputs": [],
   "source": []
  },
  {
   "cell_type": "code",
   "execution_count": 63,
   "id": "amazing-pepper",
   "metadata": {},
   "outputs": [
    {
     "data": {
      "text/plain": [
       "-1"
      ]
     },
     "execution_count": 63,
     "metadata": {},
     "output_type": "execute_result"
    }
   ],
   "source": [
    "sub(b=2, a=1)"
   ]
  },
  {
   "cell_type": "code",
   "execution_count": null,
   "id": "cardiac-authorization",
   "metadata": {},
   "outputs": [],
   "source": [
    "def connect(username, password, host='localhost', port=8000, secure=True):\n",
    "    ...\n",
    "    \n",
    "    \n",
    "connect(\n",
    "    host='127.0.0.1',\n",
    "    port=8000,\n",
    "    username='admin',\n",
    "    password='myvoiceismypassword',\n",
    "    secure=True)"
   ]
  },
  {
   "cell_type": "code",
   "execution_count": 71,
   "id": "numerous-summer",
   "metadata": {},
   "outputs": [
    {
     "data": {
      "text/plain": [
       "'Mark Watney'"
      ]
     },
     "execution_count": 71,
     "metadata": {},
     "output_type": "execute_result"
    }
   ],
   "source": [
    "def clean(text):\n",
    "    return (text\n",
    "            .replace('8', '')\n",
    "            .replace('-', ' ')\n",
    "            .title())\n",
    "\n",
    "\n",
    "clean('MaRK-WatNEY8')"
   ]
  },
  {
   "cell_type": "code",
   "execution_count": null,
   "id": "micro-pottery",
   "metadata": {},
   "outputs": [],
   "source": []
  }
 ],
 "metadata": {
  "kernelspec": {
   "display_name": "Python 3",
   "language": "python",
   "name": "python3"
  },
  "language_info": {
   "codemirror_mode": {
    "name": "ipython",
    "version": 3
   },
   "file_extension": ".py",
   "mimetype": "text/x-python",
   "name": "python",
   "nbconvert_exporter": "python",
   "pygments_lexer": "ipython3",
   "version": "3.9.1"
  }
 },
 "nbformat": 4,
 "nbformat_minor": 5
}
