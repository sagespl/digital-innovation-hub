{
 "cells": [
  {
   "cell_type": "markdown",
   "id": "metropolitan-consumer",
   "metadata": {},
   "source": [
    "# Zmienne i struktury danych"
   ]
  },
  {
   "cell_type": "markdown",
   "id": "medieval-adelaide",
   "metadata": {},
   "source": [
    "## Składnia Python\n",
    "- Zmienne i stałe\n",
    "- Wyświetlanie wartości\n",
    "- Zakończenia linii\n",
    "- Długość linii\n",
    "- Komentarze\n",
    "- Wcięcia\n",
    "- PEP-8 i PEP-20"
   ]
  },
  {
   "cell_type": "code",
   "execution_count": null,
   "id": "strategic-supervision",
   "metadata": {},
   "outputs": [],
   "source": [
    "imie = 'Jan'\n",
    "nazwisko = 'Twardowski'\n",
    "wiek = 44"
   ]
  },
  {
   "cell_type": "code",
   "execution_count": null,
   "id": "worth-thunder",
   "metadata": {},
   "outputs": [],
   "source": [
    "print(f'witaj {imie} {nazwisko}, dziś masz {wiek} urodziny!')"
   ]
  },
  {
   "cell_type": "code",
   "execution_count": null,
   "id": "compact-appearance",
   "metadata": {},
   "outputs": [],
   "source": [
    "imie = 'Mark'\n",
    "nazwisko = 'Watney'"
   ]
  },
  {
   "cell_type": "code",
   "execution_count": null,
   "id": "pursuant-blues",
   "metadata": {},
   "outputs": [],
   "source": [
    "print(f'witaj {imie} {nazwisko}, dziś masz {wiek} urodziny!')"
   ]
  },
  {
   "cell_type": "code",
   "execution_count": null,
   "id": "elect-morris",
   "metadata": {},
   "outputs": [],
   "source": [
    "SEKUNDA = 1\n",
    "MINUTA = 60 * SEKUNDA\n",
    "GODZINA = 60 * MINUTA\n",
    "\n",
    "Pa = 1\n",
    "kPa = 1000 * Pa\n",
    "\n",
    "KPA = 1000 * PA"
   ]
  },
  {
   "cell_type": "code",
   "execution_count": null,
   "id": "portuguese-banner",
   "metadata": {},
   "outputs": [],
   "source": [
    "pierwsze_imie = 'Jan'\n",
    "nazwisko_rodowe = 'Twardowski'"
   ]
  },
  {
   "cell_type": "code",
   "execution_count": null,
   "id": "offshore-conversion",
   "metadata": {},
   "outputs": [],
   "source": [
    "first_name = 'Jan'\n",
    "last_name = 'Twardowski'\n",
    "\n",
    "firstname = 'Jan'\n",
    "lastname = 'Twardowski'"
   ]
  },
  {
   "cell_type": "code",
   "execution_count": null,
   "id": "consolidated-withdrawal",
   "metadata": {},
   "outputs": [],
   "source": [
    "if True:\n",
    "    print('Hello')\n",
    "    \n",
    "    if True:\n",
    "        print('a')\n",
    "        print('b')\n",
    "    \n",
    "    print('World')\n",
    "else:\n",
    "    print('Żegnaj')"
   ]
  },
  {
   "cell_type": "code",
   "execution_count": null,
   "id": "otherwise-thirty",
   "metadata": {},
   "outputs": [],
   "source": [
    "print('hello')  # następna linijka wypisze `hello` na ekranie"
   ]
  },
  {
   "cell_type": "code",
   "execution_count": null,
   "id": "moved-sugar",
   "metadata": {},
   "outputs": [],
   "source": [
    "import this"
   ]
  },
  {
   "cell_type": "code",
   "execution_count": null,
   "id": "limited-korean",
   "metadata": {},
   "outputs": [],
   "source": [
    "# https://python.astrotech.io/basics/about/good-practices.html#the-zen-of-python"
   ]
  },
  {
   "cell_type": "markdown",
   "id": "hindu-grammar",
   "metadata": {},
   "source": [
    "## Operatory\n",
    "- Porównania\n",
    "- Arytmetyczne\n",
    "- Potęga i pierwiastki\n",
    "- Dzielenia: div, truediv, modulo\n",
    "- Incrementacji"
   ]
  },
  {
   "cell_type": "code",
   "execution_count": null,
   "id": "intelligent-planning",
   "metadata": {},
   "outputs": [],
   "source": [
    "10 >= 2"
   ]
  },
  {
   "cell_type": "code",
   "execution_count": null,
   "id": "fixed-frontier",
   "metadata": {},
   "outputs": [],
   "source": [
    "10 <= 2"
   ]
  },
  {
   "cell_type": "code",
   "execution_count": null,
   "id": "comfortable-period",
   "metadata": {},
   "outputs": [],
   "source": [
    "10 == 2"
   ]
  },
  {
   "cell_type": "code",
   "execution_count": null,
   "id": "selected-philadelphia",
   "metadata": {},
   "outputs": [],
   "source": [
    "10 != 2"
   ]
  },
  {
   "cell_type": "code",
   "execution_count": null,
   "id": "divine-rough",
   "metadata": {},
   "outputs": [],
   "source": [
    "10 + 2"
   ]
  },
  {
   "cell_type": "code",
   "execution_count": null,
   "id": "complimentary-white",
   "metadata": {},
   "outputs": [],
   "source": [
    "10 - 2"
   ]
  },
  {
   "cell_type": "code",
   "execution_count": null,
   "id": "silver-vegetable",
   "metadata": {},
   "outputs": [],
   "source": [
    "10 * 2"
   ]
  },
  {
   "cell_type": "code",
   "execution_count": null,
   "id": "mysterious-costs",
   "metadata": {},
   "outputs": [],
   "source": [
    "10 ** 2"
   ]
  },
  {
   "cell_type": "code",
   "execution_count": null,
   "id": "earlier-reggae",
   "metadata": {},
   "outputs": [],
   "source": [
    "2 ** (1/2)"
   ]
  },
  {
   "cell_type": "code",
   "execution_count": null,
   "id": "focused-algeria",
   "metadata": {},
   "outputs": [],
   "source": [
    "10 / 2"
   ]
  },
  {
   "cell_type": "code",
   "execution_count": null,
   "id": "cordless-milwaukee",
   "metadata": {},
   "outputs": [],
   "source": [
    "10 // 2"
   ]
  },
  {
   "cell_type": "code",
   "execution_count": null,
   "id": "appointed-alliance",
   "metadata": {},
   "outputs": [],
   "source": [
    "10 / 4"
   ]
  },
  {
   "cell_type": "code",
   "execution_count": null,
   "id": "pleasant-israel",
   "metadata": {},
   "outputs": [],
   "source": [
    "10 // 4"
   ]
  },
  {
   "cell_type": "code",
   "execution_count": null,
   "id": "egyptian-arizona",
   "metadata": {},
   "outputs": [],
   "source": [
    "10 % 4"
   ]
  },
  {
   "cell_type": "code",
   "execution_count": null,
   "id": "victorian-mechanism",
   "metadata": {},
   "outputs": [],
   "source": [
    "11 // 2"
   ]
  },
  {
   "cell_type": "code",
   "execution_count": null,
   "id": "pressing-maple",
   "metadata": {},
   "outputs": [],
   "source": [
    "11 % 2"
   ]
  },
  {
   "cell_type": "code",
   "execution_count": null,
   "id": "waiting-quebec",
   "metadata": {},
   "outputs": [],
   "source": [
    "10 % 2 == 0"
   ]
  },
  {
   "cell_type": "code",
   "execution_count": null,
   "id": "familiar-brunswick",
   "metadata": {},
   "outputs": [],
   "source": [
    "x = 11\n",
    "x *= 2\n",
    "x /= 5\n",
    "\n",
    "x"
   ]
  },
  {
   "cell_type": "code",
   "execution_count": null,
   "id": "assumed-asset",
   "metadata": {},
   "outputs": [],
   "source": [
    "x"
   ]
  }
 ],
 "metadata": {
  "kernelspec": {
   "display_name": "Python 3",
   "language": "python",
   "name": "python3"
  },
  "language_info": {
   "codemirror_mode": {
    "name": "ipython",
    "version": 3
   },
   "file_extension": ".py",
   "mimetype": "text/x-python",
   "name": "python",
   "nbconvert_exporter": "python",
   "pygments_lexer": "ipython3",
   "version": "3.9.1"
  }
 },
 "nbformat": 4,
 "nbformat_minor": 5
}
