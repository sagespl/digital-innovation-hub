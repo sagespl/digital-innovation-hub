{
 "cells": [
  {
   "cell_type": "markdown",
   "id": "signal-lying",
   "metadata": {},
   "source": [
    "# Typy numeryczne i logiczne"
   ]
  },
  {
   "cell_type": "markdown",
   "id": "noble-christmas",
   "metadata": {},
   "source": [
    "## int\n",
    "- Definicja\n",
    "- Konwersja typów\n",
    "- Sprawdzanie typów"
   ]
  },
  {
   "cell_type": "code",
   "execution_count": null,
   "id": "prostate-tuesday",
   "metadata": {},
   "outputs": [],
   "source": [
    "10"
   ]
  },
  {
   "cell_type": "code",
   "execution_count": null,
   "id": "orange-virus",
   "metadata": {},
   "outputs": [],
   "source": [
    "x = 1000000"
   ]
  },
  {
   "cell_type": "code",
   "execution_count": null,
   "id": "supposed-joining",
   "metadata": {},
   "outputs": [],
   "source": [
    "x = 1_000_000"
   ]
  },
  {
   "cell_type": "code",
   "execution_count": null,
   "id": "trying-murray",
   "metadata": {},
   "outputs": [],
   "source": [
    "int(1.9999999)"
   ]
  },
  {
   "cell_type": "markdown",
   "id": "harmful-elevation",
   "metadata": {},
   "source": [
    "## float\n",
    "- Definicja\n",
    "- Notacje\n",
    "- Konwersja typów\n",
    "- Zaokrąglanie"
   ]
  },
  {
   "cell_type": "code",
   "execution_count": null,
   "id": "continental-neighborhood",
   "metadata": {},
   "outputs": [],
   "source": [
    "1.5"
   ]
  },
  {
   "cell_type": "code",
   "execution_count": null,
   "id": "retired-senator",
   "metadata": {},
   "outputs": [],
   "source": [
    "x = 1.5"
   ]
  },
  {
   "cell_type": "code",
   "execution_count": null,
   "id": "reserved-publicity",
   "metadata": {},
   "outputs": [],
   "source": [
    "17 * 1e-12"
   ]
  },
  {
   "cell_type": "code",
   "execution_count": null,
   "id": "literary-hypothesis",
   "metadata": {},
   "outputs": [],
   "source": [
    "float(5)"
   ]
  },
  {
   "cell_type": "code",
   "execution_count": null,
   "id": "victorian-penalty",
   "metadata": {},
   "outputs": [],
   "source": [
    "round(3.1415, 1)"
   ]
  },
  {
   "cell_type": "code",
   "execution_count": null,
   "id": "lesser-agriculture",
   "metadata": {},
   "outputs": [],
   "source": [
    "10 / 2"
   ]
  },
  {
   "cell_type": "code",
   "execution_count": null,
   "id": "verified-springfield",
   "metadata": {},
   "outputs": [],
   "source": [
    "x = 10 / 2\n",
    "\n",
    "type(x)"
   ]
  },
  {
   "cell_type": "markdown",
   "id": "sized-marathon",
   "metadata": {},
   "source": [
    "## bool\n",
    "- Definicja\n",
    "- Konwersja typów\n",
    "- Wartości prawdziwe i fałszywe\n",
    "- Algebra Boole'a: Koniunkcja i alternatywa"
   ]
  },
  {
   "cell_type": "code",
   "execution_count": null,
   "id": "pregnant-filling",
   "metadata": {},
   "outputs": [],
   "source": [
    "x = 12\n",
    "\n",
    "parzysta = (x % 2 == 0)\n",
    "\n",
    "parzysta"
   ]
  },
  {
   "cell_type": "code",
   "execution_count": null,
   "id": "hispanic-dutch",
   "metadata": {},
   "outputs": [],
   "source": [
    "bool(0)\n",
    "bool(0.0)\n",
    "bool(False)\n",
    "bool(None)\n",
    "bool('')\n",
    "bool([])\n",
    "bool(())\n",
    "bool(set())\n",
    "bool({})"
   ]
  },
  {
   "cell_type": "code",
   "execution_count": null,
   "id": "varying-strike",
   "metadata": {},
   "outputs": [],
   "source": [
    "True and True"
   ]
  },
  {
   "cell_type": "code",
   "execution_count": null,
   "id": "upset-exemption",
   "metadata": {},
   "outputs": [],
   "source": [
    "False and True"
   ]
  },
  {
   "cell_type": "code",
   "execution_count": null,
   "id": "filled-orange",
   "metadata": {},
   "outputs": [],
   "source": [
    "True or False"
   ]
  },
  {
   "cell_type": "code",
   "execution_count": null,
   "id": "rapid-marking",
   "metadata": {},
   "outputs": [],
   "source": [
    "imie = 'Mark'\n",
    "nazwisko = 'Watney'\n",
    "\n",
    "(imie == 'Mark' and nazwisko == 'Watney') or \\\n",
    "(imie == 'Melissa' and nazwisko == 'Lewis')"
   ]
  },
  {
   "cell_type": "code",
   "execution_count": null,
   "id": "adaptive-swiss",
   "metadata": {},
   "outputs": [],
   "source": [
    "age = 15"
   ]
  },
  {
   "cell_type": "code",
   "execution_count": null,
   "id": "infectious-customs",
   "metadata": {},
   "outputs": [],
   "source": [
    "age >= 18"
   ]
  },
  {
   "cell_type": "markdown",
   "id": "polished-strip",
   "metadata": {},
   "source": [
    "## None\n",
    "- Definicja\n",
    "- Porównanie i przyrównanie"
   ]
  },
  {
   "cell_type": "code",
   "execution_count": null,
   "id": "unable-myrtle",
   "metadata": {},
   "outputs": [],
   "source": [
    "imie = 'Mark'\n",
    "nazwisko = 'Watney'\n",
    "wiek = None"
   ]
  },
  {
   "cell_type": "code",
   "execution_count": null,
   "id": "pacific-blackberry",
   "metadata": {},
   "outputs": [],
   "source": [
    "bool(None)"
   ]
  },
  {
   "cell_type": "code",
   "execution_count": null,
   "id": "future-bleeding",
   "metadata": {},
   "outputs": [],
   "source": [
    "bool(False)"
   ]
  },
  {
   "cell_type": "code",
   "execution_count": null,
   "id": "appropriate-supply",
   "metadata": {},
   "outputs": [],
   "source": [
    "wiek = None\n",
    "wiek == None"
   ]
  },
  {
   "cell_type": "code",
   "execution_count": null,
   "id": "material-notification",
   "metadata": {},
   "outputs": [],
   "source": [
    "wiek = None\n",
    "wiek is None"
   ]
  },
  {
   "cell_type": "code",
   "execution_count": null,
   "id": "excellent-herald",
   "metadata": {},
   "outputs": [],
   "source": [
    "x = 10"
   ]
  },
  {
   "cell_type": "code",
   "execution_count": null,
   "id": "excessive-elder",
   "metadata": {},
   "outputs": [],
   "source": [
    "x == 10"
   ]
  },
  {
   "cell_type": "markdown",
   "id": "small-inflation",
   "metadata": {},
   "source": [
    "#"
   ]
  }
 ],
 "metadata": {
  "kernelspec": {
   "display_name": "Python 3",
   "language": "python",
   "name": "python3"
  },
  "language_info": {
   "codemirror_mode": {
    "name": "ipython",
    "version": 3
   },
   "file_extension": ".py",
   "mimetype": "text/x-python",
   "name": "python",
   "nbconvert_exporter": "python",
   "pygments_lexer": "ipython3",
   "version": "3.9.1"
  }
 },
 "nbformat": 4,
 "nbformat_minor": 5
}
