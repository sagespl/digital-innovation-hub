{
 "cells": [
  {
   "cell_type": "markdown",
   "id": "overall-despite",
   "metadata": {
    "id": "overall-despite",
    "slideshow": {
     "slide_type": "slide"
    }
   },
   "source": [
    "# One-shot learning"
   ]
  },
  {
   "cell_type": "markdown",
   "id": "informational-vermont",
   "metadata": {
    "slideshow": {
     "slide_type": "fragment"
    }
   },
   "source": [
    "**Building a One-shot Learning Network with PyTorch**   \n",
    "Ta-Ying Cheng\n",
    "\n",
    "https://towardsdatascience.com/building-a-one-shot-learning-network-with-pytorch-d1c3a5fafa4a"
   ]
  },
  {
   "cell_type": "code",
   "execution_count": 5,
   "id": "considerable-burning",
   "metadata": {
    "id": "removed-allergy",
    "slideshow": {
     "slide_type": "slide"
    }
   },
   "outputs": [],
   "source": [
    "import os\n",
    "import time\n",
    "import random\n",
    "import torch\n",
    "from torch import nn, optim\n",
    "from torch.utils.data import Dataset, DataLoader\n",
    "from torchvision import datasets\n",
    "from torchvision import transforms as T\n",
    "from PIL import Image"
   ]
  },
  {
   "cell_type": "markdown",
   "id": "anticipated-camera",
   "metadata": {
    "slideshow": {
     "slide_type": "slide"
    }
   },
   "source": [
    "## Dane"
   ]
  },
  {
   "cell_type": "code",
   "execution_count": 6,
   "id": "sharing-logging",
   "metadata": {
    "colab": {
     "base_uri": "https://localhost:8080/"
    },
    "id": "revolutionary-wisdom",
    "outputId": "b738833a-486b-4e4c-fbe7-41af6374ee41",
    "slideshow": {
     "slide_type": "fragment"
    }
   },
   "outputs": [
    {
     "name": "stdout",
     "output_type": "stream",
     "text": [
      "Files already downloaded and verified\n"
     ]
    }
   ],
   "source": [
    "omniglot = datasets.Omniglot(root=\"./data\", download=True)"
   ]
  },
  {
   "cell_type": "code",
   "execution_count": 7,
   "id": "professional-palace",
   "metadata": {
    "colab": {
     "base_uri": "https://localhost:8080/"
    },
    "id": "horizontal-giving",
    "outputId": "fe11a709-b120-4b5a-bd70-4bb3baa07282",
    "slideshow": {
     "slide_type": "fragment"
    }
   },
   "outputs": [
    {
     "name": "stdout",
     "output_type": "stream",
     "text": [
      "Files already downloaded and verified\n"
     ]
    }
   ],
   "source": [
    "omniglot_test = datasets.Omniglot(root=\"./data\", background=False, download=True)"
   ]
  },
  {
   "cell_type": "code",
   "execution_count": 8,
   "id": "conservative-fleet",
   "metadata": {
    "colab": {
     "base_uri": "https://localhost:8080/",
     "height": 139
    },
    "id": "unknown-cholesterol",
    "outputId": "09982dbf-f739-4431-bfe1-90b4d8453cbe",
    "slideshow": {
     "slide_type": "fragment"
    }
   },
   "outputs": [
    {
     "name": "stdout",
     "output_type": "stream",
     "text": [
      "0\n"
     ]
    },
    {
     "data": {
      "image/png": "[encoded data removed]",
      "text/plain": [
       "<PIL.Image.Image image mode=L size=105x105 at 0x7FDF2846A2B0>"
      ]
     },
     "execution_count": 8,
     "metadata": {},
     "output_type": "execute_result"
    }
   ],
   "source": [
    "img, label = omniglot[0]\n",
    "print(label)\n",
    "img"
   ]
  },
  {
   "cell_type": "code",
   "execution_count": 9,
   "id": "respective-patient",
   "metadata": {
    "colab": {
     "base_uri": "https://localhost:8080/",
     "height": 139
    },
    "id": "heard-convention",
    "outputId": "f4fbbe43-be6c-4a72-bd57-9fe344cd3bd3",
    "slideshow": {
     "slide_type": "slide"
    }
   },
   "outputs": [
    {
     "name": "stdout",
     "output_type": "stream",
     "text": [
      "0\n"
     ]
    },
    {
     "data": {
      "image/png": "[encoded data removed]",
      "text/plain": [
       "<PIL.Image.Image image mode=L size=105x105 at 0x7FDF28473B50>"
      ]
     },
     "execution_count": 9,
     "metadata": {},
     "output_type": "execute_result"
    }
   ],
   "source": [
    "img, label = omniglot[10]\n",
    "print(label)\n",
    "img"
   ]
  },
  {
   "cell_type": "code",
   "execution_count": 10,
   "id": "geographic-database",
   "metadata": {
    "colab": {
     "base_uri": "https://localhost:8080/",
     "height": 139
    },
    "id": "failing-dubai",
    "outputId": "4e5b7366-dcc6-409d-d10c-6fe22c3bb8e5",
    "slideshow": {
     "slide_type": "fragment"
    }
   },
   "outputs": [
    {
     "name": "stdout",
     "output_type": "stream",
     "text": [
      "5\n"
     ]
    },
    {
     "data": {
      "image/png": "[encoded data removed]",
      "text/plain": [
       "<PIL.Image.Image image mode=L size=105x105 at 0x7FDF2844DD60>"
      ]
     },
     "execution_count": 10,
     "metadata": {},
     "output_type": "execute_result"
    }
   ],
   "source": [
    "img, label = omniglot[100]\n",
    "print(label)\n",
    "img"
   ]
  },
  {
   "cell_type": "code",
   "execution_count": 11,
   "id": "specified-triple",
   "metadata": {
    "colab": {
     "base_uri": "https://localhost:8080/"
    },
    "id": "worth-passion",
    "outputId": "3ee81f08-99d4-4e4d-8373-d74f99c895a1",
    "slideshow": {
     "slide_type": "slide"
    }
   },
   "outputs": [
    {
     "data": {
      "text/plain": [
       "['Gujarati',\n",
       " 'Korean',\n",
       " 'Arcadian',\n",
       " 'Malay_(Jawi_-_Arabic)',\n",
       " 'Grantha',\n",
       " 'Blackfoot_(Canadian_Aboriginal_Syllabics)',\n",
       " 'Balinese',\n",
       " '.DS_Store',\n",
       " 'Futurama',\n",
       " 'N_Ko',\n",
       " 'Burmese_(Myanmar)',\n",
       " 'Anglo-Saxon_Futhorc',\n",
       " 'Mkhedruli_(Georgian)',\n",
       " 'Latin',\n",
       " 'Braille',\n",
       " 'Sanskrit',\n",
       " 'Japanese_(hiragana)',\n",
       " 'Tagalog',\n",
       " 'Greek',\n",
       " 'Ojibwe_(Canadian_Aboriginal_Syllabics)',\n",
       " 'Japanese_(katakana)',\n",
       " 'Early_Aramaic',\n",
       " 'Hebrew',\n",
       " 'Tifinagh',\n",
       " 'Asomtavruli_(Georgian)',\n",
       " 'Armenian',\n",
       " 'Syriac_(Estrangelo)',\n",
       " 'Alphabet_of_the_Magi',\n",
       " 'Cyrillic',\n",
       " 'Bengali',\n",
       " 'Inuktitut_(Canadian_Aboriginal_Syllabics)']"
      ]
     },
     "execution_count": 11,
     "metadata": {},
     "output_type": "execute_result"
    }
   ],
   "source": [
    "os.listdir(\"./data/omniglot-py/images_background/\")"
   ]
  },
  {
   "cell_type": "code",
   "execution_count": 12,
   "id": "limited-prerequisite",
   "metadata": {
    "colab": {
     "base_uri": "https://localhost:8080/"
    },
    "id": "theoretical-cabin",
    "outputId": "1e1d4aac-d869-4967-9c74-c032a2e3ec46",
    "slideshow": {
     "slide_type": "slide"
    }
   },
   "outputs": [
    {
     "data": {
      "text/plain": [
       "['Oriya',\n",
       " 'ULOG',\n",
       " 'Tengwar',\n",
       " '.DS_Store',\n",
       " 'Malayalam',\n",
       " 'Atlantean',\n",
       " 'Keble',\n",
       " 'Manipuri',\n",
       " 'Gurmukhi',\n",
       " 'Tibetan',\n",
       " 'Aurek-Besh',\n",
       " 'Ge_ez',\n",
       " 'Angelic',\n",
       " 'Old_Church_Slavonic_(Cyrillic)',\n",
       " 'Kannada',\n",
       " 'Avesta',\n",
       " 'Mongolian',\n",
       " 'Syriac_(Serto)',\n",
       " 'Atemayar_Qelisayer',\n",
       " 'Sylheti',\n",
       " 'Glagolitic']"
      ]
     },
     "execution_count": 12,
     "metadata": {},
     "output_type": "execute_result"
    }
   ],
   "source": [
    "os.listdir(\"./data/omniglot-py/images_evaluation/\")"
   ]
  },
  {
   "cell_type": "code",
   "execution_count": 13,
   "id": "solved-jonathan",
   "metadata": {
    "slideshow": {
     "slide_type": "slide"
    }
   },
   "outputs": [],
   "source": [
    "from omniglot import OmniglotDataset"
   ]
  },
  {
   "cell_type": "code",
   "execution_count": null,
   "id": "regulated-plaza",
   "metadata": {
    "id": "acquired-things",
    "slideshow": {
     "slide_type": "fragment"
    }
   },
   "outputs": [],
   "source": [
    "class OmniglotDataset(Dataset):\n",
    "    def __init__(self, root_dir, set_size, transform=None):\n",
    "        self.root_dir = root_dir\n",
    "        self.categories = [[folder, [subfolder for subfolder in os.listdir(root_dir + folder) \n",
    "                                     if not subfolder.startswith(\".\")]]\n",
    "                           for folder in os.listdir(root_dir) \n",
    "                           if not folder.startswith(\".\")]\n",
    "        self.transform = transform\n",
    "        self.set_size = set_size\n",
    "    def __len__(self):\n",
    "        return self.set_size\n",
    "    def __getitem__(self, idx):\n",
    "        ..."
   ]
  },
  {
   "cell_type": "code",
   "execution_count": null,
   "id": "damaged-celebrity",
   "metadata": {
    "slideshow": {
     "slide_type": "slide"
    }
   },
   "outputs": [],
   "source": [
    "    ...\n",
    "    def __getitem__(self, idx):\n",
    "        img1 = None\n",
    "        img2 = None\n",
    "        label = None\n",
    "        if idx % 2 == 0:\n",
    "            category = random.choice(self.categories)\n",
    "            character = random.choice(category[1])\n",
    "            img_dir = f\"{self.root_dir}{category[0]}/{character}\"\n",
    "            img1_name = random.choice(os.listdir(img_dir))\n",
    "            img2_name = random.choice(os.listdir(img_dir))\n",
    "            img1 = Image.open(f\"{img_dir}/{img1_name}\")\n",
    "            img2 = Image.open(f\"{img_dir}/{img2_name}\")\n",
    "            label = 1.0\n",
    "        else:\n",
    "            category1, category2 = random.choice(self.categories), random.choice(self.categories)\n",
    "            character1, character2 = random.choice(category1[1]), random.choice(category2[1])\n",
    "            img_dir1 = f\"{self.root_dir}{category1[0]}/{character1}\"\n",
    "            img_dir2 = f\"{self.root_dir}{category2[0]}/{character2}\"\n",
    "            img1_name = random.choice(os.listdir(img_dir1))\n",
    "            img2_name = random.choice(os.listdir(img_dir2))\n",
    "            while img1_name == img2_name:\n",
    "                img2_name = random.choice(os.listdir(img_dir2))\n",
    "            label = 0.0\n",
    "            img1 = Image.open(f\"{img_dir1}/{img1_name}\")\n",
    "            img2 = Image.open(f\"{img_dir2}/{img2_name}\")\n",
    "        \n",
    "        if self.transform:\n",
    "            img1 = self.transform(img1)\n",
    "            img2 = self.transform(img2)\n",
    "        return img1, img2, torch.tensor([label], dtype=torch.float32)"
   ]
  },
  {
   "cell_type": "code",
   "execution_count": 14,
   "id": "secondary-herald",
   "metadata": {
    "id": "functioning-stable",
    "slideshow": {
     "slide_type": "slide"
    }
   },
   "outputs": [],
   "source": [
    "omniglot_train = OmniglotDataset(\"./data/omniglot-py/images_background/\", 10000)"
   ]
  },
  {
   "cell_type": "code",
   "execution_count": 15,
   "id": "broken-champagne",
   "metadata": {
    "id": "quarterly-malta",
    "slideshow": {
     "slide_type": "fragment"
    }
   },
   "outputs": [],
   "source": [
    "img1, img2, label = omniglot_train[0]"
   ]
  },
  {
   "cell_type": "code",
   "execution_count": 16,
   "id": "olympic-deadline",
   "metadata": {
    "colab": {
     "base_uri": "https://localhost:8080/",
     "height": 122
    },
    "id": "careful-reynolds",
    "outputId": "fda523bf-0206-4200-86b0-0284f33b4c6a",
    "slideshow": {
     "slide_type": "fragment"
    }
   },
   "outputs": [
    {
     "data": {
      "image/png": "[encoded data removed]",
      "text/plain": [
       "<PIL.PngImagePlugin.PngImageFile image mode=1 size=105x105 at 0x7FDF38615790>"
      ]
     },
     "execution_count": 16,
     "metadata": {},
     "output_type": "execute_result"
    }
   ],
   "source": [
    "img1"
   ]
  },
  {
   "cell_type": "code",
   "execution_count": 17,
   "id": "rough-reward",
   "metadata": {
    "colab": {
     "base_uri": "https://localhost:8080/",
     "height": 122
    },
    "id": "closing-chrome",
    "outputId": "1e3c657e-8369-4425-8213-8e318f8ad22e",
    "slideshow": {
     "slide_type": "fragment"
    }
   },
   "outputs": [
    {
     "data": {
      "image/png": "[encoded data removed]",
      "text/plain": [
       "<PIL.PngImagePlugin.PngImageFile image mode=1 size=105x105 at 0x7FDF18083DF0>"
      ]
     },
     "execution_count": 17,
     "metadata": {},
     "output_type": "execute_result"
    }
   ],
   "source": [
    "img2"
   ]
  },
  {
   "cell_type": "code",
   "execution_count": 18,
   "id": "excellent-reset",
   "metadata": {
    "colab": {
     "base_uri": "https://localhost:8080/"
    },
    "id": "disturbed-commonwealth",
    "outputId": "9af80423-ba02-459d-fb7d-b174145e275d",
    "slideshow": {
     "slide_type": "fragment"
    }
   },
   "outputs": [
    {
     "data": {
      "text/plain": [
       "tensor([1.])"
      ]
     },
     "execution_count": 18,
     "metadata": {},
     "output_type": "execute_result"
    }
   ],
   "source": [
    "label"
   ]
  },
  {
   "cell_type": "code",
   "execution_count": 19,
   "id": "rocky-kentucky",
   "metadata": {
    "id": "pediatric-apparatus",
    "slideshow": {
     "slide_type": "slide"
    }
   },
   "outputs": [],
   "source": [
    "img1, img2, label = omniglot_train[1]"
   ]
  },
  {
   "cell_type": "code",
   "execution_count": 20,
   "id": "photographic-medication",
   "metadata": {
    "colab": {
     "base_uri": "https://localhost:8080/",
     "height": 122
    },
    "id": "baking-evanescence",
    "outputId": "13b35ed5-67e6-4a2c-b31d-7c84e4074153",
    "slideshow": {
     "slide_type": "fragment"
    }
   },
   "outputs": [
    {
     "data": {
      "image/png": "[encoded data removed]",
      "text/plain": [
       "<PIL.PngImagePlugin.PngImageFile image mode=1 size=105x105 at 0x7FDF381FC250>"
      ]
     },
     "execution_count": 20,
     "metadata": {},
     "output_type": "execute_result"
    }
   ],
   "source": [
    "img1"
   ]
  },
  {
   "cell_type": "code",
   "execution_count": 21,
   "id": "mediterranean-break",
   "metadata": {
    "colab": {
     "base_uri": "https://localhost:8080/",
     "height": 122
    },
    "id": "aware-scottish",
    "outputId": "b5464505-0e82-49f6-ab08-f0d82574945c",
    "slideshow": {
     "slide_type": "fragment"
    }
   },
   "outputs": [
    {
     "data": {
      "image/png": "[encoded data removed]",
      "text/plain": [
       "<PIL.PngImagePlugin.PngImageFile image mode=1 size=105x105 at 0x7FDF18083B80>"
      ]
     },
     "execution_count": 21,
     "metadata": {},
     "output_type": "execute_result"
    }
   ],
   "source": [
    "img2"
   ]
  },
  {
   "cell_type": "code",
   "execution_count": 22,
   "id": "sought-storage",
   "metadata": {
    "colab": {
     "base_uri": "https://localhost:8080/"
    },
    "id": "nearby-finger",
    "outputId": "94287e52-d387-4776-8ebc-2ee866e698d0",
    "slideshow": {
     "slide_type": "fragment"
    }
   },
   "outputs": [
    {
     "data": {
      "text/plain": [
       "tensor([0.])"
      ]
     },
     "execution_count": 22,
     "metadata": {},
     "output_type": "execute_result"
    }
   ],
   "source": [
    "label"
   ]
  },
  {
   "cell_type": "code",
   "execution_count": 23,
   "id": "lined-worker",
   "metadata": {
    "slideshow": {
     "slide_type": "slide"
    }
   },
   "outputs": [],
   "source": [
    "from omniglot import NWayOmniglotDataset"
   ]
  },
  {
   "cell_type": "code",
   "execution_count": null,
   "id": "rural-costa",
   "metadata": {
    "id": "swiss-workplace",
    "slideshow": {
     "slide_type": "fragment"
    }
   },
   "outputs": [],
   "source": [
    "class NWayOmniglotDataset(Dataset):\n",
    "    def __init__(self, root_dir, set_size, num_way, transform=None):\n",
    "        self.root_dir = root_dir\n",
    "        self.categories = [[folder, [subfolder for subfolder in os.listdir(root_dir + folder) \n",
    "                                     if not subfolder.startswith(\".\")]]\n",
    "                           for folder in os.listdir(root_dir) \n",
    "                           if not folder.startswith(\".\")]\n",
    "        self.set_size = set_size\n",
    "        self.num_way = num_way\n",
    "        self.transform = transform\n",
    "    def __len__(self):\n",
    "        return self.set_size\n",
    "    def __getitem__(self, idx):\n",
    "        ..."
   ]
  },
  {
   "cell_type": "code",
   "execution_count": null,
   "id": "actual-algeria",
   "metadata": {
    "slideshow": {
     "slide_type": "slide"
    }
   },
   "outputs": [],
   "source": [
    "    ...\n",
    "    def __getitem__(self, idx):\n",
    "        category = random.choice(self.categories)\n",
    "        character = random.choice(category[1])\n",
    "        img_dir = f\"{self.root_dir}{category[0]}/{character}\"\n",
    "        img_name = random.choice(os.listdir(img_dir))\n",
    "        main_img = Image.open(f\"{img_dir}/{img_name}\")\n",
    "        if self.transform:\n",
    "            main_img = self.transform(main_img)\n",
    "        \n",
    "        test_set = []\n",
    "        label = random.randint(0, self.num_way - 1)\n",
    "        for i in range(self.num_way):\n",
    "            test_img_dir = img_dir\n",
    "            test_img_name = \"\"\n",
    "            if i == label:\n",
    "                test_img_name = random.choice(os.listdir(img_dir))\n",
    "            else:\n",
    "                test_category = random.choice(self.categories)\n",
    "                test_character = random.choice(test_category[1])\n",
    "                test_img_dir = f\"{self.root_dir}{test_category[0]}/{test_character}\"\n",
    "                while test_img_dir == img_dir:\n",
    "                    test_character = random.choice(test_category[1])\n",
    "                    test_img_dir = f\"{self.root_dir}{test_category[0]}/{test_character}\"\n",
    "                test_img_name = random.choice(os.listdir(test_img_dir))\n",
    "            test_img = Image.open(f\"{test_img_dir}/{test_img_name}\")\n",
    "            if self.transform:\n",
    "                test_img = self.transform(test_img)\n",
    "            test_set.append(test_img)\n",
    "\n",
    "        return main_img, test_set, torch.tensor([label], dtype=torch.int16)"
   ]
  },
  {
   "cell_type": "code",
   "execution_count": 24,
   "id": "opposite-surface",
   "metadata": {
    "id": "touched-luther",
    "slideshow": {
     "slide_type": "slide"
    }
   },
   "outputs": [],
   "source": [
    "omniglot_test = NWayOmniglotDataset(\"./data/omniglot-py/images_background/\", 2000, 20)"
   ]
  },
  {
   "cell_type": "code",
   "execution_count": 25,
   "id": "pleased-smell",
   "metadata": {
    "id": "enhanced-equality",
    "slideshow": {
     "slide_type": "fragment"
    }
   },
   "outputs": [],
   "source": [
    "img, img_set, label = omniglot_test[0]"
   ]
  },
  {
   "cell_type": "code",
   "execution_count": 26,
   "id": "automotive-buffalo",
   "metadata": {
    "colab": {
     "base_uri": "https://localhost:8080/",
     "height": 122
    },
    "id": "x-S29_mRIC45",
    "outputId": "0b4d6010-49bc-41f4-a058-cc6363ce1064",
    "slideshow": {
     "slide_type": "fragment"
    }
   },
   "outputs": [
    {
     "data": {
      "image/png": "[encoded data removed]",
      "text/plain": [
       "<PIL.PngImagePlugin.PngImageFile image mode=1 size=105x105 at 0x7FDF2844DE20>"
      ]
     },
     "execution_count": 26,
     "metadata": {},
     "output_type": "execute_result"
    }
   ],
   "source": [
    "img"
   ]
  },
  {
   "cell_type": "code",
   "execution_count": 27,
   "id": "empirical-brooklyn",
   "metadata": {
    "colab": {
     "base_uri": "https://localhost:8080/"
    },
    "id": "piano-preparation",
    "outputId": "bb7a8dfc-5445-4cbe-b1c5-cef3a51469df",
    "slideshow": {
     "slide_type": "slide"
    }
   },
   "outputs": [
    {
     "data": {
      "text/plain": [
       "[<PIL.PngImagePlugin.PngImageFile image mode=1 size=105x105 at 0x7FDF2846A3D0>,\n",
       " <PIL.PngImagePlugin.PngImageFile image mode=1 size=105x105 at 0x7FDF486027F0>,\n",
       " <PIL.PngImagePlugin.PngImageFile image mode=1 size=105x105 at 0x7FDF48602580>,\n",
       " <PIL.PngImagePlugin.PngImageFile image mode=1 size=105x105 at 0x7FDF486027C0>,\n",
       " <PIL.PngImagePlugin.PngImageFile image mode=1 size=105x105 at 0x7FDF48602880>,\n",
       " <PIL.PngImagePlugin.PngImageFile image mode=1 size=105x105 at 0x7FDF486028E0>,\n",
       " <PIL.PngImagePlugin.PngImageFile image mode=1 size=105x105 at 0x7FDF486029D0>,\n",
       " <PIL.PngImagePlugin.PngImageFile image mode=1 size=105x105 at 0x7FDF48602A30>,\n",
       " <PIL.PngImagePlugin.PngImageFile image mode=1 size=105x105 at 0x7FDF48602790>,\n",
       " <PIL.PngImagePlugin.PngImageFile image mode=1 size=105x105 at 0x7FDF48602AC0>,\n",
       " <PIL.PngImagePlugin.PngImageFile image mode=1 size=105x105 at 0x7FDF48602AF0>,\n",
       " <PIL.PngImagePlugin.PngImageFile image mode=1 size=105x105 at 0x7FDF48602B20>,\n",
       " <PIL.PngImagePlugin.PngImageFile image mode=1 size=105x105 at 0x7FDF48602130>,\n",
       " <PIL.PngImagePlugin.PngImageFile image mode=1 size=105x105 at 0x7FDF48602C10>,\n",
       " <PIL.PngImagePlugin.PngImageFile image mode=1 size=105x105 at 0x7FDF48602910>,\n",
       " <PIL.PngImagePlugin.PngImageFile image mode=1 size=105x105 at 0x7FDF486029A0>,\n",
       " <PIL.PngImagePlugin.PngImageFile image mode=1 size=105x105 at 0x7FDF48602BE0>,\n",
       " <PIL.PngImagePlugin.PngImageFile image mode=1 size=105x105 at 0x7FDF48602C70>,\n",
       " <PIL.PngImagePlugin.PngImageFile image mode=1 size=105x105 at 0x7FDF48602490>,\n",
       " <PIL.PngImagePlugin.PngImageFile image mode=1 size=105x105 at 0x7FDF48602D00>]"
      ]
     },
     "execution_count": 27,
     "metadata": {},
     "output_type": "execute_result"
    }
   ],
   "source": [
    "img_set"
   ]
  },
  {
   "cell_type": "code",
   "execution_count": 28,
   "id": "incorporate-airplane",
   "metadata": {
    "colab": {
     "base_uri": "https://localhost:8080/"
    },
    "id": "gorgeous-metro",
    "outputId": "078e61ac-a59c-4e53-ff40-d452e910f010",
    "slideshow": {
     "slide_type": "fragment"
    }
   },
   "outputs": [
    {
     "data": {
      "text/plain": [
       "tensor([0], dtype=torch.int16)"
      ]
     },
     "execution_count": 28,
     "metadata": {},
     "output_type": "execute_result"
    }
   ],
   "source": [
    "label"
   ]
  },
  {
   "cell_type": "code",
   "execution_count": 29,
   "id": "falling-cornwall",
   "metadata": {
    "id": "existing-gender",
    "slideshow": {
     "slide_type": "slide"
    }
   },
   "outputs": [],
   "source": [
    "transform = T.Compose([T.ToTensor()])"
   ]
  },
  {
   "cell_type": "code",
   "execution_count": 30,
   "id": "irish-cedar",
   "metadata": {
    "id": "compatible-madonna",
    "slideshow": {
     "slide_type": "fragment"
    }
   },
   "outputs": [],
   "source": [
    "omniglot_train = OmniglotDataset(\"./data/omniglot-py/images_background/\", 10000, transform)\n",
    "omniglot_test = NWayOmniglotDataset(\"./data/omniglot-py/images_evaluation/\", 2000, 20, transform)"
   ]
  },
  {
   "cell_type": "code",
   "execution_count": 31,
   "id": "peaceful-vacuum",
   "metadata": {
    "id": "divided-people",
    "slideshow": {
     "slide_type": "fragment"
    }
   },
   "outputs": [],
   "source": [
    "train_loader = DataLoader(omniglot_train, batch_size=128)\n",
    "test_loader = DataLoader(omniglot_test, batch_size=1)"
   ]
  },
  {
   "cell_type": "markdown",
   "id": "quantitative-franchise",
   "metadata": {
    "slideshow": {
     "slide_type": "slide"
    }
   },
   "source": [
    "## Sieć syjamska"
   ]
  },
  {
   "attachments": {
    "image.png": {
     "image/png": "[encoded data removed]"
    }
   },
   "cell_type": "markdown",
   "id": "royal-behalf",
   "metadata": {
    "slideshow": {
     "slide_type": "fragment"
    }
   },
   "source": [
    "![image.png](attachment:image.png)"
   ]
  },
  {
   "cell_type": "code",
   "execution_count": 32,
   "id": "accomplished-respondent",
   "metadata": {
    "slideshow": {
     "slide_type": "slide"
    }
   },
   "outputs": [],
   "source": [
    "from omniglot import SiameseNet"
   ]
  },
  {
   "cell_type": "code",
   "execution_count": null,
   "id": "dying-fisher",
   "metadata": {
    "id": "patent-computer",
    "slideshow": {
     "slide_type": "fragment"
    }
   },
   "outputs": [],
   "source": [
    "class SiameseNet(nn.Module):\n",
    "    def __init__(self):\n",
    "        super().__init__()\n",
    "        self.conv11 = nn.Conv2d(1, 64, 3) \n",
    "        self.conv12 = nn.Conv2d(64, 64, 3)  \n",
    "        self.conv21 = nn.Conv2d(64, 128, 3)\n",
    "        self.conv22 = nn.Conv2d(128, 128, 3)\n",
    "        self.conv31 = nn.Conv2d(128, 256, 3) \n",
    "        self.conv32 = nn.Conv2d(256, 256, 3)  \n",
    "        self.conv33 = nn.Conv2d(256, 256, 3)\n",
    "        self.pool = nn.MaxPool2d(2, 2)\n",
    "        self.relu = nn.ReLU()\n",
    "        self.fc1 = nn.Linear(256 * 8 * 8, 4096)\n",
    "        self.fc2 = nn.Linear(4096, 4096)\n",
    "        self.fcOut = nn.Linear(4096, 1)\n",
    "        self.sigmoid = nn.Sigmoid()\n",
    "    \n",
    "    ..."
   ]
  },
  {
   "cell_type": "code",
   "execution_count": null,
   "id": "returning-teach",
   "metadata": {
    "slideshow": {
     "slide_type": "slide"
    }
   },
   "outputs": [],
   "source": [
    "    ...\n",
    "    def convs(self, x):\n",
    "        x = self.relu(self.conv11(x))\n",
    "        x = self.relu(self.conv12(x))\n",
    "        x = self.pool(x)\n",
    "        x = self.relu(self.conv21(x))\n",
    "        x = self.relu(self.conv22(x))\n",
    "        x = self.pool(x)\n",
    "        x = self.relu(self.conv31(x))\n",
    "        x = self.relu(self.conv32(x))\n",
    "        x = self.relu(self.conv33(x))\n",
    "        x = self.pool(x)\n",
    "        return x\n",
    "\n",
    "    def forward(self, x1, x2):\n",
    "        x1 = self.convs(x1)\n",
    "        x1 = x1.reshape(-1, 256 * 8 * 8)\n",
    "        x1 = self.fc1(x1)\n",
    "        x1 = self.sigmoid(self.fc2(x1))\n",
    "        x2 = self.convs(x2)\n",
    "        x2 = x2.reshape(-1, 256 * 8 * 8)\n",
    "        x2 = self.fc1(x2)\n",
    "        x2 = self.sigmoid(self.fc2(x2))\n",
    "        x = torch.abs(x1 - x2)\n",
    "        x = self.fcOut(x)\n",
    "        return x"
   ]
  },
  {
   "cell_type": "code",
   "execution_count": 33,
   "id": "catholic-david",
   "metadata": {
    "id": "cloudy-lender",
    "slideshow": {
     "slide_type": "slide"
    }
   },
   "outputs": [],
   "source": [
    "DEVICE = torch.device(\"cuda\" if torch.cuda.is_available() else \"cpu\")"
   ]
  },
  {
   "cell_type": "code",
   "execution_count": 34,
   "id": "danish-dialogue",
   "metadata": {
    "colab": {
     "base_uri": "https://localhost:8080/"
    },
    "id": "corporate-rabbit",
    "outputId": "9fc0dbca-b6ea-40f9-8c45-cbae0217d403",
    "slideshow": {
     "slide_type": "fragment"
    }
   },
   "outputs": [],
   "source": [
    "model = SiameseNet()\n",
    "model = model.to(DEVICE)"
   ]
  },
  {
   "cell_type": "code",
   "execution_count": 35,
   "id": "apart-admission",
   "metadata": {
    "colab": {
     "base_uri": "https://localhost:8080/"
    },
    "id": "earlier-pharmaceutical",
    "outputId": "3582361b-11e3-4fe1-ae82-c9e4b5ca50c2",
    "slideshow": {
     "slide_type": "fragment"
    }
   },
   "outputs": [
    {
     "data": {
      "text/plain": [
       "85632705"
      ]
     },
     "execution_count": 35,
     "metadata": {},
     "output_type": "execute_result"
    }
   ],
   "source": [
    "sum(p.numel() for p in model.parameters() if p.requires_grad)"
   ]
  },
  {
   "cell_type": "code",
   "execution_count": 36,
   "id": "active-procedure",
   "metadata": {
    "id": "capital-military",
    "slideshow": {
     "slide_type": "slide"
    }
   },
   "outputs": [],
   "source": [
    "def train(model, train_loader, num_epochs, criterion, optimizer, device):\n",
    "    start = time.time()\n",
    "    train_losses = []\n",
    "    for epoch in range(num_epochs):\n",
    "        train_loss = 0.0\n",
    "        model.train()\n",
    "        for img1, img2, labels in train_loader:\n",
    "            \n",
    "            img1 = img1.to(device)\n",
    "            img2 = img2.to(device)\n",
    "            labels = labels.to(device)\n",
    "            outputs = model(img1, img2)\n",
    "            loss = criterion(outputs, labels)\n",
    "            \n",
    "            optimizer.zero_grad()\n",
    "            loss.backward()\n",
    "            optimizer.step()\n",
    "            train_loss += loss.item()\n",
    "        avg_train_loss = train_loss / len(train_loader)\n",
    "        \n",
    "        if epoch % 10 == 0:\n",
    "            print(f\"Epoch: {epoch}, Loss: {avg_train_loss:.4f}\")\n",
    "    end = time.time()\n",
    "    print(f\"Czas: {round(end - start)} s\")"
   ]
  },
  {
   "cell_type": "code",
   "execution_count": 37,
   "id": "possible-franchise",
   "metadata": {
    "id": "dirty-lighter",
    "slideshow": {
     "slide_type": "slide"
    }
   },
   "outputs": [],
   "source": [
    "optimizer = optim.Adam(model.parameters(), lr = 0.0006)\n",
    "criterion = nn.BCEWithLogitsLoss()\n",
    "num_epochs = 80"
   ]
  },
  {
   "cell_type": "code",
   "execution_count": 36,
   "id": "laughing-carry",
   "metadata": {
    "colab": {
     "base_uri": "https://localhost:8080/"
    },
    "id": "laughing-carry",
    "outputId": "00b37027-e045-4147-8e7c-33dacea2f4d1",
    "slideshow": {
     "slide_type": "fragment"
    }
   },
   "outputs": [
    {
     "name": "stdout",
     "output_type": "stream",
     "text": [
      "Epoch: 0, Loss: 0.6210\n",
      "Epoch: 10, Loss: 0.3987\n",
      "Epoch: 20, Loss: 0.2852\n",
      "Epoch: 30, Loss: 0.2276\n",
      "Epoch: 40, Loss: 0.1863\n",
      "Epoch: 50, Loss: 0.1532\n",
      "Epoch: 60, Loss: 0.1374\n",
      "Epoch: 70, Loss: 0.1253\n",
      "Czas: 2528 s\n"
     ]
    }
   ],
   "source": [
    "train(model, train_loader, num_epochs, criterion, optimizer, DEVICE)"
   ]
  },
  {
   "cell_type": "code",
   "execution_count": 37,
   "id": "signed-character",
   "metadata": {
    "id": "signed-character",
    "slideshow": {
     "slide_type": "slide"
    }
   },
   "outputs": [],
   "source": [
    "def get_accuracy(model, test_loader, device):\n",
    "    with torch.no_grad():\n",
    "        model.eval()\n",
    "        correct = 0\n",
    "        count = 0\n",
    "        for main_img, img_sets, label in test_loader:\n",
    "            main_img = main_img.to(device)\n",
    "            pred_val = 0\n",
    "            pred = -1\n",
    "            for i, test_img in enumerate(img_sets):\n",
    "                test_img = test_img.to(device)\n",
    "                output = model(main_img, test_img)\n",
    "                if output > pred_val:\n",
    "                    pred = i\n",
    "                    pred_val = output\n",
    "            label = label.to(device)\n",
    "            if pred == label:\n",
    "                correct += 1\n",
    "            count += 1\n",
    "        print(f\"N-way accuracy: {correct/count}\")"
   ]
  },
  {
   "cell_type": "code",
   "execution_count": 38,
   "id": "PtCPPs0N0F4A",
   "metadata": {
    "colab": {
     "base_uri": "https://localhost:8080/"
    },
    "id": "PtCPPs0N0F4A",
    "outputId": "eeb0e2a6-e1ae-4256-800e-aedf1dcffa5c",
    "slideshow": {
     "slide_type": "fragment"
    }
   },
   "outputs": [
    {
     "name": "stdout",
     "output_type": "stream",
     "text": [
      "N-way accuracy: 0.6195\n"
     ]
    }
   ],
   "source": [
    "get_accuracy(model, test_loader, DEVICE)"
   ]
  },
  {
   "cell_type": "markdown",
   "id": "fewer-stone",
   "metadata": {
    "id": "central-motor",
    "slideshow": {
     "slide_type": "skip"
    }
   },
   "source": [
    "\n"
   ]
  }
 ],
 "metadata": {
  "accelerator": "GPU",
  "celltoolbar": "Slideshow",
  "colab": {
   "name": "image_21.ipynb",
   "provenance": [],
   "toc_visible": true
  },
  "kernelspec": {
   "display_name": "Python 3",
   "language": "python",
   "name": "python3"
  },
  "language_info": {
   "codemirror_mode": {
    "name": "ipython",
    "version": 3
   },
   "file_extension": ".py",
   "mimetype": "text/x-python",
   "name": "python",
   "nbconvert_exporter": "python",
   "pygments_lexer": "ipython3",
   "version": "3.8.8"
  }
 },
 "nbformat": 4,
 "nbformat_minor": 5
}
