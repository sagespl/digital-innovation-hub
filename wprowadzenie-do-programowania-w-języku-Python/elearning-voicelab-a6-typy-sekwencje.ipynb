{
 "cells": [
  {
   "cell_type": "markdown",
   "id": "assured-helicopter",
   "metadata": {},
   "source": [
    "# Sekwencje"
   ]
  },
  {
   "cell_type": "markdown",
   "id": "conceptual-tuning",
   "metadata": {},
   "source": [
    "## list\n",
    "- Definicja\n",
    "- Konwersja typów\n",
    "- Wybieranie elementów\n",
    "- Wycinanie elementów\n",
    "- Ustawianie elementów\n",
    "- Kasowanie elementów\n",
    "- Dodawanie elementów\n",
    "- Wstawianie elementów\n",
    "- Sortowanie"
   ]
  },
  {
   "cell_type": "code",
   "execution_count": 5,
   "id": "charged-holmes",
   "metadata": {},
   "outputs": [],
   "source": [
    "x = list()\n",
    "x = []"
   ]
  },
  {
   "cell_type": "code",
   "execution_count": 6,
   "id": "pleasant-while",
   "metadata": {},
   "outputs": [],
   "source": [
    "x = [1, 2, 3]\n",
    "x = ['Mark', 'Watney', 44, True]"
   ]
  },
  {
   "cell_type": "code",
   "execution_count": 3,
   "id": "accepted-trinity",
   "metadata": {},
   "outputs": [
    {
     "data": {
      "text/plain": [
       "[1, 2, 3]"
      ]
     },
     "execution_count": 3,
     "metadata": {},
     "output_type": "execute_result"
    }
   ],
   "source": [
    "list({1,2,3})"
   ]
  },
  {
   "cell_type": "code",
   "execution_count": 16,
   "id": "medical-choice",
   "metadata": {},
   "outputs": [
    {
     "data": {
      "text/plain": [
       "True"
      ]
     },
     "execution_count": 16,
     "metadata": {},
     "output_type": "execute_result"
    }
   ],
   "source": [
    "data = ['Mark', 'Watney', 44, True]\n",
    "\n",
    "# 0 lub -4 -> Mark\n",
    "# 1 lub -3 -> Watney\n",
    "# 2 lub -2 -> 44\n",
    "# 3 lub -1 -> True\n",
    "\n",
    "data[-1]"
   ]
  },
  {
   "cell_type": "code",
   "execution_count": 17,
   "id": "outdoor-beast",
   "metadata": {},
   "outputs": [
    {
     "data": {
      "text/plain": [
       "['Watney', 44]"
      ]
     },
     "execution_count": 17,
     "metadata": {},
     "output_type": "execute_result"
    }
   ],
   "source": [
    "data = ['Mark', 'Watney', 44, True]\n",
    "\n",
    "data[1:3]"
   ]
  },
  {
   "cell_type": "code",
   "execution_count": 21,
   "id": "general-blast",
   "metadata": {},
   "outputs": [
    {
     "data": {
      "text/plain": [
       "[4, 5, 6, 7, 8, 9]"
      ]
     },
     "execution_count": 21,
     "metadata": {},
     "output_type": "execute_result"
    }
   ],
   "source": [
    "x = [1,2,3,4,5,6,7,8,9,10]\n",
    "\n",
    "x[-7:-1]"
   ]
  },
  {
   "cell_type": "code",
   "execution_count": 23,
   "id": "loaded-custody",
   "metadata": {},
   "outputs": [
    {
     "data": {
      "text/plain": [
       "['a', 'b', 'c', 'd', 'e', 'f', 'g', 'h', 'i', 'j', 'k']"
      ]
     },
     "execution_count": 23,
     "metadata": {},
     "output_type": "execute_result"
    }
   ],
   "source": [
    "list('abcdefghijk')"
   ]
  },
  {
   "cell_type": "code",
   "execution_count": 31,
   "id": "directed-seller",
   "metadata": {},
   "outputs": [
    {
     "data": {
      "text/plain": [
       "['f', 'g', 'h', 'i', 'j', 'k']"
      ]
     },
     "execution_count": 31,
     "metadata": {},
     "output_type": "execute_result"
    }
   ],
   "source": [
    "x = ['a', 'b', 'c', 'd', 'e', 'f', 'g', 'h', 'i', 'j', 'k']\n",
    "\n",
    "x[5:]"
   ]
  },
  {
   "cell_type": "code",
   "execution_count": 32,
   "id": "violent-classroom",
   "metadata": {},
   "outputs": [
    {
     "data": {
      "text/plain": [
       "['i', 'j', 'k']"
      ]
     },
     "execution_count": 32,
     "metadata": {},
     "output_type": "execute_result"
    }
   ],
   "source": [
    "x = ['a', 'b', 'c', 'd', 'e', 'f', 'g', 'h', 'i', 'j', 'k']\n",
    "\n",
    "x[-3:]"
   ]
  },
  {
   "cell_type": "code",
   "execution_count": 35,
   "id": "functional-headquarters",
   "metadata": {},
   "outputs": [
    {
     "data": {
      "text/plain": [
       "['c', 'f', 'i']"
      ]
     },
     "execution_count": 35,
     "metadata": {},
     "output_type": "execute_result"
    }
   ],
   "source": [
    "x = ['a', 'b', 'c', 'd', 'e', 'f', 'g', 'h', 'i', 'j', 'k']\n",
    "\n",
    "x[2:10:3]"
   ]
  },
  {
   "cell_type": "code",
   "execution_count": 38,
   "id": "returning-pharmaceutical",
   "metadata": {},
   "outputs": [
    {
     "data": {
      "text/plain": [
       "['k', 'j', 'i', 'h', 'g', 'f', 'e', 'd']"
      ]
     },
     "execution_count": 38,
     "metadata": {},
     "output_type": "execute_result"
    }
   ],
   "source": [
    "x = ['a', 'b', 'c', 'd', 'e', 'f', 'g', 'h', 'i', 'j', 'k']\n",
    "\n",
    "x[10:2:-1]"
   ]
  },
  {
   "cell_type": "code",
   "execution_count": 41,
   "id": "behind-browse",
   "metadata": {},
   "outputs": [
    {
     "data": {
      "text/plain": [
       "['k', 'j', 'i', 'h', 'g', 'f', 'e', 'd', 'c', 'b', 'a']"
      ]
     },
     "execution_count": 41,
     "metadata": {},
     "output_type": "execute_result"
    }
   ],
   "source": [
    "x = ['a', 'b', 'c', 'd', 'e', 'f', 'g', 'h', 'i', 'j', 'k']\n",
    "\n",
    "x[::-1]"
   ]
  },
  {
   "cell_type": "code",
   "execution_count": 45,
   "id": "growing-representation",
   "metadata": {},
   "outputs": [],
   "source": [
    "data = [1,2,3]"
   ]
  },
  {
   "cell_type": "code",
   "execution_count": 46,
   "id": "present-psychology",
   "metadata": {},
   "outputs": [],
   "source": [
    "data.append(4)"
   ]
  },
  {
   "cell_type": "code",
   "execution_count": 52,
   "id": "alert-louisiana",
   "metadata": {},
   "outputs": [],
   "source": [
    "data += [5,6]"
   ]
  },
  {
   "cell_type": "code",
   "execution_count": 56,
   "id": "lesser-injury",
   "metadata": {},
   "outputs": [],
   "source": [
    "del data[4]"
   ]
  },
  {
   "cell_type": "code",
   "execution_count": 58,
   "id": "prostate-characteristic",
   "metadata": {},
   "outputs": [
    {
     "data": {
      "text/plain": [
       "6"
      ]
     },
     "execution_count": 58,
     "metadata": {},
     "output_type": "execute_result"
    }
   ],
   "source": [
    "x = data.pop()"
   ]
  },
  {
   "cell_type": "code",
   "execution_count": 60,
   "id": "identical-spanish",
   "metadata": {},
   "outputs": [],
   "source": [
    "data.insert(0, 'hello')"
   ]
  },
  {
   "cell_type": "code",
   "execution_count": 61,
   "id": "cheap-blend",
   "metadata": {},
   "outputs": [
    {
     "data": {
      "text/plain": [
       "['hello', 1, 2, 3, 4]"
      ]
     },
     "execution_count": 61,
     "metadata": {},
     "output_type": "execute_result"
    }
   ],
   "source": [
    "data"
   ]
  },
  {
   "cell_type": "code",
   "execution_count": 63,
   "id": "certified-edgar",
   "metadata": {},
   "outputs": [],
   "source": [
    "data[0] = 'Watney'"
   ]
  },
  {
   "cell_type": "code",
   "execution_count": 64,
   "id": "otherwise-webmaster",
   "metadata": {},
   "outputs": [
    {
     "data": {
      "text/plain": [
       "['Watney', 1, 2, 3, 4]"
      ]
     },
     "execution_count": 64,
     "metadata": {},
     "output_type": "execute_result"
    }
   ],
   "source": [
    "data"
   ]
  },
  {
   "cell_type": "code",
   "execution_count": 65,
   "id": "qualified-cookie",
   "metadata": {},
   "outputs": [],
   "source": [
    "data = [4,2,1,3]"
   ]
  },
  {
   "cell_type": "code",
   "execution_count": 68,
   "id": "western-verification",
   "metadata": {},
   "outputs": [
    {
     "data": {
      "text/plain": [
       "[1, 2, 3, 4]"
      ]
     },
     "execution_count": 68,
     "metadata": {},
     "output_type": "execute_result"
    }
   ],
   "source": [
    "sorted(data)"
   ]
  },
  {
   "cell_type": "code",
   "execution_count": 67,
   "id": "loved-place",
   "metadata": {},
   "outputs": [
    {
     "data": {
      "text/plain": [
       "[4, 2, 1, 3]"
      ]
     },
     "execution_count": 67,
     "metadata": {},
     "output_type": "execute_result"
    }
   ],
   "source": [
    "data"
   ]
  },
  {
   "cell_type": "code",
   "execution_count": 69,
   "id": "independent-optimization",
   "metadata": {},
   "outputs": [],
   "source": [
    "data.sort()"
   ]
  },
  {
   "cell_type": "code",
   "execution_count": 70,
   "id": "productive-production",
   "metadata": {},
   "outputs": [
    {
     "data": {
      "text/plain": [
       "[1, 2, 3, 4]"
      ]
     },
     "execution_count": 70,
     "metadata": {},
     "output_type": "execute_result"
    }
   ],
   "source": [
    "data"
   ]
  },
  {
   "cell_type": "markdown",
   "id": "color-permit",
   "metadata": {},
   "source": [
    "## tuple\n",
    "- Definicja\n",
    "- Konwersja typów\n",
    "- Wybieranie elementów\n",
    "- Wycinanie elementów\n",
    "- Tuple vs. List"
   ]
  },
  {
   "cell_type": "code",
   "execution_count": 83,
   "id": "secret-equivalent",
   "metadata": {},
   "outputs": [],
   "source": [
    "data = (1,2,3,4)\n",
    "data = 1, 2, 3, 4"
   ]
  },
  {
   "cell_type": "code",
   "execution_count": null,
   "id": "activated-geography",
   "metadata": {},
   "outputs": [],
   "source": [
    "data = ()\n",
    "data = tuple()"
   ]
  },
  {
   "cell_type": "code",
   "execution_count": 80,
   "id": "italic-charleston",
   "metadata": {},
   "outputs": [
    {
     "data": {
      "text/plain": [
       "int"
      ]
     },
     "execution_count": 80,
     "metadata": {},
     "output_type": "execute_result"
    }
   ],
   "source": [
    "x = (10,)\n",
    "type(x)"
   ]
  },
  {
   "cell_type": "code",
   "execution_count": 90,
   "id": "hearing-bearing",
   "metadata": {},
   "outputs": [
    {
     "data": {
      "text/plain": [
       "tuple"
      ]
     },
     "execution_count": 90,
     "metadata": {},
     "output_type": "execute_result"
    }
   ],
   "source": [
    "x = 10,\n",
    "\n",
    "type(x)"
   ]
  },
  {
   "cell_type": "code",
   "execution_count": 72,
   "id": "wired-constitution",
   "metadata": {},
   "outputs": [
    {
     "data": {
      "text/plain": [
       "(1, 2, 3)"
      ]
     },
     "execution_count": 72,
     "metadata": {},
     "output_type": "execute_result"
    }
   ],
   "source": [
    "tuple([1,2,3])"
   ]
  },
  {
   "cell_type": "code",
   "execution_count": 74,
   "id": "assigned-experiment",
   "metadata": {},
   "outputs": [
    {
     "data": {
      "text/plain": [
       "4"
      ]
     },
     "execution_count": 74,
     "metadata": {},
     "output_type": "execute_result"
    }
   ],
   "source": [
    "data = (1,2,3,4)\n",
    "\n",
    "data[-1]"
   ]
  },
  {
   "cell_type": "code",
   "execution_count": 75,
   "id": "corresponding-relevance",
   "metadata": {},
   "outputs": [
    {
     "data": {
      "text/plain": [
       "(3, 4)"
      ]
     },
     "execution_count": 75,
     "metadata": {},
     "output_type": "execute_result"
    }
   ],
   "source": [
    "data = (1,2,3,4)\n",
    "\n",
    "data[2:4]"
   ]
  },
  {
   "cell_type": "markdown",
   "id": "toxic-current",
   "metadata": {},
   "source": [
    "## set\n",
    "- Definicja\n",
    "- Konwersja typów\n",
    "- Deduplikacja\n",
    "- Dodawanie elementów: add, update\n",
    "- Usuwanie elementów: pop, del\n",
    "- Operacje na zbiorach"
   ]
  },
  {
   "cell_type": "code",
   "execution_count": 99,
   "id": "greatest-chambers",
   "metadata": {},
   "outputs": [
    {
     "data": {
      "text/plain": [
       "True"
      ]
     },
     "execution_count": 99,
     "metadata": {},
     "output_type": "execute_result"
    }
   ],
   "source": [
    "x = {1,'a',3}\n",
    "3 in x"
   ]
  },
  {
   "cell_type": "code",
   "execution_count": 104,
   "id": "treated-transsexual",
   "metadata": {},
   "outputs": [
    {
     "data": {
      "text/plain": [
       "{'Jan', 'Mark', 'Melissa'}"
      ]
     },
     "execution_count": 104,
     "metadata": {},
     "output_type": "execute_result"
    }
   ],
   "source": [
    "users = ['Jan', 'Mark', 'Melissa', 'Jan']\n",
    "set(users)"
   ]
  },
  {
   "cell_type": "code",
   "execution_count": 108,
   "id": "strong-polymer",
   "metadata": {},
   "outputs": [
    {
     "ename": "TypeError",
     "evalue": "unhashable type: 'list'",
     "output_type": "error",
     "traceback": [
      "Traceback \u001b[1;36m(most recent call last)\u001b[0m:\n",
      "\u001b[1;36m  File \u001b[1;32m\"<ipython-input-108-c66decdb04db>\"\u001b[1;36m, line \u001b[1;32m2\u001b[1;36m, in \u001b[1;35m<module>\u001b[1;36m\u001b[0m\n\u001b[1;33m    x.add([4,5])\u001b[0m\n",
      "\u001b[1;31mTypeError\u001b[0m\u001b[1;31m:\u001b[0m unhashable type: 'list'\n"
     ]
    }
   ],
   "source": [
    "x = {1,2,3}\n",
    "x.add([4,5])\n",
    "x"
   ]
  },
  {
   "cell_type": "code",
   "execution_count": 118,
   "id": "equal-employment",
   "metadata": {},
   "outputs": [
    {
     "data": {
      "text/plain": [
       "'x'"
      ]
     },
     "execution_count": 118,
     "metadata": {},
     "output_type": "execute_result"
    }
   ],
   "source": [
    "x = {'x',2,3}\n",
    "x.update([7,'a',5])\n",
    "\n",
    "x.pop()"
   ]
  },
  {
   "cell_type": "code",
   "execution_count": 119,
   "id": "printable-litigation",
   "metadata": {},
   "outputs": [
    {
     "data": {
      "text/plain": [
       "{3}"
      ]
     },
     "execution_count": 119,
     "metadata": {},
     "output_type": "execute_result"
    }
   ],
   "source": [
    "x = {1,2,3}\n",
    "\n",
    "x.intersection({3,4,5})"
   ]
  },
  {
   "cell_type": "code",
   "execution_count": 145,
   "id": "african-documentary",
   "metadata": {},
   "outputs": [
    {
     "data": {
      "text/plain": [
       "set"
      ]
     },
     "execution_count": 145,
     "metadata": {},
     "output_type": "execute_result"
    }
   ],
   "source": [
    "x = set()\n",
    "\n",
    "type(x)"
   ]
  },
  {
   "cell_type": "markdown",
   "id": "incorporated-feelings",
   "metadata": {},
   "source": [
    "## dict\n",
    "- Definicja\n",
    "- Wybieranie elementów\n",
    "- Keys, Values, Items\n",
    "- Ustawianie elementów\n",
    "- Kasowanie elementów\n",
    "- Dict vs. Set"
   ]
  },
  {
   "cell_type": "code",
   "execution_count": null,
   "id": "accredited-montreal",
   "metadata": {},
   "outputs": [],
   "source": [
    "x = {}\n",
    "x = dict()"
   ]
  },
  {
   "cell_type": "code",
   "execution_count": 147,
   "id": "cognitive-trust",
   "metadata": {},
   "outputs": [
    {
     "data": {
      "text/plain": [
       "{'imie': 'Mark', 'nazwisko': 'Watney'}"
      ]
     },
     "execution_count": 147,
     "metadata": {},
     "output_type": "execute_result"
    }
   ],
   "source": [
    "x = dict(imie='Mark', nazwisko='Watney')\n",
    "x"
   ]
  },
  {
   "cell_type": "code",
   "execution_count": 143,
   "id": "apart-ontario",
   "metadata": {},
   "outputs": [
    {
     "data": {
      "text/plain": [
       "'nie znaleziono'"
      ]
     },
     "execution_count": 143,
     "metadata": {},
     "output_type": "execute_result"
    }
   ],
   "source": [
    "data = {\n",
    "    'imie': 'Mark',\n",
    "    'nazwisko': 'Watney',\n",
    "}\n",
    "\n",
    "data.get('imiex', 'nie znaleziono')"
   ]
  },
  {
   "cell_type": "code",
   "execution_count": 127,
   "id": "flush-demographic",
   "metadata": {},
   "outputs": [],
   "source": [
    "calendarium = {\n",
    "    1961: 'pierwszy człowiek w kosmosie',\n",
    "    1969: 'lądowanie na Księżycu',\n",
    "}\n",
    "\n",
    "calendarium[1957] = 'pierwszy satelita Ziemi'"
   ]
  },
  {
   "cell_type": "code",
   "execution_count": 128,
   "id": "portuguese-level",
   "metadata": {},
   "outputs": [
    {
     "data": {
      "text/plain": [
       "{1961: 'pierwszy człowiek w kosmosie',\n",
       " 1969: 'lądowanie na Księżycu',\n",
       " 1957: 'pierwszy satelita Ziemi'}"
      ]
     },
     "execution_count": 128,
     "metadata": {},
     "output_type": "execute_result"
    }
   ],
   "source": [
    "calendarium"
   ]
  },
  {
   "cell_type": "code",
   "execution_count": 129,
   "id": "wound-latest",
   "metadata": {},
   "outputs": [
    {
     "data": {
      "text/plain": [
       "True"
      ]
     },
     "execution_count": 129,
     "metadata": {},
     "output_type": "execute_result"
    }
   ],
   "source": [
    "1961 in calendarium"
   ]
  },
  {
   "cell_type": "code",
   "execution_count": 130,
   "id": "saved-outreach",
   "metadata": {},
   "outputs": [
    {
     "data": {
      "text/plain": [
       "dict_keys([1961, 1969, 1957])"
      ]
     },
     "execution_count": 130,
     "metadata": {},
     "output_type": "execute_result"
    }
   ],
   "source": [
    "calendarium.keys()"
   ]
  },
  {
   "cell_type": "code",
   "execution_count": 131,
   "id": "graduate-probability",
   "metadata": {},
   "outputs": [
    {
     "data": {
      "text/plain": [
       "dict_values(['pierwszy człowiek w kosmosie', 'lądowanie na Księżycu', 'pierwszy satelita Ziemi'])"
      ]
     },
     "execution_count": 131,
     "metadata": {},
     "output_type": "execute_result"
    }
   ],
   "source": [
    "calendarium.values()"
   ]
  },
  {
   "cell_type": "code",
   "execution_count": 132,
   "id": "further-quantum",
   "metadata": {},
   "outputs": [
    {
     "data": {
      "text/plain": [
       "dict_items([(1961, 'pierwszy człowiek w kosmosie'), (1969, 'lądowanie na Księżycu'), (1957, 'pierwszy satelita Ziemi')])"
      ]
     },
     "execution_count": 132,
     "metadata": {},
     "output_type": "execute_result"
    }
   ],
   "source": [
    "calendarium.items()\n",
    "\n",
    "# [(1961, 'pierwszy człowiek w kosmosie'),\n",
    "#  (1969, 'lądowanie na Księżycu'),\n",
    "#  (1957, 'pierwszy satelita Ziemi')]"
   ]
  },
  {
   "cell_type": "code",
   "execution_count": 133,
   "id": "surgical-grant",
   "metadata": {},
   "outputs": [],
   "source": [
    "del calendarium[1957]"
   ]
  },
  {
   "cell_type": "code",
   "execution_count": 134,
   "id": "devoted-ukraine",
   "metadata": {},
   "outputs": [
    {
     "data": {
      "text/plain": [
       "{1961: 'pierwszy człowiek w kosmosie', 1969: 'lądowanie na Księżycu'}"
      ]
     },
     "execution_count": 134,
     "metadata": {},
     "output_type": "execute_result"
    }
   ],
   "source": [
    "calendarium"
   ]
  },
  {
   "cell_type": "code",
   "execution_count": 135,
   "id": "executed-fundamentals",
   "metadata": {},
   "outputs": [
    {
     "data": {
      "text/plain": [
       "'pierwszy człowiek w kosmosie'"
      ]
     },
     "execution_count": 135,
     "metadata": {},
     "output_type": "execute_result"
    }
   ],
   "source": [
    "calendarium.pop(1961)"
   ]
  },
  {
   "cell_type": "code",
   "execution_count": 136,
   "id": "hawaiian-cartridge",
   "metadata": {},
   "outputs": [
    {
     "data": {
      "text/plain": [
       "{1969: 'lądowanie na Księżycu'}"
      ]
     },
     "execution_count": 136,
     "metadata": {},
     "output_type": "execute_result"
    }
   ],
   "source": [
    "calendarium"
   ]
  },
  {
   "cell_type": "markdown",
   "id": "mathematical-eligibility",
   "metadata": {},
   "source": [
    "## Zagnieżdżanie sekwencji i map"
   ]
  },
  {
   "cell_type": "code",
   "execution_count": 148,
   "id": "abstract-genealogy",
   "metadata": {},
   "outputs": [],
   "source": [
    "data = [1,2,3]"
   ]
  },
  {
   "cell_type": "code",
   "execution_count": 149,
   "id": "essential-realtor",
   "metadata": {},
   "outputs": [],
   "source": [
    "data = [\n",
    "    [1,2,3],\n",
    "    [4,5,6],\n",
    "    [7,8,9],\n",
    "]"
   ]
  },
  {
   "cell_type": "code",
   "execution_count": 150,
   "id": "studied-intranet",
   "metadata": {},
   "outputs": [
    {
     "data": {
      "text/plain": [
       "[[1, 2, 3], [4, 5, 6], [7, 8, 9]]"
      ]
     },
     "execution_count": 150,
     "metadata": {},
     "output_type": "execute_result"
    }
   ],
   "source": [
    "data = [[1,2,3], [4,5,6], [7,8,9]]"
   ]
  },
  {
   "cell_type": "code",
   "execution_count": 151,
   "id": "spectacular-duration",
   "metadata": {},
   "outputs": [],
   "source": []
  },
  {
   "cell_type": "code",
   "execution_count": 153,
   "id": "noticed-bruce",
   "metadata": {},
   "outputs": [],
   "source": [
    "data = [\n",
    "    (1,2,3),\n",
    "    [4,5,6, {'a':1, 'b':2, 0:(1,2,3, {12,3})}],\n",
    "    {7,8,9},\n",
    "    {'a':1, 'b':2, 0:'x'}\n",
    "]"
   ]
  },
  {
   "cell_type": "code",
   "execution_count": 154,
   "id": "substantial-cholesterol",
   "metadata": {},
   "outputs": [
    {
     "data": {
      "text/plain": [
       "[(1, 2, 3),\n",
       " [4, 5, 6, {'a': 1, 'b': 2, 0: (1, 2, 3, {3, 12})}],\n",
       " {7, 8, 9},\n",
       " {'a': 1, 'b': 2, 0: 'x'}]"
      ]
     },
     "execution_count": 154,
     "metadata": {},
     "output_type": "execute_result"
    }
   ],
   "source": [
    "data"
   ]
  },
  {
   "cell_type": "code",
   "execution_count": 155,
   "id": "presidential-reaction",
   "metadata": {},
   "outputs": [
    {
     "name": "stderr",
     "output_type": "stream",
     "text": [
      "<>:4: SyntaxWarning: 'tuple' object is not callable; perhaps you missed a comma?\n",
      "<>:4: SyntaxWarning: 'tuple' object is not callable; perhaps you missed a comma?\n",
      "<ipython-input-155-51d69cad3dcf>:4: SyntaxWarning: 'tuple' object is not callable; perhaps you missed a comma?\n",
      "  (7,8,9)\n"
     ]
    },
    {
     "ename": "TypeError",
     "evalue": "'tuple' object is not callable",
     "output_type": "error",
     "traceback": [
      "Traceback \u001b[1;36m(most recent call last)\u001b[0m:\n",
      "\u001b[1;36m  File \u001b[1;32m\"<ipython-input-155-51d69cad3dcf>\"\u001b[1;36m, line \u001b[1;32m4\u001b[1;36m, in \u001b[1;35m<module>\u001b[1;36m\u001b[0m\n\u001b[1;33m    (7,8,9)\u001b[0m\n",
      "\u001b[1;31mTypeError\u001b[0m\u001b[1;31m:\u001b[0m 'tuple' object is not callable\n"
     ]
    }
   ],
   "source": [
    "data = [\n",
    "    (1,2,3),\n",
    "    (4,5,6),\n",
    "    (7,8,9),\n",
    "    (10, 11),\n",
    "]"
   ]
  },
  {
   "cell_type": "code",
   "execution_count": 156,
   "id": "extra-billy",
   "metadata": {},
   "outputs": [],
   "source": [
    "data = [[1,2,3],\n",
    "        [4,5,6],\n",
    "        [7,8,9]]"
   ]
  },
  {
   "cell_type": "code",
   "execution_count": null,
   "id": "desperate-carbon",
   "metadata": {},
   "outputs": [],
   "source": [
    "data = [\n",
    "    {'firstname': 'Mark', 'lastname': 'Watney'},\n",
    "    {'firstname': 'Melissa', 'lastname': 'Lewis'},\n",
    "    {'firstname': 'Rick', 'lastname': 'Martinez'},\n",
    "]"
   ]
  },
  {
   "cell_type": "code",
   "execution_count": null,
   "id": "certified-routine",
   "metadata": {},
   "outputs": [],
   "source": [
    "data = [\n",
    "    ('Mark', 'Watney'),\n",
    "    ('Melissa', 'Lewis'),\n",
    "    ('Rick', 'Martinez'),\n",
    "]"
   ]
  }
 ],
 "metadata": {
  "kernelspec": {
   "display_name": "Python 3",
   "language": "python",
   "name": "python3"
  },
  "language_info": {
   "codemirror_mode": {
    "name": "ipython",
    "version": 3
   },
   "file_extension": ".py",
   "mimetype": "text/x-python",
   "name": "python",
   "nbconvert_exporter": "python",
   "pygments_lexer": "ipython3",
   "version": "3.9.1"
  }
 },
 "nbformat": 4,
 "nbformat_minor": 5
}
