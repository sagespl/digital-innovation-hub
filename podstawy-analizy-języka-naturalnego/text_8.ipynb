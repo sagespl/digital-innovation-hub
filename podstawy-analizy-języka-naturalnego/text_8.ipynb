{
 "cells": [
  {
   "cell_type": "markdown",
   "id": "equal-scanner",
   "metadata": {
    "slideshow": {
     "slide_type": "slide"
    }
   },
   "source": [
    "# Reprezentacja tekstu"
   ]
  },
  {
   "cell_type": "code",
   "execution_count": 1,
   "id": "buried-cuisine",
   "metadata": {
    "slideshow": {
     "slide_type": "slide"
    }
   },
   "outputs": [],
   "source": [
    "import pandas as pd\n",
    "import spacy\n",
    "\n",
    "nlp = spacy.load(\"pl_core_news_md\")"
   ]
  },
  {
   "cell_type": "code",
   "execution_count": 2,
   "id": "inappropriate-importance",
   "metadata": {
    "slideshow": {
     "slide_type": "fragment"
    }
   },
   "outputs": [],
   "source": [
    "corpus = [\"Przetwarzanie tekstu to świetna zabawa\", \n",
    "          \"Lubię pracować z tekstem\", \n",
    "          \"Python świetnie nadaje się do przetwarzania tekstu\"]"
   ]
  },
  {
   "cell_type": "code",
   "execution_count": 3,
   "id": "detected-attention",
   "metadata": {
    "slideshow": {
     "slide_type": "slide"
    }
   },
   "outputs": [],
   "source": [
    "doc_corpus = list(nlp.pipe(corpus, disable=[\"ner\"]))"
   ]
  },
  {
   "cell_type": "code",
   "execution_count": 4,
   "id": "optimum-shirt",
   "metadata": {
    "slideshow": {
     "slide_type": "fragment"
    }
   },
   "outputs": [],
   "source": [
    "norm_corpus = [[token.lemma_ for token in doc if token.is_alpha] for doc in doc_corpus]"
   ]
  },
  {
   "cell_type": "code",
   "execution_count": 5,
   "id": "mysterious-daisy",
   "metadata": {
    "slideshow": {
     "slide_type": "fragment"
    }
   },
   "outputs": [
    {
     "data": {
      "text/plain": [
       "[['przetwarzanie', 'tekst', 'to', 'świetny', 'zabawa'],\n",
       " ['lubić', 'pracować', 'z', 'tekst'],\n",
       " ['python', 'świetnie', 'nadawać', 'się', 'do', 'przetwarzanie', 'tekst']]"
      ]
     },
     "execution_count": 5,
     "metadata": {},
     "output_type": "execute_result"
    }
   ],
   "source": [
    "norm_corpus"
   ]
  },
  {
   "cell_type": "markdown",
   "id": "reserved-sperm",
   "metadata": {
    "slideshow": {
     "slide_type": "slide"
    }
   },
   "source": [
    "## Bag of Words"
   ]
  },
  {
   "cell_type": "code",
   "execution_count": 6,
   "id": "distributed-approval",
   "metadata": {
    "slideshow": {
     "slide_type": "fragment"
    }
   },
   "outputs": [],
   "source": [
    "from collections import Counter"
   ]
  },
  {
   "cell_type": "code",
   "execution_count": 7,
   "id": "french-floor",
   "metadata": {
    "slideshow": {
     "slide_type": "fragment"
    }
   },
   "outputs": [
    {
     "data": {
      "text/plain": [
       "Counter({'a': 2, 'b': 1, 'c': 3})"
      ]
     },
     "execution_count": 7,
     "metadata": {},
     "output_type": "execute_result"
    }
   ],
   "source": [
    "Counter([\"a\", \"a\", \"b\", \"c\", \"c\", \"c\"])"
   ]
  },
  {
   "cell_type": "code",
   "execution_count": 8,
   "id": "documented-california",
   "metadata": {
    "slideshow": {
     "slide_type": "fragment"
    }
   },
   "outputs": [],
   "source": [
    "bow = [Counter(text) for text in norm_corpus]"
   ]
  },
  {
   "cell_type": "code",
   "execution_count": 9,
   "id": "looking-yorkshire",
   "metadata": {
    "slideshow": {
     "slide_type": "fragment"
    }
   },
   "outputs": [
    {
     "data": {
      "text/plain": [
       "[Counter({'przetwarzanie': 1, 'tekst': 1, 'to': 1, 'świetny': 1, 'zabawa': 1}),\n",
       " Counter({'lubić': 1, 'pracować': 1, 'z': 1, 'tekst': 1}),\n",
       " Counter({'python': 1,\n",
       "          'świetnie': 1,\n",
       "          'nadawać': 1,\n",
       "          'się': 1,\n",
       "          'do': 1,\n",
       "          'przetwarzanie': 1,\n",
       "          'tekst': 1})]"
      ]
     },
     "execution_count": 9,
     "metadata": {},
     "output_type": "execute_result"
    }
   ],
   "source": [
    "bow"
   ]
  },
  {
   "cell_type": "markdown",
   "id": "modified-moderator",
   "metadata": {
    "slideshow": {
     "slide_type": "slide"
    }
   },
   "source": [
    "## Document-Term Matrix"
   ]
  },
  {
   "cell_type": "code",
   "execution_count": 10,
   "id": "radio-lotus",
   "metadata": {
    "slideshow": {
     "slide_type": "fragment"
    }
   },
   "outputs": [
    {
     "data": {
      "text/plain": [
       "['nadawać',\n",
       " 'tekst',\n",
       " 'to',\n",
       " 'do',\n",
       " 'się',\n",
       " 'lubić',\n",
       " 'przetwarzanie',\n",
       " 'zabawa',\n",
       " 'świetnie',\n",
       " 'pracować',\n",
       " 'z',\n",
       " 'świetny',\n",
       " 'python']"
      ]
     },
     "execution_count": 10,
     "metadata": {},
     "output_type": "execute_result"
    }
   ],
   "source": [
    "uniq_tokens = list(set([word for text in norm_corpus for word in text]))\n",
    "uniq_tokens"
   ]
  },
  {
   "cell_type": "code",
   "execution_count": 11,
   "id": "frank-scottish",
   "metadata": {
    "slideshow": {
     "slide_type": "slide"
    }
   },
   "outputs": [],
   "source": [
    "def make_dtm(corpus, uniq_tokens):\n",
    "    out = []\n",
    "    for text in corpus:\n",
    "        c = Counter(text)\n",
    "        dt = []\n",
    "        for token in uniq_tokens:\n",
    "            dt.append(c.get(token, 0))\n",
    "        out.append(dt)\n",
    "    return out"
   ]
  },
  {
   "cell_type": "code",
   "execution_count": 12,
   "id": "twelve-aspect",
   "metadata": {
    "slideshow": {
     "slide_type": "fragment"
    }
   },
   "outputs": [
    {
     "data": {
      "text/plain": [
       "[[0, 1, 1, 0, 0, 0, 1, 1, 0, 0, 0, 1, 0],\n",
       " [0, 1, 0, 0, 0, 1, 0, 0, 0, 1, 1, 0, 0],\n",
       " [1, 1, 0, 1, 1, 0, 1, 0, 1, 0, 0, 0, 1]]"
      ]
     },
     "execution_count": 12,
     "metadata": {},
     "output_type": "execute_result"
    }
   ],
   "source": [
    "bow_dtm = make_dtm(norm_corpus, uniq_tokens)\n",
    "bow_dtm"
   ]
  },
  {
   "cell_type": "code",
   "execution_count": 13,
   "id": "alpha-trick",
   "metadata": {
    "slideshow": {
     "slide_type": "fragment"
    }
   },
   "outputs": [
    {
     "data": {
      "text/html": [
       "<div>\n",
       "<style scoped>\n",
       "    .dataframe tbody tr th:only-of-type {\n",
       "        vertical-align: middle;\n",
       "    }\n",
       "\n",
       "    .dataframe tbody tr th {\n",
       "        vertical-align: top;\n",
       "    }\n",
       "\n",
       "    .dataframe thead th {\n",
       "        text-align: right;\n",
       "    }\n",
       "</style>\n",
       "<table border=\"1\" class=\"dataframe\">\n",
       "  <thead>\n",
       "    <tr style=\"text-align: right;\">\n",
       "      <th></th>\n",
       "      <th>nadawać</th>\n",
       "      <th>tekst</th>\n",
       "      <th>to</th>\n",
       "      <th>do</th>\n",
       "      <th>się</th>\n",
       "      <th>lubić</th>\n",
       "      <th>przetwarzanie</th>\n",
       "      <th>zabawa</th>\n",
       "      <th>świetnie</th>\n",
       "      <th>pracować</th>\n",
       "      <th>z</th>\n",
       "      <th>świetny</th>\n",
       "      <th>python</th>\n",
       "    </tr>\n",
       "  </thead>\n",
       "  <tbody>\n",
       "    <tr>\n",
       "      <th>0</th>\n",
       "      <td>0</td>\n",
       "      <td>1</td>\n",
       "      <td>1</td>\n",
       "      <td>0</td>\n",
       "      <td>0</td>\n",
       "      <td>0</td>\n",
       "      <td>1</td>\n",
       "      <td>1</td>\n",
       "      <td>0</td>\n",
       "      <td>0</td>\n",
       "      <td>0</td>\n",
       "      <td>1</td>\n",
       "      <td>0</td>\n",
       "    </tr>\n",
       "    <tr>\n",
       "      <th>1</th>\n",
       "      <td>0</td>\n",
       "      <td>1</td>\n",
       "      <td>0</td>\n",
       "      <td>0</td>\n",
       "      <td>0</td>\n",
       "      <td>1</td>\n",
       "      <td>0</td>\n",
       "      <td>0</td>\n",
       "      <td>0</td>\n",
       "      <td>1</td>\n",
       "      <td>1</td>\n",
       "      <td>0</td>\n",
       "      <td>0</td>\n",
       "    </tr>\n",
       "    <tr>\n",
       "      <th>2</th>\n",
       "      <td>1</td>\n",
       "      <td>1</td>\n",
       "      <td>0</td>\n",
       "      <td>1</td>\n",
       "      <td>1</td>\n",
       "      <td>0</td>\n",
       "      <td>1</td>\n",
       "      <td>0</td>\n",
       "      <td>1</td>\n",
       "      <td>0</td>\n",
       "      <td>0</td>\n",
       "      <td>0</td>\n",
       "      <td>1</td>\n",
       "    </tr>\n",
       "  </tbody>\n",
       "</table>\n",
       "</div>"
      ],
      "text/plain": [
       "   nadawać  tekst  to  do  się  lubić  przetwarzanie  zabawa  świetnie  \\\n",
       "0        0      1   1   0    0      0              1       1         0   \n",
       "1        0      1   0   0    0      1              0       0         0   \n",
       "2        1      1   0   1    1      0              1       0         1   \n",
       "\n",
       "   pracować  z  świetny  python  \n",
       "0         0  0        1       0  \n",
       "1         1  1        0       0  \n",
       "2         0  0        0       1  "
      ]
     },
     "execution_count": 13,
     "metadata": {},
     "output_type": "execute_result"
    }
   ],
   "source": [
    "df = pd.DataFrame(bow_dtm, columns=uniq_tokens)\n",
    "df"
   ]
  },
  {
   "cell_type": "code",
   "execution_count": 14,
   "id": "serial-tuning",
   "metadata": {
    "slideshow": {
     "slide_type": "slide"
    }
   },
   "outputs": [],
   "source": [
    "stopwords = set(pd.read_csv(\"https://raw.githubusercontent.com/bieli/stopwords/master/polish.stopwords.txt\", \n",
    "                            header=None).values[:,0])"
   ]
  },
  {
   "cell_type": "code",
   "execution_count": 15,
   "id": "secure-serum",
   "metadata": {
    "slideshow": {
     "slide_type": "fragment"
    }
   },
   "outputs": [
    {
     "data": {
      "text/plain": [
       "[['przetwarzanie', 'tekst', 'to', 'świetny', 'zabawa'],\n",
       " ['lubić', 'pracować', 'z', 'tekst'],\n",
       " ['python', 'świetnie', 'nadawać', 'się', 'do', 'przetwarzanie', 'tekst']]"
      ]
     },
     "execution_count": 15,
     "metadata": {},
     "output_type": "execute_result"
    }
   ],
   "source": [
    "norm_corpus"
   ]
  },
  {
   "cell_type": "code",
   "execution_count": 16,
   "id": "renewable-cycling",
   "metadata": {
    "slideshow": {
     "slide_type": "fragment"
    }
   },
   "outputs": [],
   "source": [
    "sw_norm_corpus = [[token for token in doc if token not in stopwords] for doc in norm_corpus]"
   ]
  },
  {
   "cell_type": "code",
   "execution_count": 17,
   "id": "valuable-campus",
   "metadata": {
    "slideshow": {
     "slide_type": "fragment"
    }
   },
   "outputs": [
    {
     "data": {
      "text/plain": [
       "[['przetwarzanie', 'tekst', 'świetny', 'zabawa'],\n",
       " ['lubić', 'pracować', 'tekst'],\n",
       " ['python', 'świetnie', 'nadawać', 'przetwarzanie', 'tekst']]"
      ]
     },
     "execution_count": 17,
     "metadata": {},
     "output_type": "execute_result"
    }
   ],
   "source": [
    "sw_norm_corpus"
   ]
  },
  {
   "cell_type": "code",
   "execution_count": 18,
   "id": "stopped-affiliate",
   "metadata": {
    "slideshow": {
     "slide_type": "slide"
    }
   },
   "outputs": [
    {
     "data": {
      "text/plain": [
       "['nadawać',\n",
       " 'tekst',\n",
       " 'lubić',\n",
       " 'przetwarzanie',\n",
       " 'zabawa',\n",
       " 'świetnie',\n",
       " 'pracować',\n",
       " 'świetny',\n",
       " 'python']"
      ]
     },
     "execution_count": 18,
     "metadata": {},
     "output_type": "execute_result"
    }
   ],
   "source": [
    "uniq_tokens = list(set([word for text in sw_norm_corpus for word in text]))\n",
    "uniq_tokens"
   ]
  },
  {
   "cell_type": "code",
   "execution_count": 19,
   "id": "wired-airplane",
   "metadata": {
    "slideshow": {
     "slide_type": "fragment"
    }
   },
   "outputs": [
    {
     "data": {
      "text/plain": [
       "[[0, 1, 0, 1, 1, 0, 0, 1, 0],\n",
       " [0, 1, 1, 0, 0, 0, 1, 0, 0],\n",
       " [1, 1, 0, 1, 0, 1, 0, 0, 1]]"
      ]
     },
     "execution_count": 19,
     "metadata": {},
     "output_type": "execute_result"
    }
   ],
   "source": [
    "bow_dtm = make_dtm(sw_norm_corpus, uniq_tokens)\n",
    "bow_dtm"
   ]
  },
  {
   "cell_type": "code",
   "execution_count": 20,
   "id": "international-forum",
   "metadata": {
    "slideshow": {
     "slide_type": "slide"
    }
   },
   "outputs": [
    {
     "data": {
      "text/html": [
       "<div>\n",
       "<style scoped>\n",
       "    .dataframe tbody tr th:only-of-type {\n",
       "        vertical-align: middle;\n",
       "    }\n",
       "\n",
       "    .dataframe tbody tr th {\n",
       "        vertical-align: top;\n",
       "    }\n",
       "\n",
       "    .dataframe thead th {\n",
       "        text-align: right;\n",
       "    }\n",
       "</style>\n",
       "<table border=\"1\" class=\"dataframe\">\n",
       "  <thead>\n",
       "    <tr style=\"text-align: right;\">\n",
       "      <th></th>\n",
       "      <th>nadawać</th>\n",
       "      <th>tekst</th>\n",
       "      <th>lubić</th>\n",
       "      <th>przetwarzanie</th>\n",
       "      <th>zabawa</th>\n",
       "      <th>świetnie</th>\n",
       "      <th>pracować</th>\n",
       "      <th>świetny</th>\n",
       "      <th>python</th>\n",
       "    </tr>\n",
       "  </thead>\n",
       "  <tbody>\n",
       "    <tr>\n",
       "      <th>0</th>\n",
       "      <td>0</td>\n",
       "      <td>1</td>\n",
       "      <td>0</td>\n",
       "      <td>1</td>\n",
       "      <td>1</td>\n",
       "      <td>0</td>\n",
       "      <td>0</td>\n",
       "      <td>1</td>\n",
       "      <td>0</td>\n",
       "    </tr>\n",
       "    <tr>\n",
       "      <th>1</th>\n",
       "      <td>0</td>\n",
       "      <td>1</td>\n",
       "      <td>1</td>\n",
       "      <td>0</td>\n",
       "      <td>0</td>\n",
       "      <td>0</td>\n",
       "      <td>1</td>\n",
       "      <td>0</td>\n",
       "      <td>0</td>\n",
       "    </tr>\n",
       "    <tr>\n",
       "      <th>2</th>\n",
       "      <td>1</td>\n",
       "      <td>1</td>\n",
       "      <td>0</td>\n",
       "      <td>1</td>\n",
       "      <td>0</td>\n",
       "      <td>1</td>\n",
       "      <td>0</td>\n",
       "      <td>0</td>\n",
       "      <td>1</td>\n",
       "    </tr>\n",
       "  </tbody>\n",
       "</table>\n",
       "</div>"
      ],
      "text/plain": [
       "   nadawać  tekst  lubić  przetwarzanie  zabawa  świetnie  pracować  świetny  \\\n",
       "0        0      1      0              1       1         0         0        1   \n",
       "1        0      1      1              0       0         0         1        0   \n",
       "2        1      1      0              1       0         1         0        0   \n",
       "\n",
       "   python  \n",
       "0       0  \n",
       "1       0  \n",
       "2       1  "
      ]
     },
     "execution_count": 20,
     "metadata": {},
     "output_type": "execute_result"
    }
   ],
   "source": [
    "pd.DataFrame(bow_dtm, columns=uniq_tokens)"
   ]
  },
  {
   "cell_type": "code",
   "execution_count": 21,
   "id": "industrial-tracy",
   "metadata": {
    "slideshow": {
     "slide_type": "fragment"
    }
   },
   "outputs": [
    {
     "data": {
      "text/html": [
       "<div>\n",
       "<style scoped>\n",
       "    .dataframe tbody tr th:only-of-type {\n",
       "        vertical-align: middle;\n",
       "    }\n",
       "\n",
       "    .dataframe tbody tr th {\n",
       "        vertical-align: top;\n",
       "    }\n",
       "\n",
       "    .dataframe thead th {\n",
       "        text-align: right;\n",
       "    }\n",
       "</style>\n",
       "<table border=\"1\" class=\"dataframe\">\n",
       "  <thead>\n",
       "    <tr style=\"text-align: right;\">\n",
       "      <th></th>\n",
       "      <th>nadawać</th>\n",
       "      <th>tekst</th>\n",
       "      <th>to</th>\n",
       "      <th>do</th>\n",
       "      <th>się</th>\n",
       "      <th>lubić</th>\n",
       "      <th>przetwarzanie</th>\n",
       "      <th>zabawa</th>\n",
       "      <th>świetnie</th>\n",
       "      <th>pracować</th>\n",
       "      <th>z</th>\n",
       "      <th>świetny</th>\n",
       "      <th>python</th>\n",
       "    </tr>\n",
       "  </thead>\n",
       "  <tbody>\n",
       "    <tr>\n",
       "      <th>0</th>\n",
       "      <td>0</td>\n",
       "      <td>1</td>\n",
       "      <td>1</td>\n",
       "      <td>0</td>\n",
       "      <td>0</td>\n",
       "      <td>0</td>\n",
       "      <td>1</td>\n",
       "      <td>1</td>\n",
       "      <td>0</td>\n",
       "      <td>0</td>\n",
       "      <td>0</td>\n",
       "      <td>1</td>\n",
       "      <td>0</td>\n",
       "    </tr>\n",
       "    <tr>\n",
       "      <th>1</th>\n",
       "      <td>0</td>\n",
       "      <td>1</td>\n",
       "      <td>0</td>\n",
       "      <td>0</td>\n",
       "      <td>0</td>\n",
       "      <td>1</td>\n",
       "      <td>0</td>\n",
       "      <td>0</td>\n",
       "      <td>0</td>\n",
       "      <td>1</td>\n",
       "      <td>1</td>\n",
       "      <td>0</td>\n",
       "      <td>0</td>\n",
       "    </tr>\n",
       "    <tr>\n",
       "      <th>2</th>\n",
       "      <td>1</td>\n",
       "      <td>1</td>\n",
       "      <td>0</td>\n",
       "      <td>1</td>\n",
       "      <td>1</td>\n",
       "      <td>0</td>\n",
       "      <td>1</td>\n",
       "      <td>0</td>\n",
       "      <td>1</td>\n",
       "      <td>0</td>\n",
       "      <td>0</td>\n",
       "      <td>0</td>\n",
       "      <td>1</td>\n",
       "    </tr>\n",
       "  </tbody>\n",
       "</table>\n",
       "</div>"
      ],
      "text/plain": [
       "   nadawać  tekst  to  do  się  lubić  przetwarzanie  zabawa  świetnie  \\\n",
       "0        0      1   1   0    0      0              1       1         0   \n",
       "1        0      1   0   0    0      1              0       0         0   \n",
       "2        1      1   0   1    1      0              1       0         1   \n",
       "\n",
       "   pracować  z  świetny  python  \n",
       "0         0  0        1       0  \n",
       "1         1  1        0       0  \n",
       "2         0  0        0       1  "
      ]
     },
     "execution_count": 21,
     "metadata": {},
     "output_type": "execute_result"
    }
   ],
   "source": [
    "df"
   ]
  },
  {
   "cell_type": "markdown",
   "id": "dietary-island",
   "metadata": {
    "slideshow": {
     "slide_type": "skip"
    }
   },
   "source": [
    "\n"
   ]
  }
 ],
 "metadata": {
  "celltoolbar": "Slideshow",
  "kernelspec": {
   "display_name": "Python 3",
   "language": "python",
   "name": "python3"
  },
  "language_info": {
   "codemirror_mode": {
    "name": "ipython",
    "version": 3
   },
   "file_extension": ".py",
   "mimetype": "text/x-python",
   "name": "python",
   "nbconvert_exporter": "python",
   "pygments_lexer": "ipython3",
   "version": "3.8.5"
  }
 },
 "nbformat": 4,
 "nbformat_minor": 5
}
