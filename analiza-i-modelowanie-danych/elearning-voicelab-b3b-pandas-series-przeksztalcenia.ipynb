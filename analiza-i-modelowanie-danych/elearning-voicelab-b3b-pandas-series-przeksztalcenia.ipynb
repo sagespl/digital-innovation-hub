{
 "cells": [
  {
   "cell_type": "markdown",
   "metadata": {},
   "source": [
    "# Pandas - series - przekształcenia - lekcja"
   ]
  },
  {
   "cell_type": "code",
   "execution_count": 1,
   "metadata": {},
   "outputs": [],
   "source": [
    "import pandas as pd"
   ]
  },
  {
   "cell_type": "code",
   "execution_count": 78,
   "metadata": {},
   "outputs": [],
   "source": [
    "alfa = pd.Series(\n",
    "    data = [1.1, 2.2, 3.3, pd.NA, 5.5, 6.6, 7.7, 8.8, 9.9],\n",
    "    index = ['a', 'b', 'c', 'd', 'e', 'f', 'g', 'h', 'i'])\n",
    "\n",
    "num = pd.Series(\n",
    "    data = [1.1, 2.2, 3.3, pd.NA, 5.5, 6.6, 7.7, 8.8, 9.9])\n",
    "\n",
    "ts = pd.Series(\n",
    "    data = [1.1, 2.2, 3.3, pd.NA, 5.5, 6.6, 7.7, 8.8, 9.9],\n",
    "    index = pd.date_range('1999-12-28', '2000-01-05', freq='D'))"
   ]
  },
  {
   "cell_type": "code",
   "execution_count": 6,
   "metadata": {
    "scrolled": true
   },
   "outputs": [
    {
     "data": {
      "text/plain": [
       "a     1.1\n",
       "b     2.2\n",
       "c     3.3\n",
       "d    <NA>\n",
       "e     5.5\n",
       "f     6.6\n",
       "g     7.7\n",
       "h     8.8\n",
       "i     9.9\n",
       "dtype: object"
      ]
     },
     "execution_count": 6,
     "metadata": {},
     "output_type": "execute_result"
    }
   ],
   "source": [
    "alfa"
   ]
  },
  {
   "cell_type": "code",
   "execution_count": 7,
   "metadata": {
    "scrolled": true
   },
   "outputs": [
    {
     "data": {
      "text/plain": [
       "0     1.1\n",
       "1     2.2\n",
       "2     3.3\n",
       "3    <NA>\n",
       "4     5.5\n",
       "5     6.6\n",
       "6     7.7\n",
       "7     8.8\n",
       "8     9.9\n",
       "dtype: object"
      ]
     },
     "execution_count": 7,
     "metadata": {},
     "output_type": "execute_result"
    }
   ],
   "source": [
    "num"
   ]
  },
  {
   "cell_type": "code",
   "execution_count": 8,
   "metadata": {},
   "outputs": [
    {
     "data": {
      "text/plain": [
       "2000-01-01     1.1\n",
       "2000-01-02     2.2\n",
       "2000-01-03     3.3\n",
       "2000-01-04    <NA>\n",
       "2000-01-05     5.5\n",
       "2000-01-06     6.6\n",
       "2000-01-07     7.7\n",
       "2000-01-08     8.8\n",
       "2000-01-09     9.9\n",
       "Freq: D, dtype: object"
      ]
     },
     "execution_count": 8,
     "metadata": {},
     "output_type": "execute_result"
    }
   ],
   "source": [
    "ts"
   ]
  },
  {
   "cell_type": "markdown",
   "metadata": {},
   "source": [
    "## Próbkowanie\n",
    "\n",
    "- First\n",
    "- Last\n",
    "- Head\n",
    "- Tail\n",
    "- Sample"
   ]
  },
  {
   "cell_type": "code",
   "execution_count": 18,
   "metadata": {},
   "outputs": [
    {
     "data": {
      "text/plain": [
       "2000-01-01    1.1\n",
       "2000-01-02    2.2\n",
       "2000-01-03    3.3\n",
       "Freq: D, dtype: object"
      ]
     },
     "execution_count": 18,
     "metadata": {},
     "output_type": "execute_result"
    }
   ],
   "source": [
    "ts.head(n=3)"
   ]
  },
  {
   "cell_type": "code",
   "execution_count": 19,
   "metadata": {},
   "outputs": [
    {
     "data": {
      "text/plain": [
       "2000-01-05    5.5\n",
       "2000-01-06    6.6\n",
       "2000-01-07    7.7\n",
       "2000-01-08    8.8\n",
       "2000-01-09    9.9\n",
       "Freq: D, dtype: object"
      ]
     },
     "execution_count": 19,
     "metadata": {},
     "output_type": "execute_result"
    }
   ],
   "source": [
    "ts.tail(5)"
   ]
  },
  {
   "cell_type": "code",
   "execution_count": 25,
   "metadata": {
    "scrolled": false
   },
   "outputs": [
    {
     "data": {
      "text/plain": [
       "b     2.2\n",
       "c     3.3\n",
       "g     7.7\n",
       "d    <NA>\n",
       "dtype: object"
      ]
     },
     "execution_count": 25,
     "metadata": {},
     "output_type": "execute_result"
    }
   ],
   "source": [
    "alfa.sample(frac=.4)"
   ]
  },
  {
   "cell_type": "code",
   "execution_count": 26,
   "metadata": {
    "scrolled": true
   },
   "outputs": [
    {
     "data": {
      "text/plain": [
       "f     6.6\n",
       "g     7.7\n",
       "d    <NA>\n",
       "a     1.1\n",
       "b     2.2\n",
       "dtype: object"
      ]
     },
     "execution_count": 26,
     "metadata": {},
     "output_type": "execute_result"
    }
   ],
   "source": [
    "alfa.sample(n=5)"
   ]
  },
  {
   "cell_type": "code",
   "execution_count": 27,
   "metadata": {
    "scrolled": true
   },
   "outputs": [
    {
     "data": {
      "text/plain": [
       "f     6.6\n",
       "b     2.2\n",
       "d    <NA>\n",
       "f     6.6\n",
       "i     9.9\n",
       "dtype: object"
      ]
     },
     "execution_count": 27,
     "metadata": {},
     "output_type": "execute_result"
    }
   ],
   "source": [
    "alfa.sample(n=5, replace=True)"
   ]
  },
  {
   "cell_type": "code",
   "execution_count": 44,
   "metadata": {},
   "outputs": [
    {
     "data": {
      "text/plain": [
       "2000-01-01     1.1\n",
       "2000-01-02     2.2\n",
       "2000-01-03     3.3\n",
       "2000-01-04    <NA>\n",
       "2000-01-05     5.5\n",
       "Freq: D, dtype: object"
      ]
     },
     "execution_count": 44,
     "metadata": {},
     "output_type": "execute_result"
    }
   ],
   "source": [
    "ts.first('3B')"
   ]
  },
  {
   "cell_type": "code",
   "execution_count": 47,
   "metadata": {},
   "outputs": [
    {
     "data": {
      "text/plain": [
       "[[0, 0, 0, 0, 0, 1, 2],\n",
       " [3, 4, 5, 6, 7, 8, 9],\n",
       " [10, 11, 12, 13, 14, 15, 16],\n",
       " [17, 18, 19, 20, 21, 22, 23],\n",
       " [24, 25, 26, 27, 28, 29, 30],\n",
       " [31, 0, 0, 0, 0, 0, 0]]"
      ]
     },
     "execution_count": 47,
     "metadata": {},
     "output_type": "execute_result"
    }
   ],
   "source": [
    "import calendar\n",
    "\n",
    "calendar.monthcalendar(2000, 1)"
   ]
  },
  {
   "cell_type": "code",
   "execution_count": 43,
   "metadata": {},
   "outputs": [
    {
     "data": {
      "text/plain": [
       "2000-01-07    7.7\n",
       "2000-01-08    8.8\n",
       "2000-01-09    9.9\n",
       "Freq: D, dtype: object"
      ]
     },
     "execution_count": 43,
     "metadata": {},
     "output_type": "execute_result"
    }
   ],
   "source": [
    "ts.last('2B')"
   ]
  },
  {
   "cell_type": "code",
   "execution_count": null,
   "metadata": {},
   "outputs": [],
   "source": [
    "# https://python.astrotech.io/numerical-analysis/pandas/date-frequency.html"
   ]
  },
  {
   "cell_type": "markdown",
   "metadata": {},
   "source": [
    "## Wybieranie wartości\n",
    "\n",
    "- Numeric Index\n",
    "- String Index\n",
    "- Date Index"
   ]
  },
  {
   "cell_type": "code",
   "execution_count": 50,
   "metadata": {},
   "outputs": [
    {
     "data": {
      "text/plain": [
       "0     1.1\n",
       "1     2.2\n",
       "2     3.3\n",
       "3    <NA>\n",
       "4     5.5\n",
       "5     6.6\n",
       "6     7.7\n",
       "7     8.8\n",
       "8     9.9\n",
       "dtype: object"
      ]
     },
     "execution_count": 50,
     "metadata": {},
     "output_type": "execute_result"
    }
   ],
   "source": [
    "num"
   ]
  },
  {
   "cell_type": "code",
   "execution_count": 62,
   "metadata": {},
   "outputs": [
    {
     "data": {
      "text/plain": [
       "9.9"
      ]
     },
     "execution_count": 62,
     "metadata": {},
     "output_type": "execute_result"
    }
   ],
   "source": [
    "num[8]"
   ]
  },
  {
   "cell_type": "code",
   "execution_count": 55,
   "metadata": {},
   "outputs": [
    {
     "data": {
      "text/plain": [
       "a     1.1\n",
       "b     2.2\n",
       "c     3.3\n",
       "d    <NA>\n",
       "e     5.5\n",
       "f     6.6\n",
       "g     7.7\n",
       "h     8.8\n",
       "i     9.9\n",
       "dtype: object"
      ]
     },
     "execution_count": 55,
     "metadata": {},
     "output_type": "execute_result"
    }
   ],
   "source": [
    "alfa"
   ]
  },
  {
   "cell_type": "code",
   "execution_count": 64,
   "metadata": {},
   "outputs": [
    {
     "data": {
      "text/plain": [
       "2.2"
      ]
     },
     "execution_count": 64,
     "metadata": {},
     "output_type": "execute_result"
    }
   ],
   "source": [
    "alfa['b']"
   ]
  },
  {
   "cell_type": "code",
   "execution_count": 67,
   "metadata": {},
   "outputs": [
    {
     "data": {
      "text/plain": [
       "6.6"
      ]
     },
     "execution_count": 67,
     "metadata": {},
     "output_type": "execute_result"
    }
   ],
   "source": [
    "alfa[5]"
   ]
  },
  {
   "cell_type": "code",
   "execution_count": 83,
   "metadata": {},
   "outputs": [
    {
     "data": {
      "text/plain": [
       "7.7"
      ]
     },
     "execution_count": 83,
     "metadata": {},
     "output_type": "execute_result"
    }
   ],
   "source": [
    "alfa[-3]"
   ]
  },
  {
   "cell_type": "code",
   "execution_count": 74,
   "metadata": {},
   "outputs": [
    {
     "data": {
      "text/plain": [
       "2000-01-01     1.1\n",
       "2000-01-02     2.2\n",
       "2000-01-03     3.3\n",
       "2000-01-04    <NA>\n",
       "2000-01-05     5.5\n",
       "2000-01-06     6.6\n",
       "2000-01-07     7.7\n",
       "2000-01-08     8.8\n",
       "2000-01-09     9.9\n",
       "Freq: D, dtype: object"
      ]
     },
     "execution_count": 74,
     "metadata": {},
     "output_type": "execute_result"
    }
   ],
   "source": [
    "ts"
   ]
  },
  {
   "cell_type": "code",
   "execution_count": 70,
   "metadata": {},
   "outputs": [
    {
     "data": {
      "text/plain": [
       "7.7"
      ]
     },
     "execution_count": 70,
     "metadata": {},
     "output_type": "execute_result"
    }
   ],
   "source": [
    "ts[6]"
   ]
  },
  {
   "cell_type": "code",
   "execution_count": 75,
   "metadata": {},
   "outputs": [
    {
     "data": {
      "text/plain": [
       "1.1"
      ]
     },
     "execution_count": 75,
     "metadata": {},
     "output_type": "execute_result"
    }
   ],
   "source": [
    "ts['2000-01-01']"
   ]
  },
  {
   "cell_type": "code",
   "execution_count": 79,
   "metadata": {},
   "outputs": [
    {
     "data": {
      "text/plain": [
       "2000-01-01    5.5\n",
       "2000-01-02    6.6\n",
       "2000-01-03    7.7\n",
       "2000-01-04    8.8\n",
       "2000-01-05    9.9\n",
       "Freq: D, dtype: object"
      ]
     },
     "execution_count": 79,
     "metadata": {},
     "output_type": "execute_result"
    }
   ],
   "source": [
    "ts['2000-01']"
   ]
  },
  {
   "cell_type": "code",
   "execution_count": 81,
   "metadata": {},
   "outputs": [
    {
     "data": {
      "text/plain": [
       "1999-12-28     1.1\n",
       "1999-12-29     2.2\n",
       "1999-12-30     3.3\n",
       "1999-12-31    <NA>\n",
       "Freq: D, dtype: object"
      ]
     },
     "execution_count": 81,
     "metadata": {},
     "output_type": "execute_result"
    }
   ],
   "source": [
    "ts['1999']"
   ]
  },
  {
   "cell_type": "code",
   "execution_count": 82,
   "metadata": {},
   "outputs": [
    {
     "data": {
      "text/plain": [
       "2000-01-01    5.5\n",
       "2000-01-02    6.6\n",
       "2000-01-03    7.7\n",
       "2000-01-04    8.8\n",
       "2000-01-05    9.9\n",
       "Freq: D, dtype: object"
      ]
     },
     "execution_count": 82,
     "metadata": {},
     "output_type": "execute_result"
    }
   ],
   "source": [
    "ts['2000']"
   ]
  },
  {
   "cell_type": "code",
   "execution_count": 107,
   "metadata": {},
   "outputs": [
    {
     "data": {
      "text/plain": [
       "2000-01-03    7.7\n",
       "2000-01-05    9.9\n",
       "1999-12-29    2.2\n",
       "dtype: object"
      ]
     },
     "execution_count": 107,
     "metadata": {},
     "output_type": "execute_result"
    }
   ],
   "source": [
    "ts[ [6,8,1] ]"
   ]
  },
  {
   "cell_type": "code",
   "execution_count": 109,
   "metadata": {},
   "outputs": [
    {
     "data": {
      "text/plain": [
       "e     5.5\n",
       "b     2.2\n",
       "d    <NA>\n",
       "dtype: object"
      ]
     },
     "execution_count": 109,
     "metadata": {},
     "output_type": "execute_result"
    }
   ],
   "source": [
    "alfa[ ['e','b','d'] ]"
   ]
  },
  {
   "cell_type": "code",
   "execution_count": 116,
   "metadata": {},
   "outputs": [
    {
     "data": {
      "text/plain": [
       "2000-01-01    5.5\n",
       "2000-01-03    7.7\n",
       "1999-12-28    1.1\n",
       "dtype: object"
      ]
     },
     "execution_count": 116,
     "metadata": {},
     "output_type": "execute_result"
    }
   ],
   "source": [
    "idx = ['2000-01-01', '2000-01-03', '1999-12-28']\n",
    "idx = map(pd.Timestamp, idx) \n",
    "\n",
    "ts[ list(idx) ]"
   ]
  },
  {
   "cell_type": "code",
   "execution_count": 120,
   "metadata": {},
   "outputs": [
    {
     "data": {
      "text/plain": [
       "2000-01-01    5.5\n",
       "2000-01-03    7.7\n",
       "1999-12-28    1.1\n",
       "dtype: object"
      ]
     },
     "execution_count": 120,
     "metadata": {},
     "output_type": "execute_result"
    }
   ],
   "source": [
    "ts[ ['2000-01-01', '2000-01-03', '1999-12-28'] ]"
   ]
  },
  {
   "cell_type": "markdown",
   "metadata": {},
   "source": [
    "## Wycinanie wartości\n",
    "\n",
    "- Numeric Index\n",
    "- String Index\n",
    "- Date Index"
   ]
  },
  {
   "cell_type": "code",
   "execution_count": 85,
   "metadata": {},
   "outputs": [
    {
     "data": {
      "text/plain": [
       "0     1.1\n",
       "1     2.2\n",
       "2     3.3\n",
       "3    <NA>\n",
       "4     5.5\n",
       "dtype: object"
      ]
     },
     "execution_count": 85,
     "metadata": {},
     "output_type": "execute_result"
    }
   ],
   "source": [
    "num[:5]"
   ]
  },
  {
   "cell_type": "code",
   "execution_count": 86,
   "metadata": {},
   "outputs": [
    {
     "data": {
      "text/plain": [
       "2    3.3\n",
       "4    5.5\n",
       "6    7.7\n",
       "dtype: object"
      ]
     },
     "execution_count": 86,
     "metadata": {},
     "output_type": "execute_result"
    }
   ],
   "source": [
    "num[2:7:2]"
   ]
  },
  {
   "cell_type": "code",
   "execution_count": 99,
   "metadata": {},
   "outputs": [
    {
     "data": {
      "text/plain": [
       "d    <NA>\n",
       "f     6.6\n",
       "dtype: object"
      ]
     },
     "execution_count": 99,
     "metadata": {},
     "output_type": "execute_result"
    }
   ],
   "source": [
    "alfa[-6:-2:2]"
   ]
  },
  {
   "cell_type": "code",
   "execution_count": 91,
   "metadata": {},
   "outputs": [
    {
     "data": {
      "text/plain": [
       "b     2.2\n",
       "d    <NA>\n",
       "dtype: object"
      ]
     },
     "execution_count": 91,
     "metadata": {},
     "output_type": "execute_result"
    }
   ],
   "source": [
    "alfa['b':'e':2]"
   ]
  },
  {
   "cell_type": "code",
   "execution_count": 93,
   "metadata": {},
   "outputs": [
    {
     "data": {
      "text/plain": [
       "1999-12-30     3.3\n",
       "1999-12-31    <NA>\n",
       "2000-01-01     5.5\n",
       "2000-01-02     6.6\n",
       "2000-01-03     7.7\n",
       "Freq: D, dtype: object"
      ]
     },
     "execution_count": 93,
     "metadata": {},
     "output_type": "execute_result"
    }
   ],
   "source": [
    "ts['1999-12-30':'2000-01-03']"
   ]
  },
  {
   "cell_type": "code",
   "execution_count": 95,
   "metadata": {},
   "outputs": [
    {
     "data": {
      "text/plain": [
       "1999-12-28     1.1\n",
       "1999-12-29     2.2\n",
       "1999-12-30     3.3\n",
       "1999-12-31    <NA>\n",
       "2000-01-01     5.5\n",
       "2000-01-02     6.6\n",
       "2000-01-03     7.7\n",
       "2000-01-04     8.8\n",
       "2000-01-05     9.9\n",
       "Freq: D, dtype: object"
      ]
     },
     "execution_count": 95,
     "metadata": {},
     "output_type": "execute_result"
    }
   ],
   "source": [
    "ts['1999-12':'2000-01']"
   ]
  },
  {
   "cell_type": "code",
   "execution_count": 96,
   "metadata": {},
   "outputs": [
    {
     "data": {
      "text/plain": [
       "1999-12-28     1.1\n",
       "1999-12-29     2.2\n",
       "1999-12-30     3.3\n",
       "1999-12-31    <NA>\n",
       "2000-01-01     5.5\n",
       "2000-01-02     6.6\n",
       "2000-01-03     7.7\n",
       "Freq: D, dtype: object"
      ]
     },
     "execution_count": 96,
     "metadata": {},
     "output_type": "execute_result"
    }
   ],
   "source": [
    "ts['1999-12':'2000-01-03']"
   ]
  },
  {
   "cell_type": "code",
   "execution_count": 97,
   "metadata": {},
   "outputs": [
    {
     "data": {
      "text/plain": [
       "1999-12-29     2.2\n",
       "1999-12-30     3.3\n",
       "1999-12-31    <NA>\n",
       "2000-01-01     5.5\n",
       "2000-01-02     6.6\n",
       "2000-01-03     7.7\n",
       "2000-01-04     8.8\n",
       "2000-01-05     9.9\n",
       "Freq: D, dtype: object"
      ]
     },
     "execution_count": 97,
     "metadata": {},
     "output_type": "execute_result"
    }
   ],
   "source": [
    "ts['1999-12-29':'2000']"
   ]
  },
  {
   "cell_type": "code",
   "execution_count": 103,
   "metadata": {},
   "outputs": [
    {
     "data": {
      "text/plain": [
       "1999-12-29     2.2\n",
       "1999-12-31    <NA>\n",
       "2000-01-02     6.6\n",
       "2000-01-04     8.8\n",
       "Freq: 2D, dtype: object"
      ]
     },
     "execution_count": 103,
     "metadata": {},
     "output_type": "execute_result"
    }
   ],
   "source": [
    "ts['1999-12-29':'2000':2]"
   ]
  },
  {
   "cell_type": "code",
   "execution_count": 106,
   "metadata": {},
   "outputs": [
    {
     "data": {
      "text/plain": [
       "2000-01-05     9.9\n",
       "2000-01-04     8.8\n",
       "2000-01-03     7.7\n",
       "2000-01-02     6.6\n",
       "2000-01-01     5.5\n",
       "1999-12-31    <NA>\n",
       "1999-12-30     3.3\n",
       "1999-12-29     2.2\n",
       "Freq: -1D, dtype: object"
      ]
     },
     "execution_count": 106,
     "metadata": {},
     "output_type": "execute_result"
    }
   ],
   "source": [
    "ts['2000':'1999-12-29':-1]"
   ]
  },
  {
   "cell_type": "code",
   "execution_count": 102,
   "metadata": {},
   "outputs": [
    {
     "data": {
      "text/plain": [
       "aaa    1.0\n",
       "bbb    2.0\n",
       "ccc    3.0\n",
       "dtype: float64"
      ]
     },
     "execution_count": 102,
     "metadata": {},
     "output_type": "execute_result"
    }
   ],
   "source": [
    "s = pd.Series(\n",
    "    data = [1.0, 2.0, 3.0, 4.0, 5.0],\n",
    "    index = ['aaa', 'bbb', 'ccc', 'ddd', 'eee'])\n",
    "\n",
    "s['a':'d']\n"
   ]
  },
  {
   "cell_type": "markdown",
   "metadata": {},
   "source": [
    "## Modyfikacja danych\n",
    "\n",
    "- Usuwanie\n",
    "- Usuwanie duplikatów\n",
    "- Resetowanie indeksu"
   ]
  },
  {
   "cell_type": "code",
   "execution_count": 126,
   "metadata": {},
   "outputs": [],
   "source": [
    "num.drop([1,4,6], inplace=True)"
   ]
  },
  {
   "cell_type": "code",
   "execution_count": 128,
   "metadata": {},
   "outputs": [
    {
     "data": {
      "text/plain": [
       "c     3.3\n",
       "d    <NA>\n",
       "e     5.5\n",
       "f     6.6\n",
       "g     7.7\n",
       "h     8.8\n",
       "i     9.9\n",
       "dtype: object"
      ]
     },
     "execution_count": 128,
     "metadata": {},
     "output_type": "execute_result"
    }
   ],
   "source": [
    "alfa.drop(['a', 'b'])"
   ]
  },
  {
   "cell_type": "code",
   "execution_count": 134,
   "metadata": {},
   "outputs": [
    {
     "data": {
      "text/plain": [
       "0     1.1\n",
       "2       0\n",
       "3    <NA>\n",
       "5       0\n",
       "7     8.8\n",
       "8     9.9\n",
       "dtype: object"
      ]
     },
     "execution_count": 134,
     "metadata": {},
     "output_type": "execute_result"
    }
   ],
   "source": [
    "num[2] = 0\n",
    "num[5] = 0\n",
    "\n",
    "num"
   ]
  },
  {
   "cell_type": "code",
   "execution_count": 142,
   "metadata": {},
   "outputs": [
    {
     "data": {
      "text/plain": [
       "a    1.1\n",
       "b    2.2\n",
       "c      0\n",
       "d      0\n",
       "e      0\n",
       "f      0\n",
       "g      0\n",
       "h    8.8\n",
       "i    9.9\n",
       "dtype: object"
      ]
     },
     "execution_count": 142,
     "metadata": {},
     "output_type": "execute_result"
    }
   ],
   "source": [
    "alfa['c':'g'] = 0.0\n",
    "\n",
    "alfa"
   ]
  },
  {
   "cell_type": "code",
   "execution_count": 136,
   "metadata": {},
   "outputs": [],
   "source": [
    "num.drop_duplicates(inplace=True)"
   ]
  },
  {
   "cell_type": "code",
   "execution_count": 139,
   "metadata": {},
   "outputs": [
    {
     "data": {
      "text/plain": [
       "0     1.1\n",
       "2       0\n",
       "3    <NA>\n",
       "7     8.8\n",
       "8     9.9\n",
       "dtype: object"
      ]
     },
     "execution_count": 139,
     "metadata": {},
     "output_type": "execute_result"
    }
   ],
   "source": [
    "num"
   ]
  },
  {
   "cell_type": "code",
   "execution_count": 140,
   "metadata": {},
   "outputs": [
    {
     "data": {
      "text/plain": [
       "0     1.1\n",
       "1       0\n",
       "2    <NA>\n",
       "3     8.8\n",
       "4     9.9\n",
       "dtype: object"
      ]
     },
     "execution_count": 140,
     "metadata": {},
     "output_type": "execute_result"
    }
   ],
   "source": [
    "num.reset_index(drop=True)"
   ]
  },
  {
   "cell_type": "markdown",
   "metadata": {},
   "source": [
    "## Wartości puste\n",
    "\n",
    "- Any\n",
    "- All\n",
    "- Czy null\n",
    "- Czy puste\n",
    "- Wypełnianie skalarne\n",
    "- Wypełnianie w przód\n",
    "- Wypełnianie w tył\n",
    "- Interpolacja\n",
    "- Usuwanie pustych wierszy (any, all)"
   ]
  },
  {
   "cell_type": "code",
   "execution_count": 144,
   "metadata": {},
   "outputs": [],
   "source": [
    "ts['1999-12-29'] = pd.NA"
   ]
  },
  {
   "cell_type": "code",
   "execution_count": 147,
   "metadata": {},
   "outputs": [],
   "source": [
    "ts['2000-01-02':'2000-01-04'] = pd.NA"
   ]
  },
  {
   "cell_type": "code",
   "execution_count": 148,
   "metadata": {},
   "outputs": [
    {
     "data": {
      "text/plain": [
       "1999-12-28     1.1\n",
       "1999-12-29    <NA>\n",
       "1999-12-30     3.3\n",
       "1999-12-31    <NA>\n",
       "2000-01-01     5.5\n",
       "2000-01-02    <NA>\n",
       "2000-01-03    <NA>\n",
       "2000-01-04    <NA>\n",
       "2000-01-05     9.9\n",
       "Freq: D, dtype: object"
      ]
     },
     "execution_count": 148,
     "metadata": {},
     "output_type": "execute_result"
    }
   ],
   "source": [
    "ts"
   ]
  },
  {
   "cell_type": "code",
   "execution_count": 153,
   "metadata": {},
   "outputs": [],
   "source": [
    "ts.any?"
   ]
  },
  {
   "cell_type": "code",
   "execution_count": 150,
   "metadata": {},
   "outputs": [
    {
     "data": {
      "text/plain": [
       "9.9"
      ]
     },
     "execution_count": 150,
     "metadata": {},
     "output_type": "execute_result"
    }
   ],
   "source": [
    "ts.all()"
   ]
  },
  {
   "cell_type": "code",
   "execution_count": 152,
   "metadata": {},
   "outputs": [
    {
     "data": {
      "text/plain": [
       "1999-12-28    False\n",
       "1999-12-29     True\n",
       "1999-12-30    False\n",
       "1999-12-31     True\n",
       "2000-01-01    False\n",
       "2000-01-02     True\n",
       "2000-01-03     True\n",
       "2000-01-04     True\n",
       "2000-01-05    False\n",
       "Freq: D, dtype: bool"
      ]
     },
     "execution_count": 152,
     "metadata": {},
     "output_type": "execute_result"
    }
   ],
   "source": [
    "ts.isna()"
   ]
  },
  {
   "cell_type": "code",
   "execution_count": 154,
   "metadata": {},
   "outputs": [
    {
     "data": {
      "text/plain": [
       "1999-12-28    1.1\n",
       "1999-12-29    0.0\n",
       "1999-12-30    3.3\n",
       "1999-12-31    0.0\n",
       "2000-01-01    5.5\n",
       "2000-01-02    0.0\n",
       "2000-01-03    0.0\n",
       "2000-01-04    0.0\n",
       "2000-01-05    9.9\n",
       "Freq: D, dtype: float64"
      ]
     },
     "execution_count": 154,
     "metadata": {},
     "output_type": "execute_result"
    }
   ],
   "source": [
    "ts.fillna(0)"
   ]
  },
  {
   "cell_type": "code",
   "execution_count": 156,
   "metadata": {},
   "outputs": [
    {
     "data": {
      "text/plain": [
       "1999-12-28     1.1\n",
       "1999-12-29    <NA>\n",
       "1999-12-30     3.3\n",
       "1999-12-31    <NA>\n",
       "2000-01-01     5.5\n",
       "2000-01-02    <NA>\n",
       "2000-01-03    <NA>\n",
       "2000-01-04    <NA>\n",
       "2000-01-05     9.9\n",
       "Freq: D, dtype: object"
      ]
     },
     "execution_count": 156,
     "metadata": {},
     "output_type": "execute_result"
    }
   ],
   "source": [
    "ts"
   ]
  },
  {
   "cell_type": "code",
   "execution_count": 157,
   "metadata": {},
   "outputs": [
    {
     "data": {
      "text/plain": [
       "1999-12-28    1.1\n",
       "1999-12-29    1.1\n",
       "1999-12-30    3.3\n",
       "1999-12-31    3.3\n",
       "2000-01-01    5.5\n",
       "2000-01-02    5.5\n",
       "2000-01-03    5.5\n",
       "2000-01-04    5.5\n",
       "2000-01-05    9.9\n",
       "Freq: D, dtype: float64"
      ]
     },
     "execution_count": 157,
     "metadata": {},
     "output_type": "execute_result"
    }
   ],
   "source": [
    "ts.ffill()"
   ]
  },
  {
   "cell_type": "code",
   "execution_count": 158,
   "metadata": {},
   "outputs": [
    {
     "data": {
      "text/plain": [
       "1999-12-28    1.1\n",
       "1999-12-29    3.3\n",
       "1999-12-30    3.3\n",
       "1999-12-31    5.5\n",
       "2000-01-01    5.5\n",
       "2000-01-02    9.9\n",
       "2000-01-03    9.9\n",
       "2000-01-04    9.9\n",
       "2000-01-05    9.9\n",
       "Freq: D, dtype: float64"
      ]
     },
     "execution_count": 158,
     "metadata": {},
     "output_type": "execute_result"
    }
   ],
   "source": [
    "ts.bfill()"
   ]
  },
  {
   "cell_type": "markdown",
   "metadata": {},
   "source": [
    "## Aplikowanie funkcji\n",
    "\n",
    "- map\n",
    "- apply"
   ]
  },
  {
   "cell_type": "code",
   "execution_count": 165,
   "metadata": {},
   "outputs": [
    {
     "data": {
      "text/plain": [
       "1999-12-28      1.331\n",
       "1999-12-29      0.000\n",
       "1999-12-30     35.937\n",
       "1999-12-31      0.000\n",
       "2000-01-01    166.375\n",
       "2000-01-02      0.000\n",
       "2000-01-03      0.000\n",
       "2000-01-04      0.000\n",
       "2000-01-05    970.299\n",
       "Freq: D, dtype: float64"
      ]
     },
     "execution_count": 165,
     "metadata": {},
     "output_type": "execute_result"
    }
   ],
   "source": [
    "ts.fillna(0, inplace=True)\n",
    "\n",
    "def cube(x):\n",
    "    return x ** 3\n",
    "\n",
    "\n",
    "ts.map(lambda x: x ** 3)"
   ]
  },
  {
   "cell_type": "code",
   "execution_count": 166,
   "metadata": {},
   "outputs": [
    {
     "data": {
      "text/plain": [
       "0       Jan\n",
       "1    Łukasz\n",
       "2     Agata\n",
       "3     Łucja\n",
       "dtype: object"
      ]
     },
     "execution_count": 166,
     "metadata": {},
     "output_type": "execute_result"
    }
   ],
   "source": [
    "s = pd.Series(['Jan', 'Łukasz', 'Agata', 'Łucja'])\n",
    "s"
   ]
  },
  {
   "cell_type": "code",
   "execution_count": 177,
   "metadata": {},
   "outputs": [
    {
     "data": {
      "text/plain": [
       "0       Jan\n",
       "1    Lukasz\n",
       "2     Agata\n",
       "3     Lucja\n",
       "dtype: object"
      ]
     },
     "execution_count": 177,
     "metadata": {},
     "output_type": "execute_result"
    }
   ],
   "source": [
    "PL = {'ą': 'a', 'ć': 'c', 'ę': 'e',\n",
    "      'ł': 'l', 'ń': 'n', 'ó': 'o',\n",
    "      'ś': 's', 'ż': 'z', 'ź': 'z'}\n",
    "\n",
    "\n",
    "def removepl(text):\n",
    "    return ''.join(PL.get(x,x) for x in text.lower()).capitalize()\n",
    "\n",
    "\n",
    "s.map(lambda name: ''.join(PL.get(x,x) for x in name.lower()).capitalize())"
   ]
  },
  {
   "cell_type": "code",
   "execution_count": 179,
   "metadata": {},
   "outputs": [
    {
     "data": {
      "text/plain": [
       "0       Jan\n",
       "1    Lukasz\n",
       "2     Agata\n",
       "3     Lucja\n",
       "dtype: object"
      ]
     },
     "execution_count": 179,
     "metadata": {},
     "output_type": "execute_result"
    }
   ],
   "source": [
    "s.apply(lambda name: ''.join(PL.get(x,x) for x in name.lower()).capitalize())"
   ]
  },
  {
   "cell_type": "code",
   "execution_count": 181,
   "metadata": {},
   "outputs": [],
   "source": [
    "s.map?"
   ]
  },
  {
   "cell_type": "code",
   "execution_count": 182,
   "metadata": {},
   "outputs": [],
   "source": [
    "s.apply?"
   ]
  },
  {
   "cell_type": "code",
   "execution_count": null,
   "metadata": {},
   "outputs": [],
   "source": [
    "# https://python.astrotech.io/_images/pd-mapping.png"
   ]
  }
 ],
 "metadata": {
  "kernelspec": {
   "display_name": "Python 3",
   "language": "python",
   "name": "python3"
  },
  "language_info": {
   "codemirror_mode": {
    "name": "ipython",
    "version": 3
   },
   "file_extension": ".py",
   "mimetype": "text/x-python",
   "name": "python",
   "nbconvert_exporter": "python",
   "pygments_lexer": "ipython3",
   "version": "3.8.3"
  }
 },
 "nbformat": 4,
 "nbformat_minor": 4
}
