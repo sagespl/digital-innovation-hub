{
 "cells": [
  {
   "cell_type": "markdown",
   "id": "after-reset",
   "metadata": {
    "slideshow": {
     "slide_type": "slide"
    }
   },
   "source": [
    "# Klasyfikacja"
   ]
  },
  {
   "cell_type": "markdown",
   "id": "falling-douglas",
   "metadata": {
    "slideshow": {
     "slide_type": "slide"
    }
   },
   "source": [
    "## Analiza wydźwięku"
   ]
  },
  {
   "cell_type": "markdown",
   "id": "unusual-reconstruction",
   "metadata": {
    "slideshow": {
     "slide_type": "fragment"
    }
   },
   "source": [
    "- regresja\n",
    "- klasyfikacja\n",
    "- podejście słownikowe"
   ]
  },
  {
   "cell_type": "markdown",
   "id": "described-ideal",
   "metadata": {
    "slideshow": {
     "slide_type": "slide"
    }
   },
   "source": [
    "## Dane"
   ]
  },
  {
   "cell_type": "markdown",
   "id": "hourly-footage",
   "metadata": {
    "slideshow": {
     "slide_type": "fragment"
    }
   },
   "source": [
    "```\n",
    "wget https://klejbenchmark.com/static/data/klej_polemo2.0-in.zip\n",
    "unzip klej_polemo2.0-in.zip -d klej_polemo2.0-in\n",
    "```"
   ]
  },
  {
   "cell_type": "code",
   "execution_count": 1,
   "id": "becoming-certificate",
   "metadata": {
    "slideshow": {
     "slide_type": "slide"
    }
   },
   "outputs": [],
   "source": [
    "from collections import Counter\n",
    "import pandas as pd\n",
    "import spacy\n",
    "\n",
    "nlp = spacy.load(\"pl_core_news_md\")"
   ]
  },
  {
   "cell_type": "code",
   "execution_count": 6,
   "id": "controlled-prevention",
   "metadata": {
    "slideshow": {
     "slide_type": "fragment"
    }
   },
   "outputs": [],
   "source": [
    "df_train = pd.read_csv(\"klej_polemo2.0-in/train.tsv\", sep=\"\\t\")\n",
    "df_test = pd.read_csv(\"klej_polemo2.0-in/dev.tsv\", sep=\"\\t\")"
   ]
  },
  {
   "cell_type": "code",
   "execution_count": 7,
   "id": "public-spell",
   "metadata": {
    "slideshow": {
     "slide_type": "fragment"
    }
   },
   "outputs": [
    {
     "data": {
      "text/html": [
       "<div>\n",
       "<style scoped>\n",
       "    .dataframe tbody tr th:only-of-type {\n",
       "        vertical-align: middle;\n",
       "    }\n",
       "\n",
       "    .dataframe tbody tr th {\n",
       "        vertical-align: top;\n",
       "    }\n",
       "\n",
       "    .dataframe thead th {\n",
       "        text-align: right;\n",
       "    }\n",
       "</style>\n",
       "<table border=\"1\" class=\"dataframe\">\n",
       "  <thead>\n",
       "    <tr style=\"text-align: right;\">\n",
       "      <th></th>\n",
       "      <th>sentence</th>\n",
       "      <th>target</th>\n",
       "    </tr>\n",
       "  </thead>\n",
       "  <tbody>\n",
       "    <tr>\n",
       "      <th>0</th>\n",
       "      <td>Super lekarz i człowiek przez duże C . Bardzo ...</td>\n",
       "      <td>__label__meta_plus_m</td>\n",
       "    </tr>\n",
       "    <tr>\n",
       "      <th>1</th>\n",
       "      <td>Bardzo olewcze podejscie do pacjenta . Przypro...</td>\n",
       "      <td>__label__meta_minus_m</td>\n",
       "    </tr>\n",
       "    <tr>\n",
       "      <th>2</th>\n",
       "      <td>Lekarz zalecił mi kurację alternatywną do doty...</td>\n",
       "      <td>__label__meta_amb</td>\n",
       "    </tr>\n",
       "    <tr>\n",
       "      <th>3</th>\n",
       "      <td>Konsumenci oczywiście kierują się ceną . Te l...</td>\n",
       "      <td>__label__meta_zero</td>\n",
       "    </tr>\n",
       "    <tr>\n",
       "      <th>4</th>\n",
       "      <td>Pani Doktor Iwona jest profesjonalistką w każd...</td>\n",
       "      <td>__label__meta_plus_m</td>\n",
       "    </tr>\n",
       "  </tbody>\n",
       "</table>\n",
       "</div>"
      ],
      "text/plain": [
       "                                            sentence                 target\n",
       "0  Super lekarz i człowiek przez duże C . Bardzo ...   __label__meta_plus_m\n",
       "1  Bardzo olewcze podejscie do pacjenta . Przypro...  __label__meta_minus_m\n",
       "2  Lekarz zalecił mi kurację alternatywną do doty...      __label__meta_amb\n",
       "3   Konsumenci oczywiście kierują się ceną . Te l...     __label__meta_zero\n",
       "4  Pani Doktor Iwona jest profesjonalistką w każd...   __label__meta_plus_m"
      ]
     },
     "execution_count": 7,
     "metadata": {},
     "output_type": "execute_result"
    }
   ],
   "source": [
    "df_train.head()"
   ]
  },
  {
   "cell_type": "code",
   "execution_count": 8,
   "id": "medical-climb",
   "metadata": {
    "slideshow": {
     "slide_type": "fragment"
    }
   },
   "outputs": [],
   "source": [
    "train_corpus = df_train[\"sentence\"].tolist()\n",
    "train_labels = df_train[\"target\"].tolist()"
   ]
  },
  {
   "cell_type": "code",
   "execution_count": 9,
   "id": "fantastic-criterion",
   "metadata": {
    "slideshow": {
     "slide_type": "fragment"
    }
   },
   "outputs": [],
   "source": [
    "test_corpus = df_test[\"sentence\"].tolist()\n",
    "test_labels = df_test[\"target\"].tolist()"
   ]
  },
  {
   "cell_type": "code",
   "execution_count": 10,
   "id": "mobile-nashville",
   "metadata": {
    "slideshow": {
     "slide_type": "fragment"
    }
   },
   "outputs": [
    {
     "data": {
      "text/plain": [
       "(5744, 723)"
      ]
     },
     "execution_count": 10,
     "metadata": {},
     "output_type": "execute_result"
    }
   ],
   "source": [
    "len(train_corpus), len(test_corpus)"
   ]
  },
  {
   "cell_type": "code",
   "execution_count": 11,
   "id": "plastic-identity",
   "metadata": {
    "slideshow": {
     "slide_type": "slide"
    }
   },
   "outputs": [
    {
     "data": {
      "text/plain": [
       "Counter({'__label__meta_plus_m': 1553,\n",
       "         '__label__meta_minus_m': 2184,\n",
       "         '__label__meta_amb': 1045,\n",
       "         '__label__meta_zero': 962})"
      ]
     },
     "execution_count": 11,
     "metadata": {},
     "output_type": "execute_result"
    }
   ],
   "source": [
    "Counter(train_labels)"
   ]
  },
  {
   "cell_type": "code",
   "execution_count": 12,
   "id": "psychological-environment",
   "metadata": {
    "slideshow": {
     "slide_type": "fragment"
    }
   },
   "outputs": [
    {
     "data": {
      "text/plain": [
       "Counter({'__label__meta_minus_m': 271,\n",
       "         '__label__meta_plus_m': 209,\n",
       "         '__label__meta_zero': 127,\n",
       "         '__label__meta_amb': 116})"
      ]
     },
     "execution_count": 12,
     "metadata": {},
     "output_type": "execute_result"
    }
   ],
   "source": [
    "Counter(test_labels)"
   ]
  },
  {
   "cell_type": "code",
   "execution_count": 13,
   "id": "elegant-planning",
   "metadata": {
    "slideshow": {
     "slide_type": "fragment"
    }
   },
   "outputs": [],
   "source": [
    "mapping = {\"__label__meta_minus_m\": 0, \n",
    "           \"__label__meta_zero\": 1, \n",
    "           \"__label__meta_amb\": 1, \n",
    "           \"__label__meta_plus_m\": 2}"
   ]
  },
  {
   "cell_type": "code",
   "execution_count": 14,
   "id": "affecting-platinum",
   "metadata": {
    "slideshow": {
     "slide_type": "fragment"
    }
   },
   "outputs": [],
   "source": [
    "train_labels = [mapping[label] for label in train_labels]\n",
    "test_labels = [mapping[label] for label in test_labels]"
   ]
  },
  {
   "cell_type": "code",
   "execution_count": 5,
   "id": "residential-population",
   "metadata": {
    "slideshow": {
     "slide_type": "slide"
    }
   },
   "outputs": [],
   "source": [
    "doc_train_corpus = list(nlp.pipe(train_corpus, disable=[\"ner\"]))\n",
    "doc_test_corpus = list(nlp.pipe(test_corpus, disable=[\"ner\"]))"
   ]
  },
  {
   "cell_type": "code",
   "execution_count": 15,
   "id": "nearby-voluntary",
   "metadata": {
    "slideshow": {
     "slide_type": "fragment"
    }
   },
   "outputs": [],
   "source": [
    "norm_train_corpus = [[token.lemma_.lower() for token in doc if token.is_alpha and not token.is_stop] \n",
    "                     for doc in doc_train_corpus]\n",
    "norm_test_corpus = [[token.lemma_.lower() for token in doc if token.is_alpha and not token.is_stop] \n",
    "                    for doc in doc_test_corpus]"
   ]
  },
  {
   "cell_type": "markdown",
   "id": "chinese-representation",
   "metadata": {
    "slideshow": {
     "slide_type": "skip"
    }
   },
   "source": [
    "\n"
   ]
  }
 ],
 "metadata": {
  "celltoolbar": "Slideshow",
  "kernelspec": {
   "display_name": "Python 3",
   "language": "python",
   "name": "python3"
  },
  "language_info": {
   "codemirror_mode": {
    "name": "ipython",
    "version": 3
   },
   "file_extension": ".py",
   "mimetype": "text/x-python",
   "name": "python",
   "nbconvert_exporter": "python",
   "pygments_lexer": "ipython3",
   "version": "3.8.5"
  }
 },
 "nbformat": 4,
 "nbformat_minor": 5
}
