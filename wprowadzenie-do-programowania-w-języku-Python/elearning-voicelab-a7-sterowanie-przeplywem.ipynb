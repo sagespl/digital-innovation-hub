{
 "cells": [
  {
   "cell_type": "markdown",
   "id": "plain-handbook",
   "metadata": {},
   "source": [
    "# Instrukcje warunkowe"
   ]
  },
  {
   "cell_type": "markdown",
   "id": "thousand-sunday",
   "metadata": {},
   "source": [
    "- wartości True i False\n",
    "- if\n",
    "- else\n",
    "- elif\n",
    "- conditional expression\n",
    "- and, or\n",
    "- not\n",
    "- is, is not\n",
    "- in, not in"
   ]
  },
  {
   "cell_type": "code",
   "execution_count": 47,
   "id": "bibliographic-occupation",
   "metadata": {},
   "outputs": [
    {
     "data": {
      "text/plain": [
       "True"
      ]
     },
     "execution_count": 47,
     "metadata": {},
     "output_type": "execute_result"
    }
   ],
   "source": [
    "0\n",
    "0.0\n",
    "False\n",
    "None\n",
    "''\n",
    "[]\n",
    "()\n",
    "set()\n",
    "{}"
   ]
  },
  {
   "cell_type": "code",
   "execution_count": 52,
   "id": "amber-surprise",
   "metadata": {},
   "outputs": [
    {
     "data": {
      "text/plain": [
       "True"
      ]
     },
     "execution_count": 52,
     "metadata": {},
     "output_type": "execute_result"
    }
   ],
   "source": [
    "bool('\\')"
   ]
  },
  {
   "cell_type": "code",
   "execution_count": 26,
   "id": "equipped-archive",
   "metadata": {},
   "outputs": [
    {
     "name": "stdin",
     "output_type": "stream",
     "text": [
      "Podaj ciśnienie [sys/dia]:  200/150\n"
     ]
    },
    {
     "name": "stdout",
     "output_type": "stream",
     "text": [
      "Hypertensive Crisis\n"
     ]
    }
   ],
   "source": [
    "blood_pressure = input('Podaj ciśnienie [sys/dia]: ')  # 120/80\n",
    "sys, dia = blood_pressure.split('/')\n",
    "sys = int(sys)\n",
    "dia = int(dia)\n",
    "\n",
    "\n",
    "\"\"\" https://python.astrotech.io/basics/control-flow/expressions.html\n",
    "\n",
    "| Blood Pressure Category | Systolic [mm Hg] | Operator | Diastolic [mm Hg] |\n",
    "|-------------------------|------------------|----------|-------------------|\n",
    "| Normal                  | Less than 120    | and      | Less than 80      |\n",
    "| Elevated                | 120-129          | and      | Less than 80      |\n",
    "| Hypertension stage 1    | 130-139          | or       | 80-89             |\n",
    "| Hypertension stage 2    | 140 or higher    | or       | 90 or higher      |\n",
    "| Hypertensive Crisis     | Higher than 180  | and/or   | Higher than 120   |\n",
    "\"\"\"\n",
    "\n",
    "\n",
    "# if sys < 120 and dia < 80:\n",
    "#     print('Normal')\n",
    "# elif 120 <= sys <= 129 and dia < 80:\n",
    "#     print('Elevated')\n",
    "# elif 130 <= sys <= 139 or 80 <= dia <= 89:\n",
    "#     print('Hypertension stage 1')\n",
    "# elif 140 <= sys or 90 <= dia:\n",
    "#     print('Hypertension stage 2')\n",
    "\n",
    "# if 180 <= sys or 120 <= dia:\n",
    "#     print('Hypertensive Crisis')\n",
    "    \n",
    "\n",
    "### \n",
    "    \n",
    "    \n",
    "if 180 <= sys or 120 <= dia:\n",
    "    print('Hypertensive Crisis')\n",
    "elif 140 <= sys or 90 <= dia:\n",
    "    print('Hypertension stage 2')\n",
    "elif 130 <= sys <= 139 or 80 <= dia <= 89:\n",
    "    print('Hypertension stage 1')\n",
    "elif 120 <= sys <= 129 and dia < 80:\n",
    "    print('Elevated')\n",
    "elif sys < 120 and dia < 80:\n",
    "    print('Normal')\n"
   ]
  },
  {
   "cell_type": "code",
   "execution_count": 32,
   "id": "objective-concentration",
   "metadata": {},
   "outputs": [
    {
     "name": "stderr",
     "output_type": "stream",
     "text": [
      "<>:3: SyntaxWarning: \"is\" with a literal. Did you mean \"==\"?\n",
      "<>:3: SyntaxWarning: \"is\" with a literal. Did you mean \"==\"?\n",
      "<ipython-input-32-1c6d0910b3a3>:3: SyntaxWarning: \"is\" with a literal. Did you mean \"==\"?\n",
      "  name is 'Jan'\n"
     ]
    },
    {
     "data": {
      "text/plain": [
       "True"
      ]
     },
     "execution_count": 32,
     "metadata": {},
     "output_type": "execute_result"
    }
   ],
   "source": [
    "name = 'Jan'   # przyrównianie\n",
    "name == 'Jan'  # porównianie\n",
    "name is 'Jan'"
   ]
  },
  {
   "cell_type": "code",
   "execution_count": 30,
   "id": "ideal-completion",
   "metadata": {},
   "outputs": [
    {
     "data": {
      "text/plain": [
       "True"
      ]
     },
     "execution_count": 30,
     "metadata": {},
     "output_type": "execute_result"
    }
   ],
   "source": [
    "age = None\n",
    "age is None"
   ]
  },
  {
   "cell_type": "code",
   "execution_count": 31,
   "id": "understood-presence",
   "metadata": {},
   "outputs": [
    {
     "data": {
      "text/plain": [
       "True"
      ]
     },
     "execution_count": 31,
     "metadata": {},
     "output_type": "execute_result"
    }
   ],
   "source": [
    "age == None"
   ]
  },
  {
   "cell_type": "code",
   "execution_count": 35,
   "id": "secondary-atmosphere",
   "metadata": {},
   "outputs": [
    {
     "data": {
      "text/plain": [
       "False"
      ]
     },
     "execution_count": 35,
     "metadata": {},
     "output_type": "execute_result"
    }
   ],
   "source": [
    "age is not None"
   ]
  },
  {
   "cell_type": "code",
   "execution_count": 37,
   "id": "private-azerbaijan",
   "metadata": {},
   "outputs": [
    {
     "data": {
      "text/plain": [
       "False"
      ]
     },
     "execution_count": 37,
     "metadata": {},
     "output_type": "execute_result"
    }
   ],
   "source": [
    "not 10 > 2"
   ]
  },
  {
   "cell_type": "code",
   "execution_count": 40,
   "id": "guided-toddler",
   "metadata": {},
   "outputs": [],
   "source": [
    "number = 3\n",
    "data = [1,2,3,4]"
   ]
  },
  {
   "cell_type": "code",
   "execution_count": 42,
   "id": "anonymous-reliance",
   "metadata": {},
   "outputs": [
    {
     "data": {
      "text/plain": [
       "False"
      ]
     },
     "execution_count": 42,
     "metadata": {},
     "output_type": "execute_result"
    }
   ],
   "source": [
    "number not in data"
   ]
  },
  {
   "cell_type": "code",
   "execution_count": 14,
   "id": "inside-journalist",
   "metadata": {},
   "outputs": [
    {
     "name": "stdin",
     "output_type": "stream",
     "text": [
      "Podaj wiek:  21\n"
     ]
    },
    {
     "name": "stdout",
     "output_type": "stream",
     "text": [
      "Pełnoletnia\n"
     ]
    }
   ],
   "source": [
    "age = input('Podaj wiek: ')\n",
    "age = float(age)\n",
    "\n",
    "if 0 <= age < 18:\n",
    "    print('Niepełnoletnia')\n",
    "else:\n",
    "    print('Pełnoletnia')"
   ]
  },
  {
   "cell_type": "code",
   "execution_count": 20,
   "id": "hazardous-valuable",
   "metadata": {},
   "outputs": [
    {
     "data": {
      "text/plain": [
       "True"
      ]
     },
     "execution_count": 20,
     "metadata": {},
     "output_type": "execute_result"
    }
   ],
   "source": [
    "(True and True) == True\n",
    "(False and True) == False\n",
    "(True and False) == False\n",
    "(False and False) == False"
   ]
  },
  {
   "cell_type": "code",
   "execution_count": null,
   "id": "miniature-miller",
   "metadata": {},
   "outputs": [],
   "source": [
    "(True or True) == True\n",
    "(False or True) == True\n",
    "(True or False) == True\n",
    "(False or False) == False"
   ]
  },
  {
   "cell_type": "code",
   "execution_count": null,
   "id": "cheap-transaction",
   "metadata": {},
   "outputs": [],
   "source": [
    "firstname = 'Mark'\n",
    "lastname = 'Watney'\n",
    "\n",
    "\n",
    "if firstname == 'Mark' and lastname == 'Watney':\n",
    "    print('pozostałeś sam na Marsie')\n",
    "elif (firstname == 'Melissa' and lastname == 'Lewis') \\\n",
    "        or (firstname == 'Rick' and lastname == 'Martinez') \\\n",
    "        or (firstname == 'Alex' and lastname == 'Vogel'):\n",
    "    print('Wróciła po Marka')"
   ]
  },
  {
   "cell_type": "code",
   "execution_count": 55,
   "id": "collect-providence",
   "metadata": {},
   "outputs": [
    {
     "name": "stdin",
     "output_type": "stream",
     "text": [
      "Podaj wiek:  15\n"
     ]
    },
    {
     "name": "stdout",
     "output_type": "stream",
     "text": [
      "niepełnoletni\n"
     ]
    }
   ],
   "source": [
    "age = input('Podaj wiek: ')\n",
    "age = float(age)\n",
    "\n",
    "if age < 18:\n",
    "    status = 'niepełnoletni'\n",
    "else:\n",
    "    status = 'pełnoletni'\n",
    "    \n",
    "print(status)"
   ]
  },
  {
   "cell_type": "code",
   "execution_count": 57,
   "id": "governing-marina",
   "metadata": {},
   "outputs": [
    {
     "name": "stdin",
     "output_type": "stream",
     "text": [
      "Podaj wiek:  21\n"
     ]
    },
    {
     "name": "stdout",
     "output_type": "stream",
     "text": [
      "pełnoletni\n"
     ]
    }
   ],
   "source": [
    "age = input('Podaj wiek: ')\n",
    "age = float(age)\n",
    "\n",
    "\n",
    "status = 'niepełnoletni' if age < 18 else 'pełnoletni'\n",
    "print(status)"
   ]
  },
  {
   "cell_type": "markdown",
   "id": "bibliographic-carol",
   "metadata": {},
   "source": [
    "# Wyjątki"
   ]
  },
  {
   "cell_type": "markdown",
   "id": "wooden-domain",
   "metadata": {},
   "source": [
    "- Co to są wyjątki?\n",
    "- Najpopularniejsze\n",
    "    - AttributeError\n",
    "    - ImportError, ModuleNotFoundError\n",
    "    - IndexError\n",
    "    - KeyError\n",
    "    - NameError\n",
    "    - SyntaxError\n",
    "    - IndentationError\n",
    "    - TypeError\n",
    "    - ValueError\n",
    "- Przechwytywanie jednego (try, except)\n",
    "- Przechwytywanie wielu (jedno i wiele except)\n",
    "- Asercje\n",
    "- Finally\n",
    "- Else\n",
    "- Traceback\n",
    "- Exit Status"
   ]
  },
  {
   "cell_type": "code",
   "execution_count": 58,
   "id": "through-guatemala",
   "metadata": {},
   "outputs": [
    {
     "ename": "NameError",
     "evalue": "name 'imie' is not defined",
     "output_type": "error",
     "traceback": [
      "Traceback \u001b[1;36m(most recent call last)\u001b[0m:\n",
      "\u001b[1;36m  File \u001b[1;32m\"<ipython-input-58-6c6c1d09696f>\"\u001b[1;36m, line \u001b[1;32m1\u001b[1;36m, in \u001b[1;35m<module>\u001b[1;36m\u001b[0m\n\u001b[1;33m    print(imie)\u001b[0m\n",
      "\u001b[1;31mNameError\u001b[0m\u001b[1;31m:\u001b[0m name 'imie' is not defined\n"
     ]
    }
   ],
   "source": [
    "print(imie)"
   ]
  },
  {
   "cell_type": "code",
   "execution_count": 60,
   "id": "environmental-geography",
   "metadata": {},
   "outputs": [
    {
     "ename": "AttributeError",
     "evalue": "'str' object has no attribute 'duzymi'",
     "output_type": "error",
     "traceback": [
      "Traceback \u001b[1;36m(most recent call last)\u001b[0m:\n",
      "\u001b[1;36m  File \u001b[1;32m\"<ipython-input-60-36e715c618e0>\"\u001b[1;36m, line \u001b[1;32m1\u001b[1;36m, in \u001b[1;35m<module>\u001b[1;36m\u001b[0m\n\u001b[1;33m    'mark'.duzymi()\u001b[0m\n",
      "\u001b[1;31mAttributeError\u001b[0m\u001b[1;31m:\u001b[0m 'str' object has no attribute 'duzymi'\n"
     ]
    }
   ],
   "source": [
    "'mark'.duzymi()"
   ]
  },
  {
   "cell_type": "code",
   "execution_count": 62,
   "id": "common-mechanics",
   "metadata": {},
   "outputs": [
    {
     "ename": "ModuleNotFoundError",
     "evalue": "No module named 'match'",
     "output_type": "error",
     "traceback": [
      "Traceback \u001b[1;36m(most recent call last)\u001b[0m:\n",
      "\u001b[1;36m  File \u001b[1;32m\"<ipython-input-62-69b8bd9d82b8>\"\u001b[1;36m, line \u001b[1;32m1\u001b[1;36m, in \u001b[1;35m<module>\u001b[1;36m\u001b[0m\n\u001b[1;33m    import match\u001b[0m\n",
      "\u001b[1;31mModuleNotFoundError\u001b[0m\u001b[1;31m:\u001b[0m No module named 'match'\n"
     ]
    }
   ],
   "source": [
    "import match"
   ]
  },
  {
   "cell_type": "code",
   "execution_count": 65,
   "id": "premier-portrait",
   "metadata": {},
   "outputs": [
    {
     "ename": "IndexError",
     "evalue": "list index out of range",
     "output_type": "error",
     "traceback": [
      "Traceback \u001b[1;36m(most recent call last)\u001b[0m:\n",
      "\u001b[1;36m  File \u001b[1;32m\"<ipython-input-65-388c193921ee>\"\u001b[1;36m, line \u001b[1;32m2\u001b[1;36m, in \u001b[1;35m<module>\u001b[1;36m\u001b[0m\n\u001b[1;33m    data[3]\u001b[0m\n",
      "\u001b[1;31mIndexError\u001b[0m\u001b[1;31m:\u001b[0m list index out of range\n"
     ]
    }
   ],
   "source": [
    "data = ['a', 'b', 'c']\n",
    "data[3]"
   ]
  },
  {
   "cell_type": "code",
   "execution_count": 68,
   "id": "complicated-mainstream",
   "metadata": {},
   "outputs": [
    {
     "ename": "KeyError",
     "evalue": "'c'",
     "output_type": "error",
     "traceback": [
      "Traceback \u001b[1;36m(most recent call last)\u001b[0m:\n",
      "\u001b[1;36m  File \u001b[1;32m\"<ipython-input-68-9a797f9254cd>\"\u001b[1;36m, line \u001b[1;32m2\u001b[1;36m, in \u001b[1;35m<module>\u001b[1;36m\u001b[0m\n\u001b[1;33m    data['c']\u001b[0m\n",
      "\u001b[1;31mKeyError\u001b[0m\u001b[1;31m:\u001b[0m 'c'\n"
     ]
    }
   ],
   "source": [
    "data = {'a': 1, 'b': 2}\n",
    "data['c']"
   ]
  },
  {
   "cell_type": "code",
   "execution_count": 71,
   "id": "expired-berkeley",
   "metadata": {},
   "outputs": [
    {
     "ename": "SyntaxError",
     "evalue": "invalid syntax (<ipython-input-71-be7a6796e6f3>, line 1)",
     "output_type": "error",
     "traceback": [
      "\u001b[1;36m  File \u001b[1;32m\"<ipython-input-71-be7a6796e6f3>\"\u001b[1;36m, line \u001b[1;32m1\u001b[0m\n\u001b[1;33m    if True\u001b[0m\n\u001b[1;37m           ^\u001b[0m\n\u001b[1;31mSyntaxError\u001b[0m\u001b[1;31m:\u001b[0m invalid syntax\n"
     ]
    }
   ],
   "source": [
    "if True\n",
    "    print('ok')"
   ]
  },
  {
   "cell_type": "code",
   "execution_count": 76,
   "id": "based-document",
   "metadata": {},
   "outputs": [
    {
     "ename": "IndentationError",
     "evalue": "unindent does not match any outer indentation level (<tokenize>, line 3)",
     "output_type": "error",
     "traceback": [
      "\u001b[1;36m  File \u001b[1;32m\"<tokenize>\"\u001b[1;36m, line \u001b[1;32m3\u001b[0m\n\u001b[1;33m    print('ok')\u001b[0m\n\u001b[1;37m    ^\u001b[0m\n\u001b[1;31mIndentationError\u001b[0m\u001b[1;31m:\u001b[0m unindent does not match any outer indentation level\n"
     ]
    }
   ],
   "source": [
    "if True:\n",
    "    print('ok')\n",
    "   print('ok')\n",
    "    print('ok')\n",
    "    print('ok')"
   ]
  },
  {
   "cell_type": "code",
   "execution_count": 77,
   "id": "quantitative-smooth",
   "metadata": {},
   "outputs": [
    {
     "ename": "TypeError",
     "evalue": "can only concatenate str (not \"int\") to str",
     "output_type": "error",
     "traceback": [
      "Traceback \u001b[1;36m(most recent call last)\u001b[0m:\n",
      "\u001b[1;36m  File \u001b[1;32m\"<ipython-input-77-076d4fba1eac>\"\u001b[1;36m, line \u001b[1;32m1\u001b[1;36m, in \u001b[1;35m<module>\u001b[1;36m\u001b[0m\n\u001b[1;33m    'a' + 1\u001b[0m\n",
      "\u001b[1;31mTypeError\u001b[0m\u001b[1;31m:\u001b[0m can only concatenate str (not \"int\") to str\n"
     ]
    }
   ],
   "source": [
    "'a' + 1"
   ]
  },
  {
   "cell_type": "code",
   "execution_count": 82,
   "id": "functional-grammar",
   "metadata": {},
   "outputs": [
    {
     "ename": "ValueError",
     "evalue": "could not convert string to float: 'one'",
     "output_type": "error",
     "traceback": [
      "Traceback \u001b[1;36m(most recent call last)\u001b[0m:\n",
      "\u001b[1;36m  File \u001b[1;32m\"<ipython-input-82-3ab9978fd98e>\"\u001b[1;36m, line \u001b[1;32m1\u001b[1;36m, in \u001b[1;35m<module>\u001b[1;36m\u001b[0m\n\u001b[1;33m    float('one')\u001b[0m\n",
      "\u001b[1;31mValueError\u001b[0m\u001b[1;31m:\u001b[0m could not convert string to float: 'one'\n"
     ]
    }
   ],
   "source": [
    "float('one')"
   ]
  },
  {
   "cell_type": "code",
   "execution_count": 5,
   "id": "retained-lyric",
   "metadata": {},
   "outputs": [
    {
     "name": "stdin",
     "output_type": "stream",
     "text": [
      "Podaj wiek:  'a'\n"
     ]
    },
    {
     "name": "stdout",
     "output_type": "stream",
     "text": [
      "niepoprawna wartość\n"
     ]
    }
   ],
   "source": [
    "age = input('Podaj wiek: ')\n",
    "\n",
    "try:\n",
    "    age = int(age)\n",
    "except (ValueError, TypeError, NameError):\n",
    "    print('niepoprawna wartość')\n",
    "finally:\n",
    "    ...\n",
    "else:\n",
    "    ..."
   ]
  },
  {
   "cell_type": "code",
   "execution_count": null,
   "id": "forbidden-franklin",
   "metadata": {},
   "outputs": [],
   "source": [
    "exit()  # 0\n",
    "exit(0)\n",
    "\n",
    "exit(1) -> błąd\n",
    "exit(2)\n",
    "exit(127) -> plik nieznaleziony"
   ]
  },
  {
   "cell_type": "code",
   "execution_count": 9,
   "id": "appropriate-soccer",
   "metadata": {},
   "outputs": [
    {
     "name": "stdin",
     "output_type": "stream",
     "text": [
      "Podaj wiek:  5\n"
     ]
    },
    {
     "ename": "AssertionError",
     "evalue": "niepełnoletni",
     "output_type": "error",
     "traceback": [
      "Traceback \u001b[1;36m(most recent call last)\u001b[0m:\n",
      "\u001b[1;36m  File \u001b[1;32m\"<ipython-input-9-9ff57735e014>\"\u001b[1;36m, line \u001b[1;32m4\u001b[1;36m, in \u001b[1;35m<module>\u001b[1;36m\u001b[0m\n\u001b[1;33m    assert age > 18, 'niepełnoletni'\u001b[0m\n",
      "\u001b[1;31mAssertionError\u001b[0m\u001b[1;31m:\u001b[0m niepełnoletni\n"
     ]
    }
   ],
   "source": [
    "age = input('Podaj wiek: ')\n",
    "age = float(age)\n",
    "\n",
    "assert age > 18, 'niepełnoletni'\n",
    "\n",
    "print('jestem tu')"
   ]
  },
  {
   "cell_type": "code",
   "execution_count": 21,
   "id": "literary-theater",
   "metadata": {},
   "outputs": [
    {
     "name": "stdin",
     "output_type": "stream",
     "text": [
      "Podaj temperaturę w Kelvinach:  a\n"
     ]
    },
    {
     "name": "stdout",
     "output_type": "stream",
     "text": [
      "błędna wartość\n"
     ]
    }
   ],
   "source": [
    "temp = input('Podaj temperaturę w Kelvinach: ')\n",
    "\n",
    "try:\n",
    "    temp = float(temp)\n",
    "except ValueError:\n",
    "    print('błędna wartość')\n",
    "else:\n",
    "    if temp < 0.0:\n",
    "        raise ValueError('Nie ma ujemnych Kelvinów')\n",
    "\n",
    "    print(temp)"
   ]
  },
  {
   "cell_type": "code",
   "execution_count": 25,
   "id": "reliable-bullet",
   "metadata": {},
   "outputs": [
    {
     "ename": "TypeError",
     "evalue": "can only concatenate str (not \"int\") to str",
     "output_type": "error",
     "traceback": [
      "Traceback \u001b[1;36m(most recent call last)\u001b[0m:\n",
      "  File \u001b[0;32m\"<ipython-input-25-b850ecd2291a>\"\u001b[0m, line \u001b[0;32m5\u001b[0m, in \u001b[0;35m<module>\u001b[0m\n    add('a', 2)\n",
      "\u001b[1;36m  File \u001b[1;32m\"<ipython-input-25-b850ecd2291a>\"\u001b[1;36m, line \u001b[1;32m2\u001b[1;36m, in \u001b[1;35madd\u001b[1;36m\u001b[0m\n\u001b[1;33m    return a + b\u001b[0m\n",
      "\u001b[1;31mTypeError\u001b[0m\u001b[1;31m:\u001b[0m can only concatenate str (not \"int\") to str\n"
     ]
    }
   ],
   "source": [
    "def add(a, b):\n",
    "    return a + b\n",
    "\n",
    "\n",
    "add('a', 2)"
   ]
  },
  {
   "cell_type": "code",
   "execution_count": null,
   "id": "dutch-spare",
   "metadata": {},
   "outputs": [],
   "source": []
  }
 ],
 "metadata": {
  "kernelspec": {
   "display_name": "Python 3",
   "language": "python",
   "name": "python3"
  },
  "language_info": {
   "codemirror_mode": {
    "name": "ipython",
    "version": 3
   },
   "file_extension": ".py",
   "mimetype": "text/x-python",
   "name": "python",
   "nbconvert_exporter": "python",
   "pygments_lexer": "ipython3",
   "version": "3.9.1"
  }
 },
 "nbformat": 4,
 "nbformat_minor": 5
}
