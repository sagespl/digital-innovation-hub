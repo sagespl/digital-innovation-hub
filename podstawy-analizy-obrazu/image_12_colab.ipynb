{
 "cells": [
  {
   "cell_type": "markdown",
   "id": "super-giant",
   "metadata": {
    "id": "super-giant"
   },
   "source": [
    "# GPU"
   ]
  },
  {
   "cell_type": "code",
   "execution_count": 1,
   "id": "marine-boards",
   "metadata": {
    "id": "marine-boards"
   },
   "outputs": [],
   "source": [
    "import time\n",
    "import torch\n",
    "from torch.utils.data import DataLoader\n",
    "from torch import nn\n",
    "from torch import optim\n",
    "import torchvision\n",
    "from torchvision import transforms"
   ]
  },
  {
   "cell_type": "code",
   "execution_count": 2,
   "id": "dxBMOw1E6qsq",
   "metadata": {
    "id": "dxBMOw1E6qsq"
   },
   "outputs": [],
   "source": [
    "if torch.cuda.is_available():\n",
    "    device = \"cuda\"\n",
    "else:\n",
    "    device = \"cpu\"\n",
    "\n",
    "DEVICE = torch.device(device)"
   ]
  },
  {
   "cell_type": "code",
   "execution_count": 3,
   "id": "imzEiu048QBl",
   "metadata": {
    "colab": {
     "base_uri": "https://localhost:8080/"
    },
    "id": "imzEiu048QBl",
    "outputId": "6cd66764-198f-4477-fc13-379342da9f8f"
   },
   "outputs": [
    {
     "data": {
      "text/plain": [
       "device(type='cuda')"
      ]
     },
     "execution_count": 3,
     "metadata": {
      "tags": []
     },
     "output_type": "execute_result"
    }
   ],
   "source": [
    "DEVICE"
   ]
  },
  {
   "cell_type": "code",
   "execution_count": 4,
   "id": "shared-harassment",
   "metadata": {
    "id": "shared-harassment"
   },
   "outputs": [],
   "source": [
    "transform = transforms.Compose([\n",
    "    transforms.ToTensor(),\n",
    "    transforms.Normalize([0.5, 0.5, 0.5], [0.5, 0.5, 0.5])\n",
    "])"
   ]
  },
  {
   "cell_type": "code",
   "execution_count": 5,
   "id": "ceramic-paradise",
   "metadata": {
    "colab": {
     "base_uri": "https://localhost:8080/",
     "height": 100,
     "referenced_widgets": [
      "7b2211e770044ec5b813476095a97b5b",
      "da36483187834486b0d50544c0fdfc35",
      "06f9e44cd64b4898924ee98d6e4a83f7",
      "6bcf87d57b514620b981ed513e809b07",
      "371567991b954751a469f42ec2c5fabe",
      "3b74b0d772f74a258180e729f4c36a33",
      "b2d0a6a07d8e41e99c0e0130dd611401",
      "167ee851cf614776b0ce63b45d4a1f93"
     ]
    },
    "id": "ceramic-paradise",
    "outputId": "cfc91053-0c0c-43d7-b9cd-96d452d885fc"
   },
   "outputs": [
    {
     "name": "stdout",
     "output_type": "stream",
     "text": [
      "Downloading https://www.cs.toronto.edu/~kriz/cifar-10-python.tar.gz to ./data/cifar-10-python.tar.gz\n"
     ]
    },
    {
     "data": {
      "application/vnd.jupyter.widget-view+json": {
       "model_id": "7b2211e770044ec5b813476095a97b5b",
       "version_major": 2,
       "version_minor": 0
      },
      "text/plain": [
       "HBox(children=(FloatProgress(value=0.0, max=170498071.0), HTML(value='')))"
      ]
     },
     "metadata": {
      "tags": []
     },
     "output_type": "display_data"
    },
    {
     "name": "stdout",
     "output_type": "stream",
     "text": [
      "\n",
      "Extracting ./data/cifar-10-python.tar.gz to ./data\n"
     ]
    }
   ],
   "source": [
    "train_set = torchvision.datasets.CIFAR10(root='./data', train=True,\n",
    "                                         download=True, transform=transform)\n",
    "train_loader = DataLoader(train_set, batch_size=64, shuffle=True)"
   ]
  },
  {
   "cell_type": "code",
   "execution_count": 6,
   "id": "emerging-territory",
   "metadata": {
    "colab": {
     "base_uri": "https://localhost:8080/"
    },
    "id": "emerging-territory",
    "outputId": "fe16af05-1b94-451e-fae9-9d06727983d6"
   },
   "outputs": [
    {
     "name": "stdout",
     "output_type": "stream",
     "text": [
      "Files already downloaded and verified\n"
     ]
    }
   ],
   "source": [
    "test_set = torchvision.datasets.CIFAR10(root='./data', train=False,\n",
    "                                        download=True, transform=transform)\n",
    "test_loader = DataLoader(test_set, batch_size=64, shuffle=False)"
   ]
  },
  {
   "cell_type": "markdown",
   "id": "surgical-platform",
   "metadata": {
    "id": "surgical-platform"
   },
   "source": [
    "## Sieć konwolucyjna"
   ]
  },
  {
   "cell_type": "code",
   "execution_count": 7,
   "id": "alike-benefit",
   "metadata": {
    "id": "alike-benefit"
   },
   "outputs": [],
   "source": [
    "class ConvNet(nn.Module):\n",
    "    def __init__(self):\n",
    "        super().__init__()\n",
    "        self.conv1 = nn.Conv2d(3, 32, kernel_size=3, padding=1)\n",
    "        self.act1 = nn.Tanh()\n",
    "        self.pool1 = nn.MaxPool2d(2)\n",
    "        self.conv2 = nn.Conv2d(32, 16, kernel_size=3, padding=1)\n",
    "        self.act2 = nn.Tanh()\n",
    "        self.pool2 = nn.MaxPool2d(2)\n",
    "        self.fc1 = nn.Linear(16 * 8 * 8, 128)\n",
    "        self.act3 = nn.Tanh()\n",
    "        self.fc2 = nn.Linear(128, 10)\n",
    "\n",
    "    \n",
    "    def forward(self, x):\n",
    "        out = self.pool1(self.act1(self.conv1(x)))\n",
    "        out = self.pool2(self.act2(self.conv2(out)))\n",
    "        out = out.reshape(-1, 16 * 8 * 8)\n",
    "        out = self.act3(self.fc1(out))\n",
    "        out = self.fc2(out)\n",
    "        return out"
   ]
  },
  {
   "cell_type": "code",
   "execution_count": 8,
   "id": "included-winter",
   "metadata": {
    "id": "included-winter"
   },
   "outputs": [],
   "source": [
    "def training_loop(n_epochs, optimizer, model, criterion, train_loader):\n",
    "    start = time.time()\n",
    "    for epoch in range(n_epochs):\n",
    "        losses = []\n",
    "        \n",
    "        for imgs, labels in train_loader:\n",
    "            imgs = imgs.to(DEVICE)\n",
    "            labels = labels.to(DEVICE)\n",
    "            outputs = model(imgs)\n",
    "            loss = criterion(outputs, labels)\n",
    "            \n",
    "            losses.append(loss.item())\n",
    "            \n",
    "            optimizer.zero_grad()\n",
    "            loss.backward()\n",
    "            optimizer.step()\n",
    "        \n",
    "        if epoch % 10 == 0:\n",
    "            print(f\"Epoch: {epoch}; loss: {sum(losses)/len(losses)}\")\n",
    "    end = time.time()\n",
    "    print(f\"Czas: {round(end - start)} s\")"
   ]
  },
  {
   "cell_type": "code",
   "execution_count": 9,
   "id": "affiliated-inquiry",
   "metadata": {
    "id": "affiliated-inquiry"
   },
   "outputs": [],
   "source": [
    "learning_rate = 0.001\n",
    "n_epochs = 150"
   ]
  },
  {
   "cell_type": "code",
   "execution_count": 10,
   "id": "electronic-double",
   "metadata": {
    "id": "electronic-double"
   },
   "outputs": [],
   "source": [
    "model = ConvNet().to(DEVICE)\n",
    "optimizer = optim.SGD(model.parameters(), lr=learning_rate)\n",
    "criterion = nn.CrossEntropyLoss()"
   ]
  },
  {
   "cell_type": "code",
   "execution_count": 11,
   "id": "blocked-dealing",
   "metadata": {
    "colab": {
     "base_uri": "https://localhost:8080/"
    },
    "id": "blocked-dealing",
    "outputId": "d1069e1c-b7c3-458d-a9b0-4f219ea7eaed",
    "scrolled": true
   },
   "outputs": [
    {
     "name": "stdout",
     "output_type": "stream",
     "text": [
      "Epoch: 0; loss: 2.2848520196612228\n",
      "Epoch: 10; loss: 1.7692459887250915\n",
      "Epoch: 20; loss: 1.5803487226176445\n",
      "Epoch: 30; loss: 1.477790367115489\n",
      "Epoch: 40; loss: 1.4035366534272118\n",
      "Epoch: 50; loss: 1.332455146038319\n",
      "Epoch: 60; loss: 1.267674306850604\n",
      "Epoch: 70; loss: 1.2125169990770042\n",
      "Epoch: 80; loss: 1.1644607158877966\n",
      "Epoch: 90; loss: 1.1225203372480925\n",
      "Epoch: 100; loss: 1.0856249242487466\n",
      "Epoch: 110; loss: 1.0530244705774594\n",
      "Epoch: 120; loss: 1.0246431932729834\n",
      "Epoch: 130; loss: 0.9987449555293374\n",
      "Epoch: 140; loss: 0.9739822141654656\n",
      "Czas: 1337 s\n"
     ]
    }
   ],
   "source": [
    "training_loop(n_epochs=n_epochs, optimizer=optimizer, model=model, \n",
    "              criterion=criterion, train_loader=train_loader)"
   ]
  },
  {
   "cell_type": "code",
   "execution_count": 12,
   "id": "heavy-possibility",
   "metadata": {
    "id": "heavy-possibility"
   },
   "outputs": [],
   "source": [
    "def get_accuracy(model, data_loader):\n",
    "    correct = 0\n",
    "    total = 0\n",
    "\n",
    "    with torch.no_grad():\n",
    "        for xs, ys in data_loader:\n",
    "            xs = xs.to(DEVICE)\n",
    "            ys = ys.to(DEVICE)\n",
    "            scores = model(xs)\n",
    "            _, predictions = torch.max(scores, dim=1)\n",
    "            correct += (predictions == ys).sum()\n",
    "            total += ys.shape[0]\n",
    "\n",
    "        acc = float(correct) / float(total) * 100\n",
    "        print(f\"accuracy: {acc:.2f}\")"
   ]
  },
  {
   "cell_type": "code",
   "execution_count": 13,
   "id": "falling-kernel",
   "metadata": {
    "colab": {
     "base_uri": "https://localhost:8080/"
    },
    "id": "falling-kernel",
    "outputId": "37e0c741-28b8-43d6-9379-f2244e6224b1"
   },
   "outputs": [
    {
     "name": "stdout",
     "output_type": "stream",
     "text": [
      "accuracy: 67.02\n"
     ]
    }
   ],
   "source": [
    "get_accuracy(model, train_loader)"
   ]
  },
  {
   "cell_type": "code",
   "execution_count": 14,
   "id": "critical-mineral",
   "metadata": {
    "colab": {
     "base_uri": "https://localhost:8080/"
    },
    "id": "critical-mineral",
    "outputId": "3d2a8a8f-c6be-4457-c128-a2495a7ecf61"
   },
   "outputs": [
    {
     "name": "stdout",
     "output_type": "stream",
     "text": [
      "accuracy: 64.46\n"
     ]
    }
   ],
   "source": [
    "get_accuracy(model, test_loader)"
   ]
  },
  {
   "cell_type": "markdown",
   "id": "sealed-newspaper",
   "metadata": {
    "id": "sealed-newspaper"
   },
   "source": [
    "## Zapis i wczytanie modelu"
   ]
  },
  {
   "cell_type": "code",
   "execution_count": 15,
   "id": "sexual-excuse",
   "metadata": {
    "id": "sexual-excuse"
   },
   "outputs": [],
   "source": [
    "torch.save(model.state_dict(), \"cifar10_model.pt\")"
   ]
  },
  {
   "cell_type": "code",
   "execution_count": 16,
   "id": "accessible-margin",
   "metadata": {
    "colab": {
     "base_uri": "https://localhost:8080/"
    },
    "id": "accessible-margin",
    "outputId": "4d425010-9865-45a2-b588-7487bcd3cf30"
   },
   "outputs": [
    {
     "data": {
      "text/plain": [
       "<All keys matched successfully>"
      ]
     },
     "execution_count": 16,
     "metadata": {
      "tags": []
     },
     "output_type": "execute_result"
    }
   ],
   "source": [
    "loaded_model = ConvNet().to(DEVICE)\n",
    "loaded_model.load_state_dict(torch.load(\"cifar10_model.pt\"))"
   ]
  },
  {
   "cell_type": "code",
   "execution_count": null,
   "id": "jWk3vGiVZDgu",
   "metadata": {
    "id": "jWk3vGiVZDgu"
   },
   "outputs": [],
   "source": []
  }
 ],
 "metadata": {
  "accelerator": "GPU",
  "colab": {
   "name": "image_12.ipynb",
   "provenance": []
  },
  "kernelspec": {
   "display_name": "Python 3",
   "language": "python",
   "name": "python3"
  },
  "language_info": {
   "codemirror_mode": {
    "name": "ipython",
    "version": 3
   },
   "file_extension": ".py",
   "mimetype": "text/x-python",
   "name": "python",
   "nbconvert_exporter": "python",
   "pygments_lexer": "ipython3",
   "version": "3.8.8"
  },
  "widgets": {
   "application/vnd.jupyter.widget-state+json": {
    "06f9e44cd64b4898924ee98d6e4a83f7": {
     "model_module": "@jupyter-widgets/controls",
     "model_name": "FloatProgressModel",
     "state": {
      "_dom_classes": [],
      "_model_module": "@jupyter-widgets/controls",
      "_model_module_version": "1.5.0",
      "_model_name": "FloatProgressModel",
      "_view_count": null,
      "_view_module": "@jupyter-widgets/controls",
      "_view_module_version": "1.5.0",
      "_view_name": "ProgressView",
      "bar_style": "success",
      "description": "",
      "description_tooltip": null,
      "layout": "IPY_MODEL_3b74b0d772f74a258180e729f4c36a33",
      "max": 170498071,
      "min": 0,
      "orientation": "horizontal",
      "style": "IPY_MODEL_371567991b954751a469f42ec2c5fabe",
      "value": 170498071
     }
    },
    "167ee851cf614776b0ce63b45d4a1f93": {
     "model_module": "@jupyter-widgets/base",
     "model_name": "LayoutModel",
     "state": {
      "_model_module": "@jupyter-widgets/base",
      "_model_module_version": "1.2.0",
      "_model_name": "LayoutModel",
      "_view_count": null,
      "_view_module": "@jupyter-widgets/base",
      "_view_module_version": "1.2.0",
      "_view_name": "LayoutView",
      "align_content": null,
      "align_items": null,
      "align_self": null,
      "border": null,
      "bottom": null,
      "display": null,
      "flex": null,
      "flex_flow": null,
      "grid_area": null,
      "grid_auto_columns": null,
      "grid_auto_flow": null,
      "grid_auto_rows": null,
      "grid_column": null,
      "grid_gap": null,
      "grid_row": null,
      "grid_template_areas": null,
      "grid_template_columns": null,
      "grid_template_rows": null,
      "height": null,
      "justify_content": null,
      "justify_items": null,
      "left": null,
      "margin": null,
      "max_height": null,
      "max_width": null,
      "min_height": null,
      "min_width": null,
      "object_fit": null,
      "object_position": null,
      "order": null,
      "overflow": null,
      "overflow_x": null,
      "overflow_y": null,
      "padding": null,
      "right": null,
      "top": null,
      "visibility": null,
      "width": null
     }
    },
    "371567991b954751a469f42ec2c5fabe": {
     "model_module": "@jupyter-widgets/controls",
     "model_name": "ProgressStyleModel",
     "state": {
      "_model_module": "@jupyter-widgets/controls",
      "_model_module_version": "1.5.0",
      "_model_name": "ProgressStyleModel",
      "_view_count": null,
      "_view_module": "@jupyter-widgets/base",
      "_view_module_version": "1.2.0",
      "_view_name": "StyleView",
      "bar_color": null,
      "description_width": "initial"
     }
    },
    "3b74b0d772f74a258180e729f4c36a33": {
     "model_module": "@jupyter-widgets/base",
     "model_name": "LayoutModel",
     "state": {
      "_model_module": "@jupyter-widgets/base",
      "_model_module_version": "1.2.0",
      "_model_name": "LayoutModel",
      "_view_count": null,
      "_view_module": "@jupyter-widgets/base",
      "_view_module_version": "1.2.0",
      "_view_name": "LayoutView",
      "align_content": null,
      "align_items": null,
      "align_self": null,
      "border": null,
      "bottom": null,
      "display": null,
      "flex": null,
      "flex_flow": null,
      "grid_area": null,
      "grid_auto_columns": null,
      "grid_auto_flow": null,
      "grid_auto_rows": null,
      "grid_column": null,
      "grid_gap": null,
      "grid_row": null,
      "grid_template_areas": null,
      "grid_template_columns": null,
      "grid_template_rows": null,
      "height": null,
      "justify_content": null,
      "justify_items": null,
      "left": null,
      "margin": null,
      "max_height": null,
      "max_width": null,
      "min_height": null,
      "min_width": null,
      "object_fit": null,
      "object_position": null,
      "order": null,
      "overflow": null,
      "overflow_x": null,
      "overflow_y": null,
      "padding": null,
      "right": null,
      "top": null,
      "visibility": null,
      "width": null
     }
    },
    "6bcf87d57b514620b981ed513e809b07": {
     "model_module": "@jupyter-widgets/controls",
     "model_name": "HTMLModel",
     "state": {
      "_dom_classes": [],
      "_model_module": "@jupyter-widgets/controls",
      "_model_module_version": "1.5.0",
      "_model_name": "HTMLModel",
      "_view_count": null,
      "_view_module": "@jupyter-widgets/controls",
      "_view_module_version": "1.5.0",
      "_view_name": "HTMLView",
      "description": "",
      "description_tooltip": null,
      "layout": "IPY_MODEL_167ee851cf614776b0ce63b45d4a1f93",
      "placeholder": "​",
      "style": "IPY_MODEL_b2d0a6a07d8e41e99c0e0130dd611401",
      "value": " 170499072/? [00:15&lt;00:00, 11178492.98it/s]"
     }
    },
    "7b2211e770044ec5b813476095a97b5b": {
     "model_module": "@jupyter-widgets/controls",
     "model_name": "HBoxModel",
     "state": {
      "_dom_classes": [],
      "_model_module": "@jupyter-widgets/controls",
      "_model_module_version": "1.5.0",
      "_model_name": "HBoxModel",
      "_view_count": null,
      "_view_module": "@jupyter-widgets/controls",
      "_view_module_version": "1.5.0",
      "_view_name": "HBoxView",
      "box_style": "",
      "children": [
       "IPY_MODEL_06f9e44cd64b4898924ee98d6e4a83f7",
       "IPY_MODEL_6bcf87d57b514620b981ed513e809b07"
      ],
      "layout": "IPY_MODEL_da36483187834486b0d50544c0fdfc35"
     }
    },
    "b2d0a6a07d8e41e99c0e0130dd611401": {
     "model_module": "@jupyter-widgets/controls",
     "model_name": "DescriptionStyleModel",
     "state": {
      "_model_module": "@jupyter-widgets/controls",
      "_model_module_version": "1.5.0",
      "_model_name": "DescriptionStyleModel",
      "_view_count": null,
      "_view_module": "@jupyter-widgets/base",
      "_view_module_version": "1.2.0",
      "_view_name": "StyleView",
      "description_width": ""
     }
    },
    "da36483187834486b0d50544c0fdfc35": {
     "model_module": "@jupyter-widgets/base",
     "model_name": "LayoutModel",
     "state": {
      "_model_module": "@jupyter-widgets/base",
      "_model_module_version": "1.2.0",
      "_model_name": "LayoutModel",
      "_view_count": null,
      "_view_module": "@jupyter-widgets/base",
      "_view_module_version": "1.2.0",
      "_view_name": "LayoutView",
      "align_content": null,
      "align_items": null,
      "align_self": null,
      "border": null,
      "bottom": null,
      "display": null,
      "flex": null,
      "flex_flow": null,
      "grid_area": null,
      "grid_auto_columns": null,
      "grid_auto_flow": null,
      "grid_auto_rows": null,
      "grid_column": null,
      "grid_gap": null,
      "grid_row": null,
      "grid_template_areas": null,
      "grid_template_columns": null,
      "grid_template_rows": null,
      "height": null,
      "justify_content": null,
      "justify_items": null,
      "left": null,
      "margin": null,
      "max_height": null,
      "max_width": null,
      "min_height": null,
      "min_width": null,
      "object_fit": null,
      "object_position": null,
      "order": null,
      "overflow": null,
      "overflow_x": null,
      "overflow_y": null,
      "padding": null,
      "right": null,
      "top": null,
      "visibility": null,
      "width": null
     }
    }
   }
  }
 },
 "nbformat": 4,
 "nbformat_minor": 5
}
