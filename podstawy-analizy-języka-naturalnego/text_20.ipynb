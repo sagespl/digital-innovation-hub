{
 "cells": [
  {
   "cell_type": "markdown",
   "metadata": {
    "slideshow": {
     "slide_type": "slide"
    }
   },
   "source": [
    "# Automatyczne tworzenie podsumowań"
   ]
  },
  {
   "cell_type": "markdown",
   "metadata": {
    "slideshow": {
     "slide_type": "fragment"
    }
   },
   "source": [
    "- ekstraktywne\n",
    "- abstrakcyjne"
   ]
  },
  {
   "cell_type": "markdown",
   "metadata": {
    "slideshow": {
     "slide_type": "slide"
    }
   },
   "source": [
    "## Dane"
   ]
  },
  {
   "cell_type": "markdown",
   "metadata": {
    "slideshow": {
     "slide_type": "fragment"
    }
   },
   "source": [
    "The Polish Summaries Corpus\n",
    "\n",
    "http://zil.ipipan.waw.pl/PolishSummariesCorpus"
   ]
  },
  {
   "cell_type": "code",
   "execution_count": 1,
   "metadata": {
    "slideshow": {
     "slide_type": "slide"
    }
   },
   "outputs": [],
   "source": [
    "import xml.etree.ElementTree as ET\n",
    "from collections import Counter\n",
    "import os\n",
    "import re"
   ]
  },
  {
   "cell_type": "code",
   "execution_count": 2,
   "metadata": {
    "slideshow": {
     "slide_type": "slide"
    }
   },
   "outputs": [
    {
     "data": {
      "text/plain": [
       "['schema.xsd', 'data', 'manual.pdf']"
      ]
     },
     "execution_count": 2,
     "metadata": {},
     "output_type": "execute_result"
    }
   ],
   "source": [
    "os.listdir(\"PSC_1.0\")"
   ]
  },
  {
   "cell_type": "code",
   "execution_count": 3,
   "metadata": {
    "slideshow": {
     "slide_type": "fragment"
    }
   },
   "outputs": [
    {
     "data": {
      "text/plain": [
       "['199911100061.xml',\n",
       " '199906240088.xml',\n",
       " '200101020062.xml',\n",
       " '199912210037.xml',\n",
       " '199910090047.xml',\n",
       " '200103100019.xml',\n",
       " '199911130036.xml',\n",
       " '200012110071.xml',\n",
       " '199704210013.xml',\n",
       " '199704250018.xml',\n",
       " '200002160046.xml',\n",
       " '200107250080.xml',\n",
       " '200010190068.xml',\n",
       " '199912090047.xml',\n",
       " '200002290046.xml',\n",
       " '200006260079.xml',\n",
       " '199910270011.xml',\n",
       " '200001140061.xml',\n",
       " '199911250055.xml',\n",
       " '199801230001.xml',\n",
       " '200110200070.xml',\n",
       " '200012160049.xml',\n",
       " '199912280024.xml',\n",
       " '200010130063.xml',\n",
       " '200004220045.xml',\n",
       " '200005060030.xml',\n",
       " '200106220087.xml',\n",
       " '200012080134.xml',\n",
       " '200012110070.xml',\n",
       " '200004170065.xml',\n",
       " '200012120068.xml',\n",
       " '200004220048.xml',\n",
       " '199801310003.xml',\n",
       " '200006130055.xml',\n",
       " '200203290078.xml',\n",
       " '199912230058.xml',\n",
       " '199910020029.xml',\n",
       " '200202020036.xml',\n",
       " '199911130037.xml',\n",
       " '199901300101.xml',\n",
       " '200012110069.xml',\n",
       " '200012120072.xml',\n",
       " '200111150042.xml',\n",
       " '200004120022.xml',\n",
       " '199901180149.xml',\n",
       " '200001180040.xml',\n",
       " '200001290045.xml',\n",
       " '200103080026.xml',\n",
       " '200103130008.xml',\n",
       " '200010180063.xml',\n",
       " '199911080054.xml',\n",
       " '200101180051.xml',\n",
       " '199704260016.xml',\n",
       " '200002160047.xml',\n",
       " '200103010049.xml',\n",
       " '200002250031.xml',\n",
       " '200112030055.xml',\n",
       " '200001220118.xml',\n",
       " '200104260051.xml',\n",
       " '199912220030.xml',\n",
       " '200102130014.xml',\n",
       " '200003110048.xml',\n",
       " '199801290020.xml',\n",
       " '200102150014.xml',\n",
       " '200012050068.xml',\n",
       " '200104230031.xml',\n",
       " '199801030129.xml',\n",
       " '199801170129.xml',\n",
       " '199911180043.xml',\n",
       " '200003060062.xml',\n",
       " '200108200033.xml',\n",
       " '199801220127.xml',\n",
       " '199907050047.xml',\n",
       " '199909300064.xml',\n",
       " '199704220018.xml',\n",
       " '200003010059.xml',\n",
       " '199801220030.xml',\n",
       " '199801030091.xml',\n",
       " '199912220045.xml',\n",
       " '200004290022.xml',\n",
       " '199912180034.xml',\n",
       " '200001170051.xml',\n",
       " '199911220066.xml',\n",
       " '199906230024.xml',\n",
       " '200112100041.xml',\n",
       " '200102270041.xml',\n",
       " '200002220027.xml',\n",
       " '200103060032.xml',\n",
       " '199902240123.xml',\n",
       " '200202210054.xml',\n",
       " '200111120045.xml',\n",
       " '199704280023.xml',\n",
       " '200202280078.xml',\n",
       " '200011210063.xml',\n",
       " '200001170033.xml',\n",
       " '200012180088.xml',\n",
       " '199911060031.xml',\n",
       " '200105050046.xml',\n",
       " '199912130055.xml',\n",
       " '199805220133.xml',\n",
       " '199801130129.xml',\n",
       " '200108300032.xml',\n",
       " '200112190067.xml',\n",
       " '200006050058.xml',\n",
       " '199801030156.xml',\n",
       " '200101020059.xml',\n",
       " '199906250007.xml',\n",
       " '200012130056.xml',\n",
       " '200012270055.xml',\n",
       " '199801140182.xml',\n",
       " '199901230088.xml',\n",
       " '200105220096.xml',\n",
       " '200102220001.xml',\n",
       " '200012180084.xml',\n",
       " '200105020092.xml',\n",
       " '199901300064.xml',\n",
       " '200110220068.xml',\n",
       " '199910300026.xml',\n",
       " '200012140099.xml',\n",
       " '200110150062.xml',\n",
       " '199907050045.xml',\n",
       " '200012130103.xml',\n",
       " '199801280128.xml',\n",
       " '200012120028.xml',\n",
       " '200010160048.xml',\n",
       " '200108060155.xml',\n",
       " '199911250057.xml',\n",
       " '200008250079.xml',\n",
       " '200103100062.xml',\n",
       " '200006010065.xml',\n",
       " '199912110041.xml',\n",
       " '199801030158.xml',\n",
       " '200103200080.xml',\n",
       " '200010140049.xml',\n",
       " '200002290047.xml',\n",
       " '200001060052.xml',\n",
       " '199704260014.xml',\n",
       " '200103060057.xml',\n",
       " '200104170057.xml',\n",
       " '200202200032.xml',\n",
       " '199907050040.xml',\n",
       " '200104190066.xml',\n",
       " '200201280011.xml',\n",
       " '200010120074.xml',\n",
       " '200001170060.xml',\n",
       " '199801260113.xml',\n",
       " '200104260053.xml',\n",
       " '200012140097.xml',\n",
       " '200010120066.xml',\n",
       " '200105290075.xml',\n",
       " '200012290046.xml',\n",
       " '199906260015.xml',\n",
       " '200109260097.xml',\n",
       " '200006050061.xml',\n",
       " '200101020075.xml',\n",
       " '200012230045.xml',\n",
       " '199801270110.xml',\n",
       " '200006010066.xml',\n",
       " '199801100009.xml',\n",
       " '200008040076.xml',\n",
       " '199909300066.xml',\n",
       " '199912180052.xml',\n",
       " '200004120021.xml',\n",
       " '199909270029.xml',\n",
       " '200004150049.xml',\n",
       " '200104300215.xml',\n",
       " '200111210078.xml',\n",
       " '200109270116.xml',\n",
       " '199910020027.xml',\n",
       " '200108210066.xml',\n",
       " '200105050043.xml',\n",
       " '199901250113.xml',\n",
       " '200012230050.xml',\n",
       " '200111200036.xml',\n",
       " '200105050048.xml',\n",
       " '200006120031.xml',\n",
       " '200104170040.xml',\n",
       " '199704300046.xml',\n",
       " '200106180053.xml',\n",
       " '200003210045.xml',\n",
       " '200106180051.xml',\n",
       " '199704260017.xml',\n",
       " '200108070038.xml',\n",
       " '199801310037.xml',\n",
       " '200005300048.xml',\n",
       " '199801150038.xml',\n",
       " '199909210045.xml',\n",
       " '199910090051.xml',\n",
       " '200004220046.xml',\n",
       " '199704280031.xml',\n",
       " '200105050042.xml',\n",
       " '199801030090.xml',\n",
       " '200006260069.xml',\n",
       " '200007150033.xml',\n",
       " '200103200066.xml',\n",
       " '199910020050.xml',\n",
       " '199909250054.xml',\n",
       " '200112040031.xml',\n",
       " '199802040182.xml',\n",
       " '199912210040.xml',\n",
       " '200104050011.xml',\n",
       " '200001080040.xml',\n",
       " '200008260055.xml',\n",
       " '200001310049.xml',\n",
       " '200109250092.xml',\n",
       " '199801020079.xml',\n",
       " '200102120057.xml',\n",
       " '199912170065.xml',\n",
       " '199911060044.xml',\n",
       " '199704210042.xml',\n",
       " '199801200106.xml',\n",
       " '199801150133.xml',\n",
       " '200012230048.xml',\n",
       " '200102220013.xml',\n",
       " '200104190039.xml',\n",
       " '199801280159.xml',\n",
       " '200006050119.xml',\n",
       " '199910020049.xml',\n",
       " '199912230059.xml',\n",
       " '199801280241.xml',\n",
       " '199907270145.xml',\n",
       " '200012050069.xml',\n",
       " '200008250077.xml',\n",
       " '199801280158.xml',\n",
       " '199801200002.xml',\n",
       " '200001030029.xml',\n",
       " '199802040202.xml',\n",
       " '200101150045.xml',\n",
       " '200108060156.xml',\n",
       " '200010160039.xml',\n",
       " '200001080041.xml',\n",
       " '199907270137.xml',\n",
       " '200104100021.xml',\n",
       " '199901270120.xml',\n",
       " '200010160054.xml',\n",
       " '200101180050.xml',\n",
       " '199906250091.xml',\n",
       " '200111150047.xml',\n",
       " '200108280064.xml',\n",
       " '200004220047.xml',\n",
       " '200202270044.xml',\n",
       " '199912210018.xml',\n",
       " '199912300021.xml',\n",
       " '199910110055.xml',\n",
       " '200001040030.xml',\n",
       " '199911220063.xml',\n",
       " '200103270069.xml',\n",
       " '200105140052.xml',\n",
       " '200003060054.xml',\n",
       " '200103100021.xml',\n",
       " '200001240016.xml',\n",
       " '200001060055.xml',\n",
       " '200201290029.xml',\n",
       " '200004150048.xml',\n",
       " '199801050059.xml',\n",
       " '199912130057.xml',\n",
       " '199802040159.xml',\n",
       " '199801310032.xml',\n",
       " '199911100064.xml',\n",
       " '199801240096.xml',\n",
       " '200012140098.xml',\n",
       " '200111270049.xml',\n",
       " '200104300213.xml',\n",
       " '199911220059.xml',\n",
       " '200103080030.xml',\n",
       " '200007120070.xml',\n",
       " '200006270059.xml',\n",
       " '200010160049.xml',\n",
       " '200002250065.xml',\n",
       " '199801240123.xml',\n",
       " '200002250066.xml',\n",
       " '200012180083.xml',\n",
       " '199907140166.xml',\n",
       " '200006290045.xml',\n",
       " '199910280054.xml',\n",
       " '199912280045.xml',\n",
       " '199801290022.xml',\n",
       " '200006050059.xml',\n",
       " '200112280057.xml',\n",
       " '200101220047.xml',\n",
       " '199911200030.xml',\n",
       " '200011210066.xml',\n",
       " '200104100023.xml',\n",
       " '200001100046.xml',\n",
       " '199911060042.xml',\n",
       " '199801030148.xml',\n",
       " '199910280055.xml',\n",
       " '200103100058.xml',\n",
       " '200012140095.xml',\n",
       " '199801050023.xml',\n",
       " '199704210011.xml',\n",
       " '199912090045.xml',\n",
       " '200106120069.xml',\n",
       " '199801240061.xml',\n",
       " '200001060034.xml',\n",
       " '199912230097.xml',\n",
       " '200004150050.xml',\n",
       " '199911030040.xml',\n",
       " '200004170026.xml',\n",
       " '200012050066.xml',\n",
       " '200102070016.xml',\n",
       " '199704250031.xml',\n",
       " '199910270041.xml',\n",
       " '200101130050.xml',\n",
       " '199901250008.xml',\n",
       " '199912280044.xml',\n",
       " '199910210059.xml',\n",
       " '199801260047.xml',\n",
       " '199801220140.xml',\n",
       " '200106120068.xml',\n",
       " '200107120071.xml',\n",
       " '199901190049.xml',\n",
       " '200203260050.xml',\n",
       " '200001040031.xml',\n",
       " '200001030106.xml',\n",
       " '199801160119.xml',\n",
       " '199911100038.xml',\n",
       " '200108060157.xml',\n",
       " '200101130055.xml',\n",
       " '200008220042.xml',\n",
       " '200104300217.xml',\n",
       " '200108180123.xml',\n",
       " '200106250050.xml',\n",
       " '200004120023.xml',\n",
       " '199911100062.xml',\n",
       " '200008310046.xml',\n",
       " '199801270108.xml',\n",
       " '199801260070.xml',\n",
       " '200110020075.xml',\n",
       " '199910110057.xml',\n",
       " '199907030042.xml',\n",
       " '199802030127.xml',\n",
       " '199801020070.xml',\n",
       " '199911240038.xml',\n",
       " '200012050070.xml',\n",
       " '200112040077.xml',\n",
       " '200006050056.xml',\n",
       " '200105140050.xml',\n",
       " '200010190066.xml',\n",
       " '200102070011.xml',\n",
       " '199912280028.xml',\n",
       " '200106200064.xml',\n",
       " '200003110049.xml',\n",
       " '200001070066.xml',\n",
       " '200103310092.xml',\n",
       " '200108180109.xml',\n",
       " '200005150055.xml',\n",
       " '200112050063.xml',\n",
       " '199801270055.xml',\n",
       " '200101200048.xml',\n",
       " '200012140100.xml',\n",
       " '199801210007.xml',\n",
       " '199704210012.xml',\n",
       " '199912020059.xml',\n",
       " '200006130059.xml',\n",
       " '200012080137.xml',\n",
       " '200012140084.xml',\n",
       " '200111240060.xml',\n",
       " '200103060022.xml',\n",
       " '199907270095.xml',\n",
       " '199911180044.xml',\n",
       " '200101220053.xml',\n",
       " '199801200132.xml',\n",
       " '200006130057.xml',\n",
       " '199801170130.xml',\n",
       " '199911060043.xml',\n",
       " '200001170052.xml',\n",
       " '200103080036.xml',\n",
       " '200008040071.xml',\n",
       " '199704280025.xml',\n",
       " '200002240034.xml',\n",
       " '199801280123.xml',\n",
       " '199907030059.xml',\n",
       " '200001170029.xml',\n",
       " '199704220044.xml',\n",
       " '200104020007.xml',\n",
       " '199808280158.xml',\n",
       " '200001170053.xml',\n",
       " '199901250111.xml',\n",
       " '199704300031.xml',\n",
       " '200012130102.xml',\n",
       " '199906220029.xml',\n",
       " '199801030068.xml',\n",
       " '199909090036.xml',\n",
       " '200106220090.xml',\n",
       " '200102160011.xml',\n",
       " '200007270050.xml',\n",
       " '200003110047.xml',\n",
       " '199912280046.xml',\n",
       " '199910210058.xml',\n",
       " '199912220047.xml',\n",
       " '200002290045.xml',\n",
       " '200005300047.xml',\n",
       " '200111140055.xml',\n",
       " '199911130038.xml',\n",
       " '200107240070.xml',\n",
       " '199906220065.xml',\n",
       " '200012130100.xml',\n",
       " '199906260038.xml',\n",
       " '199704260015.xml',\n",
       " '200111080086.xml',\n",
       " '199908260001.xml',\n",
       " '199901290095.xml',\n",
       " '199911240037.xml',\n",
       " '200007120072.xml',\n",
       " '199704280027.xml',\n",
       " '200201220050.xml',\n",
       " '200102270062.xml',\n",
       " '200012230047.xml',\n",
       " '200006070056.xml',\n",
       " '199907030018.xml',\n",
       " '200005300045.xml',\n",
       " '200001140064.xml',\n",
       " '200101130051.xml',\n",
       " '200110150056.xml',\n",
       " '200002090042.xml',\n",
       " '200001060053.xml',\n",
       " '199907050076.xml',\n",
       " '200001200056.xml',\n",
       " '200102190016.xml',\n",
       " '199907200002.xml',\n",
       " '200001070062.xml',\n",
       " '199704240008.xml',\n",
       " '200001170049.xml',\n",
       " '200003210044.xml',\n",
       " '200001310050.xml',\n",
       " '199802040201.xml',\n",
       " '199911080055.xml',\n",
       " '200012110075.xml',\n",
       " '200203010070.xml',\n",
       " '199901300098.xml',\n",
       " '199901270122.xml',\n",
       " '200105070017.xml',\n",
       " '200107210129.xml',\n",
       " '200101150043.xml',\n",
       " '199704220007.xml',\n",
       " '199906220038.xml',\n",
       " '200106050035.xml',\n",
       " '199910280057.xml',\n",
       " '200001310048.xml',\n",
       " '199704240020.xml',\n",
       " '199801020010.xml',\n",
       " '199907030016.xml',\n",
       " '199801020076.xml',\n",
       " '200101020063.xml',\n",
       " '199704230014.xml',\n",
       " '199911030041.xml',\n",
       " '199906230052.xml',\n",
       " '200003110050.xml',\n",
       " '200001290042.xml',\n",
       " '199906220037.xml',\n",
       " '199704230043.xml',\n",
       " '199704230029.xml',\n",
       " '200011210064.xml',\n",
       " '199909300065.xml',\n",
       " '199912310085.xml',\n",
       " '200104230069.xml',\n",
       " '200004280047.xml',\n",
       " '200002250063.xml',\n",
       " '200002090043.xml',\n",
       " '200001030053.xml',\n",
       " '200002290044.xml',\n",
       " '200107120073.xml',\n",
       " '200007170026.xml',\n",
       " '199907050071.xml',\n",
       " '199907270004.xml',\n",
       " '199909250018.xml',\n",
       " '199906260018.xml',\n",
       " '200012270056.xml',\n",
       " '200001220023.xml',\n",
       " '200108160040.xml',\n",
       " '200006010067.xml',\n",
       " '199906230040.xml',\n",
       " '200012130034.xml',\n",
       " '199911100063.xml',\n",
       " '200104170015.xml',\n",
       " '199906240040.xml',\n",
       " '200109130091.xml',\n",
       " '199801230095.xml',\n",
       " '199912300029.xml',\n",
       " '200004220044.xml',\n",
       " '199901250117.xml',\n",
       " '200012230028.xml',\n",
       " '199912090061.xml',\n",
       " '200003010058.xml',\n",
       " '199912220046.xml',\n",
       " '199906220027.xml',\n",
       " '199911180042.xml',\n",
       " '200008220046.xml',\n",
       " '200008040073.xml',\n",
       " '200003060055.xml',\n",
       " '200106220088.xml',\n",
       " '199704240019.xml',\n",
       " '199912180026.xml',\n",
       " '199902240095.xml',\n",
       " '200102150001.xml',\n",
       " '200106220086.xml',\n",
       " '199901190073.xml',\n",
       " '199901250112.xml',\n",
       " '199801130087.xml',\n",
       " '200104170055.xml',\n",
       " '199801240116.xml',\n",
       " '199704230006.xml',\n",
       " '200002120045.xml',\n",
       " '199906220056.xml',\n",
       " '200003060057.xml',\n",
       " '200203190026.xml',\n",
       " '199801020035.xml',\n",
       " '200006260071.xml',\n",
       " '200108210074.xml',\n",
       " '200012160048.xml',\n",
       " '200005150059.xml',\n",
       " '199704240021.xml',\n",
       " '199801020031.xml',\n",
       " '199912020060.xml',\n",
       " '200010180059.xml',\n",
       " '200002290048.xml',\n",
       " '199901270103.xml',\n",
       " '200109060061.xml',\n",
       " '200010140048.xml',\n",
       " '200101180052.xml',\n",
       " '200203290107.xml',\n",
       " '199704250022.xml',\n",
       " '200104040019.xml',\n",
       " '200101130048.xml',\n",
       " '200001100035.xml',\n",
       " '200201220038.xml',\n",
       " '200007120068.xml',\n",
       " '200012050071.xml',\n",
       " '200006050057.xml',\n",
       " '200012150076.xml',\n",
       " '200103130069.xml',\n",
       " '199901250006.xml',\n",
       " '200010130049.xml',\n",
       " '200001310054.xml',\n",
       " '200012140096.xml',\n",
       " '200002120046.xml',\n",
       " '200103130023.xml',\n",
       " '200105290074.xml',\n",
       " '200102280169.xml',\n",
       " '200203280017.xml',\n",
       " '199906260027.xml',\n",
       " '199901190115.xml',\n",
       " '200006080033.xml',\n",
       " '200110200071.xml',\n",
       " '199801170001.xml',\n",
       " '199911230041.xml',\n",
       " '200108270077.xml',\n",
       " '199912310087.xml',\n",
       " '200012230046.xml',\n",
       " '200006050068.xml',\n",
       " '199911220061.xml',\n",
       " '200001030047.xml',\n",
       " '199911080056.xml',\n",
       " '200007280033.xml',\n",
       " '199910090049.xml',\n",
       " '200012050067.xml',\n",
       " '199911030039.xml',\n",
       " '199912110042.xml',\n",
       " '199906240084.xml',\n",
       " '200203280057.xml',\n",
       " '200102120034.xml',\n",
       " '199704220021.xml',\n",
       " '200007180051.xml',\n",
       " '200108060051.xml',\n",
       " '199907050032.xml',\n",
       " '200007240034.xml',\n",
       " '199911240035.xml',\n",
       " '199704300042.xml']"
      ]
     },
     "execution_count": 3,
     "metadata": {},
     "output_type": "execute_result"
    }
   ],
   "source": [
    "os.listdir(\"PSC_1.0/data\")"
   ]
  },
  {
   "cell_type": "code",
   "execution_count": 4,
   "metadata": {
    "slideshow": {
     "slide_type": "slide"
    }
   },
   "outputs": [],
   "source": [
    "with open(\"PSC_1.0/data/199911100061.xml\", \"r\") as f:\n",
    "    example = f.read()"
   ]
  },
  {
   "cell_type": "code",
   "execution_count": 5,
   "metadata": {
    "slideshow": {
     "slide_type": "fragment"
    }
   },
   "outputs": [
    {
     "data": {
      "text/plain": [
       "'<?xml version=\\'1.0\\' encoding=\\'UTF-8\\'?>\\n<text id=\"199911100061\">\\n  <date>1999-11-10</date>\\n  <title>Poszerzanie wolności</title>\\n  <section>Publicystyka, Opinie</section>\\n  <authors>Jerzy Buzek</authors>\\n  <body>ŚWIĘTO NIEPODLEGŁOŚCI\\n\\nNic nie jest dobitniejszym świadectwem solidarności niż praca dla dobra wspólnego\\n\\nPoszerzanie wolności\\n\\nRYS. ANDRZEJ LEGUS\\n\\nJERZY BUZEK\\n\\nŚwięto Niepodległości, na przełomie tysiącleci, stwarza szczególną okazję do refleksji nad dokonaniami dwóch pokoleń: tego, którego udziałem stało się w 1918 roku odzyskanie wolności i tego, które niepodległą Rzeczpospolitą od dziesięciu lat współtworzy. Jakie pożytki czerpiemy dziś z ponownie odzyskanej wolności?\\n\\nJaka jest dzisiejsza wymowa słowa patriotyzm? Jak teraz układają się relacje między Polakami a ich państwem? Na czym w 1999 roku polega czyn obywatelski? Odpowiedzi na te pytania postanowiłem w tym roku poszukać w Krakowie, \"mateczniku polskości\", w mieście, gdzie historia i współczesność przenikają się w stopniu najpełniejszym.\\n\\nDziedzictwo\\n\\n11 listopada to wielkie i radosne święto. Odzyskanie wolności zawsze stanowi tytuł do narodowej dumy. Dla Polaków czyn zbrojny, który przyniósł wolność, miał wymiar szczególny. Po dekadach znaczonych bezowocnymi zrywami powstańczymi okazał się wreszcie czynem skutecznym, nadającym sens hekatombie ofiar poprzedniego stulecia. Skutecznym - co warto pamiętać - w efekcie mądrej akcji dyplomatycznej. Ta z kolei stała się możliwa przede wszystkim dzięki żywotności polskiej tradycji i kultury. Niepodległość nieprzypadkowo kojarzona jest dziś z nazwiskami Piłsudskiego, Dmowskiego, Paderewskiego. One bowiem symbolizują łańcuch uzupełniających się działań zbrojnych i dyplomatycznych, cały czas wspieranych siłą polskiej kultury. Oddając sprawiedliwość i honor wysiłkowi całego narodu trzeba zawsze pamiętać, że czyn niepodległościowy niejedno miał imię.\\n\\nNa Wawelu, nad kryptami królów i bohaterów narodowych, został wzniesiony baldachim upamiętniający 1918 rok. Widnieje na nim napis: \"Ciała śpią, duchy czuwają\". Tu wystarczy chwila skupienia, by uzmysłowić sobie, czym jest Polska, jakie dziedzictwo otrzymaliśmy w darze i jakie zobowiązania na nas ciążą. Wawel i jego sarkofagi to żywa pamięć znamienitej przeszłości. Na tyle żywa, że jak mickiewiczowska pieśń \"uszła cało\" z zawieruchy historii. Przekazywano ją w rodzinie, w Kościele, uczono z książek. Właśnie dlatego Polska - skreślona z mapy Europy - nie była dla pokoleń czasu niewoli abstrakcją, lecz obowiązkiem do spełniania. Czasem także trudnym dziedzictwem, które należało pokonać, wznosząc się ponad własne ograniczenia.\\n\\nDzięki tej pamięci naród przetrwał, a w kluczowym momencie historii dostrzegł swoją szansę i miał odwagę z niej skorzystać. Bez czynu niepodległość pozostałaby przecież jedynie martwą ideą. Dlatego krakowskie rozważania o patriotyzmie trzeba rozpocząć od hołdu złożonego bohaterom narodowym przy grobie marszałka Józefa Piłsudskiego i przy prochach bezimiennych żołnierzy Rzeczypospolitej. \\n\\nW tym roku będę miał także okazję szczególną, by równocześnie docenić polski czyn dyplomatyczny - uczestnicząc w odsłonięciu i poświęceniu tablicy pamiątkowej ku czci Romana Dmowskiego. Wierzę, iż dla naszego pokolenia stanie się ona znakiem przypominającym, że duch patriotyczny w decydujących dla losów narodu momentach tryumfował nad duchem politycznych sporów.\\n\\nPamięć o tych, którzy mimo 123 lat niewoli, upokorzeń i klęsk, nigdy nie pogodzili się z utratą wolności, a także o tych, którzy ów protest przechowali przez noc nazizmu i komunizmu na zawsze pozostanie źródłem naszej siły. To ze względu na tę pamięć nie wolno nam zmarnować daru wolności. Testament przeszłych pokoleń przypomina o obowiązku jego utrwalania w codziennych dokonaniach i wyborach.\\n\\nDziedzictwo czynu 11 listopada to patriotyzm najwyższej próby.\\n\\nDobre państwo\\n\\nNie sposób dziś negować osiągnięć II Rzeczypospolitej. Z perspektywy czasu tamte dokonania zdumiewają śmiałością i rozmachem. Pokolenie, które czynem zbrojnym wywalczyło wolność nie zmarnowało jej, choć nie dane mu było dokończyć dzieła odbudowy polskiej państwowości. My, przedstawiciele pokolenia \"Solidarności\", odzyskawszy suwerenność po półwieczu komunizmu, czujemy się tamtego dzieła kontynuatorami.\\n\\nJak dziś postrzegamy czyn patriotyczny? Czym dla mnie jako premiera polskiego rządu jest odzyskane na nowo państwo? Przede wszystkim wspólnotą polityczną władz centralnych i samorządu, dobrem wspólnym obywateli. Dziś narodowy czyn ma swój początek w gminie, gdzie podejmowane są decyzje dotyczące lokalnej społeczności. W moim głębokim odczuciu właśnie oddanie władzy w ręce ludzi - w gminie, powiecie i województwie - jest największym zwycięstwem ponownie odzyskanej wolności. To dzięki temu zwycięstwu w ciągu 10 lat dokonaliśmy cywilizacyjnego skoku, podejmując wyzwanie pokolenia, które w 1918 roku rozpoczęło wielkie dzieło reformowania i odbudowy Polski.\\n\\nSamorząd jest najlepszą szkołą patriotyzmu. Lokalnego, powiatowego, regionalnego. Ale także narodowego, bo wszelki patriotyzm zaczyna się od umiłowania tego, co bliskie. Kultura narodowa i lokalna są ze sobą splecione, mają wspólne korzenie, które określają naszą tożsamość. Wybór Krakowa na kulturalną stolicę Europy w roku 2000 potwierdza, że we współczesnym świecie docenia się udział kultury  w budowaniu tożsamości, choć w przypadku tego miasta jest to na pewno bardziej kultura narodowa niż lokalna. W decentralizującej się Europie nie ma bowiem pojęcia prowincji, bo często to właśnie ona stanowić może centrum życia duchowego i kulturalnego.\\n\\nKraków jest dziś przykładem tego, jak działania na rzecz ochrony narodowego dziedzictwa wpływają na rozwój miasta i warunki życia jego mieszkańców. Doświadczenia samorządów polskich wskazują wiele przykładów dobrego gospodarowania lokalnym dziedzictwem, które nie ogranicza się do ochrony zabytków, ale czyni z kultury instrument rozwoju. Bo to dzięki kulturze w równym stopniu jak przez sukces gospodarczy stajemy się członkiem europejskiej wspólnoty - co istotne - zachowując własną tożsamość.\\n\\nW małych ojczyznach dobrze zagospodarowano wolność. Było to możliwe także dlatego, że właśnie tam najsilniejsza jest owa pamięć historyczna, która sto lat temu pozwoliła przetrwać zły czas. Dlatego dobre państwo trzeba i warto budować na fundamencie lokalnego dziedzictwa. W czasach globalizacji, nowoczesny patriotyzm rozumiem właśnie jako budowanie Polski na dole, we własnej, lokalnej przestrzeni duchowej. Nowoczesne technologie pozwalają bowiem być wszędzie, będąc zarazem u siebie - zakotwiczonym w tradycji, kulturze, wartościach. Reformatorskie dzieło mijającej dekady ku temu przecież zmierzało. Jestem dumny, że mój rząd oddając prawo decydowania o swoim losie mieszkańcom wspólnot lokalnych, dzieła tego dopełnił. Zbudowaliśmy państwo, które pozwala swoim obywatelom swobodnie działać dla dobra wspólnego.\\n\\nPro publico bono\\n\\nCzym jest dziś czyn obywatelski? Myślę, że po raz pierwszy w naszej historii jest to czyn rozumiany jako aktywność społeczna, a nie jako reakcja na zagrożenia zewnętrzne. Jest to także (wreszcie!) czyn radosny. Patriotyzm zawsze kojarzył się z działaniem niepartykularnym. Z przełamywaniem egoizmu, społeczną solidarnością i wielkodusznością. Ale przede wszystkim z odwagą. Trudno bowiem było wskazać w naszej historii czas, gdy zarazem czyn obywatelski nie wiązał się z ofiarą i wyrzeczeniem, gdy nie był obciążony ryzykiem. Za patriotyzm trzeba było płacić wysoką cenę, często cenę życia. Dlatego dla większości Polaków Święto Niepodległości jest dniem powagi, smutnej zadumy i refleksji. Dlatego często patriotyzm kojarzy się z wyzwaniem niedostępnym przeciętnemu człowiekowi. Tak wiele od niego wymagał.\\n\\nNadszedł jednak czas, gdy czyn obywatelski może stać się także źródłem powszechnej i wielkiej satysfakcji, bo płynącej z prostego czynienia dobra. W dodatku dziś, działając pro publico bono, można przyczyniać się do cywilizacyjnego rozwoju państwa, zwiększając jego dobrobyt. Nie wiąże się to z żadnym zagrożeniem czy ryzykiem, przeciwnie można \"narazić się\" jedynie na uznanie i szacunek innych. Działalność publiczna zaczyna, choć z licznymi jeszcze zahamowaniami, przynosić popularność, staje się naturalną drogą doboru ludzi najwyższego zaufania w państwie, pozwala upowszechniać pozytywne wzorce. Dzięki nim z kolei łatwiej o upowszechnianie takich postaw obywatelskich, którym przyświeca przede wszystkim dobro wspólne.\\n\\nKażdy wysiłek pro publico bono służy ojczyźnie, poszerza bowiem przestrzeń wolności, zachęca obywateli do samoorganizacji. Mądrość narodu polega na tym, że potrafi nobilitować twórczą pracę obywatelską. Jest ona bowiem dowodem istnienia wspólnoty, potwierdza jej tożsamość i ciągłość historyczną. Każdy taki wysiłek - doceniony i dostrzeżony - wzmacnia zaufanie do państwa, jest gwarantem trwałości społecznych więzów. Gwarantem niepodległości i gwarantem naszej indywidualnej i zbiorowej wolności... A przecież: \"Wolność jest najlepszą, najskuteczniejszą i najtańszą sztuką gospodarowania\" (Ferdynand Zweig).\\n\\nFundament  narodowego bytu\\n\\nZ kraju o gospodarce scentralizowanej Polska stała się wreszcie bogata w przedsięwzięcia obywatelskie. Inicjatywa przyznawania nagród \"Pro publico bono\", której mam zaszczyt patronować, ma na celu przedsięwzięcia te dostrzec i docenić. Nic bowiem nie jest dobitniejszym świadectwem solidarności niż praca dla dobra wspólnego. A właśnie taka praca tworzy fundament narodowego bytu.\\n\\n11 listopada 1999 roku w Krakowie kapituła konkursu \"Pro publico bono\" pod przewodnictwem prof. Andrzeja Zolla (i honorowym pana Jana Nowaka-Jeziorańskiego) wyłoni pierwszych laureatów. Jeśli ta inicjatywa zyska poparcie społeczne, stanie się corocznym wydarzeniem, dodając do klimatu Święta Niepodległości niemały ładunek optymizmu i wiary w niezmierzone pokłady patriotyzmu.\\n\\nNaszego prawdziwego narodowego bogactwa.</body>\\n  <summaries>\\n    <summary ratio=\"10\" type=\"extract\" author=\"G\">\\n      <body>11 listopada to wielkie i radosne święto. Dla Polaków czyn zbrojny, który przyniósł wolność, miał wymiar szczególny. Pamięć o tych, którzy mimo upokorzeń i klęsk nigdy nie pogodzili się z utratą wolności, a także o tych, którzy ów protest przechowali przez noc nazizmu i komunizmu na zawsze pozostanie źródłem naszej siły.\\nJak dziś postrzegamy czyn patriotyczny? Dziś narodowy czyn ma swój początek w gminie, gdzie podejmowane są decyzje dotyczące lokalnej społeczności. Kultura narodowa i lokalna są ze sobą splecione. \\nW małych ojczyznach dobrze zagospodarowano wolność. właśnie tam najsilniejsza jest owa pamięć historyczna. W czasach globalizacji nowoczesny patriotyzm rozumiem właśnie jako budowanie Polski na dole, w lokalnej przestrzeni duchowej. czyn obywatelski jest rozumiany jako aktywność społeczna, a nie jako reakcja na zagrożenia zewnętrzne. Jest to także czyn radosny.</body>\\n      <spans>\\n        <span start=\"823\" end=\"864\">11 listopada to wielkie i radosne święto.</span>\\n        <span start=\"924\" end=\"999\"> Dla Polaków czyn zbrojny, który przyniósł wolność, miał wymiar szczególny.</span>\\n        <span start=\"1055\" end=\"1056\"> </span>\\n        <span start=\"3169\" end=\"3196\">Pamięć o tych, którzy mimo </span>\\n        <span start=\"3213\" end=\"3230\">upokorzeń i klęsk</span>\\n        <span start=\"3231\" end=\"3392\"> nigdy nie pogodzili się z utratą wolności, a także o tych, którzy ów protest przechowali przez noc nazizmu i komunizmu na zawsze pozostanie źródłem naszej siły.</span>\\n        <span start=\"4051\" end=\"4092\">\\nJak dziś postrzegamy czyn patriotyczny? </span>\\n        <span start=\"4264\" end=\"4372\">Dziś narodowy czyn ma swój początek w gminie, gdzie podejmowane są decyzje dotyczące lokalnej społeczności. </span>\\n        <span start=\"4884\" end=\"4931\">Kultura narodowa i lokalna są ze sobą splecione</span>\\n        <span start=\"4987\" end=\"4989\">. </span>\\n        <span start=\"5861\" end=\"5914\">\\nW małych ojczyznach dobrze zagospodarowano wolność. </span>\\n        <span start=\"5948\" end=\"6001\">właśnie tam najsilniejsza jest owa pamięć historyczna</span>\\n        <span start=\"6050\" end=\"6052\">. </span>\\n        <span start=\"6135\" end=\"6157\">W czasach globalizacji</span>\\n        <span start=\"6158\" end=\"6230\"> nowoczesny patriotyzm rozumiem właśnie jako budowanie Polski na dole, w</span>\\n        <span start=\"6240\" end=\"6272\"> lokalnej przestrzeni duchowej. </span>\\n        <span start=\"6713\" end=\"6729\">czyn obywatelski</span>\\n        <span start=\"6774\" end=\"6780\"> jest </span>\\n        <span start=\"6788\" end=\"6883\">rozumiany jako aktywność społeczna, a nie jako reakcja na zagrożenia zewnętrzne. Jest to także </span>\\n        <span start=\"6895\" end=\"6908\">czyn radosny.</span>\\n      </spans>\\n    </summary>\\n    <summary ratio=\"20\" type=\"extract\" author=\"G\">\\n      <body>11 listopada to wielkie i radosne święto. Dla Polaków czyn zbrojny, który przyniósł wolność, miał wymiar szczególny. okazał się czynem skutecznym, nadającym sens hekatombie ofiar poprzedniego stulecia. Niepodległość kojarzona jest dziś z nazwiskami Piłsudskiego, Dmowskiego, Paderewskiego. One symbolizują łańcuch uzupełniających się działań zbrojnych i dyplomatycznych, cały czas wspieranych siłą polskiej kultury.\\nNa Wawelu został wzniesiony baldachim upamiętniający 1918 rok. Tu wystarczy chwila skupienia, by uzmysłowić sobie, czym jest Polska, jakie dziedzictwo otrzymaliśmy w darze i jakie zobowiązania na nas ciążą. Pamięć o tych, którzy mimo upokorzeń i klęsk nigdy nie pogodzili się z utratą wolności, a także o tych, którzy ów protest przechowali przez noc nazizmu i komunizmu na zawsze pozostanie źródłem naszej siły.\\nNie sposób dziś negować osiągnięć II Rzeczypospolitej. przedstawiciele pokolenia \"Solidarności\", odzyskawszy suwerenność po półwieczu komunizmu, czujemy się tamtego dzieła kontynuatorami.\\nJak dziś postrzegamy czyn patriotyczny? Dziś narodowy czyn ma swój początek w gminie, gdzie podejmowane są decyzje dotyczące lokalnej społeczności. Kultura narodowa i lokalna są ze sobą splecione, mają wspólne korzenie, które określają naszą tożsamość. \\nKraków jest dziś przykładem tego, jak działania na rzecz ochrony narodowego dziedzictwa wpływają na rozwój miasta i warunki życia jego mieszkańców. \\nW małych ojczyznach dobrze zagospodarowano wolność. Było to możliwe dlatego, że właśnie tam najsilniejsza jest owa pamięć historyczna. W czasach globalizacji nowoczesny patriotyzm rozumiem właśnie jako budowanie Polski na dole, w lokalnej przestrzeni duchowej. czyn obywatelski jest rozumiany jako aktywność społeczna, a nie jako reakcja na zagrożenia zewnętrzne. Jest to także czyn radosny. może stać się źródłem wielkiej satysfakcji, bo płynącej z czynienia dobra. służy ojczyźnie, poszerza przestrzeń wolności, zachęca obywateli do samoorganizacji.</body>\\n      <spans>\\n        <span start=\"823\" end=\"864\">11 listopada to wielkie i radosne święto.</span>\\n        <span start=\"924\" end=\"999\"> Dla Polaków czyn zbrojny, który przyniósł wolność, miał wymiar szczególny.</span>\\n        <span start=\"1055\" end=\"1067\"> okazał się </span>\\n        <span start=\"1076\" end=\"1150\">czynem skutecznym, nadającym sens hekatombie ofiar poprzedniego stulecia. </span>\\n        <span start=\"1315\" end=\"1329\">Niepodległość </span>\\n        <span start=\"1344\" end=\"1422\">kojarzona jest dziś z nazwiskami Piłsudskiego, Dmowskiego, Paderewskiego. One </span>\\n        <span start=\"1429\" end=\"1550\">symbolizują łańcuch uzupełniających się działań zbrojnych i dyplomatycznych, cały czas wspieranych siłą polskiej kultury.</span>\\n        <span start=\"1676\" end=\"1686\">\\nNa Wawelu</span>\\n        <span start=\"1731\" end=\"1785\"> został wzniesiony baldachim upamiętniający 1918 rok. </span>\\n        <span start=\"1837\" end=\"1981\">Tu wystarczy chwila skupienia, by uzmysłowić sobie, czym jest Polska, jakie dziedzictwo otrzymaliśmy w darze i jakie zobowiązania na nas ciążą. </span>\\n        <span start=\"3169\" end=\"3196\">Pamięć o tych, którzy mimo </span>\\n        <span start=\"3213\" end=\"3230\">upokorzeń i klęsk</span>\\n        <span start=\"3231\" end=\"3392\"> nigdy nie pogodzili się z utratą wolności, a także o tych, którzy ów protest przechowali przez noc nazizmu i komunizmu na zawsze pozostanie źródłem naszej siły.</span>\\n        <span start=\"3644\" end=\"3700\">\\nNie sposób dziś negować osiągnięć II Rzeczypospolitej. </span>\\n        <span start=\"3918\" end=\"4050\">przedstawiciele pokolenia \"Solidarności\", odzyskawszy suwerenność po półwieczu komunizmu, czujemy się tamtego dzieła kontynuatorami.</span>\\n        <span start=\"4051\" end=\"4092\">\\nJak dziś postrzegamy czyn patriotyczny? </span>\\n        <span start=\"4264\" end=\"4372\">Dziś narodowy czyn ma swój początek w gminie, gdzie podejmowane są decyzje dotyczące lokalnej społeczności. </span>\\n        <span start=\"4884\" end=\"4989\">Kultura narodowa i lokalna są ze sobą splecione, mają wspólne korzenie, które określają naszą tożsamość. </span>\\n        <span start=\"5364\" end=\"5513\">\\nKraków jest dziś przykładem tego, jak działania na rzecz ochrony narodowego dziedzictwa wpływają na rozwój miasta i warunki życia jego mieszkańców. </span>\\n        <span start=\"5861\" end=\"5930\">\\nW małych ojczyznach dobrze zagospodarowano wolność. Było to możliwe </span>\\n        <span start=\"5936\" end=\"6001\">dlatego, że właśnie tam najsilniejsza jest owa pamięć historyczna</span>\\n        <span start=\"6050\" end=\"6052\">. </span>\\n        <span start=\"6135\" end=\"6157\">W czasach globalizacji</span>\\n        <span start=\"6158\" end=\"6230\"> nowoczesny patriotyzm rozumiem właśnie jako budowanie Polski na dole, w</span>\\n        <span start=\"6240\" end=\"6272\"> lokalnej przestrzeni duchowej. </span>\\n        <span start=\"6713\" end=\"6729\">czyn obywatelski</span>\\n        <span start=\"6774\" end=\"6780\"> jest </span>\\n        <span start=\"6788\" end=\"6883\">rozumiany jako aktywność społeczna, a nie jako reakcja na zagrożenia zewnętrzne. Jest to także </span>\\n        <span start=\"6895\" end=\"6908\">czyn radosny.</span>\\n        <span start=\"7549\" end=\"7564\"> może stać się </span>\\n        <span start=\"7570\" end=\"7578\">źródłem </span>\\n        <span start=\"7592\" end=\"7628\">wielkiej satysfakcji, bo płynącej z </span>\\n        <span start=\"7637\" end=\"7654\">czynienia dobra. </span>\\n        <span start=\"8265\" end=\"8291\">służy ojczyźnie, poszerza </span>\\n        <span start=\"8298\" end=\"8356\">przestrzeń wolności, zachęca obywateli do samoorganizacji.</span>\\n      </spans>\\n    </summary>\\n    <summary ratio=\"5\" type=\"extract\" author=\"G\">\\n      <body>11 listopada to wielkie i radosne święto. Dla Polaków Pamięć o tych, którzy mimo upokorzeń i klęsk nigdy nie pogodzili się z utratą wolności, na zawsze pozostanie źródłem siły.\\nJak dziś postrzegamy czyn patriotyczny? ma swój początek w gminie, gdzie podejmowane są decyzje dotyczące lokalnej społeczności.  jest rozumiany jako aktywność społeczna, a nie jako reakcja na zagrożenia zewnętrzne. Jest to także czyn radosny.</body>\\n      <spans>\\n        <span start=\"823\" end=\"864\">11 listopada to wielkie i radosne święto.</span>\\n        <span start=\"924\" end=\"937\"> Dla Polaków </span>\\n        <span start=\"3169\" end=\"3196\">Pamięć o tych, którzy mimo </span>\\n        <span start=\"3213\" end=\"3230\">upokorzeń i klęsk</span>\\n        <span start=\"3231\" end=\"3275\"> nigdy nie pogodzili się z utratą wolności, </span>\\n        <span start=\"3351\" end=\"3380\">na zawsze pozostanie źródłem </span>\\n        <span start=\"3387\" end=\"3392\">siły.</span>\\n        <span start=\"4051\" end=\"4092\">\\nJak dziś postrzegamy czyn patriotyczny? </span>\\n        <span start=\"4283\" end=\"4372\">ma swój początek w gminie, gdzie podejmowane są decyzje dotyczące lokalnej społeczności. </span>\\n        <span start=\"6774\" end=\"6780\"> jest </span>\\n        <span start=\"6788\" end=\"6883\">rozumiany jako aktywność społeczna, a nie jako reakcja na zagrożenia zewnętrzne. Jest to także </span>\\n        <span start=\"6895\" end=\"6908\">czyn radosny.</span>\\n      </spans>\\n    </summary>\\n    <summary ratio=\"10\" type=\"extract\" author=\"J\">\\n      <body>Niepodległość nieprzypadkowo kojarzona jest dziś z nazwiskami Piłsudskiego, Dmowskiego, Paderewskiego. One bowiem symbolizują łańcuch uzupełniających się działań zbrojnych i dyplomatycznych, cały czas wspieranych siłą polskiej kultury. Pokolenie, które czynem zbrojnym wywalczyło wolność nie zmarnowało jej. My, przedstawiciele pokolenia \"Solidarności\" czujemy się tamtego dzieła kontynuatorami. oddanie władzy w ręce ludzi - w gminie, powiecie i województwie - jest największym zwycięstwem ponownie odzyskanej wolności. Kultura narodowa i lokalna są ze sobą splecione. nowoczesny patriotyzm rozumiem jako budowanie Polski we własnej, lokalnej przestrzeni duchowej. czyn obywatelski po raz pierwszy w naszej historii jest rozumiany jako aktywność społeczna. Polska stała się bogata w przedsięwzięcia obywatelskie. Inicjatywa przyznawania nagród \"Pro publico bono\" ma na celu przedsięwzięcia te docenić. 11 listopada 1999 roku w Krakowie kapituła konkursu \"Pro publico bono\" wyłoni pierwszych laureatów.</body>\\n      <spans>\\n        <span start=\"1315\" end=\"1551\">Niepodległość nieprzypadkowo kojarzona jest dziś z nazwiskami Piłsudskiego, Dmowskiego, Paderewskiego. One bowiem symbolizują łańcuch uzupełniających się działań zbrojnych i dyplomatycznych, cały czas wspieranych siłą polskiej kultury. </span>\\n        <span start=\"3771\" end=\"3841\">Pokolenie, które czynem zbrojnym wywalczyło wolność nie zmarnowało jej</span>\\n        <span start=\"3912\" end=\"3958\">. My, przedstawiciele pokolenia \"Solidarności\"</span>\\n        <span start=\"4007\" end=\"4050\"> czujemy się tamtego dzieła kontynuatorami.</span>\\n        <span start=\"4404\" end=\"4530\"> oddanie władzy w ręce ludzi - w gminie, powiecie i województwie - jest największym zwycięstwem ponownie odzyskanej wolności. </span>\\n        <span start=\"4884\" end=\"4931\">Kultura narodowa i lokalna są ze sobą splecione</span>\\n        <span start=\"4987\" end=\"4989\">. </span>\\n        <span start=\"6159\" end=\"6190\">nowoczesny patriotyzm rozumiem </span>\\n        <span start=\"6198\" end=\"6220\">jako budowanie Polski </span>\\n        <span start=\"6229\" end=\"6272\">we własnej, lokalnej przestrzeni duchowej. </span>\\n        <span start=\"6713\" end=\"6729\">czyn obywatelski</span>\\n        <span start=\"6740\" end=\"6780\"> po raz pierwszy w naszej historii jest </span>\\n        <span start=\"6788\" end=\"6822\">rozumiany jako aktywność społeczna</span>\\n        <span start=\"7781\" end=\"7783\">. </span>\\n        <span start=\"8911\" end=\"8928\">Polska stała się </span>\\n        <span start=\"8937\" end=\"9025\">bogata w przedsięwzięcia obywatelskie. Inicjatywa przyznawania nagród \"Pro publico bono\"</span>\\n        <span start=\"9058\" end=\"9089\"> ma na celu przedsięwzięcia te </span>\\n        <span start=\"9100\" end=\"9109\">docenić. </span>\\n        <span start=\"9255\" end=\"9326\">11 listopada 1999 roku w Krakowie kapituła konkursu \"Pro publico bono\" </span>\\n        <span start=\"9412\" end=\"9440\">wyłoni pierwszych laureatów.</span>\\n      </spans>\\n    </summary>\\n    <summary ratio=\"20\" type=\"extract\" author=\"J\">\\n      <body>Święto Niepodległości, na przełomie tysiącleci, stwarza szczególną okazję do refleksji nad dokonaniami dwóch pokoleń: tego, którego udziałem stało się w 1918 roku odzyskanie wolności i tego, które niepodległą Rzeczpospolitą od dziesięciu lat współtworzy. \\n\\nNiepodległość nieprzypadkowo kojarzona jest dziś z nazwiskami Piłsudskiego, Dmowskiego, Paderewskiego. One bowiem symbolizują łańcuch uzupełniających się działań zbrojnych i dyplomatycznych, cały czas wspieranych siłą polskiej kultury. trzeba pamiętać, że czyn niepodległościowy niejedno miał imię. duch patriotyczny w decydujących dla losów narodu momentach tryumfował nad duchem politycznych sporów.\\n\\nNie sposób dziś negować osiągnięć II Rzeczypospolitej. Pokolenie, które czynem zbrojnym wywalczyło wolność nie zmarnowało jej. My, przedstawiciele pokolenia \"Solidarności\", odzyskawszy suwerenność po półwieczu komunizmu, czujemy się tamtego dzieła kontynuatorami. oddanie władzy w ręce ludzi - w gminie, powiecie i województwie - jest największym zwycięstwem ponownie odzyskanej wolności. Kultura narodowa i lokalna są ze sobą splecione. Wybór Krakowa na kulturalną stolicę Europy w roku 2000 potwierdza, że we współczesnym świecie docenia się udział kultury  w budowaniu tożsamości. dzięki kulturze w równym stopniu jak przez sukces gospodarczy stajemy się członkiem europejskiej wspólnoty. nowoczesny patriotyzm rozumiem jako budowanie Polski we własnej, lokalnej przestrzeni duchowej. \\n\\nczyn obywatelski po raz pierwszy w naszej historii jest to czyn rozumiany jako aktywność społeczna, a nie jako reakcja na zagrożenia zewnętrzne. dziś, działając pro publico bono, można przyczyniać się do cywilizacyjnego rozwoju państwa, zwiększając jego dobrobyt. Polska stała się wreszcie bogata w przedsięwzięcia obywatelskie. Inicjatywa przyznawania nagród \"Pro publico bono\" ma na celu przedsięwzięcia te dostrzec i docenić. 11 listopada 1999 roku w Krakowie kapituła konkursu \"Pro publico bono\" wyłoni pierwszych laureatów.</body>\\n      <spans>\\n        <span start=\"161\" end=\"416\">Święto Niepodległości, na przełomie tysiącleci, stwarza szczególną okazję do refleksji nad dokonaniami dwóch pokoleń: tego, którego udziałem stało się w 1918 roku odzyskanie wolności i tego, które niepodległą Rzeczpospolitą od dziesięciu lat współtworzy. </span>\\n        <span start=\"809\" end=\"810\">\\n</span>\\n        <span start=\"822\" end=\"823\">\\n</span>\\n        <span start=\"1315\" end=\"1551\">Niepodległość nieprzypadkowo kojarzona jest dziś z nazwiskami Piłsudskiego, Dmowskiego, Paderewskiego. One bowiem symbolizują łańcuch uzupełniających się działań zbrojnych i dyplomatycznych, cały czas wspieranych siłą polskiej kultury. </span>\\n        <span start=\"1606\" end=\"1613\">trzeba </span>\\n        <span start=\"1620\" end=\"1675\">pamiętać, że czyn niepodległościowy niejedno miał imię.</span>\\n        <span start=\"3064\" end=\"3168\"> duch patriotyczny w decydujących dla losów narodu momentach tryumfował nad duchem politycznych sporów.\\n</span>\\n        <span start=\"3644\" end=\"3700\">\\nNie sposób dziś negować osiągnięć II Rzeczypospolitej. </span>\\n        <span start=\"3771\" end=\"3841\">Pokolenie, które czynem zbrojnym wywalczyło wolność nie zmarnowało jej</span>\\n        <span start=\"3912\" end=\"4050\">. My, przedstawiciele pokolenia \"Solidarności\", odzyskawszy suwerenność po półwieczu komunizmu, czujemy się tamtego dzieła kontynuatorami.</span>\\n        <span start=\"4404\" end=\"4530\"> oddanie władzy w ręce ludzi - w gminie, powiecie i województwie - jest największym zwycięstwem ponownie odzyskanej wolności. </span>\\n        <span start=\"4884\" end=\"4931\">Kultura narodowa i lokalna są ze sobą splecione</span>\\n        <span start=\"4987\" end=\"5133\">. Wybór Krakowa na kulturalną stolicę Europy w roku 2000 potwierdza, że we współczesnym świecie docenia się udział kultury  w budowaniu tożsamości</span>\\n        <span start=\"5218\" end=\"5220\">. </span>\\n        <span start=\"5710\" end=\"5816\">dzięki kulturze w równym stopniu jak przez sukces gospodarczy stajemy się członkiem europejskiej wspólnoty</span>\\n        <span start=\"5859\" end=\"5860\">.</span>\\n        <span start=\"6158\" end=\"6190\"> nowoczesny patriotyzm rozumiem </span>\\n        <span start=\"6198\" end=\"6220\">jako budowanie Polski </span>\\n        <span start=\"6229\" end=\"6272\">we własnej, lokalnej przestrzeni duchowej. </span>\\n        <span start=\"6679\" end=\"6680\">\\n</span>\\n        <span start=\"6697\" end=\"6698\">\\n</span>\\n        <span start=\"6713\" end=\"6729\">czyn obywatelski</span>\\n        <span start=\"6740\" end=\"6869\"> po raz pierwszy w naszej historii jest to czyn rozumiany jako aktywność społeczna, a nie jako reakcja na zagrożenia zewnętrzne. </span>\\n        <span start=\"7664\" end=\"7783\">dziś, działając pro publico bono, można przyczyniać się do cywilizacyjnego rozwoju państwa, zwiększając jego dobrobyt. </span>\\n        <span start=\"8911\" end=\"9025\">Polska stała się wreszcie bogata w przedsięwzięcia obywatelskie. Inicjatywa przyznawania nagród \"Pro publico bono\"</span>\\n        <span start=\"9058\" end=\"9109\"> ma na celu przedsięwzięcia te dostrzec i docenić. </span>\\n        <span start=\"9255\" end=\"9326\">11 listopada 1999 roku w Krakowie kapituła konkursu \"Pro publico bono\" </span>\\n        <span start=\"9412\" end=\"9440\">wyłoni pierwszych laureatów.</span>\\n      </spans>\\n    </summary>\\n    <summary ratio=\"5\" type=\"extract\" author=\"J\">\\n      <body>Niepodległość kojarzona jest z nazwiskami Piłsudskiego, Dmowskiego, Paderewskiego. Pokolenie, które czynem zbrojnym wywalczyło wolność nie zmarnowało jej. My, przedstawiciele pokolenia \"Solidarności\" czujemy się tamtego dzieła kontynuatorami. oddanie władzy w ręce ludzi - w gminie, powiecie i województwie - jest największym zwycięstwem ponownie odzyskanej wolności. Polska stała się bogata w przedsięwzięcia obywatelskie. Inicjatywa przyznawania nagród \"Pro publico bono\" ma na celu przedsięwzięcia te docenić.</body>\\n      <spans>\\n        <span start=\"1315\" end=\"1329\">Niepodległość </span>\\n        <span start=\"1344\" end=\"1359\">kojarzona jest </span>\\n        <span start=\"1364\" end=\"1418\">z nazwiskami Piłsudskiego, Dmowskiego, Paderewskiego. </span>\\n        <span start=\"3771\" end=\"3841\">Pokolenie, które czynem zbrojnym wywalczyło wolność nie zmarnowało jej</span>\\n        <span start=\"3912\" end=\"3958\">. My, przedstawiciele pokolenia \"Solidarności\"</span>\\n        <span start=\"4007\" end=\"4050\"> czujemy się tamtego dzieła kontynuatorami.</span>\\n        <span start=\"4404\" end=\"4530\"> oddanie władzy w ręce ludzi - w gminie, powiecie i województwie - jest największym zwycięstwem ponownie odzyskanej wolności. </span>\\n        <span start=\"8911\" end=\"8928\">Polska stała się </span>\\n        <span start=\"8937\" end=\"9025\">bogata w przedsięwzięcia obywatelskie. Inicjatywa przyznawania nagród \"Pro publico bono\"</span>\\n        <span start=\"9058\" end=\"9089\"> ma na celu przedsięwzięcia te </span>\\n        <span start=\"9100\" end=\"9108\">docenić.</span>\\n      </spans>\\n    </summary>\\n    <summary ratio=\"10\" type=\"extract\" author=\"A\">\\n      <body>Święto Niepodległości, na przełomie tysiącleci, stwarza szczególną okazję do refleksji nad dokonaniami dwóch pokoleń: tego, którego udziałem stało się w 1918 roku odzyskanie wolności i tego, które niepodległą Rzeczpospolitą od dziesięciu lat współtworzy. \\n11 listopada to wielkie i radosne święto. Dla Polaków czyn zbrojny, który przyniósł wolność, miał wymiar szczególny. Pamięć o tych, którzy mimo 123 lat niewoli, upokorzeń i klęsk, nigdy nie pogodzili się z utratą wolności, na zawsze pozostanie źródłem naszej siły. Dziedzictwo czynu 11 listopada to patriotyzm najwyższej próby.\\nDziś narodowy czyn ma swój początek w gminie, gdzie podejmowane są decyzje dotyczące lokalnej społeczności. Samorząd jest najlepszą szkołą patriotyzmu. \\nCzym jest dziś czyn obywatelski? Myślę, że po raz pierwszy w naszej historii jest to czyn rozumiany jako aktywność społeczna, a nie jako reakcja na zagrożenia zewnętrzne.</body>\\n      <spans>\\n        <span start=\"161\" end=\"416\">Święto Niepodległości, na przełomie tysiącleci, stwarza szczególną okazję do refleksji nad dokonaniami dwóch pokoleń: tego, którego udziałem stało się w 1918 roku odzyskanie wolności i tego, które niepodległą Rzeczpospolitą od dziesięciu lat współtworzy. </span>\\n        <span start=\"822\" end=\"865\">\\n11 listopada to wielkie i radosne święto. </span>\\n        <span start=\"925\" end=\"1000\">Dla Polaków czyn zbrojny, który przyniósł wolność, miał wymiar szczególny. </span>\\n        <span start=\"3169\" end=\"3274\">Pamięć o tych, którzy mimo 123 lat niewoli, upokorzeń i klęsk, nigdy nie pogodzili się z utratą wolności,</span>\\n        <span start=\"3350\" end=\"3393\"> na zawsze pozostanie źródłem naszej siły. </span>\\n        <span start=\"3566\" end=\"3628\">Dziedzictwo czynu 11 listopada to patriotyzm najwyższej próby.</span>\\n        <span start=\"4050\" end=\"4051\">\\n</span>\\n        <span start=\"4264\" end=\"4372\">Dziś narodowy czyn ma swój początek w gminie, gdzie podejmowane są decyzje dotyczące lokalnej społeczności. </span>\\n        <span start=\"4714\" end=\"4758\">Samorząd jest najlepszą szkołą patriotyzmu. </span>\\n        <span start=\"6697\" end=\"6868\">\\nCzym jest dziś czyn obywatelski? Myślę, że po raz pierwszy w naszej historii jest to czyn rozumiany jako aktywność społeczna, a nie jako reakcja na zagrożenia zewnętrzne.</span>\\n      </spans>\\n    </summary>\\n    <summary ratio=\"20\" type=\"extract\" author=\"A\">\\n      <body>Święto Niepodległości, na przełomie tysiącleci, stwarza szczególną okazję do refleksji nad dokonaniami dwóch pokoleń: tego, którego udziałem stało się w 1918 roku odzyskanie wolności i tego, które niepodległą Rzeczpospolitą od dziesięciu lat współtworzy. Jakie pożytki czerpiemy dziś z ponownie odzyskanej wolności?Jaka jest dzisiejsza wymowa słowa patriotyzm? Jak teraz układają się relacje między Polakami a ich państwem? Na czym w 1999 roku polega czyn obywatelski? Odpowiedzi na te pytania postanowiłem w tym roku poszukać w Krakowie, \"mateczniku polskości\", w mieście, gdzie historia i współczesność przenikają się w stopniu najpełniejszym.\\n11 listopada to wielkie i radosne święto. Dla Polaków czyn zbrojny, który przyniósł wolność, miał wymiar szczególny. Pamięć o tych, którzy mimo 123 lat niewoli, upokorzeń i klęsk, nigdy nie pogodzili się z utratą wolności, a także o tych, którzy ów protest przechowali przez noc nazizmu i komunizmu na zawsze pozostanie źródłem naszej siły. Dziedzictwo czynu 11 listopada to patriotyzm najwyższej próby.\\nNie sposób dziś negować osiągnięć II Rzeczypospolitej.  Pokolenie, które czynem zbrojnym wywalczyło wolność nie zmarnowało jej, choć nie dane mu było dokończyć dzieła odbudowy polskiej państwowości. My, przedstawiciele pokolenia \"Solidarności\", odzyskawszy suwerenność po półwieczu komunizmu, czujemy się tamtego dzieła kontynuatorami.\\nDziś narodowy czyn ma swój początek w gminie, gdzie podejmowane są decyzje dotyczące lokalnej społeczności. Samorząd jest najlepszą szkołą patriotyzmu. \\nCzym jest dziś czyn obywatelski? Myślę, że po raz pierwszy w naszej historii jest to czyn rozumiany jako aktywność społeczna, a nie jako reakcja na zagrożenia zewnętrzne. Każdy wysiłek pro publico bono służy ojczyźnie, poszerza bowiem przestrzeń wolności, zachęca obywateli do samoorganizacji.</body>\\n      <spans>\\n        <span start=\"161\" end=\"476\">Święto Niepodległości, na przełomie tysiącleci, stwarza szczególną okazję do refleksji nad dokonaniami dwóch pokoleń: tego, którego udziałem stało się w 1918 roku odzyskanie wolności i tego, które niepodległą Rzeczpospolitą od dziesięciu lat współtworzy. Jakie pożytki czerpiemy dziś z ponownie odzyskanej wolności?</span>\\n        <span start=\"478\" end=\"808\">Jaka jest dzisiejsza wymowa słowa patriotyzm? Jak teraz układają się relacje między Polakami a ich państwem? Na czym w 1999 roku polega czyn obywatelski? Odpowiedzi na te pytania postanowiłem w tym roku poszukać w Krakowie, \"mateczniku polskości\", w mieście, gdzie historia i współczesność przenikają się w stopniu najpełniejszym.</span>\\n        <span start=\"822\" end=\"865\">\\n11 listopada to wielkie i radosne święto. </span>\\n        <span start=\"925\" end=\"1000\">Dla Polaków czyn zbrojny, który przyniósł wolność, miał wymiar szczególny. </span>\\n        <span start=\"3169\" end=\"3393\">Pamięć o tych, którzy mimo 123 lat niewoli, upokorzeń i klęsk, nigdy nie pogodzili się z utratą wolności, a także o tych, którzy ów protest przechowali przez noc nazizmu i komunizmu na zawsze pozostanie źródłem naszej siły. </span>\\n        <span start=\"3566\" end=\"3629\">Dziedzictwo czynu 11 listopada to patriotyzm najwyższej próby.\\n</span>\\n        <span start=\"3645\" end=\"3700\">Nie sposób dziś negować osiągnięć II Rzeczypospolitej. </span>\\n        <span start=\"3770\" end=\"4051\"> Pokolenie, które czynem zbrojnym wywalczyło wolność nie zmarnowało jej, choć nie dane mu było dokończyć dzieła odbudowy polskiej państwowości. My, przedstawiciele pokolenia \"Solidarności\", odzyskawszy suwerenność po półwieczu komunizmu, czujemy się tamtego dzieła kontynuatorami.\\n</span>\\n        <span start=\"4264\" end=\"4372\">Dziś narodowy czyn ma swój początek w gminie, gdzie podejmowane są decyzje dotyczące lokalnej społeczności. </span>\\n        <span start=\"4714\" end=\"4758\">Samorząd jest najlepszą szkołą patriotyzmu. </span>\\n        <span start=\"6697\" end=\"6869\">\\nCzym jest dziś czyn obywatelski? Myślę, że po raz pierwszy w naszej historii jest to czyn rozumiany jako aktywność społeczna, a nie jako reakcja na zagrożenia zewnętrzne. </span>\\n        <span start=\"8234\" end=\"8356\">Każdy wysiłek pro publico bono służy ojczyźnie, poszerza bowiem przestrzeń wolności, zachęca obywateli do samoorganizacji.</span>\\n      </spans>\\n    </summary>\\n    <summary ratio=\"5\" type=\"extract\" author=\"A\">\\n      <body>Święto Niepodległości, na przełomie tysiącleci, stwarza szczególną okazję do refleksji nad dokonaniami dwóch pokoleń: tego, którego udziałem stało się w 1918 roku odzyskanie wolności i tego, które niepodległą Rzeczpospolitą od dziesięciu lat współtworzy. Czym jest dziś czyn obywatelski? Myślę, że po raz pierwszy w naszej historii jest to czyn rozumiany jako aktywność społeczna, a nie jako reakcja na zagrożenia zewnętrzne.</body>\\n      <spans>\\n        <span start=\"161\" end=\"416\">Święto Niepodległości, na przełomie tysiącleci, stwarza szczególną okazję do refleksji nad dokonaniami dwóch pokoleń: tego, którego udziałem stało się w 1918 roku odzyskanie wolności i tego, które niepodległą Rzeczpospolitą od dziesięciu lat współtworzy. </span>\\n        <span start=\"6698\" end=\"6868\">Czym jest dziś czyn obywatelski? Myślę, że po raz pierwszy w naszej historii jest to czyn rozumiany jako aktywność społeczna, a nie jako reakcja na zagrożenia zewnętrzne.</span>\\n      </spans>\\n    </summary>\\n    <summary ratio=\"10\" type=\"extract\" author=\"B\">\\n      <body>Święto Niepodległości stwarza okazję do refleksji nad dokonaniami dwóch pokoleń: tego, którego udziałem stało się w 1918 roku odzyskanie wolności i tego, które niepodległą Rzeczpospolitą od dziesięciu lat współtworzy. \\n\\nPamięć o tych, którzy mimo lat niewoli, nie pogodzili się z utratą wolności, pozostanie źródłem naszej siły. Pokolenie, które czynem zbrojnym wywalczyło wolność nie zmarnowało jej, choć nie dane mu było dokończyć dzieła odbudowy. My, przedstawiciele pokolenia \"Solidarności\", czujemy się tamtego dzieła kontynuatorami. Dziś narodowy czyn ma swój początek w gminie. państwo trzeba budować na fundamencie lokalnego dziedzictwa. dziś czyn obywatelski jest rozumiany jako aktywność społeczna, a nie jako reakcja na zagrożenia zewnętrzne. działając pro publico bono, można przyczyniać się do rozwoju państwa. \\n\\nPolska stała się bogata w przedsięwzięcia obywatelskie. Inicjatywa przyznawania nagród \"Pro publico bono\", której mam zaszczyt patronować, ma na celu przedsięwzięcia te docenić.</body>\\n      <spans>\\n        <span start=\"161\" end=\"182\">Święto Niepodległości</span>\\n        <span start=\"208\" end=\"217\"> stwarza </span>\\n        <span start=\"228\" end=\"416\">okazję do refleksji nad dokonaniami dwóch pokoleń: tego, którego udziałem stało się w 1918 roku odzyskanie wolności i tego, które niepodległą Rzeczpospolitą od dziesięciu lat współtworzy. </span>\\n        <span start=\"821\" end=\"823\">\\n\\n</span>\\n        <span start=\"3169\" end=\"3196\">Pamięć o tych, którzy mimo </span>\\n        <span start=\"3200\" end=\"3211\">lat niewoli</span>\\n        <span start=\"3230\" end=\"3232\">, </span>\\n        <span start=\"3238\" end=\"3275\">nie pogodzili się z utratą wolności, </span>\\n        <span start=\"3361\" end=\"3393\">pozostanie źródłem naszej siły. </span>\\n        <span start=\"3771\" end=\"3890\">Pokolenie, które czynem zbrojnym wywalczyło wolność nie zmarnowało jej, choć nie dane mu było dokończyć dzieła odbudowy</span>\\n        <span start=\"3912\" end=\"3960\">. My, przedstawiciele pokolenia \"Solidarności\", </span>\\n        <span start=\"4008\" end=\"4050\">czujemy się tamtego dzieła kontynuatorami.</span>\\n        <span start=\"4263\" end=\"4308\"> Dziś narodowy czyn ma swój początek w gminie</span>\\n        <span start=\"4370\" end=\"4371\">.</span>\\n        <span start=\"6051\" end=\"6052\"> </span>\\n        <span start=\"6066\" end=\"6081\">państwo trzeba </span>\\n        <span start=\"6089\" end=\"6135\">budować na fundamencie lokalnego dziedzictwa. </span>\\n        <span start=\"6708\" end=\"6729\">dziś czyn obywatelski</span>\\n        <span start=\"6774\" end=\"6780\"> jest </span>\\n        <span start=\"6788\" end=\"6869\">rozumiany jako aktywność społeczna, a nie jako reakcja na zagrożenia zewnętrzne. </span>\\n        <span start=\"7670\" end=\"7723\">działając pro publico bono, można przyczyniać się do </span>\\n        <span start=\"7739\" end=\"7754\">rozwoju państwa</span>\\n        <span start=\"7781\" end=\"7783\">. </span>\\n        <span start=\"8871\" end=\"8873\">\\n\\n</span>\\n        <span start=\"8911\" end=\"8928\">Polska stała się </span>\\n        <span start=\"8937\" end=\"9089\">bogata w przedsięwzięcia obywatelskie. Inicjatywa przyznawania nagród \"Pro publico bono\", której mam zaszczyt patronować, ma na celu przedsięwzięcia te </span>\\n        <span start=\"9100\" end=\"9108\">docenić.</span>\\n      </spans>\\n    </summary>\\n    <summary ratio=\"20\" type=\"extract\" author=\"B\">\\n      <body>Święto Niepodległości stwarza okazję do refleksji nad dokonaniami dwóch pokoleń: tego, którego udziałem stało się w 1918 roku odzyskanie wolności i tego, które niepodległą Rzeczpospolitą od dziesięciu lat współtworzy. \\n\\n11 listopada to wielkie święto. Dla Polaków czyn zbrojny, który przyniósł wolność, miał wymiar szczególny. Po dekadach znaczonych bezowocnymi zrywami powstańczymi okazał się czynem skutecznym. Polska nie była dla pokoleń czasu niewoli abstrakcją, lecz obowiązkiem do spełniania. Czasem trudnym dziedzictwem.Dzięki tej pamięci naród przetrwał. Pamięć o tych, którzy mimo 123 lat niewoli i klęsk, nie pogodzili się z utratą wolności, pozostanie źródłem naszej siły. \\n\\nPokolenie, które czynem zbrojnym wywalczyło wolność nie zmarnowało jej, choć nie dane mu było dokończyć dzieła odbudowy. My, przedstawiciele pokolenia \"Solidarności\", czujemy się tamtego dzieła kontynuatorami. Czym jest odzyskane na nowo państwo? Przede wszystkim wspólnotą polityczną władz centralnych i samorządu, dobrem wspólnym obywateli. Dziś narodowy czyn ma swój początek w gminie. W małych ojczyznach dobrze zagospodarowano wolność. tam najsilniejsza jest pamięć historyczna. państwo trzeba i warto budować na fundamencie lokalnego dziedzictwa. \\n\\nCzym jest dziś czyn obywatelski? po raz pierwszy w naszej historii jest to czyn rozumiany jako aktywność społeczna, a nie jako reakcja na zagrożenia zewnętrzne. dziś, działając pro publico bono, można przyczyniać się do cywilizacyjnego rozwoju państwa. Mądrość narodu polega na tym, że potrafi nobilitować twórczą pracę obywatelską. Jest ona bowiem dowodem istnienia wspólnoty, potwierdza jej tożsamość i ciągłość historyczną. \\n\\nPolska stała się wreszcie bogata w przedsięwzięcia obywatelskie. Inicjatywa przyznawania nagród \"Pro publico bono\", której mam zaszczyt patronować, ma na celu przedsięwzięcia te dostrzec i docenić. praca dla dobra wspólnego tworzy fundament narodowego bytu.</body>\\n      <spans>\\n        <span start=\"161\" end=\"182\">Święto Niepodległości</span>\\n        <span start=\"208\" end=\"217\"> stwarza </span>\\n        <span start=\"228\" end=\"416\">okazję do refleksji nad dokonaniami dwóch pokoleń: tego, którego udziałem stało się w 1918 roku odzyskanie wolności i tego, które niepodległą Rzeczpospolitą od dziesięciu lat współtworzy. </span>\\n        <span start=\"821\" end=\"847\">\\n\\n11 listopada to wielkie </span>\\n        <span start=\"857\" end=\"865\">święto. </span>\\n        <span start=\"925\" end=\"1067\">Dla Polaków czyn zbrojny, który przyniósł wolność, miał wymiar szczególny. Po dekadach znaczonych bezowocnymi zrywami powstańczymi okazał się </span>\\n        <span start=\"1076\" end=\"1093\">czynem skutecznym</span>\\n        <span start=\"1148\" end=\"1150\">. </span>\\n        <span start=\"2197\" end=\"2203\">Polska</span>\\n        <span start=\"2231\" end=\"2318\"> nie była dla pokoleń czasu niewoli abstrakcją, lecz obowiązkiem do spełniania. Czasem </span>\\n        <span start=\"2324\" end=\"2344\">trudnym dziedzictwem</span>\\n        <span start=\"2408\" end=\"2409\">.</span>\\n        <span start=\"2411\" end=\"2445\">Dzięki tej pamięci naród przetrwał</span>\\n        <span start=\"2533\" end=\"2535\">. </span>\\n        <span start=\"3169\" end=\"3211\">Pamięć o tych, którzy mimo 123 lat niewoli</span>\\n        <span start=\"3222\" end=\"3232\"> i klęsk, </span>\\n        <span start=\"3238\" end=\"3275\">nie pogodzili się z utratą wolności, </span>\\n        <span start=\"3361\" end=\"3393\">pozostanie źródłem naszej siły. </span>\\n        <span start=\"3643\" end=\"3645\">\\n\\n</span>\\n        <span start=\"3771\" end=\"3890\">Pokolenie, które czynem zbrojnym wywalczyło wolność nie zmarnowało jej, choć nie dane mu było dokończyć dzieła odbudowy</span>\\n        <span start=\"3912\" end=\"3960\">. My, przedstawiciele pokolenia \"Solidarności\", </span>\\n        <span start=\"4008\" end=\"4050\">czujemy się tamtego dzieła kontynuatorami.</span>\\n        <span start=\"4091\" end=\"4097\"> Czym </span>\\n        <span start=\"4136\" end=\"4308\">jest odzyskane na nowo państwo? Przede wszystkim wspólnotą polityczną władz centralnych i samorządu, dobrem wspólnym obywateli. Dziś narodowy czyn ma swój początek w gminie</span>\\n        <span start=\"4370\" end=\"4372\">. </span>\\n        <span start=\"5862\" end=\"5914\">W małych ojczyznach dobrze zagospodarowano wolność. </span>\\n        <span start=\"5956\" end=\"5979\">tam najsilniejsza jest </span>\\n        <span start=\"5983\" end=\"6001\">pamięć historyczna</span>\\n        <span start=\"6050\" end=\"6052\">. </span>\\n        <span start=\"6066\" end=\"6135\">państwo trzeba i warto budować na fundamencie lokalnego dziedzictwa. </span>\\n        <span start=\"6696\" end=\"6731\">\\n\\nCzym jest dziś czyn obywatelski? </span>\\n        <span start=\"6741\" end=\"6869\">po raz pierwszy w naszej historii jest to czyn rozumiany jako aktywność społeczna, a nie jako reakcja na zagrożenia zewnętrzne. </span>\\n        <span start=\"7664\" end=\"7754\">dziś, działając pro publico bono, można przyczyniać się do cywilizacyjnego rozwoju państwa</span>\\n        <span start=\"7781\" end=\"7783\">. </span>\\n        <span start=\"8357\" end=\"8531\">Mądrość narodu polega na tym, że potrafi nobilitować twórczą pracę obywatelską. Jest ona bowiem dowodem istnienia wspólnoty, potwierdza jej tożsamość i ciągłość historyczną. </span>\\n        <span start=\"8871\" end=\"8873\">\\n\\n</span>\\n        <span start=\"8911\" end=\"9109\">Polska stała się wreszcie bogata w przedsięwzięcia obywatelskie. Inicjatywa przyznawania nagród \"Pro publico bono\", której mam zaszczyt patronować, ma na celu przedsięwzięcia te dostrzec i docenić. </span>\\n        <span start=\"9172\" end=\"9197\">praca dla dobra wspólnego</span>\\n        <span start=\"9219\" end=\"9253\"> tworzy fundament narodowego bytu.</span>\\n      </spans>\\n    </summary>\\n    <summary ratio=\"5\" type=\"extract\" author=\"B\">\\n      <body>Święto Niepodległości stwarza okazję do refleksji. Pamięć o tych, którzy mimo lat niewoli, nie pogodzili się z utratą wolności, pozostanie źródłem naszej siły. dziś czyn obywatelski jest rozumiany jako aktywność społeczna, a nie jako reakcja na zagrożenia zewnętrzne. działając pro publico bono, można przyczyniać się do rozwoju państwa. Polska stała się bogata w przedsięwzięcia obywatelskie. Inicjatywa przyznawania nagród \"Pro publico bono\" ma na celu przedsięwzięcia te docenić.</body>\\n      <spans>\\n        <span start=\"161\" end=\"182\">Święto Niepodległości</span>\\n        <span start=\"208\" end=\"217\"> stwarza </span>\\n        <span start=\"228\" end=\"247\">okazję do refleksji</span>\\n        <span start=\"414\" end=\"416\">. </span>\\n        <span start=\"3169\" end=\"3196\">Pamięć o tych, którzy mimo </span>\\n        <span start=\"3200\" end=\"3211\">lat niewoli</span>\\n        <span start=\"3230\" end=\"3232\">, </span>\\n        <span start=\"3238\" end=\"3275\">nie pogodzili się z utratą wolności, </span>\\n        <span start=\"3361\" end=\"3393\">pozostanie źródłem naszej siły. </span>\\n        <span start=\"6708\" end=\"6729\">dziś czyn obywatelski</span>\\n        <span start=\"6774\" end=\"6780\"> jest </span>\\n        <span start=\"6788\" end=\"6869\">rozumiany jako aktywność społeczna, a nie jako reakcja na zagrożenia zewnętrzne. </span>\\n        <span start=\"7670\" end=\"7723\">działając pro publico bono, można przyczyniać się do </span>\\n        <span start=\"7739\" end=\"7754\">rozwoju państwa</span>\\n        <span start=\"7781\" end=\"7783\">. </span>\\n        <span start=\"8911\" end=\"8928\">Polska stała się </span>\\n        <span start=\"8937\" end=\"9025\">bogata w przedsięwzięcia obywatelskie. Inicjatywa przyznawania nagród \"Pro publico bono\"</span>\\n        <span start=\"9058\" end=\"9089\"> ma na celu przedsięwzięcia te </span>\\n        <span start=\"9100\" end=\"9108\">docenić.</span>\\n      </spans>\\n    </summary>\\n    <summary ratio=\"10\" type=\"extract\" author=\"K\">\\n      <body>Święto Niepodległości, na przełomie tysiącleci, stwarza szczególną okazję do refleksji nad dokonaniami dwóch pokoleń: tego, którego udziałem stało się w 1918 roku odzyskanie wolności i tego, które niepodległą Rzeczpospolitą od dziesięciu lat współtworzy.Wawel i jego sarkofagi to żywa pamięć znamienitej przeszłości. Na tyle żywa, że jak mickiewiczowska pieśń \"uszła cało\" z zawieruchy historii. Przekazywano ją w rodzinie, w Kościele, uczono z książek. Właśnie dlatego Polska - skreślona z mapy Europy - nie była dla pokoleń czasu niewoli abstrakcją, lecz obowiązkiem do spełniania. Dzięki tej pamięci naród przetrwał, a w kluczowym momencie historii dostrzegł swoją szansę i miał odwagę z niej skorzystać.Nie sposób dziś negować osiągnięć II Rzeczypospolitej. Z perspektywy czasu tamte dokonania zdumiewają śmiałością i rozmachem. Pokolenie, które czynem zbrojnym wywalczyło wolność nie zmarnowało jej, choć nie dane mu było dokończyć dzieła odbudowy polskiej państwowości. My, przedstawiciele pokolenia \"Solidarności\", odzyskawszy suwerenność po półwieczu komunizmu, czujemy się tamtego dzieła kontynuatorami.</body>\\n      <spans>\\n        <span start=\"161\" end=\"415\">Święto Niepodległości, na przełomie tysiącleci, stwarza szczególną okazję do refleksji nad dokonaniami dwóch pokoleń: tego, którego udziałem stało się w 1918 roku odzyskanie wolności i tego, które niepodległą Rzeczpospolitą od dziesięciu lat współtworzy.</span>\\n        <span start=\"1981\" end=\"2311\">Wawel i jego sarkofagi to żywa pamięć znamienitej przeszłości. Na tyle żywa, że jak mickiewiczowska pieśń \"uszła cało\" z zawieruchy historii. Przekazywano ją w rodzinie, w Kościele, uczono z książek. Właśnie dlatego Polska - skreślona z mapy Europy - nie była dla pokoleń czasu niewoli abstrakcją, lecz obowiązkiem do spełniania. </span>\\n        <span start=\"2411\" end=\"2534\">Dzięki tej pamięci naród przetrwał, a w kluczowym momencie historii dostrzegł swoją szansę i miał odwagę z niej skorzystać.</span>\\n        <span start=\"3645\" end=\"4050\">Nie sposób dziś negować osiągnięć II Rzeczypospolitej. Z perspektywy czasu tamte dokonania zdumiewają śmiałością i rozmachem. Pokolenie, które czynem zbrojnym wywalczyło wolność nie zmarnowało jej, choć nie dane mu było dokończyć dzieła odbudowy polskiej państwowości. My, przedstawiciele pokolenia \"Solidarności\", odzyskawszy suwerenność po półwieczu komunizmu, czujemy się tamtego dzieła kontynuatorami.</span>\\n      </spans>\\n    </summary>\\n    <summary ratio=\"20\" type=\"extract\" author=\"K\">\\n      <body>Święto Niepodległości, na przełomie tysiącleci, stwarza szczególną okazję do refleksji nad dokonaniami dwóch pokoleń: tego, którego udziałem stało się w 1918 roku odzyskanie wolności i tego, które niepodległą Rzeczpospolitą od dziesięciu lat współtworzy.Jaka jest dzisiejsza wymowa słowa patriotyzm? Jak teraz układają się relacje między Polakami a ich państwem? Na czym w 1999 roku polega czyn obywatelski? Odpowiedzi na te pytania postanowiłem w tym roku poszukać w Krakowie, \"mateczniku polskości\", w mieście, gdzie historia i współczesność przenikają się w stopniu najpełniejszym.Wawel i jego sarkofagi to żywa pamięć znamienitej przeszłości. Na tyle żywa, że jak mickiewiczowska pieśń \"uszła cało\" z zawieruchy historii. Przekazywano ją w rodzinie, w Kościele, uczono z książek. Właśnie dlatego Polska - skreślona z mapy Europy - nie była dla pokoleń czasu niewoli abstrakcją, lecz obowiązkiem do spełniania. Dzięki tej pamięci naród przetrwał, a w kluczowym momencie historii dostrzegł swoją szansę i miał odwagę z niej skorzystać. Dlatego krakowskie rozważania o patriotyzmie trzeba rozpocząć od hołdu złożonego bohaterom narodowym przy grobie marszałka Józefa Piłsudskiego i przy prochach bezimiennych żołnierzy Rzeczypospolitej.\\nNie sposób dziś negować osiągnięć II Rzeczypospolitej. Z perspektywy czasu tamte dokonania zdumiewają śmiałością i rozmachem. Pokolenie, które czynem zbrojnym wywalczyło wolność nie zmarnowało jej, choć nie dane mu było dokończyć dzieła odbudowy polskiej państwowości. My, przedstawiciele pokolenia \"Solidarności\", odzyskawszy suwerenność po półwieczu komunizmu, czujemy się tamtego dzieła kontynuatorami. Czym dla mnie jako premiera polskiego rządu jest odzyskane na nowo państwo? Przede wszystkim wspólnotą polityczną władz centralnych i samorządu, dobrem wspólnym obywateli. Czym jest dziś czyn obywatelski? Myślę, że po raz pierwszy w naszej historii jest to czyn rozumiany jako aktywność społeczna, a nie jako reakcja na zagrożenia zewnętrzne.</body>\\n      <spans>\\n        <span start=\"161\" end=\"415\">Święto Niepodległości, na przełomie tysiącleci, stwarza szczególną okazję do refleksji nad dokonaniami dwóch pokoleń: tego, którego udziałem stało się w 1918 roku odzyskanie wolności i tego, które niepodległą Rzeczpospolitą od dziesięciu lat współtworzy.</span>\\n        <span start=\"478\" end=\"808\">Jaka jest dzisiejsza wymowa słowa patriotyzm? Jak teraz układają się relacje między Polakami a ich państwem? Na czym w 1999 roku polega czyn obywatelski? Odpowiedzi na te pytania postanowiłem w tym roku poszukać w Krakowie, \"mateczniku polskości\", w mieście, gdzie historia i współczesność przenikają się w stopniu najpełniejszym.</span>\\n        <span start=\"1981\" end=\"2311\">Wawel i jego sarkofagi to żywa pamięć znamienitej przeszłości. Na tyle żywa, że jak mickiewiczowska pieśń \"uszła cało\" z zawieruchy historii. Przekazywano ją w rodzinie, w Kościele, uczono z książek. Właśnie dlatego Polska - skreślona z mapy Europy - nie była dla pokoleń czasu niewoli abstrakcją, lecz obowiązkiem do spełniania. </span>\\n        <span start=\"2411\" end=\"2535\">Dzięki tej pamięci naród przetrwał, a w kluczowym momencie historii dostrzegł swoją szansę i miał odwagę z niej skorzystać. </span>\\n        <span start=\"2601\" end=\"2800\">Dlatego krakowskie rozważania o patriotyzmie trzeba rozpocząć od hołdu złożonego bohaterom narodowym przy grobie marszałka Józefa Piłsudskiego i przy prochach bezimiennych żołnierzy Rzeczypospolitej.</span>\\n        <span start=\"3644\" end=\"4050\">\\nNie sposób dziś negować osiągnięć II Rzeczypospolitej. Z perspektywy czasu tamte dokonania zdumiewają śmiałością i rozmachem. Pokolenie, które czynem zbrojnym wywalczyło wolność nie zmarnowało jej, choć nie dane mu było dokończyć dzieła odbudowy polskiej państwowości. My, przedstawiciele pokolenia \"Solidarności\", odzyskawszy suwerenność po półwieczu komunizmu, czujemy się tamtego dzieła kontynuatorami.</span>\\n        <span start=\"4091\" end=\"4264\"> Czym dla mnie jako premiera polskiego rządu jest odzyskane na nowo państwo? Przede wszystkim wspólnotą polityczną władz centralnych i samorządu, dobrem wspólnym obywateli. </span>\\n        <span start=\"6698\" end=\"6868\">Czym jest dziś czyn obywatelski? Myślę, że po raz pierwszy w naszej historii jest to czyn rozumiany jako aktywność społeczna, a nie jako reakcja na zagrożenia zewnętrzne.</span>\\n      </spans>\\n    </summary>\\n    <summary ratio=\"5\" type=\"extract\" author=\"K\">\\n      <body>Święto Niepodległości, na przełomie tysiącleci, stwarza szczególną okazję do refleksji nad dokonaniami dwóch pokoleń: tego, którego udziałem stało się w 1918 roku odzyskanie wolności i tego, które niepodległą Rzeczpospolitą od dziesięciu lat współtworzy.Nie sposób dziś negować osiągnięć II Rzeczypospolitej. Z perspektywy czasu tamte dokonania zdumiewają śmiałością i rozmachem. Pokolenie, które czynem zbrojnym wywalczyło wolność nie zmarnowało jej, choć nie dane mu było dokończyć dzieła odbudowy polskiej państwowości. My, przedstawiciele pokolenia \"Solidarności\", odzyskawszy suwerenność po półwieczu komunizmu, czujemy się tamtego dzieła kontynuatorami.</body>\\n      <spans>\\n        <span start=\"161\" end=\"415\">Święto Niepodległości, na przełomie tysiącleci, stwarza szczególną okazję do refleksji nad dokonaniami dwóch pokoleń: tego, którego udziałem stało się w 1918 roku odzyskanie wolności i tego, które niepodległą Rzeczpospolitą od dziesięciu lat współtworzy.</span>\\n        <span start=\"3645\" end=\"4050\">Nie sposób dziś negować osiągnięć II Rzeczypospolitej. Z perspektywy czasu tamte dokonania zdumiewają śmiałością i rozmachem. Pokolenie, które czynem zbrojnym wywalczyło wolność nie zmarnowało jej, choć nie dane mu było dokończyć dzieła odbudowy polskiej państwowości. My, przedstawiciele pokolenia \"Solidarności\", odzyskawszy suwerenność po półwieczu komunizmu, czujemy się tamtego dzieła kontynuatorami.</span>\\n      </spans>\\n    </summary>\\n  </summaries>\\n</text>\\n'"
      ]
     },
     "execution_count": 5,
     "metadata": {},
     "output_type": "execute_result"
    }
   ],
   "source": [
    "example"
   ]
  },
  {
   "cell_type": "code",
   "execution_count": 6,
   "metadata": {
    "slideshow": {
     "slide_type": "slide"
    }
   },
   "outputs": [],
   "source": [
    "root = ET.fromstring(example)"
   ]
  },
  {
   "cell_type": "code",
   "execution_count": 7,
   "metadata": {
    "scrolled": true,
    "slideshow": {
     "slide_type": "fragment"
    }
   },
   "outputs": [
    {
     "name": "stdout",
     "output_type": "stream",
     "text": [
      "ŚWIĘTO NIEPODLEGŁOŚCI\n",
      "\n",
      "Nic nie jest dobitniejszym świadectwem solidarności niż praca dla dobra wspólnego\n",
      "\n",
      "Poszerzanie wolności\n",
      "\n",
      "RYS. ANDRZEJ LEGUS\n",
      "\n",
      "JERZY BUZEK\n",
      "\n",
      "Święto Niepodległości, na przełomie tysiącleci, stwarza szczególną okazję do refleksji nad dokonaniami dwóch pokoleń: tego, którego udziałem stało się w 1918 roku odzyskanie wolności i tego, które niepodległą Rzeczpospolitą od dziesięciu lat współtworzy. Jakie pożytki czerpiemy dziś z ponownie odzyskanej wolności?\n",
      "\n",
      "Jaka jest dzisiejsza wymowa słowa patriotyzm? Jak teraz układają się relacje między Polakami a ich państwem? Na czym w 1999 roku polega czyn obywatelski? Odpowiedzi na te pytania postanowiłem w tym roku poszukać w Krakowie, \"mateczniku polskości\", w mieście, gdzie historia i współczesność przenikają się w stopniu najpełniejszym.\n",
      "\n",
      "Dziedzictwo\n",
      "\n",
      "11 listopada to wielkie i radosne święto. Odzyskanie wolności zawsze stanowi tytuł do narodowej dumy. Dla Polaków czyn zbrojny, który przyniósł wolność, miał wymiar szczególny. Po dekadach znaczonych bezowocnymi zrywami powstańczymi okazał się wreszcie czynem skutecznym, nadającym sens hekatombie ofiar poprzedniego stulecia. Skutecznym - co warto pamiętać - w efekcie mądrej akcji dyplomatycznej. Ta z kolei stała się możliwa przede wszystkim dzięki żywotności polskiej tradycji i kultury. Niepodległość nieprzypadkowo kojarzona jest dziś z nazwiskami Piłsudskiego, Dmowskiego, Paderewskiego. One bowiem symbolizują łańcuch uzupełniających się działań zbrojnych i dyplomatycznych, cały czas wspieranych siłą polskiej kultury. Oddając sprawiedliwość i honor wysiłkowi całego narodu trzeba zawsze pamiętać, że czyn niepodległościowy niejedno miał imię.\n",
      "\n",
      "Na Wawelu, nad kryptami królów i bohaterów narodowych, został wzniesiony baldachim upamiętniający 1918 rok. Widnieje na nim napis: \"Ciała śpią, duchy czuwają\". Tu wystarczy chwila skupienia, by uzmysłowić sobie, czym jest Polska, jakie dziedzictwo otrzymaliśmy w darze i jakie zobowiązania na nas ciążą. Wawel i jego sarkofagi to żywa pamięć znamienitej przeszłości. Na tyle żywa, że jak mickiewiczowska pieśń \"uszła cało\" z zawieruchy historii. Przekazywano ją w rodzinie, w Kościele, uczono z książek. Właśnie dlatego Polska - skreślona z mapy Europy - nie była dla pokoleń czasu niewoli abstrakcją, lecz obowiązkiem do spełniania. Czasem także trudnym dziedzictwem, które należało pokonać, wznosząc się ponad własne ograniczenia.\n",
      "\n",
      "Dzięki tej pamięci naród przetrwał, a w kluczowym momencie historii dostrzegł swoją szansę i miał odwagę z niej skorzystać. Bez czynu niepodległość pozostałaby przecież jedynie martwą ideą. Dlatego krakowskie rozważania o patriotyzmie trzeba rozpocząć od hołdu złożonego bohaterom narodowym przy grobie marszałka Józefa Piłsudskiego i przy prochach bezimiennych żołnierzy Rzeczypospolitej. \n",
      "\n",
      "W tym roku będę miał także okazję szczególną, by równocześnie docenić polski czyn dyplomatyczny - uczestnicząc w odsłonięciu i poświęceniu tablicy pamiątkowej ku czci Romana Dmowskiego. Wierzę, iż dla naszego pokolenia stanie się ona znakiem przypominającym, że duch patriotyczny w decydujących dla losów narodu momentach tryumfował nad duchem politycznych sporów.\n",
      "\n",
      "Pamięć o tych, którzy mimo 123 lat niewoli, upokorzeń i klęsk, nigdy nie pogodzili się z utratą wolności, a także o tych, którzy ów protest przechowali przez noc nazizmu i komunizmu na zawsze pozostanie źródłem naszej siły. To ze względu na tę pamięć nie wolno nam zmarnować daru wolności. Testament przeszłych pokoleń przypomina o obowiązku jego utrwalania w codziennych dokonaniach i wyborach.\n",
      "\n",
      "Dziedzictwo czynu 11 listopada to patriotyzm najwyższej próby.\n",
      "\n",
      "Dobre państwo\n",
      "\n",
      "Nie sposób dziś negować osiągnięć II Rzeczypospolitej. Z perspektywy czasu tamte dokonania zdumiewają śmiałością i rozmachem. Pokolenie, które czynem zbrojnym wywalczyło wolność nie zmarnowało jej, choć nie dane mu było dokończyć dzieła odbudowy polskiej państwowości. My, przedstawiciele pokolenia \"Solidarności\", odzyskawszy suwerenność po półwieczu komunizmu, czujemy się tamtego dzieła kontynuatorami.\n",
      "\n",
      "Jak dziś postrzegamy czyn patriotyczny? Czym dla mnie jako premiera polskiego rządu jest odzyskane na nowo państwo? Przede wszystkim wspólnotą polityczną władz centralnych i samorządu, dobrem wspólnym obywateli. Dziś narodowy czyn ma swój początek w gminie, gdzie podejmowane są decyzje dotyczące lokalnej społeczności. W moim głębokim odczuciu właśnie oddanie władzy w ręce ludzi - w gminie, powiecie i województwie - jest największym zwycięstwem ponownie odzyskanej wolności. To dzięki temu zwycięstwu w ciągu 10 lat dokonaliśmy cywilizacyjnego skoku, podejmując wyzwanie pokolenia, które w 1918 roku rozpoczęło wielkie dzieło reformowania i odbudowy Polski.\n",
      "\n",
      "Samorząd jest najlepszą szkołą patriotyzmu. Lokalnego, powiatowego, regionalnego. Ale także narodowego, bo wszelki patriotyzm zaczyna się od umiłowania tego, co bliskie. Kultura narodowa i lokalna są ze sobą splecione, mają wspólne korzenie, które określają naszą tożsamość. Wybór Krakowa na kulturalną stolicę Europy w roku 2000 potwierdza, że we współczesnym świecie docenia się udział kultury  w budowaniu tożsamości, choć w przypadku tego miasta jest to na pewno bardziej kultura narodowa niż lokalna. W decentralizującej się Europie nie ma bowiem pojęcia prowincji, bo często to właśnie ona stanowić może centrum życia duchowego i kulturalnego.\n",
      "\n",
      "Kraków jest dziś przykładem tego, jak działania na rzecz ochrony narodowego dziedzictwa wpływają na rozwój miasta i warunki życia jego mieszkańców. Doświadczenia samorządów polskich wskazują wiele przykładów dobrego gospodarowania lokalnym dziedzictwem, które nie ogranicza się do ochrony zabytków, ale czyni z kultury instrument rozwoju. Bo to dzięki kulturze w równym stopniu jak przez sukces gospodarczy stajemy się członkiem europejskiej wspólnoty - co istotne - zachowując własną tożsamość.\n",
      "\n",
      "W małych ojczyznach dobrze zagospodarowano wolność. Było to możliwe także dlatego, że właśnie tam najsilniejsza jest owa pamięć historyczna, która sto lat temu pozwoliła przetrwać zły czas. Dlatego dobre państwo trzeba i warto budować na fundamencie lokalnego dziedzictwa. W czasach globalizacji, nowoczesny patriotyzm rozumiem właśnie jako budowanie Polski na dole, we własnej, lokalnej przestrzeni duchowej. Nowoczesne technologie pozwalają bowiem być wszędzie, będąc zarazem u siebie - zakotwiczonym w tradycji, kulturze, wartościach. Reformatorskie dzieło mijającej dekady ku temu przecież zmierzało. Jestem dumny, że mój rząd oddając prawo decydowania o swoim losie mieszkańcom wspólnot lokalnych, dzieła tego dopełnił. Zbudowaliśmy państwo, które pozwala swoim obywatelom swobodnie działać dla dobra wspólnego.\n",
      "\n",
      "Pro publico bono\n",
      "\n",
      "Czym jest dziś czyn obywatelski? Myślę, że po raz pierwszy w naszej historii jest to czyn rozumiany jako aktywność społeczna, a nie jako reakcja na zagrożenia zewnętrzne. Jest to także (wreszcie!) czyn radosny. Patriotyzm zawsze kojarzył się z działaniem niepartykularnym. Z przełamywaniem egoizmu, społeczną solidarnością i wielkodusznością. Ale przede wszystkim z odwagą. Trudno bowiem było wskazać w naszej historii czas, gdy zarazem czyn obywatelski nie wiązał się z ofiarą i wyrzeczeniem, gdy nie był obciążony ryzykiem. Za patriotyzm trzeba było płacić wysoką cenę, często cenę życia. Dlatego dla większości Polaków Święto Niepodległości jest dniem powagi, smutnej zadumy i refleksji. Dlatego często patriotyzm kojarzy się z wyzwaniem niedostępnym przeciętnemu człowiekowi. Tak wiele od niego wymagał.\n",
      "\n",
      "Nadszedł jednak czas, gdy czyn obywatelski może stać się także źródłem powszechnej i wielkiej satysfakcji, bo płynącej z prostego czynienia dobra. W dodatku dziś, działając pro publico bono, można przyczyniać się do cywilizacyjnego rozwoju państwa, zwiększając jego dobrobyt. Nie wiąże się to z żadnym zagrożeniem czy ryzykiem, przeciwnie można \"narazić się\" jedynie na uznanie i szacunek innych. Działalność publiczna zaczyna, choć z licznymi jeszcze zahamowaniami, przynosić popularność, staje się naturalną drogą doboru ludzi najwyższego zaufania w państwie, pozwala upowszechniać pozytywne wzorce. Dzięki nim z kolei łatwiej o upowszechnianie takich postaw obywatelskich, którym przyświeca przede wszystkim dobro wspólne.\n",
      "\n",
      "Każdy wysiłek pro publico bono służy ojczyźnie, poszerza bowiem przestrzeń wolności, zachęca obywateli do samoorganizacji. Mądrość narodu polega na tym, że potrafi nobilitować twórczą pracę obywatelską. Jest ona bowiem dowodem istnienia wspólnoty, potwierdza jej tożsamość i ciągłość historyczną. Każdy taki wysiłek - doceniony i dostrzeżony - wzmacnia zaufanie do państwa, jest gwarantem trwałości społecznych więzów. Gwarantem niepodległości i gwarantem naszej indywidualnej i zbiorowej wolności... A przecież: \"Wolność jest najlepszą, najskuteczniejszą i najtańszą sztuką gospodarowania\" (Ferdynand Zweig).\n",
      "\n",
      "Fundament  narodowego bytu\n",
      "\n",
      "Z kraju o gospodarce scentralizowanej Polska stała się wreszcie bogata w przedsięwzięcia obywatelskie. Inicjatywa przyznawania nagród \"Pro publico bono\", której mam zaszczyt patronować, ma na celu przedsięwzięcia te dostrzec i docenić. Nic bowiem nie jest dobitniejszym świadectwem solidarności niż praca dla dobra wspólnego. A właśnie taka praca tworzy fundament narodowego bytu.\n",
      "\n",
      "11 listopada 1999 roku w Krakowie kapituła konkursu \"Pro publico bono\" pod przewodnictwem prof. Andrzeja Zolla (i honorowym pana Jana Nowaka-Jeziorańskiego) wyłoni pierwszych laureatów. Jeśli ta inicjatywa zyska poparcie społeczne, stanie się corocznym wydarzeniem, dodając do klimatu Święta Niepodległości niemały ładunek optymizmu i wiary w niezmierzone pokłady patriotyzmu.\n",
      "\n",
      "Naszego prawdziwego narodowego bogactwa.\n"
     ]
    }
   ],
   "source": [
    "print(root.find(\"body\").text)"
   ]
  },
  {
   "cell_type": "code",
   "execution_count": 8,
   "metadata": {
    "slideshow": {
     "slide_type": "slide"
    }
   },
   "outputs": [
    {
     "name": "stdout",
     "output_type": "stream",
     "text": [
      "{'ratio': '10', 'type': 'extract', 'author': 'G'}\n",
      "11 listopada to wielkie i radosne święto. Dla Polaków czyn zbrojny, który przyniósł wolność, miał wymiar szczególny. Pamięć o tych, którzy mimo upokorzeń i klęsk nigdy nie pogodzili się z utratą wolności, a także o tych, którzy ów protest przechowali przez noc nazizmu i komunizmu na zawsze pozostanie źródłem naszej siły.\n",
      "Jak dziś postrzegamy czyn patriotyczny? Dziś narodowy czyn ma swój początek w gminie, gdzie podejmowane są decyzje dotyczące lokalnej społeczności. Kultura narodowa i lokalna są ze sobą splecione. \n",
      "W małych ojczyznach dobrze zagospodarowano wolność. właśnie tam najsilniejsza jest owa pamięć historyczna. W czasach globalizacji nowoczesny patriotyzm rozumiem właśnie jako budowanie Polski na dole, w lokalnej przestrzeni duchowej. czyn obywatelski jest rozumiany jako aktywność społeczna, a nie jako reakcja na zagrożenia zewnętrzne. Jest to także czyn radosny.\n",
      "{'ratio': '20', 'type': 'extract', 'author': 'G'}\n",
      "11 listopada to wielkie i radosne święto. Dla Polaków czyn zbrojny, który przyniósł wolność, miał wymiar szczególny. okazał się czynem skutecznym, nadającym sens hekatombie ofiar poprzedniego stulecia. Niepodległość kojarzona jest dziś z nazwiskami Piłsudskiego, Dmowskiego, Paderewskiego. One symbolizują łańcuch uzupełniających się działań zbrojnych i dyplomatycznych, cały czas wspieranych siłą polskiej kultury.\n",
      "Na Wawelu został wzniesiony baldachim upamiętniający 1918 rok. Tu wystarczy chwila skupienia, by uzmysłowić sobie, czym jest Polska, jakie dziedzictwo otrzymaliśmy w darze i jakie zobowiązania na nas ciążą. Pamięć o tych, którzy mimo upokorzeń i klęsk nigdy nie pogodzili się z utratą wolności, a także o tych, którzy ów protest przechowali przez noc nazizmu i komunizmu na zawsze pozostanie źródłem naszej siły.\n",
      "Nie sposób dziś negować osiągnięć II Rzeczypospolitej. przedstawiciele pokolenia \"Solidarności\", odzyskawszy suwerenność po półwieczu komunizmu, czujemy się tamtego dzieła kontynuatorami.\n",
      "Jak dziś postrzegamy czyn patriotyczny? Dziś narodowy czyn ma swój początek w gminie, gdzie podejmowane są decyzje dotyczące lokalnej społeczności. Kultura narodowa i lokalna są ze sobą splecione, mają wspólne korzenie, które określają naszą tożsamość. \n",
      "Kraków jest dziś przykładem tego, jak działania na rzecz ochrony narodowego dziedzictwa wpływają na rozwój miasta i warunki życia jego mieszkańców. \n",
      "W małych ojczyznach dobrze zagospodarowano wolność. Było to możliwe dlatego, że właśnie tam najsilniejsza jest owa pamięć historyczna. W czasach globalizacji nowoczesny patriotyzm rozumiem właśnie jako budowanie Polski na dole, w lokalnej przestrzeni duchowej. czyn obywatelski jest rozumiany jako aktywność społeczna, a nie jako reakcja na zagrożenia zewnętrzne. Jest to także czyn radosny. może stać się źródłem wielkiej satysfakcji, bo płynącej z czynienia dobra. służy ojczyźnie, poszerza przestrzeń wolności, zachęca obywateli do samoorganizacji.\n",
      "{'ratio': '5', 'type': 'extract', 'author': 'G'}\n",
      "11 listopada to wielkie i radosne święto. Dla Polaków Pamięć o tych, którzy mimo upokorzeń i klęsk nigdy nie pogodzili się z utratą wolności, na zawsze pozostanie źródłem siły.\n",
      "Jak dziś postrzegamy czyn patriotyczny? ma swój początek w gminie, gdzie podejmowane są decyzje dotyczące lokalnej społeczności.  jest rozumiany jako aktywność społeczna, a nie jako reakcja na zagrożenia zewnętrzne. Jest to także czyn radosny.\n",
      "{'ratio': '10', 'type': 'extract', 'author': 'J'}\n",
      "Niepodległość nieprzypadkowo kojarzona jest dziś z nazwiskami Piłsudskiego, Dmowskiego, Paderewskiego. One bowiem symbolizują łańcuch uzupełniających się działań zbrojnych i dyplomatycznych, cały czas wspieranych siłą polskiej kultury. Pokolenie, które czynem zbrojnym wywalczyło wolność nie zmarnowało jej. My, przedstawiciele pokolenia \"Solidarności\" czujemy się tamtego dzieła kontynuatorami. oddanie władzy w ręce ludzi - w gminie, powiecie i województwie - jest największym zwycięstwem ponownie odzyskanej wolności. Kultura narodowa i lokalna są ze sobą splecione. nowoczesny patriotyzm rozumiem jako budowanie Polski we własnej, lokalnej przestrzeni duchowej. czyn obywatelski po raz pierwszy w naszej historii jest rozumiany jako aktywność społeczna. Polska stała się bogata w przedsięwzięcia obywatelskie. Inicjatywa przyznawania nagród \"Pro publico bono\" ma na celu przedsięwzięcia te docenić. 11 listopada 1999 roku w Krakowie kapituła konkursu \"Pro publico bono\" wyłoni pierwszych laureatów.\n",
      "{'ratio': '20', 'type': 'extract', 'author': 'J'}\n",
      "Święto Niepodległości, na przełomie tysiącleci, stwarza szczególną okazję do refleksji nad dokonaniami dwóch pokoleń: tego, którego udziałem stało się w 1918 roku odzyskanie wolności i tego, które niepodległą Rzeczpospolitą od dziesięciu lat współtworzy. \n",
      "\n",
      "Niepodległość nieprzypadkowo kojarzona jest dziś z nazwiskami Piłsudskiego, Dmowskiego, Paderewskiego. One bowiem symbolizują łańcuch uzupełniających się działań zbrojnych i dyplomatycznych, cały czas wspieranych siłą polskiej kultury. trzeba pamiętać, że czyn niepodległościowy niejedno miał imię. duch patriotyczny w decydujących dla losów narodu momentach tryumfował nad duchem politycznych sporów.\n",
      "\n",
      "Nie sposób dziś negować osiągnięć II Rzeczypospolitej. Pokolenie, które czynem zbrojnym wywalczyło wolność nie zmarnowało jej. My, przedstawiciele pokolenia \"Solidarności\", odzyskawszy suwerenność po półwieczu komunizmu, czujemy się tamtego dzieła kontynuatorami. oddanie władzy w ręce ludzi - w gminie, powiecie i województwie - jest największym zwycięstwem ponownie odzyskanej wolności. Kultura narodowa i lokalna są ze sobą splecione. Wybór Krakowa na kulturalną stolicę Europy w roku 2000 potwierdza, że we współczesnym świecie docenia się udział kultury  w budowaniu tożsamości. dzięki kulturze w równym stopniu jak przez sukces gospodarczy stajemy się członkiem europejskiej wspólnoty. nowoczesny patriotyzm rozumiem jako budowanie Polski we własnej, lokalnej przestrzeni duchowej. \n",
      "\n",
      "czyn obywatelski po raz pierwszy w naszej historii jest to czyn rozumiany jako aktywność społeczna, a nie jako reakcja na zagrożenia zewnętrzne. dziś, działając pro publico bono, można przyczyniać się do cywilizacyjnego rozwoju państwa, zwiększając jego dobrobyt. Polska stała się wreszcie bogata w przedsięwzięcia obywatelskie. Inicjatywa przyznawania nagród \"Pro publico bono\" ma na celu przedsięwzięcia te dostrzec i docenić. 11 listopada 1999 roku w Krakowie kapituła konkursu \"Pro publico bono\" wyłoni pierwszych laureatów.\n",
      "{'ratio': '5', 'type': 'extract', 'author': 'J'}\n",
      "Niepodległość kojarzona jest z nazwiskami Piłsudskiego, Dmowskiego, Paderewskiego. Pokolenie, które czynem zbrojnym wywalczyło wolność nie zmarnowało jej. My, przedstawiciele pokolenia \"Solidarności\" czujemy się tamtego dzieła kontynuatorami. oddanie władzy w ręce ludzi - w gminie, powiecie i województwie - jest największym zwycięstwem ponownie odzyskanej wolności. Polska stała się bogata w przedsięwzięcia obywatelskie. Inicjatywa przyznawania nagród \"Pro publico bono\" ma na celu przedsięwzięcia te docenić.\n",
      "{'ratio': '10', 'type': 'extract', 'author': 'A'}\n",
      "Święto Niepodległości, na przełomie tysiącleci, stwarza szczególną okazję do refleksji nad dokonaniami dwóch pokoleń: tego, którego udziałem stało się w 1918 roku odzyskanie wolności i tego, które niepodległą Rzeczpospolitą od dziesięciu lat współtworzy. \n",
      "11 listopada to wielkie i radosne święto. Dla Polaków czyn zbrojny, który przyniósł wolność, miał wymiar szczególny. Pamięć o tych, którzy mimo 123 lat niewoli, upokorzeń i klęsk, nigdy nie pogodzili się z utratą wolności, na zawsze pozostanie źródłem naszej siły. Dziedzictwo czynu 11 listopada to patriotyzm najwyższej próby.\n",
      "Dziś narodowy czyn ma swój początek w gminie, gdzie podejmowane są decyzje dotyczące lokalnej społeczności. Samorząd jest najlepszą szkołą patriotyzmu. \n",
      "Czym jest dziś czyn obywatelski? Myślę, że po raz pierwszy w naszej historii jest to czyn rozumiany jako aktywność społeczna, a nie jako reakcja na zagrożenia zewnętrzne.\n",
      "{'ratio': '20', 'type': 'extract', 'author': 'A'}\n",
      "Święto Niepodległości, na przełomie tysiącleci, stwarza szczególną okazję do refleksji nad dokonaniami dwóch pokoleń: tego, którego udziałem stało się w 1918 roku odzyskanie wolności i tego, które niepodległą Rzeczpospolitą od dziesięciu lat współtworzy. Jakie pożytki czerpiemy dziś z ponownie odzyskanej wolności?Jaka jest dzisiejsza wymowa słowa patriotyzm? Jak teraz układają się relacje między Polakami a ich państwem? Na czym w 1999 roku polega czyn obywatelski? Odpowiedzi na te pytania postanowiłem w tym roku poszukać w Krakowie, \"mateczniku polskości\", w mieście, gdzie historia i współczesność przenikają się w stopniu najpełniejszym.\n",
      "11 listopada to wielkie i radosne święto. Dla Polaków czyn zbrojny, który przyniósł wolność, miał wymiar szczególny. Pamięć o tych, którzy mimo 123 lat niewoli, upokorzeń i klęsk, nigdy nie pogodzili się z utratą wolności, a także o tych, którzy ów protest przechowali przez noc nazizmu i komunizmu na zawsze pozostanie źródłem naszej siły. Dziedzictwo czynu 11 listopada to patriotyzm najwyższej próby.\n",
      "Nie sposób dziś negować osiągnięć II Rzeczypospolitej.  Pokolenie, które czynem zbrojnym wywalczyło wolność nie zmarnowało jej, choć nie dane mu było dokończyć dzieła odbudowy polskiej państwowości. My, przedstawiciele pokolenia \"Solidarności\", odzyskawszy suwerenność po półwieczu komunizmu, czujemy się tamtego dzieła kontynuatorami.\n",
      "Dziś narodowy czyn ma swój początek w gminie, gdzie podejmowane są decyzje dotyczące lokalnej społeczności. Samorząd jest najlepszą szkołą patriotyzmu. \n",
      "Czym jest dziś czyn obywatelski? Myślę, że po raz pierwszy w naszej historii jest to czyn rozumiany jako aktywność społeczna, a nie jako reakcja na zagrożenia zewnętrzne. Każdy wysiłek pro publico bono służy ojczyźnie, poszerza bowiem przestrzeń wolności, zachęca obywateli do samoorganizacji.\n",
      "{'ratio': '5', 'type': 'extract', 'author': 'A'}\n",
      "Święto Niepodległości, na przełomie tysiącleci, stwarza szczególną okazję do refleksji nad dokonaniami dwóch pokoleń: tego, którego udziałem stało się w 1918 roku odzyskanie wolności i tego, które niepodległą Rzeczpospolitą od dziesięciu lat współtworzy. Czym jest dziś czyn obywatelski? Myślę, że po raz pierwszy w naszej historii jest to czyn rozumiany jako aktywność społeczna, a nie jako reakcja na zagrożenia zewnętrzne.\n",
      "{'ratio': '10', 'type': 'extract', 'author': 'B'}\n",
      "Święto Niepodległości stwarza okazję do refleksji nad dokonaniami dwóch pokoleń: tego, którego udziałem stało się w 1918 roku odzyskanie wolności i tego, które niepodległą Rzeczpospolitą od dziesięciu lat współtworzy. \n",
      "\n",
      "Pamięć o tych, którzy mimo lat niewoli, nie pogodzili się z utratą wolności, pozostanie źródłem naszej siły. Pokolenie, które czynem zbrojnym wywalczyło wolność nie zmarnowało jej, choć nie dane mu było dokończyć dzieła odbudowy. My, przedstawiciele pokolenia \"Solidarności\", czujemy się tamtego dzieła kontynuatorami. Dziś narodowy czyn ma swój początek w gminie. państwo trzeba budować na fundamencie lokalnego dziedzictwa. dziś czyn obywatelski jest rozumiany jako aktywność społeczna, a nie jako reakcja na zagrożenia zewnętrzne. działając pro publico bono, można przyczyniać się do rozwoju państwa. \n",
      "\n",
      "Polska stała się bogata w przedsięwzięcia obywatelskie. Inicjatywa przyznawania nagród \"Pro publico bono\", której mam zaszczyt patronować, ma na celu przedsięwzięcia te docenić.\n",
      "{'ratio': '20', 'type': 'extract', 'author': 'B'}\n",
      "Święto Niepodległości stwarza okazję do refleksji nad dokonaniami dwóch pokoleń: tego, którego udziałem stało się w 1918 roku odzyskanie wolności i tego, które niepodległą Rzeczpospolitą od dziesięciu lat współtworzy. \n",
      "\n",
      "11 listopada to wielkie święto. Dla Polaków czyn zbrojny, który przyniósł wolność, miał wymiar szczególny. Po dekadach znaczonych bezowocnymi zrywami powstańczymi okazał się czynem skutecznym. Polska nie była dla pokoleń czasu niewoli abstrakcją, lecz obowiązkiem do spełniania. Czasem trudnym dziedzictwem.Dzięki tej pamięci naród przetrwał. Pamięć o tych, którzy mimo 123 lat niewoli i klęsk, nie pogodzili się z utratą wolności, pozostanie źródłem naszej siły. \n",
      "\n",
      "Pokolenie, które czynem zbrojnym wywalczyło wolność nie zmarnowało jej, choć nie dane mu było dokończyć dzieła odbudowy. My, przedstawiciele pokolenia \"Solidarności\", czujemy się tamtego dzieła kontynuatorami. Czym jest odzyskane na nowo państwo? Przede wszystkim wspólnotą polityczną władz centralnych i samorządu, dobrem wspólnym obywateli. Dziś narodowy czyn ma swój początek w gminie. W małych ojczyznach dobrze zagospodarowano wolność. tam najsilniejsza jest pamięć historyczna. państwo trzeba i warto budować na fundamencie lokalnego dziedzictwa. \n",
      "\n",
      "Czym jest dziś czyn obywatelski? po raz pierwszy w naszej historii jest to czyn rozumiany jako aktywność społeczna, a nie jako reakcja na zagrożenia zewnętrzne. dziś, działając pro publico bono, można przyczyniać się do cywilizacyjnego rozwoju państwa. Mądrość narodu polega na tym, że potrafi nobilitować twórczą pracę obywatelską. Jest ona bowiem dowodem istnienia wspólnoty, potwierdza jej tożsamość i ciągłość historyczną. \n",
      "\n",
      "Polska stała się wreszcie bogata w przedsięwzięcia obywatelskie. Inicjatywa przyznawania nagród \"Pro publico bono\", której mam zaszczyt patronować, ma na celu przedsięwzięcia te dostrzec i docenić. praca dla dobra wspólnego tworzy fundament narodowego bytu.\n",
      "{'ratio': '5', 'type': 'extract', 'author': 'B'}\n",
      "Święto Niepodległości stwarza okazję do refleksji. Pamięć o tych, którzy mimo lat niewoli, nie pogodzili się z utratą wolności, pozostanie źródłem naszej siły. dziś czyn obywatelski jest rozumiany jako aktywność społeczna, a nie jako reakcja na zagrożenia zewnętrzne. działając pro publico bono, można przyczyniać się do rozwoju państwa. Polska stała się bogata w przedsięwzięcia obywatelskie. Inicjatywa przyznawania nagród \"Pro publico bono\" ma na celu przedsięwzięcia te docenić.\n",
      "{'ratio': '10', 'type': 'extract', 'author': 'K'}\n",
      "Święto Niepodległości, na przełomie tysiącleci, stwarza szczególną okazję do refleksji nad dokonaniami dwóch pokoleń: tego, którego udziałem stało się w 1918 roku odzyskanie wolności i tego, które niepodległą Rzeczpospolitą od dziesięciu lat współtworzy.Wawel i jego sarkofagi to żywa pamięć znamienitej przeszłości. Na tyle żywa, że jak mickiewiczowska pieśń \"uszła cało\" z zawieruchy historii. Przekazywano ją w rodzinie, w Kościele, uczono z książek. Właśnie dlatego Polska - skreślona z mapy Europy - nie była dla pokoleń czasu niewoli abstrakcją, lecz obowiązkiem do spełniania. Dzięki tej pamięci naród przetrwał, a w kluczowym momencie historii dostrzegł swoją szansę i miał odwagę z niej skorzystać.Nie sposób dziś negować osiągnięć II Rzeczypospolitej. Z perspektywy czasu tamte dokonania zdumiewają śmiałością i rozmachem. Pokolenie, które czynem zbrojnym wywalczyło wolność nie zmarnowało jej, choć nie dane mu było dokończyć dzieła odbudowy polskiej państwowości. My, przedstawiciele pokolenia \"Solidarności\", odzyskawszy suwerenność po półwieczu komunizmu, czujemy się tamtego dzieła kontynuatorami.\n",
      "{'ratio': '20', 'type': 'extract', 'author': 'K'}\n",
      "Święto Niepodległości, na przełomie tysiącleci, stwarza szczególną okazję do refleksji nad dokonaniami dwóch pokoleń: tego, którego udziałem stało się w 1918 roku odzyskanie wolności i tego, które niepodległą Rzeczpospolitą od dziesięciu lat współtworzy.Jaka jest dzisiejsza wymowa słowa patriotyzm? Jak teraz układają się relacje między Polakami a ich państwem? Na czym w 1999 roku polega czyn obywatelski? Odpowiedzi na te pytania postanowiłem w tym roku poszukać w Krakowie, \"mateczniku polskości\", w mieście, gdzie historia i współczesność przenikają się w stopniu najpełniejszym.Wawel i jego sarkofagi to żywa pamięć znamienitej przeszłości. Na tyle żywa, że jak mickiewiczowska pieśń \"uszła cało\" z zawieruchy historii. Przekazywano ją w rodzinie, w Kościele, uczono z książek. Właśnie dlatego Polska - skreślona z mapy Europy - nie była dla pokoleń czasu niewoli abstrakcją, lecz obowiązkiem do spełniania. Dzięki tej pamięci naród przetrwał, a w kluczowym momencie historii dostrzegł swoją szansę i miał odwagę z niej skorzystać. Dlatego krakowskie rozważania o patriotyzmie trzeba rozpocząć od hołdu złożonego bohaterom narodowym przy grobie marszałka Józefa Piłsudskiego i przy prochach bezimiennych żołnierzy Rzeczypospolitej.\n",
      "Nie sposób dziś negować osiągnięć II Rzeczypospolitej. Z perspektywy czasu tamte dokonania zdumiewają śmiałością i rozmachem. Pokolenie, które czynem zbrojnym wywalczyło wolność nie zmarnowało jej, choć nie dane mu było dokończyć dzieła odbudowy polskiej państwowości. My, przedstawiciele pokolenia \"Solidarności\", odzyskawszy suwerenność po półwieczu komunizmu, czujemy się tamtego dzieła kontynuatorami. Czym dla mnie jako premiera polskiego rządu jest odzyskane na nowo państwo? Przede wszystkim wspólnotą polityczną władz centralnych i samorządu, dobrem wspólnym obywateli. Czym jest dziś czyn obywatelski? Myślę, że po raz pierwszy w naszej historii jest to czyn rozumiany jako aktywność społeczna, a nie jako reakcja na zagrożenia zewnętrzne.\n",
      "{'ratio': '5', 'type': 'extract', 'author': 'K'}\n",
      "Święto Niepodległości, na przełomie tysiącleci, stwarza szczególną okazję do refleksji nad dokonaniami dwóch pokoleń: tego, którego udziałem stało się w 1918 roku odzyskanie wolności i tego, które niepodległą Rzeczpospolitą od dziesięciu lat współtworzy.Nie sposób dziś negować osiągnięć II Rzeczypospolitej. Z perspektywy czasu tamte dokonania zdumiewają śmiałością i rozmachem. Pokolenie, które czynem zbrojnym wywalczyło wolność nie zmarnowało jej, choć nie dane mu było dokończyć dzieła odbudowy polskiej państwowości. My, przedstawiciele pokolenia \"Solidarności\", odzyskawszy suwerenność po półwieczu komunizmu, czujemy się tamtego dzieła kontynuatorami.\n"
     ]
    }
   ],
   "source": [
    "for summary in root.find(\"summaries\").findall(\"summary\"):\n",
    "    print(summary.attrib)\n",
    "    print(summary.find(\"body\").text)"
   ]
  },
  {
   "cell_type": "code",
   "execution_count": 9,
   "metadata": {
    "slideshow": {
     "slide_type": "slide"
    }
   },
   "outputs": [],
   "source": [
    "PATTERN1 = re.compile(r\"(?<=[a-zA-Z])\\n\")\n",
    "PATTERN2 = re.compile(r\"\\s+\")\n",
    "\n",
    "def clean_text(text):\n",
    "    out = PATTERN1.sub(\". \", text)\n",
    "    return PATTERN2.sub(\" \", out)"
   ]
  },
  {
   "cell_type": "code",
   "execution_count": 10,
   "metadata": {
    "slideshow": {
     "slide_type": "fragment"
    }
   },
   "outputs": [],
   "source": [
    "def load_data(path, n_doc=None):\n",
    "    data = []\n",
    "    count = 0\n",
    "    for file in os.listdir(path):\n",
    "        with open(f\"{path}/{file}\", \"r\") as f:\n",
    "            raw = f.read()\n",
    "        root = ET.fromstring(raw)\n",
    "        doc = clean_text(root.find(\"body\").text)\n",
    "        for summary in root.find(\"summaries\").findall(\"summary\"):\n",
    "            if summary.attrib[\"ratio\"] == \"10\":\n",
    "                kind = summary.attrib[\"type\"]\n",
    "                text = clean_text(summary.find(\"body\").text)\n",
    "                data.append((doc, text, kind))\n",
    "        if n_doc:\n",
    "            count += 1\n",
    "            if count == n_doc:\n",
    "                break\n",
    "    return data"
   ]
  },
  {
   "cell_type": "code",
   "execution_count": 11,
   "metadata": {
    "slideshow": {
     "slide_type": "slide"
    }
   },
   "outputs": [],
   "source": [
    "data = load_data(\"PSC_1.0/data\", 1)"
   ]
  },
  {
   "cell_type": "code",
   "execution_count": 12,
   "metadata": {
    "slideshow": {
     "slide_type": "fragment"
    }
   },
   "outputs": [
    {
     "data": {
      "text/plain": [
       "5"
      ]
     },
     "execution_count": 12,
     "metadata": {},
     "output_type": "execute_result"
    }
   ],
   "source": [
    "len(data)"
   ]
  },
  {
   "cell_type": "code",
   "execution_count": 13,
   "metadata": {
    "scrolled": true,
    "slideshow": {
     "slide_type": "fragment"
    }
   },
   "outputs": [
    {
     "data": {
      "text/plain": [
       "('ŚWIĘTO NIEPODLEGŁOŚCI. Nic nie jest dobitniejszym świadectwem solidarności niż praca dla dobra wspólnego. Poszerzanie wolności. RYS. ANDRZEJ LEGUS. JERZY BUZEK. Święto Niepodległości, na przełomie tysiącleci, stwarza szczególną okazję do refleksji nad dokonaniami dwóch pokoleń: tego, którego udziałem stało się w 1918 roku odzyskanie wolności i tego, które niepodległą Rzeczpospolitą od dziesięciu lat współtworzy. Jakie pożytki czerpiemy dziś z ponownie odzyskanej wolności? Jaka jest dzisiejsza wymowa słowa patriotyzm? Jak teraz układają się relacje między Polakami a ich państwem? Na czym w 1999 roku polega czyn obywatelski? Odpowiedzi na te pytania postanowiłem w tym roku poszukać w Krakowie, \"mateczniku polskości\", w mieście, gdzie historia i współczesność przenikają się w stopniu najpełniejszym. Dziedzictwo. 11 listopada to wielkie i radosne święto. Odzyskanie wolności zawsze stanowi tytuł do narodowej dumy. Dla Polaków czyn zbrojny, który przyniósł wolność, miał wymiar szczególny. Po dekadach znaczonych bezowocnymi zrywami powstańczymi okazał się wreszcie czynem skutecznym, nadającym sens hekatombie ofiar poprzedniego stulecia. Skutecznym - co warto pamiętać - w efekcie mądrej akcji dyplomatycznej. Ta z kolei stała się możliwa przede wszystkim dzięki żywotności polskiej tradycji i kultury. Niepodległość nieprzypadkowo kojarzona jest dziś z nazwiskami Piłsudskiego, Dmowskiego, Paderewskiego. One bowiem symbolizują łańcuch uzupełniających się działań zbrojnych i dyplomatycznych, cały czas wspieranych siłą polskiej kultury. Oddając sprawiedliwość i honor wysiłkowi całego narodu trzeba zawsze pamiętać, że czyn niepodległościowy niejedno miał imię. Na Wawelu, nad kryptami królów i bohaterów narodowych, został wzniesiony baldachim upamiętniający 1918 rok. Widnieje na nim napis: \"Ciała śpią, duchy czuwają\". Tu wystarczy chwila skupienia, by uzmysłowić sobie, czym jest Polska, jakie dziedzictwo otrzymaliśmy w darze i jakie zobowiązania na nas ciążą. Wawel i jego sarkofagi to żywa pamięć znamienitej przeszłości. Na tyle żywa, że jak mickiewiczowska pieśń \"uszła cało\" z zawieruchy historii. Przekazywano ją w rodzinie, w Kościele, uczono z książek. Właśnie dlatego Polska - skreślona z mapy Europy - nie była dla pokoleń czasu niewoli abstrakcją, lecz obowiązkiem do spełniania. Czasem także trudnym dziedzictwem, które należało pokonać, wznosząc się ponad własne ograniczenia. Dzięki tej pamięci naród przetrwał, a w kluczowym momencie historii dostrzegł swoją szansę i miał odwagę z niej skorzystać. Bez czynu niepodległość pozostałaby przecież jedynie martwą ideą. Dlatego krakowskie rozważania o patriotyzmie trzeba rozpocząć od hołdu złożonego bohaterom narodowym przy grobie marszałka Józefa Piłsudskiego i przy prochach bezimiennych żołnierzy Rzeczypospolitej. W tym roku będę miał także okazję szczególną, by równocześnie docenić polski czyn dyplomatyczny - uczestnicząc w odsłonięciu i poświęceniu tablicy pamiątkowej ku czci Romana Dmowskiego. Wierzę, iż dla naszego pokolenia stanie się ona znakiem przypominającym, że duch patriotyczny w decydujących dla losów narodu momentach tryumfował nad duchem politycznych sporów. Pamięć o tych, którzy mimo 123 lat niewoli, upokorzeń i klęsk, nigdy nie pogodzili się z utratą wolności, a także o tych, którzy ów protest przechowali przez noc nazizmu i komunizmu na zawsze pozostanie źródłem naszej siły. To ze względu na tę pamięć nie wolno nam zmarnować daru wolności. Testament przeszłych pokoleń przypomina o obowiązku jego utrwalania w codziennych dokonaniach i wyborach. Dziedzictwo czynu 11 listopada to patriotyzm najwyższej próby. Dobre państwo. Nie sposób dziś negować osiągnięć II Rzeczypospolitej. Z perspektywy czasu tamte dokonania zdumiewają śmiałością i rozmachem. Pokolenie, które czynem zbrojnym wywalczyło wolność nie zmarnowało jej, choć nie dane mu było dokończyć dzieła odbudowy polskiej państwowości. My, przedstawiciele pokolenia \"Solidarności\", odzyskawszy suwerenność po półwieczu komunizmu, czujemy się tamtego dzieła kontynuatorami. Jak dziś postrzegamy czyn patriotyczny? Czym dla mnie jako premiera polskiego rządu jest odzyskane na nowo państwo? Przede wszystkim wspólnotą polityczną władz centralnych i samorządu, dobrem wspólnym obywateli. Dziś narodowy czyn ma swój początek w gminie, gdzie podejmowane są decyzje dotyczące lokalnej społeczności. W moim głębokim odczuciu właśnie oddanie władzy w ręce ludzi - w gminie, powiecie i województwie - jest największym zwycięstwem ponownie odzyskanej wolności. To dzięki temu zwycięstwu w ciągu 10 lat dokonaliśmy cywilizacyjnego skoku, podejmując wyzwanie pokolenia, które w 1918 roku rozpoczęło wielkie dzieło reformowania i odbudowy Polski. Samorząd jest najlepszą szkołą patriotyzmu. Lokalnego, powiatowego, regionalnego. Ale także narodowego, bo wszelki patriotyzm zaczyna się od umiłowania tego, co bliskie. Kultura narodowa i lokalna są ze sobą splecione, mają wspólne korzenie, które określają naszą tożsamość. Wybór Krakowa na kulturalną stolicę Europy w roku 2000 potwierdza, że we współczesnym świecie docenia się udział kultury w budowaniu tożsamości, choć w przypadku tego miasta jest to na pewno bardziej kultura narodowa niż lokalna. W decentralizującej się Europie nie ma bowiem pojęcia prowincji, bo często to właśnie ona stanowić może centrum życia duchowego i kulturalnego. Kraków jest dziś przykładem tego, jak działania na rzecz ochrony narodowego dziedzictwa wpływają na rozwój miasta i warunki życia jego mieszkańców. Doświadczenia samorządów polskich wskazują wiele przykładów dobrego gospodarowania lokalnym dziedzictwem, które nie ogranicza się do ochrony zabytków, ale czyni z kultury instrument rozwoju. Bo to dzięki kulturze w równym stopniu jak przez sukces gospodarczy stajemy się członkiem europejskiej wspólnoty - co istotne - zachowując własną tożsamość. W małych ojczyznach dobrze zagospodarowano wolność. Było to możliwe także dlatego, że właśnie tam najsilniejsza jest owa pamięć historyczna, która sto lat temu pozwoliła przetrwać zły czas. Dlatego dobre państwo trzeba i warto budować na fundamencie lokalnego dziedzictwa. W czasach globalizacji, nowoczesny patriotyzm rozumiem właśnie jako budowanie Polski na dole, we własnej, lokalnej przestrzeni duchowej. Nowoczesne technologie pozwalają bowiem być wszędzie, będąc zarazem u siebie - zakotwiczonym w tradycji, kulturze, wartościach. Reformatorskie dzieło mijającej dekady ku temu przecież zmierzało. Jestem dumny, że mój rząd oddając prawo decydowania o swoim losie mieszkańcom wspólnot lokalnych, dzieła tego dopełnił. Zbudowaliśmy państwo, które pozwala swoim obywatelom swobodnie działać dla dobra wspólnego. Pro publico bono. Czym jest dziś czyn obywatelski? Myślę, że po raz pierwszy w naszej historii jest to czyn rozumiany jako aktywność społeczna, a nie jako reakcja na zagrożenia zewnętrzne. Jest to także (wreszcie!) czyn radosny. Patriotyzm zawsze kojarzył się z działaniem niepartykularnym. Z przełamywaniem egoizmu, społeczną solidarnością i wielkodusznością. Ale przede wszystkim z odwagą. Trudno bowiem było wskazać w naszej historii czas, gdy zarazem czyn obywatelski nie wiązał się z ofiarą i wyrzeczeniem, gdy nie był obciążony ryzykiem. Za patriotyzm trzeba było płacić wysoką cenę, często cenę życia. Dlatego dla większości Polaków Święto Niepodległości jest dniem powagi, smutnej zadumy i refleksji. Dlatego często patriotyzm kojarzy się z wyzwaniem niedostępnym przeciętnemu człowiekowi. Tak wiele od niego wymagał. Nadszedł jednak czas, gdy czyn obywatelski może stać się także źródłem powszechnej i wielkiej satysfakcji, bo płynącej z prostego czynienia dobra. W dodatku dziś, działając pro publico bono, można przyczyniać się do cywilizacyjnego rozwoju państwa, zwiększając jego dobrobyt. Nie wiąże się to z żadnym zagrożeniem czy ryzykiem, przeciwnie można \"narazić się\" jedynie na uznanie i szacunek innych. Działalność publiczna zaczyna, choć z licznymi jeszcze zahamowaniami, przynosić popularność, staje się naturalną drogą doboru ludzi najwyższego zaufania w państwie, pozwala upowszechniać pozytywne wzorce. Dzięki nim z kolei łatwiej o upowszechnianie takich postaw obywatelskich, którym przyświeca przede wszystkim dobro wspólne. Każdy wysiłek pro publico bono służy ojczyźnie, poszerza bowiem przestrzeń wolności, zachęca obywateli do samoorganizacji. Mądrość narodu polega na tym, że potrafi nobilitować twórczą pracę obywatelską. Jest ona bowiem dowodem istnienia wspólnoty, potwierdza jej tożsamość i ciągłość historyczną. Każdy taki wysiłek - doceniony i dostrzeżony - wzmacnia zaufanie do państwa, jest gwarantem trwałości społecznych więzów. Gwarantem niepodległości i gwarantem naszej indywidualnej i zbiorowej wolności... A przecież: \"Wolność jest najlepszą, najskuteczniejszą i najtańszą sztuką gospodarowania\" (Ferdynand Zweig). Fundament narodowego bytu. Z kraju o gospodarce scentralizowanej Polska stała się wreszcie bogata w przedsięwzięcia obywatelskie. Inicjatywa przyznawania nagród \"Pro publico bono\", której mam zaszczyt patronować, ma na celu przedsięwzięcia te dostrzec i docenić. Nic bowiem nie jest dobitniejszym świadectwem solidarności niż praca dla dobra wspólnego. A właśnie taka praca tworzy fundament narodowego bytu. 11 listopada 1999 roku w Krakowie kapituła konkursu \"Pro publico bono\" pod przewodnictwem prof. Andrzeja Zolla (i honorowym pana Jana Nowaka-Jeziorańskiego) wyłoni pierwszych laureatów. Jeśli ta inicjatywa zyska poparcie społeczne, stanie się corocznym wydarzeniem, dodając do klimatu Święta Niepodległości niemały ładunek optymizmu i wiary w niezmierzone pokłady patriotyzmu. Naszego prawdziwego narodowego bogactwa.',\n",
       " '11 listopada to wielkie i radosne święto. Dla Polaków czyn zbrojny, który przyniósł wolność, miał wymiar szczególny. Pamięć o tych, którzy mimo upokorzeń i klęsk nigdy nie pogodzili się z utratą wolności, a także o tych, którzy ów protest przechowali przez noc nazizmu i komunizmu na zawsze pozostanie źródłem naszej siły. Jak dziś postrzegamy czyn patriotyczny? Dziś narodowy czyn ma swój początek w gminie, gdzie podejmowane są decyzje dotyczące lokalnej społeczności. Kultura narodowa i lokalna są ze sobą splecione. W małych ojczyznach dobrze zagospodarowano wolność. właśnie tam najsilniejsza jest owa pamięć historyczna. W czasach globalizacji nowoczesny patriotyzm rozumiem właśnie jako budowanie Polski na dole, w lokalnej przestrzeni duchowej. czyn obywatelski jest rozumiany jako aktywność społeczna, a nie jako reakcja na zagrożenia zewnętrzne. Jest to także czyn radosny.',\n",
       " 'extract')"
      ]
     },
     "execution_count": 13,
     "metadata": {},
     "output_type": "execute_result"
    }
   ],
   "source": [
    "data[0]"
   ]
  },
  {
   "cell_type": "markdown",
   "metadata": {
    "slideshow": {
     "slide_type": "skip"
    }
   },
   "source": [
    "\n"
   ]
  }
 ],
 "metadata": {
  "celltoolbar": "Slideshow",
  "kernelspec": {
   "display_name": "Python 3",
   "language": "python",
   "name": "python3"
  },
  "language_info": {
   "codemirror_mode": {
    "name": "ipython",
    "version": 3
   },
   "file_extension": ".py",
   "mimetype": "text/x-python",
   "name": "python",
   "nbconvert_exporter": "python",
   "pygments_lexer": "ipython3",
   "version": "3.8.5"
  }
 },
 "nbformat": 4,
 "nbformat_minor": 4
}
