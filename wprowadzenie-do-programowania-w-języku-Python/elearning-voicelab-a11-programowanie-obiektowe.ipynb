{
 "cells": [
  {
   "cell_type": "markdown",
   "id": "naval-history",
   "metadata": {},
   "source": [
    "# Programowanie obiektowe"
   ]
  },
  {
   "cell_type": "markdown",
   "id": "universal-tucson",
   "metadata": {},
   "source": [
    "## Klasy i instancje"
   ]
  },
  {
   "cell_type": "code",
   "execution_count": 6,
   "id": "female-negotiation",
   "metadata": {},
   "outputs": [],
   "source": [
    "class Osoba:\n",
    "    pass\n",
    "\n",
    "class Zwierze:\n",
    "    pass"
   ]
  },
  {
   "cell_type": "code",
   "execution_count": 7,
   "id": "institutional-canberra",
   "metadata": {},
   "outputs": [],
   "source": [
    "mark = Osoba()\n",
    "jan = Osoba()\n",
    "melissa = Osoba()\n",
    "\n",
    "szarik = Zwierze()\n",
    "cywil = Zwierze()"
   ]
  },
  {
   "cell_type": "markdown",
   "id": "meaning-destination",
   "metadata": {},
   "source": [
    "## Atrybuty"
   ]
  },
  {
   "cell_type": "code",
   "execution_count": 13,
   "id": "transsexual-discharge",
   "metadata": {},
   "outputs": [
    {
     "data": {
      "text/plain": [
       "{'imie': 'Mark', 'nazwisko': 'Watney'}"
      ]
     },
     "execution_count": 13,
     "metadata": {},
     "output_type": "execute_result"
    }
   ],
   "source": [
    "mark.imie = 'Mark'\n",
    "mark.nazwisko = 'Watney'\n",
    "\n",
    "vars(mark)"
   ]
  },
  {
   "cell_type": "code",
   "execution_count": 15,
   "id": "sized-chambers",
   "metadata": {},
   "outputs": [
    {
     "data": {
      "text/plain": [
       "{'imie': 'Jan', 'nazwisko': 'Twardowski'}"
      ]
     },
     "execution_count": 15,
     "metadata": {},
     "output_type": "execute_result"
    }
   ],
   "source": [
    "jan.imie = 'Jan'\n",
    "jan.nazwisko = 'Twardowski'\n",
    "\n",
    "vars(jan)"
   ]
  },
  {
   "cell_type": "code",
   "execution_count": 16,
   "id": "expanded-blood",
   "metadata": {},
   "outputs": [],
   "source": [
    "melissa_imie = 'Melissa'\n",
    "melissa_nazwisko = 'Lewis'"
   ]
  },
  {
   "cell_type": "code",
   "execution_count": 17,
   "id": "surface-liverpool",
   "metadata": {},
   "outputs": [],
   "source": [
    "pozycja_x = 1\n",
    "pozycja_y = 2\n",
    "pozycja_z = 3\n",
    "\n",
    "pozycja2_x = 5\n",
    "pozycja2_y = 7"
   ]
  },
  {
   "cell_type": "code",
   "execution_count": 18,
   "id": "appreciated-height",
   "metadata": {},
   "outputs": [
    {
     "data": {
      "text/plain": [
       "{'x': 1, 'y': 2, 'z': 3}"
      ]
     },
     "execution_count": 18,
     "metadata": {},
     "output_type": "execute_result"
    }
   ],
   "source": [
    "class Point:\n",
    "    pass\n",
    "\n",
    "pozycja = Point()\n",
    "pozycja.x = 1\n",
    "pozycja.y = 2\n",
    "pozycja.z = 3\n",
    "\n",
    "vars(pozycja)"
   ]
  },
  {
   "cell_type": "code",
   "execution_count": null,
   "id": "liberal-symphony",
   "metadata": {},
   "outputs": [],
   "source": [
    "# Atrybuty\n",
    "#\n",
    "# Właściwości (Properties)\n",
    "# Pola (Fields)\n",
    "# \n",
    "# Stan (...)\n",
    "\n",
    "class Kubek:\n",
    "    pass\n",
    "\n",
    "\n",
    "mojkubek = Kubek()\n",
    "mojkubek.szerokosc = 10\n",
    "mojkubek.dlugosc = 20\n",
    "mojkubek.glebokosc = 30\n",
    "mojkubek.objetosc = 250\n",
    "mojkubek.aktualna_ilosc_wody = 200"
   ]
  },
  {
   "cell_type": "code",
   "execution_count": 32,
   "id": "peaceful-place",
   "metadata": {},
   "outputs": [
    {
     "data": {
      "text/plain": [
       "{'szerokosc': 10,\n",
       " 'dlugosc': 20,\n",
       " 'glebokosc': 30,\n",
       " 'objetosc': 250,\n",
       " 'aktualna_ilosc_wody': 60}"
      ]
     },
     "execution_count": 32,
     "metadata": {},
     "output_type": "execute_result"
    }
   ],
   "source": [
    "class Kubek:\n",
    "    def __init__(self, szerokosc, dlugosc, glebokosc, objetosc=250):\n",
    "        self.szerokosc = szerokosc\n",
    "        self.dlugosc = dlugosc\n",
    "        self.glebokosc = glebokosc\n",
    "        self.objetosc = objetosc\n",
    "        self.aktualna_ilosc_wody = 0\n",
    "\n",
    "\n",
    "mojkubek = Kubek(szerokosc=10,\n",
    "                 dlugosc=20,\n",
    "                 glebokosc=30,\n",
    "                 objetosc=250)\n",
    "\n",
    "\n",
    "mojkubek.aktualna_ilosc_wody += 10\n",
    "mojkubek.aktualna_ilosc_wody += 50\n",
    "\n",
    "vars(mojkubek)"
   ]
  },
  {
   "cell_type": "markdown",
   "id": "laden-enhancement",
   "metadata": {},
   "source": [
    "## Metody"
   ]
  },
  {
   "cell_type": "code",
   "execution_count": 39,
   "id": "chronic-military",
   "metadata": {},
   "outputs": [
    {
     "data": {
      "text/plain": [
       "{'szerokosc': 10,\n",
       " 'dlugosc': 20,\n",
       " 'glebokosc': 30,\n",
       " 'objetosc': 250,\n",
       " 'aktualna_ilosc_wody': 249}"
      ]
     },
     "execution_count": 39,
     "metadata": {},
     "output_type": "execute_result"
    }
   ],
   "source": [
    "class Kubek:\n",
    "    def __init__(self, szerokosc, dlugosc, glebokosc, objetosc=250):\n",
    "        self.szerokosc = szerokosc\n",
    "        self.dlugosc = dlugosc\n",
    "        self.glebokosc = glebokosc\n",
    "        self.objetosc = objetosc\n",
    "        self.aktualna_ilosc_wody = 0\n",
    "\n",
    "    def dolej_wody(self, ile):\n",
    "        self.aktualna_ilosc_wody += ile\n",
    "        \n",
    "        if self.aktualna_ilosc_wody > self.objetosc:\n",
    "            raise ValueError('przepelniony kubek')\n",
    "        \n",
    "\n",
    "mojkubek = Kubek(szerokosc=10,\n",
    "                 dlugosc=20,\n",
    "                 glebokosc=30,\n",
    "                 objetosc=250)\n",
    "\n",
    "mojkubek.dolej_wody(100)\n",
    "mojkubek.dolej_wody(100)\n",
    "mojkubek.dolej_wody(49)\n",
    "\n",
    "\n",
    "vars(mojkubek)"
   ]
  },
  {
   "cell_type": "code",
   "execution_count": 40,
   "id": "pretty-mortgage",
   "metadata": {},
   "outputs": [],
   "source": [
    "mojkubek.dolej_wody(1)"
   ]
  },
  {
   "cell_type": "code",
   "execution_count": 41,
   "id": "common-stone",
   "metadata": {},
   "outputs": [
    {
     "ename": "ValueError",
     "evalue": "przepelniony kubek",
     "output_type": "error",
     "traceback": [
      "Traceback \u001b[1;36m(most recent call last)\u001b[0m:\n",
      "  File \u001b[0;32m\"<ipython-input-41-407324d98edc>\"\u001b[0m, line \u001b[0;32m1\u001b[0m, in \u001b[0;35m<module>\u001b[0m\n    mojkubek.dolej_wody(1)\n",
      "\u001b[1;36m  File \u001b[1;32m\"<ipython-input-39-a36b9951b4bc>\"\u001b[1;36m, line \u001b[1;32m13\u001b[1;36m, in \u001b[1;35mdolej_wody\u001b[1;36m\u001b[0m\n\u001b[1;33m    raise ValueError('przepelniony kubek')\u001b[0m\n",
      "\u001b[1;31mValueError\u001b[0m\u001b[1;31m:\u001b[0m przepelniony kubek\n"
     ]
    }
   ],
   "source": [
    "mojkubek.dolej_wody(1)"
   ]
  },
  {
   "cell_type": "code",
   "execution_count": 42,
   "id": "automatic-samuel",
   "metadata": {},
   "outputs": [
    {
     "data": {
      "text/plain": [
       "{'szerokosc': 10,\n",
       " 'dlugosc': 20,\n",
       " 'glebokosc': 30,\n",
       " 'objetosc': 250,\n",
       " 'aktualna_ilosc_wody': 251}"
      ]
     },
     "execution_count": 42,
     "metadata": {},
     "output_type": "execute_result"
    }
   ],
   "source": [
    "vars(mojkubek)"
   ]
  },
  {
   "cell_type": "code",
   "execution_count": 51,
   "id": "worth-helping",
   "metadata": {},
   "outputs": [],
   "source": [
    "class Osoba:\n",
    "    def __init__(self, imie, nazwisko):\n",
    "        self.imie = imie\n",
    "        self.nazwisko = nazwisko\n",
    "        \n",
    "    def hello(self):\n",
    "        print(f'Witaj {self.imie} {self.nazwisko}')\n",
    "\n",
    "        \n",
    "mark = Osoba('Mark', 'Watney')\n",
    "jan = Osoba('Jan', 'Twardowski')"
   ]
  },
  {
   "cell_type": "code",
   "execution_count": 53,
   "id": "lesser-ethnic",
   "metadata": {},
   "outputs": [
    {
     "name": "stdout",
     "output_type": "stream",
     "text": [
      "Witaj Jan Twardowski\n"
     ]
    }
   ],
   "source": [
    "jan.hello()"
   ]
  },
  {
   "cell_type": "code",
   "execution_count": 70,
   "id": "trying-muscle",
   "metadata": {},
   "outputs": [
    {
     "name": "stdout",
     "output_type": "stream",
     "text": [
      "Prostokat o boku a=2,b=4 i obwod=12 i pole=8\n"
     ]
    }
   ],
   "source": [
    "class Prostokat:\n",
    "    def __init__(self, a, b):\n",
    "        self.a = a\n",
    "        self.b = b\n",
    "    \n",
    "    def pole(self):\n",
    "        return self.a * self.b\n",
    "\n",
    "    def obwod(self):\n",
    "        return 2*self.a + 2*self.b\n",
    "\n",
    "    def __str__(self):\n",
    "        return f'Prostokat o boku a={self.a},b={self.b} i obowdzie {self.obwod()} i polu {self.pole()}'\n",
    "    \n",
    "\n",
    "p = Prostokat(2, 4)\n",
    "p.pole()\n",
    "p.obwod()\n",
    "print(p)  # str(p) # p.__str__()"
   ]
  },
  {
   "cell_type": "markdown",
   "id": "southern-filter",
   "metadata": {},
   "source": [
    "## Dziedziczenie"
   ]
  },
  {
   "cell_type": "code",
   "execution_count": 96,
   "id": "further-mounting",
   "metadata": {},
   "outputs": [],
   "source": [
    "class Osoba:\n",
    "    def __init__(self, imie, nazwisko):\n",
    "        self.imie = imie\n",
    "        self.nazwisko = nazwisko\n",
    "    \n",
    "    def hello(self):\n",
    "        return 'Witaj'\n",
    "        \n",
    "    def przywitaj(self):\n",
    "        return self.hello().upper()\n",
    "\n",
    "\n",
    "class Astronaut(Osoba):\n",
    "    def __init__(self, imie, nazwisko):\n",
    "        super().__init__(imie, nazwisko)\n",
    "        self.praca = 'astronaut'\n",
    "    \n",
    "    def hello(self):\n",
    "        x = super().hello()\n",
    "        return f'Hello {x}'\n",
    "\n",
    "\n",
    "jan = Astronaut('Jan', 'Twardowski')\n",
    "mark = Osoba('Mark', 'Watney')"
   ]
  },
  {
   "cell_type": "code",
   "execution_count": 93,
   "id": "gothic-compromise",
   "metadata": {},
   "outputs": [
    {
     "data": {
      "text/plain": [
       "'HELLO WITAJ'"
      ]
     },
     "execution_count": 93,
     "metadata": {},
     "output_type": "execute_result"
    }
   ],
   "source": [
    "jan.przywitaj()"
   ]
  },
  {
   "cell_type": "code",
   "execution_count": 94,
   "id": "polish-turner",
   "metadata": {},
   "outputs": [
    {
     "data": {
      "text/plain": [
       "'WITAJ'"
      ]
     },
     "execution_count": 94,
     "metadata": {},
     "output_type": "execute_result"
    }
   ],
   "source": [
    "mark.przywitaj()"
   ]
  },
  {
   "cell_type": "code",
   "execution_count": 98,
   "id": "comparative-apache",
   "metadata": {},
   "outputs": [
    {
     "data": {
      "text/plain": [
       "{'imie': 'Mark', 'nazwisko': 'Watney'}"
      ]
     },
     "execution_count": 98,
     "metadata": {},
     "output_type": "execute_result"
    }
   ],
   "source": [
    "vars(mark)"
   ]
  },
  {
   "cell_type": "code",
   "execution_count": null,
   "id": "advance-wonder",
   "metadata": {},
   "outputs": [],
   "source": []
  }
 ],
 "metadata": {
  "kernelspec": {
   "display_name": "Python 3",
   "language": "python",
   "name": "python3"
  },
  "language_info": {
   "codemirror_mode": {
    "name": "ipython",
    "version": 3
   },
   "file_extension": ".py",
   "mimetype": "text/x-python",
   "name": "python",
   "nbconvert_exporter": "python",
   "pygments_lexer": "ipython3",
   "version": "3.9.1"
  }
 },
 "nbformat": 4,
 "nbformat_minor": 5
}
