{
 "cells": [
  {
   "cell_type": "markdown",
   "id": "expanded-embassy",
   "metadata": {},
   "source": [
    "# Pętle"
   ]
  },
  {
   "cell_type": "markdown",
   "id": "similar-sierra",
   "metadata": {},
   "source": [
    "## While"
   ]
  },
  {
   "cell_type": "code",
   "execution_count": 2,
   "id": "lasting-grain",
   "metadata": {},
   "outputs": [
    {
     "name": "stdin",
     "output_type": "stream",
     "text": [
      "Podaj wiek 18\n"
     ]
    },
    {
     "name": "stdout",
     "output_type": "stream",
     "text": [
      "nie\n"
     ]
    },
    {
     "name": "stdin",
     "output_type": "stream",
     "text": [
      "Podaj wiek 21\n"
     ]
    },
    {
     "name": "stdout",
     "output_type": "stream",
     "text": [
      "pełnoletni\n"
     ]
    },
    {
     "name": "stdin",
     "output_type": "stream",
     "text": [
      "Podaj wiek 99\n"
     ]
    },
    {
     "name": "stdout",
     "output_type": "stream",
     "text": [
      "pełnoletni\n"
     ]
    },
    {
     "name": "stdin",
     "output_type": "stream",
     "text": [
      "Podaj wiek -5\n"
     ]
    },
    {
     "name": "stdout",
     "output_type": "stream",
     "text": [
      "nie\n"
     ]
    },
    {
     "name": "stdin",
     "output_type": "stream",
     "text": [
      "Podaj wiek \n"
     ]
    }
   ],
   "source": [
    "while True:\n",
    "    age = input('Podaj wiek')\n",
    "    \n",
    "    if not age:\n",
    "        break\n",
    "    \n",
    "    age = float(age)\n",
    "    \n",
    "    if age > 18:\n",
    "        print('pełnoletni')\n",
    "    else:\n",
    "        print('nie')"
   ]
  },
  {
   "cell_type": "code",
   "execution_count": 7,
   "id": "worthy-audit",
   "metadata": {},
   "outputs": [
    {
     "data": {
      "text/plain": [
       "[1.0, 2.0, 3.0]"
      ]
     },
     "execution_count": 7,
     "metadata": {},
     "output_type": "execute_result"
    }
   ],
   "source": [
    "data = [1, 2, 3]\n",
    "i = 0\n",
    "result = []\n",
    "\n",
    "while i < len(data):\n",
    "    x = data[i]\n",
    "    result.append(float(x))\n",
    "    i += 1\n",
    "    \n",
    "result"
   ]
  },
  {
   "cell_type": "markdown",
   "id": "strong-apartment",
   "metadata": {},
   "source": [
    "## For"
   ]
  },
  {
   "cell_type": "code",
   "execution_count": 9,
   "id": "logical-playback",
   "metadata": {},
   "outputs": [
    {
     "data": {
      "text/plain": [
       "[1.0, 2.0, 3.0]"
      ]
     },
     "execution_count": 9,
     "metadata": {},
     "output_type": "execute_result"
    }
   ],
   "source": [
    "data = [1,2,3]\n",
    "result = []\n",
    "\n",
    "for x in data:\n",
    "    result.append(float(x))\n",
    "    \n",
    "result"
   ]
  },
  {
   "cell_type": "code",
   "execution_count": 15,
   "id": "selective-potter",
   "metadata": {},
   "outputs": [
    {
     "name": "stdout",
     "output_type": "stream",
     "text": [
      "WE\n",
      "CHOOSE\n",
      "TO\n",
      "GO\n",
      "TO\n",
      "THE\n",
      "MOON\n"
     ]
    }
   ],
   "source": [
    "DATA = 'We choose to go to the Moon'\n",
    "ilosc_slow = 0\n",
    "\n",
    "for slowo in DATA.split():\n",
    "    ilosc_slow += 1\n",
    "    print(slowo.upper())"
   ]
  },
  {
   "cell_type": "markdown",
   "id": "realistic-utility",
   "metadata": {},
   "source": [
    "## Zagnieżdżone pętle"
   ]
  },
  {
   "cell_type": "code",
   "execution_count": 28,
   "id": "divine-meter",
   "metadata": {},
   "outputs": [
    {
     "name": "stdout",
     "output_type": "stream",
     "text": [
      "analizuję wiersz 6: (1, 2, 3)\n",
      "0 -> 1\n",
      "1 -> 2\n",
      "2 -> 3\n",
      "analizuję wiersz 7: (4, 5, 6)\n",
      "0 -> 4\n",
      "1 -> 5\n",
      "2 -> 6\n",
      "analizuję wiersz 8: (7, 8, 9)\n",
      "0 -> 7\n",
      "1 -> 8\n",
      "2 -> 9\n"
     ]
    }
   ],
   "source": [
    "data = [\n",
    "    (1,2,3),\n",
    "    (4,5,6),\n",
    "    (7,8,9),\n",
    "]\n",
    "\n",
    "for i, wiersz in enumerate(data, start=6):\n",
    "    print(f'analizuję wiersz {i}: {wiersz}')\n",
    "    \n",
    "    for j, element in enumerate(wiersz):\n",
    "        print(j, '->', element)"
   ]
  },
  {
   "cell_type": "markdown",
   "id": "vocal-lodging",
   "metadata": {},
   "source": [
    "## Comprehension"
   ]
  },
  {
   "cell_type": "code",
   "execution_count": 33,
   "id": "figured-management",
   "metadata": {},
   "outputs": [
    {
     "data": {
      "text/plain": [
       "[0, 1, 2, 3, 4]"
      ]
     },
     "execution_count": 33,
     "metadata": {},
     "output_type": "execute_result"
    }
   ],
   "source": [
    "result = []\n",
    "\n",
    "for x in range(0,5):\n",
    "    result.append(x)\n",
    "    \n",
    "result"
   ]
  },
  {
   "cell_type": "code",
   "execution_count": 41,
   "id": "royal-particle",
   "metadata": {},
   "outputs": [
    {
     "data": {
      "text/plain": [
       "{1: 1, 2: 4, 3: 9, 4: 16, 5: 25}"
      ]
     },
     "execution_count": 41,
     "metadata": {},
     "output_type": "execute_result"
    }
   ],
   "source": [
    "result = {x:x**2 for x in range(1,6)}\n",
    "\n",
    "result"
   ]
  },
  {
   "cell_type": "code",
   "execution_count": 43,
   "id": "soviet-newark",
   "metadata": {},
   "outputs": [
    {
     "data": {
      "text/plain": [
       "[0, 1, 2, 3, 4]"
      ]
     },
     "execution_count": 43,
     "metadata": {},
     "output_type": "execute_result"
    }
   ],
   "source": [
    "result = (x for x in range(0,5))\n",
    "\n",
    "list(result)"
   ]
  },
  {
   "cell_type": "code",
   "execution_count": 46,
   "id": "regulation-study",
   "metadata": {},
   "outputs": [],
   "source": [
    "result = [x for x in range(0,5)]"
   ]
  },
  {
   "cell_type": "code",
   "execution_count": 45,
   "id": "rotary-smart",
   "metadata": {},
   "outputs": [
    {
     "data": {
      "text/plain": [
       "[0, 1, 2, 3, 4]"
      ]
     },
     "execution_count": 45,
     "metadata": {},
     "output_type": "execute_result"
    }
   ],
   "source": [
    "result"
   ]
  },
  {
   "cell_type": "code",
   "execution_count": 47,
   "id": "critical-shakespeare",
   "metadata": {},
   "outputs": [],
   "source": [
    "result = (x for x in range(0,5))"
   ]
  },
  {
   "cell_type": "code",
   "execution_count": 48,
   "id": "above-sleep",
   "metadata": {},
   "outputs": [
    {
     "data": {
      "text/plain": [
       "<generator object <genexpr> at 0x10ac61900>"
      ]
     },
     "execution_count": 48,
     "metadata": {},
     "output_type": "execute_result"
    }
   ],
   "source": [
    "result"
   ]
  },
  {
   "cell_type": "code",
   "execution_count": 49,
   "id": "informative-significance",
   "metadata": {},
   "outputs": [
    {
     "data": {
      "text/plain": [
       "0"
      ]
     },
     "execution_count": 49,
     "metadata": {},
     "output_type": "execute_result"
    }
   ],
   "source": [
    "next(result)"
   ]
  },
  {
   "cell_type": "code",
   "execution_count": 50,
   "id": "cross-chart",
   "metadata": {},
   "outputs": [
    {
     "data": {
      "text/plain": [
       "1"
      ]
     },
     "execution_count": 50,
     "metadata": {},
     "output_type": "execute_result"
    }
   ],
   "source": [
    "next(result)"
   ]
  },
  {
   "cell_type": "code",
   "execution_count": 51,
   "id": "aggressive-independence",
   "metadata": {},
   "outputs": [
    {
     "data": {
      "text/plain": [
       "2"
      ]
     },
     "execution_count": 51,
     "metadata": {},
     "output_type": "execute_result"
    }
   ],
   "source": [
    "next(result)"
   ]
  },
  {
   "cell_type": "code",
   "execution_count": 52,
   "id": "amino-yield",
   "metadata": {},
   "outputs": [
    {
     "data": {
      "text/plain": [
       "3"
      ]
     },
     "execution_count": 52,
     "metadata": {},
     "output_type": "execute_result"
    }
   ],
   "source": [
    "next(result)"
   ]
  },
  {
   "cell_type": "code",
   "execution_count": 53,
   "id": "cooperative-guarantee",
   "metadata": {},
   "outputs": [
    {
     "data": {
      "text/plain": [
       "4"
      ]
     },
     "execution_count": 53,
     "metadata": {},
     "output_type": "execute_result"
    }
   ],
   "source": [
    "next(result)"
   ]
  },
  {
   "cell_type": "code",
   "execution_count": 54,
   "id": "economic-republican",
   "metadata": {},
   "outputs": [
    {
     "ename": "StopIteration",
     "evalue": "",
     "output_type": "error",
     "traceback": [
      "Traceback \u001b[1;36m(most recent call last)\u001b[0m:\n",
      "\u001b[1;36m  File \u001b[1;32m\"<ipython-input-54-709396a5599b>\"\u001b[1;36m, line \u001b[1;32m1\u001b[1;36m, in \u001b[1;35m<module>\u001b[1;36m\u001b[0m\n\u001b[1;33m    next(result)\u001b[0m\n",
      "\u001b[1;31mStopIteration\u001b[0m\n"
     ]
    }
   ],
   "source": [
    "next(result)"
   ]
  },
  {
   "cell_type": "code",
   "execution_count": 65,
   "id": "falling-lunch",
   "metadata": {},
   "outputs": [
    {
     "data": {
      "text/plain": [
       "[0.0, 2.0, 4.0, 6.0, 8.0]"
      ]
     },
     "execution_count": 65,
     "metadata": {},
     "output_type": "execute_result"
    }
   ],
   "source": [
    "[float(x) for x in range(0,10) if x % 2 == 0]"
   ]
  },
  {
   "cell_type": "code",
   "execution_count": null,
   "id": "experimental-germany",
   "metadata": {},
   "outputs": [],
   "source": [
    "[float(x) for x in range(0,10)] # -> map(float, range(0,10))\n",
    "[x for x in range(0,10) if x % 2 == 0] # -> filter(lambda x: x%2==0, range(0,10))"
   ]
  },
  {
   "cell_type": "code",
   "execution_count": null,
   "id": "specialized-uruguay",
   "metadata": {},
   "outputs": [],
   "source": [
    "[float(x)\n",
    " for x in range(0,10)\n",
    " for x in range(0,10)\n",
    " for x in range(0,10)\n",
    " if x % 2 == 0\n",
    " and x > 10\n",
    " or ...]"
   ]
  },
  {
   "cell_type": "code",
   "execution_count": 68,
   "id": "placed-rings",
   "metadata": {},
   "outputs": [
    {
     "name": "stdout",
     "output_type": "stream",
     "text": [
      "1\n",
      "2\n",
      "3\n"
     ]
    }
   ],
   "source": [
    "data = [1,2,3]\n",
    "\n",
    "for ppp in data:\n",
    "    print(ppp)"
   ]
  },
  {
   "cell_type": "code",
   "execution_count": 69,
   "id": "injured-receiver",
   "metadata": {},
   "outputs": [
    {
     "data": {
      "text/plain": [
       "3"
      ]
     },
     "execution_count": 69,
     "metadata": {},
     "output_type": "execute_result"
    }
   ],
   "source": [
    "ppp"
   ]
  },
  {
   "cell_type": "code",
   "execution_count": 70,
   "id": "sunset-shaft",
   "metadata": {},
   "outputs": [
    {
     "data": {
      "text/plain": [
       "[1, 2, 3]"
      ]
     },
     "execution_count": 70,
     "metadata": {},
     "output_type": "execute_result"
    }
   ],
   "source": [
    "[xyz for xyz in data]"
   ]
  },
  {
   "cell_type": "code",
   "execution_count": 71,
   "id": "excellent-transmission",
   "metadata": {},
   "outputs": [
    {
     "ename": "NameError",
     "evalue": "name 'xyz' is not defined",
     "output_type": "error",
     "traceback": [
      "Traceback \u001b[1;36m(most recent call last)\u001b[0m:\n",
      "\u001b[1;36m  File \u001b[1;32m\"<ipython-input-71-8714e0ef31ed>\"\u001b[1;36m, line \u001b[1;32m1\u001b[1;36m, in \u001b[1;35m<module>\u001b[1;36m\u001b[0m\n\u001b[1;33m    xyz\u001b[0m\n",
      "\u001b[1;31mNameError\u001b[0m\u001b[1;31m:\u001b[0m name 'xyz' is not defined\n"
     ]
    }
   ],
   "source": [
    "xyz"
   ]
  },
  {
   "cell_type": "code",
   "execution_count": null,
   "id": "egyptian-campus",
   "metadata": {},
   "outputs": [],
   "source": []
  }
 ],
 "metadata": {
  "kernelspec": {
   "display_name": "Python 3",
   "language": "python",
   "name": "python3"
  },
  "language_info": {
   "codemirror_mode": {
    "name": "ipython",
    "version": 3
   },
   "file_extension": ".py",
   "mimetype": "text/x-python",
   "name": "python",
   "nbconvert_exporter": "python",
   "pygments_lexer": "ipython3",
   "version": "3.9.1"
  }
 },
 "nbformat": 4,
 "nbformat_minor": 5
}
