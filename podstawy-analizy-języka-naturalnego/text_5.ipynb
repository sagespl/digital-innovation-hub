{
 "cells": [
  {
   "cell_type": "markdown",
   "id": "false-surname",
   "metadata": {
    "slideshow": {
     "slide_type": "slide"
    }
   },
   "source": [
    "# spaCy"
   ]
  },
  {
   "cell_type": "markdown",
   "id": "unique-cookie",
   "metadata": {
    "slideshow": {
     "slide_type": "fragment"
    }
   },
   "source": [
    "```\n",
    "pip install spacy\n",
    "python -m spacy download pl_core_news_md\n",
    "```"
   ]
  },
  {
   "cell_type": "code",
   "execution_count": 1,
   "id": "ruled-expense",
   "metadata": {
    "slideshow": {
     "slide_type": "fragment"
    }
   },
   "outputs": [],
   "source": [
    "import spacy"
   ]
  },
  {
   "cell_type": "code",
   "execution_count": 2,
   "id": "congressional-iceland",
   "metadata": {
    "slideshow": {
     "slide_type": "fragment"
    }
   },
   "outputs": [],
   "source": [
    "nlp = spacy.load(\"pl_core_news_md\")"
   ]
  },
  {
   "cell_type": "code",
   "execution_count": 3,
   "id": "homeless-woman",
   "metadata": {
    "slideshow": {
     "slide_type": "slide"
    }
   },
   "outputs": [],
   "source": [
    "from spacy.lang.pl.examples import sentences"
   ]
  },
  {
   "cell_type": "code",
   "execution_count": 4,
   "id": "demanding-vermont",
   "metadata": {
    "slideshow": {
     "slide_type": "fragment"
    }
   },
   "outputs": [
    {
     "data": {
      "text/plain": [
       "['Poczuł przyjemną woń mocnej kawy.',\n",
       " 'Istnieje wiele dróg oddziaływania substancji psychoaktywnej na układ nerwowy.',\n",
       " 'Powitał mnie biało-czarny kot, płosząc siedzące na płocie trzy dorodne dudki.',\n",
       " 'Nowy abonament pod lupą Komisji Europejskiej',\n",
       " 'Czy w ciągu ostatnich 48 godzin spożyłeś leki zawierające paracetamol?',\n",
       " 'Kto ma ochotę zapoznać się z innymi niż w książkach przygodami Muminków i ich przyjaciół, temu polecam komiks Tove Jansson „Muminki i morze”.']"
      ]
     },
     "execution_count": 4,
     "metadata": {},
     "output_type": "execute_result"
    }
   ],
   "source": [
    "sentences"
   ]
  },
  {
   "cell_type": "code",
   "execution_count": 5,
   "id": "cordless-dairy",
   "metadata": {
    "slideshow": {
     "slide_type": "fragment"
    }
   },
   "outputs": [
    {
     "data": {
      "text/plain": [
       "'Istnieje wiele dróg oddziaływania substancji psychoaktywnej na układ nerwowy.'"
      ]
     },
     "execution_count": 5,
     "metadata": {},
     "output_type": "execute_result"
    }
   ],
   "source": [
    "sentence = sentences[1]\n",
    "sentence"
   ]
  },
  {
   "cell_type": "markdown",
   "id": "featured-substitute",
   "metadata": {
    "slideshow": {
     "slide_type": "slide"
    }
   },
   "source": [
    "### Model"
   ]
  },
  {
   "cell_type": "code",
   "execution_count": 6,
   "id": "anonymous-render",
   "metadata": {
    "slideshow": {
     "slide_type": "fragment"
    }
   },
   "outputs": [],
   "source": [
    "doc = nlp(sentence)"
   ]
  },
  {
   "cell_type": "code",
   "execution_count": 7,
   "id": "color-kitty",
   "metadata": {
    "slideshow": {
     "slide_type": "fragment"
    }
   },
   "outputs": [
    {
     "data": {
      "text/plain": [
       "Istnieje wiele dróg oddziaływania substancji psychoaktywnej na układ nerwowy."
      ]
     },
     "execution_count": 7,
     "metadata": {},
     "output_type": "execute_result"
    }
   ],
   "source": [
    "doc"
   ]
  },
  {
   "cell_type": "markdown",
   "id": "suited-twins",
   "metadata": {
    "slideshow": {
     "slide_type": "slide"
    }
   },
   "source": [
    "### Tokenizacja"
   ]
  },
  {
   "cell_type": "code",
   "execution_count": 8,
   "id": "prescription-calendar",
   "metadata": {
    "slideshow": {
     "slide_type": "fragment"
    }
   },
   "outputs": [
    {
     "name": "stdout",
     "output_type": "stream",
     "text": [
      "Istnieje\n",
      "wiele\n",
      "dróg\n",
      "oddziaływania\n",
      "substancji\n",
      "psychoaktywnej\n",
      "na\n",
      "układ\n",
      "nerwowy.\n"
     ]
    }
   ],
   "source": [
    "for token in sentence.split(\" \"):\n",
    "    print(token)"
   ]
  },
  {
   "cell_type": "code",
   "execution_count": 9,
   "id": "handled-joshua",
   "metadata": {
    "slideshow": {
     "slide_type": "fragment"
    }
   },
   "outputs": [
    {
     "data": {
      "text/plain": [
       "False"
      ]
     },
     "execution_count": 9,
     "metadata": {},
     "output_type": "execute_result"
    }
   ],
   "source": [
    "\"nerwowy\" == \"nerwowy.\""
   ]
  },
  {
   "cell_type": "code",
   "execution_count": 10,
   "id": "nervous-lover",
   "metadata": {
    "slideshow": {
     "slide_type": "slide"
    }
   },
   "outputs": [
    {
     "name": "stdout",
     "output_type": "stream",
     "text": [
      "Istnieje\n",
      "wiele\n",
      "dróg\n",
      "oddziaływania\n",
      "substancji\n",
      "psychoaktywnej\n",
      "na\n",
      "układ\n",
      "nerwowy\n",
      ".\n"
     ]
    }
   ],
   "source": [
    "for token in doc:\n",
    "    print(token.text)"
   ]
  },
  {
   "cell_type": "code",
   "execution_count": 11,
   "id": "architectural-freight",
   "metadata": {
    "slideshow": {
     "slide_type": "fragment"
    }
   },
   "outputs": [
    {
     "name": "stdout",
     "output_type": "stream",
     "text": [
      "Istnieje\n",
      "wiele\n",
      "dróg\n",
      "oddziaływania\n",
      "substancji\n",
      "psychoaktywnej\n",
      "na\n",
      "układ\n",
      "nerwowy\n"
     ]
    }
   ],
   "source": [
    "for token in doc:\n",
    "    if token.is_alpha:\n",
    "        print(token.text)"
   ]
  },
  {
   "cell_type": "code",
   "execution_count": 12,
   "id": "aboriginal-aircraft",
   "metadata": {
    "slideshow": {
     "slide_type": "slide"
    }
   },
   "outputs": [
    {
     "name": "stdout",
     "output_type": "stream",
     "text": [
      "istnieje\n",
      "wiele\n",
      "dróg\n",
      "oddziaływania\n",
      "substancji\n",
      "psychoaktywnej\n",
      "na\n",
      "układ\n",
      "nerwowy\n"
     ]
    }
   ],
   "source": [
    "for token in doc:\n",
    "    if token.is_alpha:\n",
    "        print(token.text.lower())"
   ]
  },
  {
   "cell_type": "code",
   "execution_count": 13,
   "id": "binary-allah",
   "metadata": {
    "slideshow": {
     "slide_type": "fragment"
    }
   },
   "outputs": [
    {
     "data": {
      "text/plain": [
       "False"
      ]
     },
     "execution_count": 13,
     "metadata": {},
     "output_type": "execute_result"
    }
   ],
   "source": [
    "\"istnieje\" == \"Istnieje\""
   ]
  },
  {
   "cell_type": "markdown",
   "id": "outstanding-swiss",
   "metadata": {
    "slideshow": {
     "slide_type": "slide"
    }
   },
   "source": [
    "### Dodatkowe białe znaki"
   ]
  },
  {
   "cell_type": "code",
   "execution_count": 14,
   "id": "worst-evidence",
   "metadata": {
    "slideshow": {
     "slide_type": "fragment"
    }
   },
   "outputs": [
    {
     "name": "stdout",
     "output_type": "stream",
     "text": [
      "Istnieje wiele dróg\n",
      "oddziaływania substancji  psychoaktywnej na układ\tnerwowy.\n"
     ]
    }
   ],
   "source": [
    "sent = \"Istnieje wiele dróg\\noddziaływania substancji  psychoaktywnej na układ\\tnerwowy.\"\n",
    "print(sent)"
   ]
  },
  {
   "cell_type": "code",
   "execution_count": 15,
   "id": "ceramic-sound",
   "metadata": {
    "slideshow": {
     "slide_type": "fragment"
    }
   },
   "outputs": [],
   "source": [
    "doc = nlp(sent)"
   ]
  },
  {
   "cell_type": "code",
   "execution_count": 16,
   "id": "compressed-mills",
   "metadata": {
    "slideshow": {
     "slide_type": "fragment"
    }
   },
   "outputs": [
    {
     "name": "stdout",
     "output_type": "stream",
     "text": [
      "Istnieje\n",
      "wiele\n",
      "dróg\n",
      "\n",
      "\n",
      "oddziaływania\n",
      "substancji\n",
      " \n",
      "psychoaktywnej\n",
      "na\n",
      "układ\n",
      "\t\n",
      "nerwowy\n",
      ".\n"
     ]
    }
   ],
   "source": [
    "for token in doc:\n",
    "    print(token.text)"
   ]
  },
  {
   "cell_type": "markdown",
   "id": "addressed-dairy",
   "metadata": {
    "slideshow": {
     "slide_type": "slide"
    }
   },
   "source": [
    "### regex\n",
    "\n",
    "https://regex101.com/"
   ]
  },
  {
   "cell_type": "code",
   "execution_count": 17,
   "id": "canadian-holiday",
   "metadata": {
    "slideshow": {
     "slide_type": "fragment"
    }
   },
   "outputs": [],
   "source": [
    "import re"
   ]
  },
  {
   "cell_type": "code",
   "execution_count": 18,
   "id": "explicit-arbitration",
   "metadata": {
    "slideshow": {
     "slide_type": "fragment"
    }
   },
   "outputs": [
    {
     "data": {
      "text/plain": [
       "'Istnieje wiele dróg oddziaływania substancji psychoaktywnej na układ nerwowy.'"
      ]
     },
     "execution_count": 18,
     "metadata": {},
     "output_type": "execute_result"
    }
   ],
   "source": [
    "re.sub(r\"\\s+\", \" \", sent)"
   ]
  },
  {
   "cell_type": "code",
   "execution_count": 19,
   "id": "acoustic-johns",
   "metadata": {
    "slideshow": {
     "slide_type": "fragment"
    }
   },
   "outputs": [],
   "source": [
    "sent_fixed = re.sub(r\"\\s+\", \" \", sent)"
   ]
  },
  {
   "cell_type": "code",
   "execution_count": 20,
   "id": "psychological-planner",
   "metadata": {
    "slideshow": {
     "slide_type": "slide"
    }
   },
   "outputs": [],
   "source": [
    "doc = nlp(sent_fixed)"
   ]
  },
  {
   "cell_type": "code",
   "execution_count": 21,
   "id": "floppy-minneapolis",
   "metadata": {
    "slideshow": {
     "slide_type": "fragment"
    }
   },
   "outputs": [
    {
     "name": "stdout",
     "output_type": "stream",
     "text": [
      "Istnieje\n",
      "wiele\n",
      "dróg\n",
      "oddziaływania\n",
      "substancji\n",
      "psychoaktywnej\n",
      "na\n",
      "układ\n",
      "nerwowy\n",
      ".\n"
     ]
    }
   ],
   "source": [
    "for token in doc:\n",
    "    print(token.text)"
   ]
  },
  {
   "cell_type": "code",
   "execution_count": 22,
   "id": "streaming-aluminum",
   "metadata": {
    "slideshow": {
     "slide_type": "slide"
    }
   },
   "outputs": [
    {
     "data": {
      "text/plain": [
       "['Istnieje',\n",
       " 'wiele',\n",
       " 'dróg',\n",
       " 'oddziaływania',\n",
       " 'substancji',\n",
       " 'psychoaktywnej',\n",
       " 'na',\n",
       " 'układ',\n",
       " 'nerwowy']"
      ]
     },
     "execution_count": 22,
     "metadata": {},
     "output_type": "execute_result"
    }
   ],
   "source": [
    "re.findall(r\"\\w+\", sent)"
   ]
  },
  {
   "cell_type": "markdown",
   "id": "convinced-calibration",
   "metadata": {
    "slideshow": {
     "slide_type": "skip"
    }
   },
   "source": [
    "\n"
   ]
  }
 ],
 "metadata": {
  "celltoolbar": "Slideshow",
  "kernelspec": {
   "display_name": "Python 3",
   "language": "python",
   "name": "python3"
  },
  "language_info": {
   "codemirror_mode": {
    "name": "ipython",
    "version": 3
   },
   "file_extension": ".py",
   "mimetype": "text/x-python",
   "name": "python",
   "nbconvert_exporter": "python",
   "pygments_lexer": "ipython3",
   "version": "3.8.5"
  }
 },
 "nbformat": 4,
 "nbformat_minor": 5
}
