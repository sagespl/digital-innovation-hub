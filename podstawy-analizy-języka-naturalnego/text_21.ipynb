{
 "cells": [
  {
   "cell_type": "code",
   "execution_count": 1,
   "metadata": {
    "slideshow": {
     "slide_type": "skip"
    }
   },
   "outputs": [],
   "source": [
    "import xml.etree.ElementTree as ET\n",
    "import os\n",
    "import re"
   ]
  },
  {
   "cell_type": "code",
   "execution_count": 2,
   "metadata": {
    "slideshow": {
     "slide_type": "skip"
    }
   },
   "outputs": [],
   "source": [
    "PATTERN1 = re.compile(r\"(?<=[a-zA-Z])\\n\")\n",
    "PATTERN2 = re.compile(r\"\\s+\")\n",
    "\n",
    "def clean_text(text):\n",
    "    out = PATTERN1.sub(\". \", text)\n",
    "    return PATTERN2.sub(\" \", out)"
   ]
  },
  {
   "cell_type": "code",
   "execution_count": 3,
   "metadata": {
    "slideshow": {
     "slide_type": "skip"
    }
   },
   "outputs": [],
   "source": [
    "def load_data(path, n_doc=None):\n",
    "    data = []\n",
    "    count = 0\n",
    "    for file in os.listdir(path):\n",
    "        with open(f\"{path}/{file}\", \"r\") as f:\n",
    "            raw = f.read()\n",
    "        root = ET.fromstring(raw)\n",
    "        doc = clean_text(root.find(\"body\").text)\n",
    "        for summary in root.find(\"summaries\").findall(\"summary\"):\n",
    "            if summary.attrib[\"ratio\"] == \"10\":\n",
    "                kind = summary.attrib[\"type\"]\n",
    "                text = clean_text(summary.find(\"body\").text)\n",
    "                data.append((doc, text, kind))\n",
    "        if n_doc:\n",
    "            count += 1\n",
    "            if count == n_doc:\n",
    "                break\n",
    "    return data"
   ]
  },
  {
   "cell_type": "code",
   "execution_count": 4,
   "metadata": {
    "slideshow": {
     "slide_type": "skip"
    }
   },
   "outputs": [],
   "source": [
    "data = load_data(\"PSC_1.0/data\", 1)"
   ]
  },
  {
   "cell_type": "markdown",
   "metadata": {
    "slideshow": {
     "slide_type": "slide"
    }
   },
   "source": [
    "# Automatyczne tworzenie podsumowań"
   ]
  },
  {
   "cell_type": "markdown",
   "metadata": {
    "slideshow": {
     "slide_type": "slide"
    }
   },
   "source": [
    "## TextRank"
   ]
  },
  {
   "cell_type": "code",
   "execution_count": 5,
   "metadata": {
    "slideshow": {
     "slide_type": "slide"
    }
   },
   "outputs": [],
   "source": [
    "import numpy as np\n",
    "import pandas as pd\n",
    "import spacy\n",
    "\n",
    "nlp = spacy.load('pl_core_news_md')"
   ]
  },
  {
   "attachments": {
    "image.png": {
     "image/png": "[encoded data removed]"
    }
   },
   "cell_type": "markdown",
   "metadata": {
    "slideshow": {
     "slide_type": "slide"
    }
   },
   "source": [
    "![image.png](attachment:image.png)"
   ]
  },
  {
   "cell_type": "code",
   "execution_count": 6,
   "metadata": {
    "slideshow": {
     "slide_type": "fragment"
    }
   },
   "outputs": [
    {
     "data": {
      "text/html": [
       "<div>\n",
       "<style scoped>\n",
       "    .dataframe tbody tr th:only-of-type {\n",
       "        vertical-align: middle;\n",
       "    }\n",
       "\n",
       "    .dataframe tbody tr th {\n",
       "        vertical-align: top;\n",
       "    }\n",
       "\n",
       "    .dataframe thead th {\n",
       "        text-align: right;\n",
       "    }\n",
       "</style>\n",
       "<table border=\"1\" class=\"dataframe\">\n",
       "  <thead>\n",
       "    <tr style=\"text-align: right;\">\n",
       "      <th></th>\n",
       "      <th>A</th>\n",
       "      <th>B</th>\n",
       "      <th>C</th>\n",
       "      <th>D</th>\n",
       "    </tr>\n",
       "  </thead>\n",
       "  <tbody>\n",
       "    <tr>\n",
       "      <th>A</th>\n",
       "      <td>0.0</td>\n",
       "      <td>0.0</td>\n",
       "      <td>0.0</td>\n",
       "      <td>0.0</td>\n",
       "    </tr>\n",
       "    <tr>\n",
       "      <th>B</th>\n",
       "      <td>0.0</td>\n",
       "      <td>0.0</td>\n",
       "      <td>0.0</td>\n",
       "      <td>0.0</td>\n",
       "    </tr>\n",
       "    <tr>\n",
       "      <th>C</th>\n",
       "      <td>1.0</td>\n",
       "      <td>0.5</td>\n",
       "      <td>0.0</td>\n",
       "      <td>0.0</td>\n",
       "    </tr>\n",
       "    <tr>\n",
       "      <th>D</th>\n",
       "      <td>0.0</td>\n",
       "      <td>0.5</td>\n",
       "      <td>0.0</td>\n",
       "      <td>0.0</td>\n",
       "    </tr>\n",
       "  </tbody>\n",
       "</table>\n",
       "</div>"
      ],
      "text/plain": [
       "     A    B    C    D\n",
       "A  0.0  0.0  0.0  0.0\n",
       "B  0.0  0.0  0.0  0.0\n",
       "C  1.0  0.5  0.0  0.0\n",
       "D  0.0  0.5  0.0  0.0"
      ]
     },
     "execution_count": 6,
     "metadata": {},
     "output_type": "execute_result"
    }
   ],
   "source": [
    "mx = np.array([[0, 0, 0, 0], [0, 0, 0, 0], [1, 0.5, 0, 0], [0, 0.5, 0, 0]])\n",
    "pd.DataFrame(mx, columns=[\"A\", \"B\", \"C\", \"D\"], index=[\"A\", \"B\", \"C\", \"D\"])"
   ]
  },
  {
   "cell_type": "code",
   "execution_count": 7,
   "metadata": {
    "slideshow": {
     "slide_type": "slide"
    }
   },
   "outputs": [],
   "source": [
    "page_rank = np.array([1, 1, 1, 1])\n",
    "d = 0.85"
   ]
  },
  {
   "cell_type": "code",
   "execution_count": 8,
   "metadata": {
    "slideshow": {
     "slide_type": "fragment"
    }
   },
   "outputs": [
    {
     "name": "stdout",
     "output_type": "stream",
     "text": [
      "iteracja: 0 - page rank: [0.15  0.15  1.425 0.575]\n",
      "iteracja: 1 - page rank: [0.15    0.15    0.34125 0.21375]\n",
      "iteracja: 2 - page rank: [0.15    0.15    0.34125 0.21375]\n",
      "iteracja: 3 - page rank: [0.15    0.15    0.34125 0.21375]\n",
      "iteracja: 4 - page rank: [0.15    0.15    0.34125 0.21375]\n"
     ]
    }
   ],
   "source": [
    "for i in range(5):\n",
    "    page_rank = (1 - d) + d * np.dot(mx, page_rank)\n",
    "    print(f\"iteracja: {i} - page rank: {page_rank}\")"
   ]
  },
  {
   "attachments": {
    "image-2.png": {
     "image/png": "[encoded data removed]"
    }
   },
   "cell_type": "markdown",
   "metadata": {
    "slideshow": {
     "slide_type": "slide"
    }
   },
   "source": [
    "![image-2.png](attachment:image-2.png)"
   ]
  },
  {
   "cell_type": "code",
   "execution_count": 9,
   "metadata": {
    "slideshow": {
     "slide_type": "fragment"
    }
   },
   "outputs": [
    {
     "data": {
      "text/html": [
       "<div>\n",
       "<style scoped>\n",
       "    .dataframe tbody tr th:only-of-type {\n",
       "        vertical-align: middle;\n",
       "    }\n",
       "\n",
       "    .dataframe tbody tr th {\n",
       "        vertical-align: top;\n",
       "    }\n",
       "\n",
       "    .dataframe thead th {\n",
       "        text-align: right;\n",
       "    }\n",
       "</style>\n",
       "<table border=\"1\" class=\"dataframe\">\n",
       "  <thead>\n",
       "    <tr style=\"text-align: right;\">\n",
       "      <th></th>\n",
       "      <th>A</th>\n",
       "      <th>B</th>\n",
       "      <th>C</th>\n",
       "      <th>D</th>\n",
       "    </tr>\n",
       "  </thead>\n",
       "  <tbody>\n",
       "    <tr>\n",
       "      <th>A</th>\n",
       "      <td>0.0</td>\n",
       "      <td>0.0</td>\n",
       "      <td>0.5</td>\n",
       "      <td>0.0</td>\n",
       "    </tr>\n",
       "    <tr>\n",
       "      <th>B</th>\n",
       "      <td>0.0</td>\n",
       "      <td>0.0</td>\n",
       "      <td>0.5</td>\n",
       "      <td>1.0</td>\n",
       "    </tr>\n",
       "    <tr>\n",
       "      <th>C</th>\n",
       "      <td>1.0</td>\n",
       "      <td>0.5</td>\n",
       "      <td>0.0</td>\n",
       "      <td>0.0</td>\n",
       "    </tr>\n",
       "    <tr>\n",
       "      <th>D</th>\n",
       "      <td>0.0</td>\n",
       "      <td>0.5</td>\n",
       "      <td>0.0</td>\n",
       "      <td>0.0</td>\n",
       "    </tr>\n",
       "  </tbody>\n",
       "</table>\n",
       "</div>"
      ],
      "text/plain": [
       "     A    B    C    D\n",
       "A  0.0  0.0  0.5  0.0\n",
       "B  0.0  0.0  0.5  1.0\n",
       "C  1.0  0.5  0.0  0.0\n",
       "D  0.0  0.5  0.0  0.0"
      ]
     },
     "execution_count": 9,
     "metadata": {},
     "output_type": "execute_result"
    }
   ],
   "source": [
    "mx = np.array([[0, 0, 0.5, 0], [0, 0, 0.5, 1], [1, 0.5, 0, 0], [0, 0.5, 0, 0]])\n",
    "pd.DataFrame(mx, columns=[\"A\", \"B\", \"C\", \"D\"], index=[\"A\", \"B\", \"C\", \"D\"])"
   ]
  },
  {
   "cell_type": "code",
   "execution_count": 10,
   "metadata": {
    "slideshow": {
     "slide_type": "slide"
    }
   },
   "outputs": [],
   "source": [
    "page_rank = np.array([1, 1, 1, 1])\n",
    "d = 0.85"
   ]
  },
  {
   "cell_type": "code",
   "execution_count": 11,
   "metadata": {
    "slideshow": {
     "slide_type": "fragment"
    }
   },
   "outputs": [
    {
     "name": "stdout",
     "output_type": "stream",
     "text": [
      "iteracja: 0 - page rank: [0.575 1.425 1.425 0.575]\n",
      "iteracja: 1 - page rank: [0.755625 1.244375 1.244375 0.755625]\n",
      "iteracja: 2 - page rank: [0.67885937 1.32114062 1.32114062 0.67885937]\n",
      "iteracja: 3 - page rank: [0.71148477 1.28851523 1.28851523 0.71148477]\n",
      "iteracja: 4 - page rank: [0.69761897 1.30238103 1.30238103 0.69761897]\n"
     ]
    }
   ],
   "source": [
    "for i in range(5):\n",
    "    page_rank = (1 - d) + d * np.dot(mx, page_rank)\n",
    "    print(f\"iteracja: {i} - page rank: {page_rank}\")"
   ]
  },
  {
   "cell_type": "code",
   "execution_count": 12,
   "metadata": {
    "scrolled": true,
    "slideshow": {
     "slide_type": "slide"
    }
   },
   "outputs": [
    {
     "name": "stdout",
     "output_type": "stream",
     "text": [
      "ŚWIĘTO NIEPODLEGŁOŚCI. Nic nie jest dobitniejszym świadectwem solidarności niż praca dla dobra wspólnego. Poszerzanie wolności. RYS. ANDRZEJ LEGUS. JERZY BUZEK. Święto Niepodległości, na przełomie tysiącleci, stwarza szczególną okazję do refleksji nad dokonaniami dwóch pokoleń: tego, którego udziałem stało się w 1918 roku odzyskanie wolności i tego, które niepodległą Rzeczpospolitą od dziesięciu lat współtworzy. Jakie pożytki czerpiemy dziś z ponownie odzyskanej wolności? Jaka jest dzisiejsza wymowa słowa patriotyzm? Jak teraz układają się relacje między Polakami a ich państwem? Na czym w 1999 roku polega czyn obywatelski? Odpowiedzi na te pytania postanowiłem w tym roku poszukać w Krakowie, \"mateczniku polskości\", w mieście, gdzie historia i współczesność przenikają się w stopniu najpełniejszym. Dziedzictwo. 11 listopada to wielkie i radosne święto. Odzyskanie wolności zawsze stanowi tytuł do narodowej dumy. Dla Polaków czyn zbrojny, który przyniósł wolność, miał wymiar szczególny. Po dekadach znaczonych bezowocnymi zrywami powstańczymi okazał się wreszcie czynem skutecznym, nadającym sens hekatombie ofiar poprzedniego stulecia. Skutecznym - co warto pamiętać - w efekcie mądrej akcji dyplomatycznej. Ta z kolei stała się możliwa przede wszystkim dzięki żywotności polskiej tradycji i kultury. Niepodległość nieprzypadkowo kojarzona jest dziś z nazwiskami Piłsudskiego, Dmowskiego, Paderewskiego. One bowiem symbolizują łańcuch uzupełniających się działań zbrojnych i dyplomatycznych, cały czas wspieranych siłą polskiej kultury. Oddając sprawiedliwość i honor wysiłkowi całego narodu trzeba zawsze pamiętać, że czyn niepodległościowy niejedno miał imię. Na Wawelu, nad kryptami królów i bohaterów narodowych, został wzniesiony baldachim upamiętniający 1918 rok. Widnieje na nim napis: \"Ciała śpią, duchy czuwają\". Tu wystarczy chwila skupienia, by uzmysłowić sobie, czym jest Polska, jakie dziedzictwo otrzymaliśmy w darze i jakie zobowiązania na nas ciążą. Wawel i jego sarkofagi to żywa pamięć znamienitej przeszłości. Na tyle żywa, że jak mickiewiczowska pieśń \"uszła cało\" z zawieruchy historii. Przekazywano ją w rodzinie, w Kościele, uczono z książek. Właśnie dlatego Polska - skreślona z mapy Europy - nie była dla pokoleń czasu niewoli abstrakcją, lecz obowiązkiem do spełniania. Czasem także trudnym dziedzictwem, które należało pokonać, wznosząc się ponad własne ograniczenia. Dzięki tej pamięci naród przetrwał, a w kluczowym momencie historii dostrzegł swoją szansę i miał odwagę z niej skorzystać. Bez czynu niepodległość pozostałaby przecież jedynie martwą ideą. Dlatego krakowskie rozważania o patriotyzmie trzeba rozpocząć od hołdu złożonego bohaterom narodowym przy grobie marszałka Józefa Piłsudskiego i przy prochach bezimiennych żołnierzy Rzeczypospolitej. W tym roku będę miał także okazję szczególną, by równocześnie docenić polski czyn dyplomatyczny - uczestnicząc w odsłonięciu i poświęceniu tablicy pamiątkowej ku czci Romana Dmowskiego. Wierzę, iż dla naszego pokolenia stanie się ona znakiem przypominającym, że duch patriotyczny w decydujących dla losów narodu momentach tryumfował nad duchem politycznych sporów. Pamięć o tych, którzy mimo 123 lat niewoli, upokorzeń i klęsk, nigdy nie pogodzili się z utratą wolności, a także o tych, którzy ów protest przechowali przez noc nazizmu i komunizmu na zawsze pozostanie źródłem naszej siły. To ze względu na tę pamięć nie wolno nam zmarnować daru wolności. Testament przeszłych pokoleń przypomina o obowiązku jego utrwalania w codziennych dokonaniach i wyborach. Dziedzictwo czynu 11 listopada to patriotyzm najwyższej próby. Dobre państwo. Nie sposób dziś negować osiągnięć II Rzeczypospolitej. Z perspektywy czasu tamte dokonania zdumiewają śmiałością i rozmachem. Pokolenie, które czynem zbrojnym wywalczyło wolność nie zmarnowało jej, choć nie dane mu było dokończyć dzieła odbudowy polskiej państwowości. My, przedstawiciele pokolenia \"Solidarności\", odzyskawszy suwerenność po półwieczu komunizmu, czujemy się tamtego dzieła kontynuatorami. Jak dziś postrzegamy czyn patriotyczny? Czym dla mnie jako premiera polskiego rządu jest odzyskane na nowo państwo? Przede wszystkim wspólnotą polityczną władz centralnych i samorządu, dobrem wspólnym obywateli. Dziś narodowy czyn ma swój początek w gminie, gdzie podejmowane są decyzje dotyczące lokalnej społeczności. W moim głębokim odczuciu właśnie oddanie władzy w ręce ludzi - w gminie, powiecie i województwie - jest największym zwycięstwem ponownie odzyskanej wolności. To dzięki temu zwycięstwu w ciągu 10 lat dokonaliśmy cywilizacyjnego skoku, podejmując wyzwanie pokolenia, które w 1918 roku rozpoczęło wielkie dzieło reformowania i odbudowy Polski. Samorząd jest najlepszą szkołą patriotyzmu. Lokalnego, powiatowego, regionalnego. Ale także narodowego, bo wszelki patriotyzm zaczyna się od umiłowania tego, co bliskie. Kultura narodowa i lokalna są ze sobą splecione, mają wspólne korzenie, które określają naszą tożsamość. Wybór Krakowa na kulturalną stolicę Europy w roku 2000 potwierdza, że we współczesnym świecie docenia się udział kultury w budowaniu tożsamości, choć w przypadku tego miasta jest to na pewno bardziej kultura narodowa niż lokalna. W decentralizującej się Europie nie ma bowiem pojęcia prowincji, bo często to właśnie ona stanowić może centrum życia duchowego i kulturalnego. Kraków jest dziś przykładem tego, jak działania na rzecz ochrony narodowego dziedzictwa wpływają na rozwój miasta i warunki życia jego mieszkańców. Doświadczenia samorządów polskich wskazują wiele przykładów dobrego gospodarowania lokalnym dziedzictwem, które nie ogranicza się do ochrony zabytków, ale czyni z kultury instrument rozwoju. Bo to dzięki kulturze w równym stopniu jak przez sukces gospodarczy stajemy się członkiem europejskiej wspólnoty - co istotne - zachowując własną tożsamość. W małych ojczyznach dobrze zagospodarowano wolność. Było to możliwe także dlatego, że właśnie tam najsilniejsza jest owa pamięć historyczna, która sto lat temu pozwoliła przetrwać zły czas. Dlatego dobre państwo trzeba i warto budować na fundamencie lokalnego dziedzictwa. W czasach globalizacji, nowoczesny patriotyzm rozumiem właśnie jako budowanie Polski na dole, we własnej, lokalnej przestrzeni duchowej. Nowoczesne technologie pozwalają bowiem być wszędzie, będąc zarazem u siebie - zakotwiczonym w tradycji, kulturze, wartościach. Reformatorskie dzieło mijającej dekady ku temu przecież zmierzało. Jestem dumny, że mój rząd oddając prawo decydowania o swoim losie mieszkańcom wspólnot lokalnych, dzieła tego dopełnił. Zbudowaliśmy państwo, które pozwala swoim obywatelom swobodnie działać dla dobra wspólnego. Pro publico bono. Czym jest dziś czyn obywatelski? Myślę, że po raz pierwszy w naszej historii jest to czyn rozumiany jako aktywność społeczna, a nie jako reakcja na zagrożenia zewnętrzne. Jest to także (wreszcie!) czyn radosny. Patriotyzm zawsze kojarzył się z działaniem niepartykularnym. Z przełamywaniem egoizmu, społeczną solidarnością i wielkodusznością. Ale przede wszystkim z odwagą. Trudno bowiem było wskazać w naszej historii czas, gdy zarazem czyn obywatelski nie wiązał się z ofiarą i wyrzeczeniem, gdy nie był obciążony ryzykiem. Za patriotyzm trzeba było płacić wysoką cenę, często cenę życia. Dlatego dla większości Polaków Święto Niepodległości jest dniem powagi, smutnej zadumy i refleksji. Dlatego często patriotyzm kojarzy się z wyzwaniem niedostępnym przeciętnemu człowiekowi. Tak wiele od niego wymagał. Nadszedł jednak czas, gdy czyn obywatelski może stać się także źródłem powszechnej i wielkiej satysfakcji, bo płynącej z prostego czynienia dobra. W dodatku dziś, działając pro publico bono, można przyczyniać się do cywilizacyjnego rozwoju państwa, zwiększając jego dobrobyt. Nie wiąże się to z żadnym zagrożeniem czy ryzykiem, przeciwnie można \"narazić się\" jedynie na uznanie i szacunek innych. Działalność publiczna zaczyna, choć z licznymi jeszcze zahamowaniami, przynosić popularność, staje się naturalną drogą doboru ludzi najwyższego zaufania w państwie, pozwala upowszechniać pozytywne wzorce. Dzięki nim z kolei łatwiej o upowszechnianie takich postaw obywatelskich, którym przyświeca przede wszystkim dobro wspólne. Każdy wysiłek pro publico bono służy ojczyźnie, poszerza bowiem przestrzeń wolności, zachęca obywateli do samoorganizacji. Mądrość narodu polega na tym, że potrafi nobilitować twórczą pracę obywatelską. Jest ona bowiem dowodem istnienia wspólnoty, potwierdza jej tożsamość i ciągłość historyczną. Każdy taki wysiłek - doceniony i dostrzeżony - wzmacnia zaufanie do państwa, jest gwarantem trwałości społecznych więzów. Gwarantem niepodległości i gwarantem naszej indywidualnej i zbiorowej wolności... A przecież: \"Wolność jest najlepszą, najskuteczniejszą i najtańszą sztuką gospodarowania\" (Ferdynand Zweig). Fundament narodowego bytu. Z kraju o gospodarce scentralizowanej Polska stała się wreszcie bogata w przedsięwzięcia obywatelskie. Inicjatywa przyznawania nagród \"Pro publico bono\", której mam zaszczyt patronować, ma na celu przedsięwzięcia te dostrzec i docenić. Nic bowiem nie jest dobitniejszym świadectwem solidarności niż praca dla dobra wspólnego. A właśnie taka praca tworzy fundament narodowego bytu. 11 listopada 1999 roku w Krakowie kapituła konkursu \"Pro publico bono\" pod przewodnictwem prof. Andrzeja Zolla (i honorowym pana Jana Nowaka-Jeziorańskiego) wyłoni pierwszych laureatów. Jeśli ta inicjatywa zyska poparcie społeczne, stanie się corocznym wydarzeniem, dodając do klimatu Święta Niepodległości niemały ładunek optymizmu i wiary w niezmierzone pokłady patriotyzmu. Naszego prawdziwego narodowego bogactwa.\n"
     ]
    }
   ],
   "source": [
    "raw_doc, summary, _ = data[0]\n",
    "print(raw_doc)"
   ]
  },
  {
   "cell_type": "code",
   "execution_count": 13,
   "metadata": {
    "slideshow": {
     "slide_type": "slide"
    }
   },
   "outputs": [
    {
     "name": "stdout",
     "output_type": "stream",
     "text": [
      "11 listopada to wielkie i radosne święto. Dla Polaków czyn zbrojny, który przyniósł wolność, miał wymiar szczególny. Pamięć o tych, którzy mimo upokorzeń i klęsk nigdy nie pogodzili się z utratą wolności, a także o tych, którzy ów protest przechowali przez noc nazizmu i komunizmu na zawsze pozostanie źródłem naszej siły. Jak dziś postrzegamy czyn patriotyczny? Dziś narodowy czyn ma swój początek w gminie, gdzie podejmowane są decyzje dotyczące lokalnej społeczności. Kultura narodowa i lokalna są ze sobą splecione. W małych ojczyznach dobrze zagospodarowano wolność. właśnie tam najsilniejsza jest owa pamięć historyczna. W czasach globalizacji nowoczesny patriotyzm rozumiem właśnie jako budowanie Polski na dole, w lokalnej przestrzeni duchowej. czyn obywatelski jest rozumiany jako aktywność społeczna, a nie jako reakcja na zagrożenia zewnętrzne. Jest to także czyn radosny.\n"
     ]
    }
   ],
   "source": [
    "print(summary)"
   ]
  },
  {
   "cell_type": "code",
   "execution_count": 14,
   "metadata": {
    "slideshow": {
     "slide_type": "fragment"
    }
   },
   "outputs": [],
   "source": [
    "N_SENT = 10"
   ]
  },
  {
   "cell_type": "markdown",
   "metadata": {
    "slideshow": {
     "slide_type": "slide"
    }
   },
   "source": [
    "```\n",
    "pip install networkx\n",
    "```"
   ]
  },
  {
   "cell_type": "code",
   "execution_count": 15,
   "metadata": {
    "slideshow": {
     "slide_type": "fragment"
    }
   },
   "outputs": [],
   "source": [
    "import networkx\n",
    "from sklearn.feature_extraction.text import TfidfVectorizer\n",
    "from sklearn.metrics.pairwise import cosine_similarity"
   ]
  },
  {
   "cell_type": "code",
   "execution_count": 16,
   "metadata": {
    "slideshow": {
     "slide_type": "slide"
    }
   },
   "outputs": [],
   "source": [
    "doc = nlp(raw_doc)"
   ]
  },
  {
   "cell_type": "code",
   "execution_count": 17,
   "metadata": {
    "slideshow": {
     "slide_type": "fragment"
    }
   },
   "outputs": [],
   "source": [
    "norm_doc = [[token.lemma_ for token in sent if token.is_alpha] for sent in doc.sents]"
   ]
  },
  {
   "cell_type": "code",
   "execution_count": 18,
   "metadata": {
    "slideshow": {
     "slide_type": "fragment"
    }
   },
   "outputs": [
    {
     "data": {
      "text/plain": [
       "['święto', 'niepodległości']"
      ]
     },
     "execution_count": 18,
     "metadata": {},
     "output_type": "execute_result"
    }
   ],
   "source": [
    "norm_doc[0]"
   ]
  },
  {
   "cell_type": "code",
   "execution_count": 19,
   "metadata": {
    "slideshow": {
     "slide_type": "fragment"
    }
   },
   "outputs": [
    {
     "data": {
      "text/plain": [
       "['jaka', 'jest', 'dzisiejszy', 'wymowa', 'słowo', 'patriotyzm']"
      ]
     },
     "execution_count": 19,
     "metadata": {},
     "output_type": "execute_result"
    }
   ],
   "source": [
    "norm_doc[10]"
   ]
  },
  {
   "cell_type": "code",
   "execution_count": 20,
   "metadata": {
    "slideshow": {
     "slide_type": "slide"
    }
   },
   "outputs": [],
   "source": [
    "vect = TfidfVectorizer(preprocessor=lambda x: x, tokenizer=lambda x: x)\n",
    "doc_matrix = vect.fit_transform(norm_doc)"
   ]
  },
  {
   "cell_type": "code",
   "execution_count": 21,
   "metadata": {
    "slideshow": {
     "slide_type": "fragment"
    }
   },
   "outputs": [],
   "source": [
    "similarity_matrix = cosine_similarity(doc_matrix)"
   ]
  },
  {
   "cell_type": "code",
   "execution_count": 22,
   "metadata": {
    "scrolled": false,
    "slideshow": {
     "slide_type": "fragment"
    }
   },
   "outputs": [
    {
     "data": {
      "text/html": [
       "<div>\n",
       "<style scoped>\n",
       "    .dataframe tbody tr th:only-of-type {\n",
       "        vertical-align: middle;\n",
       "    }\n",
       "\n",
       "    .dataframe tbody tr th {\n",
       "        vertical-align: top;\n",
       "    }\n",
       "\n",
       "    .dataframe thead th {\n",
       "        text-align: right;\n",
       "    }\n",
       "</style>\n",
       "<table border=\"1\" class=\"dataframe\">\n",
       "  <thead>\n",
       "    <tr style=\"text-align: right;\">\n",
       "      <th></th>\n",
       "      <th>0</th>\n",
       "      <th>1</th>\n",
       "      <th>2</th>\n",
       "      <th>3</th>\n",
       "      <th>4</th>\n",
       "      <th>5</th>\n",
       "      <th>6</th>\n",
       "      <th>7</th>\n",
       "      <th>8</th>\n",
       "      <th>9</th>\n",
       "      <th>...</th>\n",
       "      <th>99</th>\n",
       "      <th>100</th>\n",
       "      <th>101</th>\n",
       "      <th>102</th>\n",
       "      <th>103</th>\n",
       "      <th>104</th>\n",
       "      <th>105</th>\n",
       "      <th>106</th>\n",
       "      <th>107</th>\n",
       "      <th>108</th>\n",
       "    </tr>\n",
       "  </thead>\n",
       "  <tbody>\n",
       "    <tr>\n",
       "      <th>0</th>\n",
       "      <td>1.000000</td>\n",
       "      <td>0.0</td>\n",
       "      <td>0.0</td>\n",
       "      <td>0.0</td>\n",
       "      <td>0.0</td>\n",
       "      <td>0.0</td>\n",
       "      <td>0.0</td>\n",
       "      <td>0.0</td>\n",
       "      <td>0.227830</td>\n",
       "      <td>0.000000</td>\n",
       "      <td>...</td>\n",
       "      <td>0.000000</td>\n",
       "      <td>0.000000</td>\n",
       "      <td>0.000000</td>\n",
       "      <td>0.000000</td>\n",
       "      <td>0.000000</td>\n",
       "      <td>0.000000</td>\n",
       "      <td>0.0</td>\n",
       "      <td>0.259506</td>\n",
       "      <td>0.0</td>\n",
       "      <td>0.0</td>\n",
       "    </tr>\n",
       "    <tr>\n",
       "      <th>1</th>\n",
       "      <td>0.000000</td>\n",
       "      <td>0.0</td>\n",
       "      <td>0.0</td>\n",
       "      <td>0.0</td>\n",
       "      <td>0.0</td>\n",
       "      <td>0.0</td>\n",
       "      <td>0.0</td>\n",
       "      <td>0.0</td>\n",
       "      <td>0.000000</td>\n",
       "      <td>0.000000</td>\n",
       "      <td>...</td>\n",
       "      <td>0.000000</td>\n",
       "      <td>0.000000</td>\n",
       "      <td>0.000000</td>\n",
       "      <td>0.000000</td>\n",
       "      <td>0.000000</td>\n",
       "      <td>0.000000</td>\n",
       "      <td>0.0</td>\n",
       "      <td>0.000000</td>\n",
       "      <td>0.0</td>\n",
       "      <td>0.0</td>\n",
       "    </tr>\n",
       "    <tr>\n",
       "      <th>2</th>\n",
       "      <td>0.000000</td>\n",
       "      <td>0.0</td>\n",
       "      <td>1.0</td>\n",
       "      <td>0.0</td>\n",
       "      <td>0.0</td>\n",
       "      <td>0.0</td>\n",
       "      <td>0.0</td>\n",
       "      <td>0.0</td>\n",
       "      <td>0.000000</td>\n",
       "      <td>0.000000</td>\n",
       "      <td>...</td>\n",
       "      <td>0.000000</td>\n",
       "      <td>0.000000</td>\n",
       "      <td>0.000000</td>\n",
       "      <td>0.963871</td>\n",
       "      <td>0.106000</td>\n",
       "      <td>0.000000</td>\n",
       "      <td>0.0</td>\n",
       "      <td>0.000000</td>\n",
       "      <td>0.0</td>\n",
       "      <td>0.0</td>\n",
       "    </tr>\n",
       "    <tr>\n",
       "      <th>3</th>\n",
       "      <td>0.000000</td>\n",
       "      <td>0.0</td>\n",
       "      <td>0.0</td>\n",
       "      <td>1.0</td>\n",
       "      <td>0.0</td>\n",
       "      <td>0.0</td>\n",
       "      <td>0.0</td>\n",
       "      <td>0.0</td>\n",
       "      <td>0.064301</td>\n",
       "      <td>0.134055</td>\n",
       "      <td>...</td>\n",
       "      <td>0.000000</td>\n",
       "      <td>0.000000</td>\n",
       "      <td>0.000000</td>\n",
       "      <td>0.000000</td>\n",
       "      <td>0.000000</td>\n",
       "      <td>0.000000</td>\n",
       "      <td>0.0</td>\n",
       "      <td>0.000000</td>\n",
       "      <td>0.0</td>\n",
       "      <td>0.0</td>\n",
       "    </tr>\n",
       "    <tr>\n",
       "      <th>4</th>\n",
       "      <td>0.000000</td>\n",
       "      <td>0.0</td>\n",
       "      <td>0.0</td>\n",
       "      <td>0.0</td>\n",
       "      <td>1.0</td>\n",
       "      <td>0.0</td>\n",
       "      <td>0.0</td>\n",
       "      <td>0.0</td>\n",
       "      <td>0.000000</td>\n",
       "      <td>0.000000</td>\n",
       "      <td>...</td>\n",
       "      <td>0.000000</td>\n",
       "      <td>0.000000</td>\n",
       "      <td>0.000000</td>\n",
       "      <td>0.000000</td>\n",
       "      <td>0.000000</td>\n",
       "      <td>0.000000</td>\n",
       "      <td>0.0</td>\n",
       "      <td>0.000000</td>\n",
       "      <td>0.0</td>\n",
       "      <td>0.0</td>\n",
       "    </tr>\n",
       "    <tr>\n",
       "      <th>...</th>\n",
       "      <td>...</td>\n",
       "      <td>...</td>\n",
       "      <td>...</td>\n",
       "      <td>...</td>\n",
       "      <td>...</td>\n",
       "      <td>...</td>\n",
       "      <td>...</td>\n",
       "      <td>...</td>\n",
       "      <td>...</td>\n",
       "      <td>...</td>\n",
       "      <td>...</td>\n",
       "      <td>...</td>\n",
       "      <td>...</td>\n",
       "      <td>...</td>\n",
       "      <td>...</td>\n",
       "      <td>...</td>\n",
       "      <td>...</td>\n",
       "      <td>...</td>\n",
       "      <td>...</td>\n",
       "      <td>...</td>\n",
       "      <td>...</td>\n",
       "    </tr>\n",
       "    <tr>\n",
       "      <th>104</th>\n",
       "      <td>0.000000</td>\n",
       "      <td>0.0</td>\n",
       "      <td>0.0</td>\n",
       "      <td>0.0</td>\n",
       "      <td>0.0</td>\n",
       "      <td>0.0</td>\n",
       "      <td>0.0</td>\n",
       "      <td>0.0</td>\n",
       "      <td>0.064404</td>\n",
       "      <td>0.000000</td>\n",
       "      <td>...</td>\n",
       "      <td>0.019124</td>\n",
       "      <td>0.000000</td>\n",
       "      <td>0.146590</td>\n",
       "      <td>0.000000</td>\n",
       "      <td>0.000000</td>\n",
       "      <td>1.000000</td>\n",
       "      <td>0.0</td>\n",
       "      <td>0.023658</td>\n",
       "      <td>0.0</td>\n",
       "      <td>0.0</td>\n",
       "    </tr>\n",
       "    <tr>\n",
       "      <th>105</th>\n",
       "      <td>0.000000</td>\n",
       "      <td>0.0</td>\n",
       "      <td>0.0</td>\n",
       "      <td>0.0</td>\n",
       "      <td>0.0</td>\n",
       "      <td>0.0</td>\n",
       "      <td>0.0</td>\n",
       "      <td>0.0</td>\n",
       "      <td>0.000000</td>\n",
       "      <td>0.000000</td>\n",
       "      <td>...</td>\n",
       "      <td>0.000000</td>\n",
       "      <td>0.000000</td>\n",
       "      <td>0.000000</td>\n",
       "      <td>0.000000</td>\n",
       "      <td>0.000000</td>\n",
       "      <td>0.000000</td>\n",
       "      <td>1.0</td>\n",
       "      <td>0.000000</td>\n",
       "      <td>0.0</td>\n",
       "      <td>0.0</td>\n",
       "    </tr>\n",
       "    <tr>\n",
       "      <th>106</th>\n",
       "      <td>0.259506</td>\n",
       "      <td>0.0</td>\n",
       "      <td>0.0</td>\n",
       "      <td>0.0</td>\n",
       "      <td>0.0</td>\n",
       "      <td>0.0</td>\n",
       "      <td>0.0</td>\n",
       "      <td>0.0</td>\n",
       "      <td>0.112338</td>\n",
       "      <td>0.000000</td>\n",
       "      <td>...</td>\n",
       "      <td>0.036461</td>\n",
       "      <td>0.115007</td>\n",
       "      <td>0.012348</td>\n",
       "      <td>0.000000</td>\n",
       "      <td>0.000000</td>\n",
       "      <td>0.023658</td>\n",
       "      <td>0.0</td>\n",
       "      <td>1.000000</td>\n",
       "      <td>0.0</td>\n",
       "      <td>0.0</td>\n",
       "    </tr>\n",
       "    <tr>\n",
       "      <th>107</th>\n",
       "      <td>0.000000</td>\n",
       "      <td>0.0</td>\n",
       "      <td>0.0</td>\n",
       "      <td>0.0</td>\n",
       "      <td>0.0</td>\n",
       "      <td>0.0</td>\n",
       "      <td>0.0</td>\n",
       "      <td>0.0</td>\n",
       "      <td>0.000000</td>\n",
       "      <td>0.000000</td>\n",
       "      <td>...</td>\n",
       "      <td>0.000000</td>\n",
       "      <td>0.000000</td>\n",
       "      <td>0.000000</td>\n",
       "      <td>0.000000</td>\n",
       "      <td>0.094953</td>\n",
       "      <td>0.000000</td>\n",
       "      <td>0.0</td>\n",
       "      <td>0.000000</td>\n",
       "      <td>1.0</td>\n",
       "      <td>0.0</td>\n",
       "    </tr>\n",
       "    <tr>\n",
       "      <th>108</th>\n",
       "      <td>0.000000</td>\n",
       "      <td>0.0</td>\n",
       "      <td>0.0</td>\n",
       "      <td>0.0</td>\n",
       "      <td>0.0</td>\n",
       "      <td>0.0</td>\n",
       "      <td>0.0</td>\n",
       "      <td>0.0</td>\n",
       "      <td>0.000000</td>\n",
       "      <td>0.000000</td>\n",
       "      <td>...</td>\n",
       "      <td>0.000000</td>\n",
       "      <td>0.000000</td>\n",
       "      <td>0.000000</td>\n",
       "      <td>0.000000</td>\n",
       "      <td>0.000000</td>\n",
       "      <td>0.000000</td>\n",
       "      <td>0.0</td>\n",
       "      <td>0.000000</td>\n",
       "      <td>0.0</td>\n",
       "      <td>0.0</td>\n",
       "    </tr>\n",
       "  </tbody>\n",
       "</table>\n",
       "<p>109 rows × 109 columns</p>\n",
       "</div>"
      ],
      "text/plain": [
       "          0    1    2    3    4    5    6    7         8         9    ...  \\\n",
       "0    1.000000  0.0  0.0  0.0  0.0  0.0  0.0  0.0  0.227830  0.000000  ...   \n",
       "1    0.000000  0.0  0.0  0.0  0.0  0.0  0.0  0.0  0.000000  0.000000  ...   \n",
       "2    0.000000  0.0  1.0  0.0  0.0  0.0  0.0  0.0  0.000000  0.000000  ...   \n",
       "3    0.000000  0.0  0.0  1.0  0.0  0.0  0.0  0.0  0.064301  0.134055  ...   \n",
       "4    0.000000  0.0  0.0  0.0  1.0  0.0  0.0  0.0  0.000000  0.000000  ...   \n",
       "..        ...  ...  ...  ...  ...  ...  ...  ...       ...       ...  ...   \n",
       "104  0.000000  0.0  0.0  0.0  0.0  0.0  0.0  0.0  0.064404  0.000000  ...   \n",
       "105  0.000000  0.0  0.0  0.0  0.0  0.0  0.0  0.0  0.000000  0.000000  ...   \n",
       "106  0.259506  0.0  0.0  0.0  0.0  0.0  0.0  0.0  0.112338  0.000000  ...   \n",
       "107  0.000000  0.0  0.0  0.0  0.0  0.0  0.0  0.0  0.000000  0.000000  ...   \n",
       "108  0.000000  0.0  0.0  0.0  0.0  0.0  0.0  0.0  0.000000  0.000000  ...   \n",
       "\n",
       "          99        100       101       102       103       104  105  \\\n",
       "0    0.000000  0.000000  0.000000  0.000000  0.000000  0.000000  0.0   \n",
       "1    0.000000  0.000000  0.000000  0.000000  0.000000  0.000000  0.0   \n",
       "2    0.000000  0.000000  0.000000  0.963871  0.106000  0.000000  0.0   \n",
       "3    0.000000  0.000000  0.000000  0.000000  0.000000  0.000000  0.0   \n",
       "4    0.000000  0.000000  0.000000  0.000000  0.000000  0.000000  0.0   \n",
       "..        ...       ...       ...       ...       ...       ...  ...   \n",
       "104  0.019124  0.000000  0.146590  0.000000  0.000000  1.000000  0.0   \n",
       "105  0.000000  0.000000  0.000000  0.000000  0.000000  0.000000  1.0   \n",
       "106  0.036461  0.115007  0.012348  0.000000  0.000000  0.023658  0.0   \n",
       "107  0.000000  0.000000  0.000000  0.000000  0.094953  0.000000  0.0   \n",
       "108  0.000000  0.000000  0.000000  0.000000  0.000000  0.000000  0.0   \n",
       "\n",
       "          106  107  108  \n",
       "0    0.259506  0.0  0.0  \n",
       "1    0.000000  0.0  0.0  \n",
       "2    0.000000  0.0  0.0  \n",
       "3    0.000000  0.0  0.0  \n",
       "4    0.000000  0.0  0.0  \n",
       "..        ...  ...  ...  \n",
       "104  0.023658  0.0  0.0  \n",
       "105  0.000000  0.0  0.0  \n",
       "106  1.000000  0.0  0.0  \n",
       "107  0.000000  1.0  0.0  \n",
       "108  0.000000  0.0  0.0  \n",
       "\n",
       "[109 rows x 109 columns]"
      ]
     },
     "execution_count": 22,
     "metadata": {},
     "output_type": "execute_result"
    }
   ],
   "source": [
    "pd.DataFrame(similarity_matrix)"
   ]
  },
  {
   "cell_type": "code",
   "execution_count": 23,
   "metadata": {
    "slideshow": {
     "slide_type": "slide"
    }
   },
   "outputs": [],
   "source": [
    "similarity_graph = networkx.from_numpy_array(similarity_matrix)"
   ]
  },
  {
   "cell_type": "code",
   "execution_count": 24,
   "metadata": {
    "slideshow": {
     "slide_type": "fragment"
    }
   },
   "outputs": [],
   "source": [
    "scores = networkx.pagerank(similarity_graph)"
   ]
  },
  {
   "cell_type": "code",
   "execution_count": 25,
   "metadata": {
    "scrolled": true,
    "slideshow": {
     "slide_type": "fragment"
    }
   },
   "outputs": [
    {
     "data": {
      "text/plain": [
       "[(58, 0.015211004942005179),\n",
       " (12, 0.013891027145697364),\n",
       " (60, 0.013755692688863154),\n",
       " (65, 0.01339859588845904),\n",
       " (80, 0.013015999279625335),\n",
       " (59, 0.012942565317717869),\n",
       " (73, 0.012830181260716092),\n",
       " (72, 0.012757819533436411),\n",
       " (8, 0.012696980566946677),\n",
       " (86, 0.012201416731389724),\n",
       " (61, 0.01208544161472819),\n",
       " (13, 0.012008047468318244),\n",
       " (45, 0.011979516765348879),\n",
       " (102, 0.01186932188246367),\n",
       " (85, 0.011781007543839013),\n",
       " (51, 0.011680188042121046),\n",
       " (33, 0.011648432000309208),\n",
       " (52, 0.011577976567690435),\n",
       " (38, 0.011487802144914737),\n",
       " (96, 0.01146099585005223),\n",
       " (36, 0.011450307091473289),\n",
       " (2, 0.011390204178330523),\n",
       " (41, 0.011235711933765513),\n",
       " (66, 0.011045281599026898),\n",
       " (20, 0.011041643128391504),\n",
       " (57, 0.011017000887786376),\n",
       " (39, 0.01098709505289619),\n",
       " (15, 0.010708598518131022),\n",
       " (74, 0.010551366863786264),\n",
       " (22, 0.010540716789007972),\n",
       " (77, 0.010440356335604414),\n",
       " (93, 0.010298738007079892),\n",
       " (64, 0.010284308899883066),\n",
       " (106, 0.010224049425288987),\n",
       " (99, 0.010193457187639192),\n",
       " (30, 0.0101068304503918),\n",
       " (37, 0.010079000933432846),\n",
       " (50, 0.010030637559051502),\n",
       " (31, 0.010002177237988949),\n",
       " (26, 0.009932432282268708),\n",
       " (48, 0.009926314169750988),\n",
       " (53, 0.009892823554166083),\n",
       " (83, 0.009814368161367928),\n",
       " (82, 0.009709351410701013),\n",
       " (87, 0.009660847397438492),\n",
       " (90, 0.009650473263392651),\n",
       " (101, 0.009551653921441068),\n",
       " (4, 0.009469696969696972),\n",
       " (5, 0.009469696969696972),\n",
       " (7, 0.009469696969696972),\n",
       " (54, 0.009469696969696972),\n",
       " (97, 0.009469696969696972),\n",
       " (62, 0.009457483658607418),\n",
       " (40, 0.009411172750423144),\n",
       " (17, 0.009368787391713408),\n",
       " (23, 0.009324097863568737),\n",
       " (11, 0.0093176386487074),\n",
       " (91, 0.009053615970152444),\n",
       " (21, 0.00899618885380452),\n",
       " (55, 0.00894623137108945),\n",
       " (95, 0.008919964856729964),\n",
       " (94, 0.008887685169566116),\n",
       " (9, 0.00878899030576651),\n",
       " (104, 0.008655813497094086),\n",
       " (42, 0.008600742057434607),\n",
       " (103, 0.008575508452465673),\n",
       " (47, 0.008566132932690452),\n",
       " (79, 0.00854556841370892),\n",
       " (16, 0.008500117087071352),\n",
       " (78, 0.008488901008633703),\n",
       " (24, 0.008472782643718453),\n",
       " (49, 0.008431482541751046),\n",
       " (27, 0.008414653249859603),\n",
       " (32, 0.008361492443632624),\n",
       " (89, 0.008324671887396625),\n",
       " (70, 0.008316595689267344),\n",
       " (35, 0.008296337393008273),\n",
       " (56, 0.008204415442452375),\n",
       " (92, 0.007977731505689848),\n",
       " (75, 0.007908820491513924),\n",
       " (44, 0.007880517769667887),\n",
       " (63, 0.007846250941145414),\n",
       " (88, 0.007776037098131164),\n",
       " (98, 0.007713949764202471),\n",
       " (69, 0.00717444370592828),\n",
       " (18, 0.007172806247712353),\n",
       " (67, 0.007138400708178265),\n",
       " (100, 0.007134724028209821),\n",
       " (71, 0.007075017543716686),\n",
       " (19, 0.007046372397063645),\n",
       " (10, 0.007008753862162125),\n",
       " (25, 0.00698399568285407),\n",
       " (28, 0.0069838143337299895),\n",
       " (46, 0.006968378502122965),\n",
       " (105, 0.00695644734713873),\n",
       " (34, 0.006846467539430248),\n",
       " (14, 0.00673181555890527),\n",
       " (3, 0.006621024720795218),\n",
       " (81, 0.0065710345125199274),\n",
       " (84, 0.006528606405889526),\n",
       " (29, 0.006485855638974061),\n",
       " (43, 0.006480481379053402),\n",
       " (0, 0.006395852419190737),\n",
       " (107, 0.006281374084565662),\n",
       " (68, 0.006007891726765659),\n",
       " (1, 0.0014204545454545457),\n",
       " (6, 0.0014204545454545457),\n",
       " (76, 0.0014204545454545457),\n",
       " (108, 0.0014204545454545457)]"
      ]
     },
     "execution_count": 25,
     "metadata": {},
     "output_type": "execute_result"
    }
   ],
   "source": [
    "ranked_sentences = sorted(scores.items(), key=lambda x: x[1], reverse=True)\n",
    "ranked_sentences"
   ]
  },
  {
   "cell_type": "code",
   "execution_count": 26,
   "metadata": {
    "slideshow": {
     "slide_type": "slide"
    }
   },
   "outputs": [
    {
     "data": {
      "text/plain": [
       "[8, 12, 58, 59, 60, 65, 72, 73, 80, 86]"
      ]
     },
     "execution_count": 26,
     "metadata": {},
     "output_type": "execute_result"
    }
   ],
   "source": [
    "top_sent_idxs = [x[0] for x in ranked_sentences[:N_SENT]]\n",
    "top_sent_idxs.sort()\n",
    "top_sent_idxs"
   ]
  },
  {
   "cell_type": "code",
   "execution_count": 27,
   "metadata": {
    "slideshow": {
     "slide_type": "fragment"
    }
   },
   "outputs": [
    {
     "name": "stdout",
     "output_type": "stream",
     "text": [
      "Święto Niepodległości, na przełomie tysiącleci, stwarza szczególną okazję do refleksji nad dokonaniami dwóch pokoleń: tego, którego udziałem stało się w 1918 roku odzyskanie wolności i tego, które niepodległą Rzeczpospolitą od dziesięciu lat współtworzy.\n",
      "Na czym w 1999 roku polega czyn obywatelski?\n",
      "Wybór Krakowa na kulturalną stolicę Europy w roku 2000 potwierdza, że we współczesnym świecie docenia się udział kultury w budowaniu tożsamości, choć w przypadku tego miasta jest to na pewno bardziej kultura narodowa niż lokalna.\n",
      "W decentralizującej się Europie nie ma bowiem pojęcia prowincji, bo często to właśnie ona stanowić może centrum życia duchowego i kulturalnego.\n",
      "Kraków jest dziś przykładem tego, jak działania na rzecz ochrony narodowego dziedzictwa wpływają na rozwój miasta i warunki życia jego mieszkańców.\n",
      "Dlatego dobre państwo trzeba i warto budować na fundamencie lokalnego dziedzictwa.\n",
      "Czym jest dziś czyn obywatelski?\n",
      "Myślę, że po raz pierwszy w naszej historii jest to czyn rozumiany jako aktywność społeczna, a nie jako reakcja na zagrożenia zewnętrzne.\n",
      "Trudno bowiem było wskazać w naszej historii czas, gdy zarazem czyn obywatelski nie wiązał się z ofiarą i wyrzeczeniem, gdy nie był obciążony ryzykiem.\n",
      "W dodatku dziś, działając pro publico bono, można przyczyniać się do cywilizacyjnego rozwoju państwa, zwiększając jego dobrobyt.\n"
     ]
    }
   ],
   "source": [
    "sents = list(doc.sents)\n",
    "for idx in top_sent_idxs:\n",
    "    print(sents[idx])"
   ]
  },
  {
   "cell_type": "markdown",
   "metadata": {
    "slideshow": {
     "slide_type": "slide"
    }
   },
   "source": [
    "### Gensim"
   ]
  },
  {
   "cell_type": "code",
   "execution_count": 28,
   "metadata": {
    "slideshow": {
     "slide_type": "fragment"
    }
   },
   "outputs": [],
   "source": [
    "from gensim.summarization import summarize"
   ]
  },
  {
   "cell_type": "code",
   "execution_count": 29,
   "metadata": {
    "slideshow": {
     "slide_type": "fragment"
    }
   },
   "outputs": [],
   "source": [
    "summary = summarize(raw_doc, split=True, ratio=0.1)"
   ]
  },
  {
   "cell_type": "code",
   "execution_count": 30,
   "metadata": {
    "slideshow": {
     "slide_type": "fragment"
    }
   },
   "outputs": [
    {
     "name": "stdout",
     "output_type": "stream",
     "text": [
      "Nic nie jest dobitniejszym świadectwem solidarności niż praca dla dobra wspólnego.\n",
      "Święto Niepodległości, na przełomie tysiącleci, stwarza szczególną okazję do refleksji nad dokonaniami dwóch pokoleń: tego, którego udziałem stało się w 1918 roku odzyskanie wolności i tego, które niepodległą Rzeczpospolitą od dziesięciu lat współtworzy.\n",
      "Pamięć o tych, którzy mimo 123 lat niewoli, upokorzeń i klęsk, nigdy nie pogodzili się z utratą wolności, a także o tych, którzy ów protest przechowali przez noc nazizmu i komunizmu na zawsze pozostanie źródłem naszej siły.\n",
      "Kraków jest dziś przykładem tego, jak działania na rzecz ochrony narodowego dziedzictwa wpływają na rozwój miasta i warunki życia jego mieszkańców.\n",
      "Było to możliwe także dlatego, że właśnie tam najsilniejsza jest owa pamięć historyczna, która sto lat temu pozwoliła przetrwać zły czas.\n",
      "Czym jest dziś czyn obywatelski?\n",
      "Trudno bowiem było wskazać w naszej historii czas, gdy zarazem czyn obywatelski nie wiązał się z ofiarą i wyrzeczeniem, gdy nie był obciążony ryzykiem.\n",
      "W dodatku dziś, działając pro publico bono, można przyczyniać się do cywilizacyjnego rozwoju państwa, zwiększając jego dobrobyt.\n",
      "Nic bowiem nie jest dobitniejszym świadectwem solidarności niż praca dla dobra wspólnego.\n"
     ]
    }
   ],
   "source": [
    "for sentence in summary:\n",
    "    print(sentence)"
   ]
  },
  {
   "cell_type": "markdown",
   "metadata": {
    "slideshow": {
     "slide_type": "skip"
    }
   },
   "source": [
    "\n"
   ]
  }
 ],
 "metadata": {
  "celltoolbar": "Slideshow",
  "kernelspec": {
   "display_name": "Python 3",
   "language": "python",
   "name": "python3"
  },
  "language_info": {
   "codemirror_mode": {
    "name": "ipython",
    "version": 3
   },
   "file_extension": ".py",
   "mimetype": "text/x-python",
   "name": "python",
   "nbconvert_exporter": "python",
   "pygments_lexer": "ipython3",
   "version": "3.8.5"
  }
 },
 "nbformat": 4,
 "nbformat_minor": 4
}
