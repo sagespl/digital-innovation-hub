{
 "cells": [
  {
   "cell_type": "code",
   "execution_count": 1,
   "metadata": {
    "slideshow": {
     "slide_type": "skip"
    }
   },
   "outputs": [],
   "source": [
    "import xml.etree.ElementTree as ET\n",
    "import os\n",
    "import re"
   ]
  },
  {
   "cell_type": "code",
   "execution_count": 2,
   "metadata": {
    "slideshow": {
     "slide_type": "skip"
    }
   },
   "outputs": [],
   "source": [
    "PATTERN1 = re.compile(r\"(?<=[a-zA-Z])\\n\")\n",
    "PATTERN2 = re.compile(r\"\\s+\")\n",
    "\n",
    "def clean_text(text):\n",
    "    out = PATTERN1.sub(\". \", text)\n",
    "    return PATTERN2.sub(\" \", out)"
   ]
  },
  {
   "cell_type": "code",
   "execution_count": 3,
   "metadata": {
    "slideshow": {
     "slide_type": "skip"
    }
   },
   "outputs": [],
   "source": [
    "def load_data(path, n_doc=None):\n",
    "    data = []\n",
    "    count = 0\n",
    "    for file in os.listdir(path):\n",
    "        with open(f\"{path}/{file}\", \"r\") as f:\n",
    "            raw = f.read()\n",
    "        root = ET.fromstring(raw)\n",
    "        doc = clean_text(root.find(\"body\").text)\n",
    "        for summary in root.find(\"summaries\").findall(\"summary\"):\n",
    "            if summary.attrib[\"ratio\"] == \"10\":\n",
    "                kind = summary.attrib[\"type\"]\n",
    "                text = clean_text(summary.find(\"body\").text)\n",
    "                data.append((doc, text, kind))\n",
    "        if n_doc:\n",
    "            count += 1\n",
    "            if count == n_doc:\n",
    "                break\n",
    "    return data"
   ]
  },
  {
   "cell_type": "code",
   "execution_count": 4,
   "metadata": {
    "slideshow": {
     "slide_type": "skip"
    }
   },
   "outputs": [],
   "source": [
    "data = load_data(\"PSC_1.0/data\", 1)"
   ]
  },
  {
   "cell_type": "markdown",
   "metadata": {
    "slideshow": {
     "slide_type": "slide"
    }
   },
   "source": [
    "# Automatyczne tworzenie podsumowań"
   ]
  },
  {
   "cell_type": "markdown",
   "metadata": {
    "slideshow": {
     "slide_type": "slide"
    }
   },
   "source": [
    "## ROUGE"
   ]
  },
  {
   "cell_type": "markdown",
   "metadata": {
    "slideshow": {
     "slide_type": "fragment"
    }
   },
   "source": [
    "- **P** - precision\n",
    "- **R** - recall\n",
    "- **F** - F-measure"
   ]
  },
  {
   "cell_type": "markdown",
   "metadata": {
    "slideshow": {
     "slide_type": "slide"
    }
   },
   "source": [
    "```\n",
    "pip install rouge\n",
    "```"
   ]
  },
  {
   "cell_type": "code",
   "execution_count": 5,
   "metadata": {
    "slideshow": {
     "slide_type": "fragment"
    }
   },
   "outputs": [],
   "source": [
    "from rouge import Rouge "
   ]
  },
  {
   "cell_type": "code",
   "execution_count": 6,
   "metadata": {
    "scrolled": true,
    "slideshow": {
     "slide_type": "slide"
    }
   },
   "outputs": [
    {
     "data": {
      "text/plain": [
       "('ŚWIĘTO NIEPODLEGŁOŚCI. Nic nie jest dobitniejszym świadectwem solidarności niż praca dla dobra wspólnego. Poszerzanie wolności. RYS. ANDRZEJ LEGUS. JERZY BUZEK. Święto Niepodległości, na przełomie tysiącleci, stwarza szczególną okazję do refleksji nad dokonaniami dwóch pokoleń: tego, którego udziałem stało się w 1918 roku odzyskanie wolności i tego, które niepodległą Rzeczpospolitą od dziesięciu lat współtworzy. Jakie pożytki czerpiemy dziś z ponownie odzyskanej wolności? Jaka jest dzisiejsza wymowa słowa patriotyzm? Jak teraz układają się relacje między Polakami a ich państwem? Na czym w 1999 roku polega czyn obywatelski? Odpowiedzi na te pytania postanowiłem w tym roku poszukać w Krakowie, \"mateczniku polskości\", w mieście, gdzie historia i współczesność przenikają się w stopniu najpełniejszym. Dziedzictwo. 11 listopada to wielkie i radosne święto. Odzyskanie wolności zawsze stanowi tytuł do narodowej dumy. Dla Polaków czyn zbrojny, który przyniósł wolność, miał wymiar szczególny. Po dekadach znaczonych bezowocnymi zrywami powstańczymi okazał się wreszcie czynem skutecznym, nadającym sens hekatombie ofiar poprzedniego stulecia. Skutecznym - co warto pamiętać - w efekcie mądrej akcji dyplomatycznej. Ta z kolei stała się możliwa przede wszystkim dzięki żywotności polskiej tradycji i kultury. Niepodległość nieprzypadkowo kojarzona jest dziś z nazwiskami Piłsudskiego, Dmowskiego, Paderewskiego. One bowiem symbolizują łańcuch uzupełniających się działań zbrojnych i dyplomatycznych, cały czas wspieranych siłą polskiej kultury. Oddając sprawiedliwość i honor wysiłkowi całego narodu trzeba zawsze pamiętać, że czyn niepodległościowy niejedno miał imię. Na Wawelu, nad kryptami królów i bohaterów narodowych, został wzniesiony baldachim upamiętniający 1918 rok. Widnieje na nim napis: \"Ciała śpią, duchy czuwają\". Tu wystarczy chwila skupienia, by uzmysłowić sobie, czym jest Polska, jakie dziedzictwo otrzymaliśmy w darze i jakie zobowiązania na nas ciążą. Wawel i jego sarkofagi to żywa pamięć znamienitej przeszłości. Na tyle żywa, że jak mickiewiczowska pieśń \"uszła cało\" z zawieruchy historii. Przekazywano ją w rodzinie, w Kościele, uczono z książek. Właśnie dlatego Polska - skreślona z mapy Europy - nie była dla pokoleń czasu niewoli abstrakcją, lecz obowiązkiem do spełniania. Czasem także trudnym dziedzictwem, które należało pokonać, wznosząc się ponad własne ograniczenia. Dzięki tej pamięci naród przetrwał, a w kluczowym momencie historii dostrzegł swoją szansę i miał odwagę z niej skorzystać. Bez czynu niepodległość pozostałaby przecież jedynie martwą ideą. Dlatego krakowskie rozważania o patriotyzmie trzeba rozpocząć od hołdu złożonego bohaterom narodowym przy grobie marszałka Józefa Piłsudskiego i przy prochach bezimiennych żołnierzy Rzeczypospolitej. W tym roku będę miał także okazję szczególną, by równocześnie docenić polski czyn dyplomatyczny - uczestnicząc w odsłonięciu i poświęceniu tablicy pamiątkowej ku czci Romana Dmowskiego. Wierzę, iż dla naszego pokolenia stanie się ona znakiem przypominającym, że duch patriotyczny w decydujących dla losów narodu momentach tryumfował nad duchem politycznych sporów. Pamięć o tych, którzy mimo 123 lat niewoli, upokorzeń i klęsk, nigdy nie pogodzili się z utratą wolności, a także o tych, którzy ów protest przechowali przez noc nazizmu i komunizmu na zawsze pozostanie źródłem naszej siły. To ze względu na tę pamięć nie wolno nam zmarnować daru wolności. Testament przeszłych pokoleń przypomina o obowiązku jego utrwalania w codziennych dokonaniach i wyborach. Dziedzictwo czynu 11 listopada to patriotyzm najwyższej próby. Dobre państwo. Nie sposób dziś negować osiągnięć II Rzeczypospolitej. Z perspektywy czasu tamte dokonania zdumiewają śmiałością i rozmachem. Pokolenie, które czynem zbrojnym wywalczyło wolność nie zmarnowało jej, choć nie dane mu było dokończyć dzieła odbudowy polskiej państwowości. My, przedstawiciele pokolenia \"Solidarności\", odzyskawszy suwerenność po półwieczu komunizmu, czujemy się tamtego dzieła kontynuatorami. Jak dziś postrzegamy czyn patriotyczny? Czym dla mnie jako premiera polskiego rządu jest odzyskane na nowo państwo? Przede wszystkim wspólnotą polityczną władz centralnych i samorządu, dobrem wspólnym obywateli. Dziś narodowy czyn ma swój początek w gminie, gdzie podejmowane są decyzje dotyczące lokalnej społeczności. W moim głębokim odczuciu właśnie oddanie władzy w ręce ludzi - w gminie, powiecie i województwie - jest największym zwycięstwem ponownie odzyskanej wolności. To dzięki temu zwycięstwu w ciągu 10 lat dokonaliśmy cywilizacyjnego skoku, podejmując wyzwanie pokolenia, które w 1918 roku rozpoczęło wielkie dzieło reformowania i odbudowy Polski. Samorząd jest najlepszą szkołą patriotyzmu. Lokalnego, powiatowego, regionalnego. Ale także narodowego, bo wszelki patriotyzm zaczyna się od umiłowania tego, co bliskie. Kultura narodowa i lokalna są ze sobą splecione, mają wspólne korzenie, które określają naszą tożsamość. Wybór Krakowa na kulturalną stolicę Europy w roku 2000 potwierdza, że we współczesnym świecie docenia się udział kultury w budowaniu tożsamości, choć w przypadku tego miasta jest to na pewno bardziej kultura narodowa niż lokalna. W decentralizującej się Europie nie ma bowiem pojęcia prowincji, bo często to właśnie ona stanowić może centrum życia duchowego i kulturalnego. Kraków jest dziś przykładem tego, jak działania na rzecz ochrony narodowego dziedzictwa wpływają na rozwój miasta i warunki życia jego mieszkańców. Doświadczenia samorządów polskich wskazują wiele przykładów dobrego gospodarowania lokalnym dziedzictwem, które nie ogranicza się do ochrony zabytków, ale czyni z kultury instrument rozwoju. Bo to dzięki kulturze w równym stopniu jak przez sukces gospodarczy stajemy się członkiem europejskiej wspólnoty - co istotne - zachowując własną tożsamość. W małych ojczyznach dobrze zagospodarowano wolność. Było to możliwe także dlatego, że właśnie tam najsilniejsza jest owa pamięć historyczna, która sto lat temu pozwoliła przetrwać zły czas. Dlatego dobre państwo trzeba i warto budować na fundamencie lokalnego dziedzictwa. W czasach globalizacji, nowoczesny patriotyzm rozumiem właśnie jako budowanie Polski na dole, we własnej, lokalnej przestrzeni duchowej. Nowoczesne technologie pozwalają bowiem być wszędzie, będąc zarazem u siebie - zakotwiczonym w tradycji, kulturze, wartościach. Reformatorskie dzieło mijającej dekady ku temu przecież zmierzało. Jestem dumny, że mój rząd oddając prawo decydowania o swoim losie mieszkańcom wspólnot lokalnych, dzieła tego dopełnił. Zbudowaliśmy państwo, które pozwala swoim obywatelom swobodnie działać dla dobra wspólnego. Pro publico bono. Czym jest dziś czyn obywatelski? Myślę, że po raz pierwszy w naszej historii jest to czyn rozumiany jako aktywność społeczna, a nie jako reakcja na zagrożenia zewnętrzne. Jest to także (wreszcie!) czyn radosny. Patriotyzm zawsze kojarzył się z działaniem niepartykularnym. Z przełamywaniem egoizmu, społeczną solidarnością i wielkodusznością. Ale przede wszystkim z odwagą. Trudno bowiem było wskazać w naszej historii czas, gdy zarazem czyn obywatelski nie wiązał się z ofiarą i wyrzeczeniem, gdy nie był obciążony ryzykiem. Za patriotyzm trzeba było płacić wysoką cenę, często cenę życia. Dlatego dla większości Polaków Święto Niepodległości jest dniem powagi, smutnej zadumy i refleksji. Dlatego często patriotyzm kojarzy się z wyzwaniem niedostępnym przeciętnemu człowiekowi. Tak wiele od niego wymagał. Nadszedł jednak czas, gdy czyn obywatelski może stać się także źródłem powszechnej i wielkiej satysfakcji, bo płynącej z prostego czynienia dobra. W dodatku dziś, działając pro publico bono, można przyczyniać się do cywilizacyjnego rozwoju państwa, zwiększając jego dobrobyt. Nie wiąże się to z żadnym zagrożeniem czy ryzykiem, przeciwnie można \"narazić się\" jedynie na uznanie i szacunek innych. Działalność publiczna zaczyna, choć z licznymi jeszcze zahamowaniami, przynosić popularność, staje się naturalną drogą doboru ludzi najwyższego zaufania w państwie, pozwala upowszechniać pozytywne wzorce. Dzięki nim z kolei łatwiej o upowszechnianie takich postaw obywatelskich, którym przyświeca przede wszystkim dobro wspólne. Każdy wysiłek pro publico bono służy ojczyźnie, poszerza bowiem przestrzeń wolności, zachęca obywateli do samoorganizacji. Mądrość narodu polega na tym, że potrafi nobilitować twórczą pracę obywatelską. Jest ona bowiem dowodem istnienia wspólnoty, potwierdza jej tożsamość i ciągłość historyczną. Każdy taki wysiłek - doceniony i dostrzeżony - wzmacnia zaufanie do państwa, jest gwarantem trwałości społecznych więzów. Gwarantem niepodległości i gwarantem naszej indywidualnej i zbiorowej wolności... A przecież: \"Wolność jest najlepszą, najskuteczniejszą i najtańszą sztuką gospodarowania\" (Ferdynand Zweig). Fundament narodowego bytu. Z kraju o gospodarce scentralizowanej Polska stała się wreszcie bogata w przedsięwzięcia obywatelskie. Inicjatywa przyznawania nagród \"Pro publico bono\", której mam zaszczyt patronować, ma na celu przedsięwzięcia te dostrzec i docenić. Nic bowiem nie jest dobitniejszym świadectwem solidarności niż praca dla dobra wspólnego. A właśnie taka praca tworzy fundament narodowego bytu. 11 listopada 1999 roku w Krakowie kapituła konkursu \"Pro publico bono\" pod przewodnictwem prof. Andrzeja Zolla (i honorowym pana Jana Nowaka-Jeziorańskiego) wyłoni pierwszych laureatów. Jeśli ta inicjatywa zyska poparcie społeczne, stanie się corocznym wydarzeniem, dodając do klimatu Święta Niepodległości niemały ładunek optymizmu i wiary w niezmierzone pokłady patriotyzmu. Naszego prawdziwego narodowego bogactwa.',\n",
       " '11 listopada to wielkie i radosne święto. Dla Polaków czyn zbrojny, który przyniósł wolność, miał wymiar szczególny. Pamięć o tych, którzy mimo upokorzeń i klęsk nigdy nie pogodzili się z utratą wolności, a także o tych, którzy ów protest przechowali przez noc nazizmu i komunizmu na zawsze pozostanie źródłem naszej siły. Jak dziś postrzegamy czyn patriotyczny? Dziś narodowy czyn ma swój początek w gminie, gdzie podejmowane są decyzje dotyczące lokalnej społeczności. Kultura narodowa i lokalna są ze sobą splecione. W małych ojczyznach dobrze zagospodarowano wolność. właśnie tam najsilniejsza jest owa pamięć historyczna. W czasach globalizacji nowoczesny patriotyzm rozumiem właśnie jako budowanie Polski na dole, w lokalnej przestrzeni duchowej. czyn obywatelski jest rozumiany jako aktywność społeczna, a nie jako reakcja na zagrożenia zewnętrzne. Jest to także czyn radosny.',\n",
       " 'extract')"
      ]
     },
     "execution_count": 6,
     "metadata": {},
     "output_type": "execute_result"
    }
   ],
   "source": [
    "data[0]"
   ]
  },
  {
   "cell_type": "code",
   "execution_count": 7,
   "metadata": {
    "slideshow": {
     "slide_type": "fragment"
    }
   },
   "outputs": [],
   "source": [
    "references = [s for _, s, _ in data]"
   ]
  },
  {
   "cell_type": "code",
   "execution_count": 8,
   "metadata": {
    "scrolled": true,
    "slideshow": {
     "slide_type": "slide"
    }
   },
   "outputs": [
    {
     "data": {
      "text/plain": [
       "['11 listopada to wielkie i radosne święto. Dla Polaków czyn zbrojny, który przyniósł wolność, miał wymiar szczególny. Pamięć o tych, którzy mimo upokorzeń i klęsk nigdy nie pogodzili się z utratą wolności, a także o tych, którzy ów protest przechowali przez noc nazizmu i komunizmu na zawsze pozostanie źródłem naszej siły. Jak dziś postrzegamy czyn patriotyczny? Dziś narodowy czyn ma swój początek w gminie, gdzie podejmowane są decyzje dotyczące lokalnej społeczności. Kultura narodowa i lokalna są ze sobą splecione. W małych ojczyznach dobrze zagospodarowano wolność. właśnie tam najsilniejsza jest owa pamięć historyczna. W czasach globalizacji nowoczesny patriotyzm rozumiem właśnie jako budowanie Polski na dole, w lokalnej przestrzeni duchowej. czyn obywatelski jest rozumiany jako aktywność społeczna, a nie jako reakcja na zagrożenia zewnętrzne. Jest to także czyn radosny.',\n",
       " 'Niepodległość nieprzypadkowo kojarzona jest dziś z nazwiskami Piłsudskiego, Dmowskiego, Paderewskiego. One bowiem symbolizują łańcuch uzupełniających się działań zbrojnych i dyplomatycznych, cały czas wspieranych siłą polskiej kultury. Pokolenie, które czynem zbrojnym wywalczyło wolność nie zmarnowało jej. My, przedstawiciele pokolenia \"Solidarności\" czujemy się tamtego dzieła kontynuatorami. oddanie władzy w ręce ludzi - w gminie, powiecie i województwie - jest największym zwycięstwem ponownie odzyskanej wolności. Kultura narodowa i lokalna są ze sobą splecione. nowoczesny patriotyzm rozumiem jako budowanie Polski we własnej, lokalnej przestrzeni duchowej. czyn obywatelski po raz pierwszy w naszej historii jest rozumiany jako aktywność społeczna. Polska stała się bogata w przedsięwzięcia obywatelskie. Inicjatywa przyznawania nagród \"Pro publico bono\" ma na celu przedsięwzięcia te docenić. 11 listopada 1999 roku w Krakowie kapituła konkursu \"Pro publico bono\" wyłoni pierwszych laureatów.',\n",
       " 'Święto Niepodległości, na przełomie tysiącleci, stwarza szczególną okazję do refleksji nad dokonaniami dwóch pokoleń: tego, którego udziałem stało się w 1918 roku odzyskanie wolności i tego, które niepodległą Rzeczpospolitą od dziesięciu lat współtworzy. 11 listopada to wielkie i radosne święto. Dla Polaków czyn zbrojny, który przyniósł wolność, miał wymiar szczególny. Pamięć o tych, którzy mimo 123 lat niewoli, upokorzeń i klęsk, nigdy nie pogodzili się z utratą wolności, na zawsze pozostanie źródłem naszej siły. Dziedzictwo czynu 11 listopada to patriotyzm najwyższej próby. Dziś narodowy czyn ma swój początek w gminie, gdzie podejmowane są decyzje dotyczące lokalnej społeczności. Samorząd jest najlepszą szkołą patriotyzmu. Czym jest dziś czyn obywatelski? Myślę, że po raz pierwszy w naszej historii jest to czyn rozumiany jako aktywność społeczna, a nie jako reakcja na zagrożenia zewnętrzne.',\n",
       " 'Święto Niepodległości stwarza okazję do refleksji nad dokonaniami dwóch pokoleń: tego, którego udziałem stało się w 1918 roku odzyskanie wolności i tego, które niepodległą Rzeczpospolitą od dziesięciu lat współtworzy. Pamięć o tych, którzy mimo lat niewoli, nie pogodzili się z utratą wolności, pozostanie źródłem naszej siły. Pokolenie, które czynem zbrojnym wywalczyło wolność nie zmarnowało jej, choć nie dane mu było dokończyć dzieła odbudowy. My, przedstawiciele pokolenia \"Solidarności\", czujemy się tamtego dzieła kontynuatorami. Dziś narodowy czyn ma swój początek w gminie. państwo trzeba budować na fundamencie lokalnego dziedzictwa. dziś czyn obywatelski jest rozumiany jako aktywność społeczna, a nie jako reakcja na zagrożenia zewnętrzne. działając pro publico bono, można przyczyniać się do rozwoju państwa. Polska stała się bogata w przedsięwzięcia obywatelskie. Inicjatywa przyznawania nagród \"Pro publico bono\", której mam zaszczyt patronować, ma na celu przedsięwzięcia te docenić.',\n",
       " 'Święto Niepodległości, na przełomie tysiącleci, stwarza szczególną okazję do refleksji nad dokonaniami dwóch pokoleń: tego, którego udziałem stało się w 1918 roku odzyskanie wolności i tego, które niepodległą Rzeczpospolitą od dziesięciu lat współtworzy.Wawel i jego sarkofagi to żywa pamięć znamienitej przeszłości. Na tyle żywa, że jak mickiewiczowska pieśń \"uszła cało\" z zawieruchy historii. Przekazywano ją w rodzinie, w Kościele, uczono z książek. Właśnie dlatego Polska - skreślona z mapy Europy - nie była dla pokoleń czasu niewoli abstrakcją, lecz obowiązkiem do spełniania. Dzięki tej pamięci naród przetrwał, a w kluczowym momencie historii dostrzegł swoją szansę i miał odwagę z niej skorzystać.Nie sposób dziś negować osiągnięć II Rzeczypospolitej. Z perspektywy czasu tamte dokonania zdumiewają śmiałością i rozmachem. Pokolenie, które czynem zbrojnym wywalczyło wolność nie zmarnowało jej, choć nie dane mu było dokończyć dzieła odbudowy polskiej państwowości. My, przedstawiciele pokolenia \"Solidarności\", odzyskawszy suwerenność po półwieczu komunizmu, czujemy się tamtego dzieła kontynuatorami.']"
      ]
     },
     "execution_count": 8,
     "metadata": {},
     "output_type": "execute_result"
    }
   ],
   "source": [
    "references"
   ]
  },
  {
   "cell_type": "code",
   "execution_count": 9,
   "metadata": {
    "slideshow": {
     "slide_type": "slide"
    }
   },
   "outputs": [],
   "source": [
    "summary = (\"Nic nie jest dobitniejszym świadectwem solidarności niż praca dla dobra wspólnego. \"\n",
    "           \"Święto Niepodległości, na przełomie tysiącleci, stwarza szczególną okazję do refleksji \"\n",
    "           \"nad dokonaniami dwóch pokoleń: tego, którego udziałem stało się w 1918 roku odzyskanie \"\n",
    "           \"wolności i tego, które niepodległą Rzeczpospolitą od dziesięciu lat współtworzy. Pamięć \"\n",
    "           \"o tych, którzy mimo 123 lat niewoli, upokorzeń i klęsk, nigdy nie pogodzili się z utratą \"\n",
    "           \"wolności, a także o tych, którzy ów protest przechowali przez noc nazizmu i komunizmu na \"\n",
    "           \"zawsze pozostanie źródłem naszej siły. Kraków jest dziś przykładem tego, jak działania \"\n",
    "           \"na rzecz ochrony narodowego dziedzictwa wpływają na rozwój miasta i warunki życia jego \"\n",
    "           \"mieszkańców. Było to możliwe także dlatego, że właśnie tam najsilniejsza jest owa pamięć \"\n",
    "           \"historyczna, która sto lat temu pozwoliła przetrwać zły czas. Czym jest dziś czyn \"\n",
    "           \"obywatelski? Trudno bowiem było wskazać w naszej historii czas, gdy zarazem czyn \"\n",
    "           \"obywatelski nie wiązał się z ofiarą i wyrzeczeniem, gdy nie był obciążony ryzykiem. \"\n",
    "           \"W dodatku dziś, działając pro publico bono, można przyczyniać się do cywilizacyjnego \"\n",
    "           \"rozwoju państwa, zwiększając jego dobrobyt. Nic bowiem nie jest dobitniejszym świadectwem \"\n",
    "           \"solidarności niż praca dla dobra wspólnego.\")"
   ]
  },
  {
   "cell_type": "code",
   "execution_count": 10,
   "metadata": {
    "slideshow": {
     "slide_type": "slide"
    }
   },
   "outputs": [],
   "source": [
    "rouge = Rouge()"
   ]
  },
  {
   "cell_type": "code",
   "execution_count": 11,
   "metadata": {
    "slideshow": {
     "slide_type": "fragment"
    }
   },
   "outputs": [],
   "source": [
    "scores = rouge.get_scores(summary, references[0])"
   ]
  },
  {
   "cell_type": "code",
   "execution_count": 12,
   "metadata": {
    "slideshow": {
     "slide_type": "fragment"
    }
   },
   "outputs": [
    {
     "data": {
      "text/plain": [
       "[{'rouge-1': {'f': 0.3506493458030444,\n",
       "   'p': 0.2983425414364641,\n",
       "   'r': 0.4251968503937008},\n",
       "  'rouge-2': {'f': 0.23529411280276827, 'p': 0.2, 'r': 0.2857142857142857},\n",
       "  'rouge-l': {'f': 0.34166666176701393,\n",
       "   'p': 0.29927007299270075,\n",
       "   'r': 0.39805825242718446}}]"
      ]
     },
     "execution_count": 12,
     "metadata": {},
     "output_type": "execute_result"
    }
   ],
   "source": [
    "scores"
   ]
  },
  {
   "cell_type": "code",
   "execution_count": 13,
   "metadata": {
    "slideshow": {
     "slide_type": "fragment"
    }
   },
   "outputs": [],
   "source": [
    "scores = scores[0]"
   ]
  },
  {
   "cell_type": "markdown",
   "metadata": {
    "slideshow": {
     "slide_type": "slide"
    }
   },
   "source": [
    "ROUGE-N"
   ]
  },
  {
   "cell_type": "code",
   "execution_count": 14,
   "metadata": {
    "slideshow": {
     "slide_type": "fragment"
    }
   },
   "outputs": [
    {
     "data": {
      "text/plain": [
       "{'f': 0.3506493458030444, 'p': 0.2983425414364641, 'r': 0.4251968503937008}"
      ]
     },
     "execution_count": 14,
     "metadata": {},
     "output_type": "execute_result"
    }
   ],
   "source": [
    "scores[\"rouge-1\"]"
   ]
  },
  {
   "cell_type": "code",
   "execution_count": 15,
   "metadata": {
    "slideshow": {
     "slide_type": "fragment"
    }
   },
   "outputs": [
    {
     "data": {
      "text/plain": [
       "{'f': 0.23529411280276827, 'p': 0.2, 'r': 0.2857142857142857}"
      ]
     },
     "execution_count": 15,
     "metadata": {},
     "output_type": "execute_result"
    }
   ],
   "source": [
    "scores[\"rouge-2\"]"
   ]
  },
  {
   "cell_type": "markdown",
   "metadata": {
    "slideshow": {
     "slide_type": "slide"
    }
   },
   "source": [
    "ROUGE-L"
   ]
  },
  {
   "cell_type": "code",
   "execution_count": 16,
   "metadata": {
    "slideshow": {
     "slide_type": "fragment"
    }
   },
   "outputs": [
    {
     "data": {
      "text/plain": [
       "{'f': 0.34166666176701393, 'p': 0.29927007299270075, 'r': 0.39805825242718446}"
      ]
     },
     "execution_count": 16,
     "metadata": {},
     "output_type": "execute_result"
    }
   ],
   "source": [
    "scores[\"rouge-l\"]"
   ]
  },
  {
   "cell_type": "code",
   "execution_count": 17,
   "metadata": {
    "slideshow": {
     "slide_type": "slide"
    }
   },
   "outputs": [],
   "source": [
    "summaries = [summary] * len(references)"
   ]
  },
  {
   "cell_type": "code",
   "execution_count": 18,
   "metadata": {
    "slideshow": {
     "slide_type": "fragment"
    }
   },
   "outputs": [],
   "source": [
    "scores = rouge.get_scores(summaries, references)"
   ]
  },
  {
   "cell_type": "code",
   "execution_count": 19,
   "metadata": {
    "scrolled": true,
    "slideshow": {
     "slide_type": "fragment"
    }
   },
   "outputs": [
    {
     "data": {
      "text/plain": [
       "[{'rouge-1': {'f': 0.3506493458030444,\n",
       "   'p': 0.2983425414364641,\n",
       "   'r': 0.4251968503937008},\n",
       "  'rouge-2': {'f': 0.23529411280276827, 'p': 0.2, 'r': 0.2857142857142857},\n",
       "  'rouge-l': {'f': 0.34166666176701393,\n",
       "   'p': 0.29927007299270075,\n",
       "   'r': 0.39805825242718446}},\n",
       " {'rouge-1': {'f': 0.1623376574913562,\n",
       "   'p': 0.13812154696132597,\n",
       "   'r': 0.1968503937007874},\n",
       "  'rouge-2': {'f': 0.02614378600538344,\n",
       "   'p': 0.022222222222222223,\n",
       "   'r': 0.031746031746031744},\n",
       "  'rouge-l': {'f': 0.12903225311947208,\n",
       "   'p': 0.11678832116788321,\n",
       "   'r': 0.14414414414414414}},\n",
       " {'rouge-1': {'f': 0.47741934997939656,\n",
       "   'p': 0.4088397790055249,\n",
       "   'r': 0.5736434108527132},\n",
       "  'rouge-2': {'f': 0.3896103847529095, 'p': 0.3333333333333333, 'r': 0.46875},\n",
       "  'rouge-l': {'f': 0.48979591343740114,\n",
       "   'p': 0.43795620437956206,\n",
       "   'r': 0.5555555555555556}},\n",
       " {'rouge-1': {'f': 0.44303796978949694,\n",
       "   'p': 0.3867403314917127,\n",
       "   'r': 0.5185185185185185},\n",
       "  'rouge-2': {'f': 0.30573247918373975,\n",
       "   'p': 0.26666666666666666,\n",
       "   'r': 0.3582089552238806},\n",
       "  'rouge-l': {'f': 0.43824700699417474,\n",
       "   'p': 0.40145985401459855,\n",
       "   'r': 0.4824561403508772}},\n",
       " {'rouge-1': {'f': 0.32530119986010314,\n",
       "   'p': 0.2983425414364641,\n",
       "   'r': 0.3576158940397351},\n",
       "  'rouge-2': {'f': 0.19393938898071642,\n",
       "   'p': 0.17777777777777778,\n",
       "   'r': 0.21333333333333335},\n",
       "  'rouge-l': {'f': 0.31226765299429254,\n",
       "   'p': 0.30656934306569344,\n",
       "   'r': 0.3181818181818182}}]"
      ]
     },
     "execution_count": 19,
     "metadata": {},
     "output_type": "execute_result"
    }
   ],
   "source": [
    "scores"
   ]
  },
  {
   "cell_type": "code",
   "execution_count": 20,
   "metadata": {
    "slideshow": {
     "slide_type": "slide"
    }
   },
   "outputs": [],
   "source": [
    "scores = rouge.get_scores(summaries, references, avg=True)"
   ]
  },
  {
   "cell_type": "code",
   "execution_count": 21,
   "metadata": {
    "slideshow": {
     "slide_type": "fragment"
    }
   },
   "outputs": [
    {
     "data": {
      "text/plain": [
       "{'rouge-1': {'f': 0.35174910458467945,\n",
       "  'p': 0.3060773480662983,\n",
       "  'r': 0.414365013501091},\n",
       " 'rouge-2': {'f': 0.23014403034510345, 'p': 0.2, 'r': 0.27155052120350626},\n",
       " 'rouge-l': {'f': 0.3422018976624709,\n",
       "  'p': 0.3124087591240876,\n",
       "  'r': 0.37967918213191587}}"
      ]
     },
     "execution_count": 21,
     "metadata": {},
     "output_type": "execute_result"
    }
   ],
   "source": [
    "scores"
   ]
  },
  {
   "cell_type": "code",
   "execution_count": 22,
   "metadata": {
    "slideshow": {
     "slide_type": "slide"
    }
   },
   "outputs": [],
   "source": [
    "t_summary = (\"Święto Niepodległości, na przełomie tysiącleci, stwarza szczególną okazję do refleksji \"\n",
    "             \"nad dokonaniami dwóch pokoleń: tego, którego udziałem stało się w 1918 roku odzyskanie \"\n",
    "             \"wolności i tego, które niepodległą Rzeczpospolitą od dziesięciu lat współtworzy. Na czym \"\n",
    "             \"w 1999 roku polega czyn obywatelski? Wybór Krakowa na kulturalną stolicę Europy w roku \"\n",
    "             \"2000 potwierdza, że we współczesnym świecie docenia się udział kultury w budowaniu \"\n",
    "             \"tożsamości, choć w przypadku tego miasta jest to na pewno bardziej kultura narodowa niż \"\n",
    "             \"lokalna. W decentralizującej się Europie nie ma bowiem pojęcia prowincji, bo często to \"\n",
    "             \"właśnie ona stanowić może centrum życia duchowego i kulturalnego. Kraków jest dziś \"\n",
    "             \"przykładem tego, jak działania na rzecz ochrony narodowego dziedzictwa wpływają na rozwój \"\n",
    "             \"miasta i warunki życia jego mieszkańców. Dlatego dobre państwo trzeba i warto budować na \"\n",
    "             \"fundamencie lokalnego dziedzictwa. Czym jest dziś czyn obywatelski? Myślę, że po raz \"\n",
    "             \"pierwszy w naszej historii jest to czyn rozumiany jako aktywność społeczna, a nie jako \"\n",
    "             \"reakcja na zagrożenia zewnętrzne. Trudno bowiem było wskazać w naszej historii czas, gdy \"\n",
    "             \"zarazem czyn obywatelski nie wiązał się z ofiarą i wyrzeczeniem, gdy nie był obciążony \"\n",
    "             \"ryzykiem. W dodatku dziś, działając pro publico bono, można przyczyniać się do \"\n",
    "             \"cywilizacyjnego rozwoju państwa, zwiększając jego dobrobyt.\")"
   ]
  },
  {
   "cell_type": "code",
   "execution_count": 23,
   "metadata": {
    "slideshow": {
     "slide_type": "fragment"
    }
   },
   "outputs": [],
   "source": [
    "t_summaries = [t_summary] * len(references)"
   ]
  },
  {
   "cell_type": "code",
   "execution_count": 24,
   "metadata": {
    "slideshow": {
     "slide_type": "fragment"
    }
   },
   "outputs": [],
   "source": [
    "t_scores = rouge.get_scores(t_summaries, references, avg=True)"
   ]
  },
  {
   "cell_type": "code",
   "execution_count": 25,
   "metadata": {
    "slideshow": {
     "slide_type": "slide"
    }
   },
   "outputs": [
    {
     "name": "stdout",
     "output_type": "stream",
     "text": [
      "rouge-1: {'f': 0.35174910458467945, 'p': 0.3060773480662983, 'r': 0.414365013501091}\n",
      "rouge-2: {'f': 0.23014403034510345, 'p': 0.2, 'r': 0.27155052120350626}\n",
      "rouge-l: {'f': 0.3422018976624709, 'p': 0.3124087591240876, 'r': 0.37967918213191587}\n"
     ]
    }
   ],
   "source": [
    "for k, v in scores.items():\n",
    "    print(f\"{k}: {v}\")"
   ]
  },
  {
   "cell_type": "code",
   "execution_count": 26,
   "metadata": {
    "slideshow": {
     "slide_type": "fragment"
    }
   },
   "outputs": [
    {
     "name": "stdout",
     "output_type": "stream",
     "text": [
      "rouge-1: {'f': 0.3441516985717027, 'p': 0.2893401015228426, 'r': 0.4255889526720501}\n",
      "rouge-2: {'f': 0.19901121019504778, 'p': 0.1673469387755102, 'r': 0.24598896884624497}\n",
      "rouge-l: {'f': 0.32039701147025845, 'p': 0.2837837837837838, 'r': 0.3691771485333059}\n"
     ]
    }
   ],
   "source": [
    "for k, v in t_scores.items():\n",
    "    print(f\"{k}: {v}\")"
   ]
  },
  {
   "cell_type": "markdown",
   "metadata": {
    "slideshow": {
     "slide_type": "skip"
    }
   },
   "source": [
    "\n"
   ]
  }
 ],
 "metadata": {
  "celltoolbar": "Slideshow",
  "kernelspec": {
   "display_name": "Python 3",
   "language": "python",
   "name": "python3"
  },
  "language_info": {
   "codemirror_mode": {
    "name": "ipython",
    "version": 3
   },
   "file_extension": ".py",
   "mimetype": "text/x-python",
   "name": "python",
   "nbconvert_exporter": "python",
   "pygments_lexer": "ipython3",
   "version": "3.8.5"
  }
 },
 "nbformat": 4,
 "nbformat_minor": 4
}
