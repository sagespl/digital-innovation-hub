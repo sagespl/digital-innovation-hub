{
 "cells": [
  {
   "cell_type": "markdown",
   "id": "finite-toyota",
   "metadata": {
    "slideshow": {
     "slide_type": "slide"
    }
   },
   "source": [
    "# Podstawy analizy języka naturalnego\n",
    "\n",
    "\n",
    "\n",
    "<br><br>\n",
    "\n",
    "*Patryk Pilarski*"
   ]
  },
  {
   "cell_type": "markdown",
   "id": "final-lewis",
   "metadata": {
    "slideshow": {
     "slide_type": "slide"
    }
   },
   "source": [
    "## Język naturalny"
   ]
  },
  {
   "cell_type": "markdown",
   "id": "wanted-flooring",
   "metadata": {
    "slideshow": {
     "slide_type": "fragment"
    }
   },
   "source": [
    "Przykładowe poziomy analizy:"
   ]
  },
  {
   "cell_type": "markdown",
   "id": "regional-royal",
   "metadata": {
    "slideshow": {
     "slide_type": "fragment"
    }
   },
   "source": [
    "- morfologia"
   ]
  },
  {
   "cell_type": "markdown",
   "id": "social-browse",
   "metadata": {
    "slideshow": {
     "slide_type": "fragment"
    }
   },
   "source": [
    "- syntaktyka"
   ]
  },
  {
   "cell_type": "markdown",
   "id": "declared-gallery",
   "metadata": {
    "slideshow": {
     "slide_type": "fragment"
    }
   },
   "source": [
    "- semantyka"
   ]
  },
  {
   "cell_type": "markdown",
   "id": "friendly-baseline",
   "metadata": {
    "slideshow": {
     "slide_type": "fragment"
    }
   },
   "source": [
    "- pragmatyka"
   ]
  },
  {
   "cell_type": "markdown",
   "id": "coordinate-youth",
   "metadata": {
    "slideshow": {
     "slide_type": "slide"
    }
   },
   "source": [
    "## Dane tekstowe"
   ]
  },
  {
   "cell_type": "markdown",
   "id": "documented-cursor",
   "metadata": {
    "slideshow": {
     "slide_type": "fragment"
    }
   },
   "source": [
    "Przykłady wykorzystania:"
   ]
  },
  {
   "cell_type": "markdown",
   "id": "romantic-dependence",
   "metadata": {
    "slideshow": {
     "slide_type": "fragment"
    }
   },
   "source": [
    "- wyszukiwanie podobnych dokumentów"
   ]
  },
  {
   "cell_type": "markdown",
   "id": "corrected-integration",
   "metadata": {
    "slideshow": {
     "slide_type": "fragment"
    }
   },
   "source": [
    "- grupowanie dokumentów ze względu na treść"
   ]
  },
  {
   "cell_type": "markdown",
   "id": "vertical-disposal",
   "metadata": {
    "slideshow": {
     "slide_type": "fragment"
    }
   },
   "source": [
    "- analiza wydźwięku"
   ]
  },
  {
   "cell_type": "markdown",
   "id": "shaped-polyester",
   "metadata": {
    "slideshow": {
     "slide_type": "fragment"
    }
   },
   "source": [
    "- klasyfikacja dokumentów"
   ]
  },
  {
   "cell_type": "markdown",
   "id": "continent-construction",
   "metadata": {
    "slideshow": {
     "slide_type": "fragment"
    }
   },
   "source": [
    "- rozpoznawanie nazw własnych"
   ]
  },
  {
   "cell_type": "markdown",
   "id": "following-converter",
   "metadata": {
    "slideshow": {
     "slide_type": "fragment"
    }
   },
   "source": [
    "- automatyczne generowanie podsumowań"
   ]
  },
  {
   "cell_type": "markdown",
   "id": "driven-generic",
   "metadata": {
    "slideshow": {
     "slide_type": "skip"
    }
   },
   "source": [
    "\n"
   ]
  }
 ],
 "metadata": {
  "celltoolbar": "Slideshow",
  "kernelspec": {
   "display_name": "Python 3",
   "language": "python",
   "name": "python3"
  },
  "language_info": {
   "codemirror_mode": {
    "name": "ipython",
    "version": 3
   },
   "file_extension": ".py",
   "mimetype": "text/x-python",
   "name": "python",
   "nbconvert_exporter": "python",
   "pygments_lexer": "ipython3",
   "version": "3.8.5"
  }
 },
 "nbformat": 4,
 "nbformat_minor": 5
}
