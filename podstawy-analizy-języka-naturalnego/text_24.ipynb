{
 "cells": [
  {
   "cell_type": "markdown",
   "id": "finite-toyota",
   "metadata": {
    "slideshow": {
     "slide_type": "slide"
    }
   },
   "source": [
    "# Podstawy analizy języka naturalnego"
   ]
  },
  {
   "cell_type": "markdown",
   "id": "cosmetic-tomorrow",
   "metadata": {
    "slideshow": {
     "slide_type": "slide"
    }
   },
   "source": [
    "## Język naturalny"
   ]
  },
  {
   "cell_type": "markdown",
   "id": "coordinate-youth",
   "metadata": {
    "slideshow": {
     "slide_type": "slide"
    }
   },
   "source": [
    "## Operacje na danych tekstowych"
   ]
  },
  {
   "cell_type": "markdown",
   "id": "removable-tiger",
   "metadata": {
    "slideshow": {
     "slide_type": "fragment"
    }
   },
   "source": [
    "- tokenizacja"
   ]
  },
  {
   "cell_type": "markdown",
   "id": "impaired-locking",
   "metadata": {
    "slideshow": {
     "slide_type": "fragment"
    }
   },
   "source": [
    "- lematyzacja"
   ]
  },
  {
   "cell_type": "markdown",
   "id": "verbal-purpose",
   "metadata": {
    "slideshow": {
     "slide_type": "fragment"
    }
   },
   "source": [
    "- usuwanie stopwords"
   ]
  },
  {
   "cell_type": "markdown",
   "id": "partial-adrian",
   "metadata": {
    "slideshow": {
     "slide_type": "slide"
    }
   },
   "source": [
    "## Reprezentacje tekstu"
   ]
  },
  {
   "cell_type": "markdown",
   "id": "corresponding-mozambique",
   "metadata": {
    "slideshow": {
     "slide_type": "fragment"
    }
   },
   "source": [
    "- DTM\n",
    "    - bag od words\n",
    "    - TF-IDF"
   ]
  },
  {
   "cell_type": "markdown",
   "id": "described-skiing",
   "metadata": {
    "slideshow": {
     "slide_type": "fragment"
    }
   },
   "source": [
    "- word2vec\n",
    "- fasttext"
   ]
  },
  {
   "cell_type": "markdown",
   "id": "handled-listening",
   "metadata": {
    "slideshow": {
     "slide_type": "slide"
    }
   },
   "source": [
    "## Uczenie maszynowe"
   ]
  },
  {
   "cell_type": "markdown",
   "id": "documented-cursor",
   "metadata": {
    "slideshow": {
     "slide_type": "slide"
    }
   },
   "source": [
    "## Przykłady wykorzystania"
   ]
  },
  {
   "cell_type": "markdown",
   "id": "romantic-dependence",
   "metadata": {
    "slideshow": {
     "slide_type": "fragment"
    }
   },
   "source": [
    "- wyszukiwanie podobnych dokumentów\n",
    "- grupowanie dokumentów ze względu na treść\n",
    "- klasyfikacja dokumentów\n",
    "- automatyczne generowanie podsumowań\n",
    "- rozpoznawanie nazw własnych"
   ]
  },
  {
   "cell_type": "markdown",
   "id": "formed-government",
   "metadata": {
    "slideshow": {
     "slide_type": "slide"
    }
   },
   "source": [
    "# Podstawy analizy języka naturalnego\n",
    "\n",
    "\n",
    "\n",
    "<br><br>\n",
    "\n",
    "*Patryk Pilarski*"
   ]
  },
  {
   "cell_type": "markdown",
   "id": "driven-generic",
   "metadata": {
    "slideshow": {
     "slide_type": "skip"
    }
   },
   "source": [
    "\n"
   ]
  }
 ],
 "metadata": {
  "celltoolbar": "Slideshow",
  "kernelspec": {
   "display_name": "Python 3",
   "language": "python",
   "name": "python3"
  },
  "language_info": {
   "codemirror_mode": {
    "name": "ipython",
    "version": 3
   },
   "file_extension": ".py",
   "mimetype": "text/x-python",
   "name": "python",
   "nbconvert_exporter": "python",
   "pygments_lexer": "ipython3",
   "version": "3.8.5"
  }
 },
 "nbformat": 4,
 "nbformat_minor": 5
}
