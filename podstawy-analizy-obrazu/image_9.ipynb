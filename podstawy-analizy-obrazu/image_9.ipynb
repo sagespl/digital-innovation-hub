{
 "cells": [
  {
   "cell_type": "markdown",
   "id": "consecutive-olympus",
   "metadata": {
    "slideshow": {
     "slide_type": "slide"
    }
   },
   "source": [
    "# Klasyfikacja wieloklasowa"
   ]
  },
  {
   "cell_type": "code",
   "execution_count": 1,
   "id": "occupational-headquarters",
   "metadata": {
    "slideshow": {
     "slide_type": "slide"
    }
   },
   "outputs": [],
   "source": [
    "import time\n",
    "import torch\n",
    "from torch import nn\n",
    "from torch import optim\n",
    "from torch.utils.data import DataLoader\n",
    "import torchvision\n",
    "from torchvision import transforms"
   ]
  },
  {
   "cell_type": "code",
   "execution_count": 2,
   "id": "extraordinary-parker",
   "metadata": {
    "slideshow": {
     "slide_type": "slide"
    }
   },
   "outputs": [],
   "source": [
    "transform = transforms.Compose([\n",
    "    transforms.ToTensor(),\n",
    "    transforms.Normalize([0.5, 0.5, 0.5], [0.5, 0.5, 0.5])\n",
    "])"
   ]
  },
  {
   "cell_type": "code",
   "execution_count": 3,
   "id": "accessible-programmer",
   "metadata": {
    "slideshow": {
     "slide_type": "fragment"
    }
   },
   "outputs": [
    {
     "name": "stdout",
     "output_type": "stream",
     "text": [
      "Files already downloaded and verified\n"
     ]
    }
   ],
   "source": [
    "train_set = torchvision.datasets.CIFAR10(root='./data', train=True,\n",
    "                                         download=True, transform=transform)\n",
    "train_loader = DataLoader(train_set, batch_size=64, shuffle=True)"
   ]
  },
  {
   "cell_type": "code",
   "execution_count": 4,
   "id": "surprising-outline",
   "metadata": {
    "slideshow": {
     "slide_type": "fragment"
    }
   },
   "outputs": [
    {
     "name": "stdout",
     "output_type": "stream",
     "text": [
      "Files already downloaded and verified\n"
     ]
    }
   ],
   "source": [
    "test_set = torchvision.datasets.CIFAR10(root='./data', train=False,\n",
    "                                        download=True, transform=transform)\n",
    "test_loader = DataLoader(test_set, batch_size=64, shuffle=False)"
   ]
  },
  {
   "cell_type": "code",
   "execution_count": 5,
   "id": "tough-clock",
   "metadata": {
    "slideshow": {
     "slide_type": "slide"
    }
   },
   "outputs": [
    {
     "data": {
      "text/plain": [
       "['airplane',\n",
       " 'automobile',\n",
       " 'bird',\n",
       " 'cat',\n",
       " 'deer',\n",
       " 'dog',\n",
       " 'frog',\n",
       " 'horse',\n",
       " 'ship',\n",
       " 'truck']"
      ]
     },
     "execution_count": 5,
     "metadata": {},
     "output_type": "execute_result"
    }
   ],
   "source": [
    "train_set.classes"
   ]
  },
  {
   "cell_type": "code",
   "execution_count": 6,
   "id": "preliminary-ensemble",
   "metadata": {
    "slideshow": {
     "slide_type": "fragment"
    }
   },
   "outputs": [],
   "source": [
    "img, label = train_set[0]"
   ]
  },
  {
   "cell_type": "code",
   "execution_count": 7,
   "id": "quarterly-psychology",
   "metadata": {
    "slideshow": {
     "slide_type": "fragment"
    }
   },
   "outputs": [
    {
     "data": {
      "text/plain": [
       "torch.Size([3, 32, 32])"
      ]
     },
     "execution_count": 7,
     "metadata": {},
     "output_type": "execute_result"
    }
   ],
   "source": [
    "img.shape"
   ]
  },
  {
   "cell_type": "code",
   "execution_count": 8,
   "id": "future-somerset",
   "metadata": {
    "slideshow": {
     "slide_type": "fragment"
    }
   },
   "outputs": [
    {
     "data": {
      "text/plain": [
       "6"
      ]
     },
     "execution_count": 8,
     "metadata": {},
     "output_type": "execute_result"
    }
   ],
   "source": [
    "label"
   ]
  },
  {
   "cell_type": "code",
   "execution_count": 9,
   "id": "affected-threshold",
   "metadata": {
    "slideshow": {
     "slide_type": "fragment"
    }
   },
   "outputs": [
    {
     "data": {
      "text/plain": [
       "(50000, 10000)"
      ]
     },
     "execution_count": 9,
     "metadata": {},
     "output_type": "execute_result"
    }
   ],
   "source": [
    "len(train_set), len(test_set)"
   ]
  },
  {
   "cell_type": "code",
   "execution_count": 10,
   "id": "caring-payment",
   "metadata": {
    "slideshow": {
     "slide_type": "slide"
    }
   },
   "outputs": [],
   "source": [
    "model = nn.Sequential(\n",
    "    nn.Linear(32 * 32 * 3, 10), \n",
    "    nn.LogSoftmax(dim=1)\n",
    ")"
   ]
  },
  {
   "cell_type": "code",
   "execution_count": 11,
   "id": "under-jerusalem",
   "metadata": {
    "slideshow": {
     "slide_type": "fragment"
    }
   },
   "outputs": [
    {
     "data": {
      "text/plain": [
       "[30720, 10]"
      ]
     },
     "execution_count": 11,
     "metadata": {},
     "output_type": "execute_result"
    }
   ],
   "source": [
    "[param.numel() for param in model.parameters() if param.requires_grad]"
   ]
  },
  {
   "cell_type": "code",
   "execution_count": 12,
   "id": "aggregate-certificate",
   "metadata": {
    "slideshow": {
     "slide_type": "fragment"
    }
   },
   "outputs": [
    {
     "name": "stdout",
     "output_type": "stream",
     "text": [
      "Sequential(\n",
      "  (0): Linear(in_features=3072, out_features=10, bias=True)\n",
      "  (1): LogSoftmax(dim=1)\n",
      ")\n"
     ]
    }
   ],
   "source": [
    "print(model)"
   ]
  },
  {
   "cell_type": "code",
   "execution_count": 13,
   "id": "angry-trade",
   "metadata": {
    "slideshow": {
     "slide_type": "fragment"
    }
   },
   "outputs": [],
   "source": [
    "criterion = nn.NLLLoss()"
   ]
  },
  {
   "cell_type": "code",
   "execution_count": 14,
   "id": "portuguese-collar",
   "metadata": {
    "slideshow": {
     "slide_type": "fragment"
    }
   },
   "outputs": [],
   "source": [
    "learning_rate = 0.005\n",
    "optimizer = optim.SGD(model.parameters(), lr=learning_rate)"
   ]
  },
  {
   "cell_type": "code",
   "execution_count": 15,
   "id": "suited-tamil",
   "metadata": {
    "slideshow": {
     "slide_type": "fragment"
    }
   },
   "outputs": [],
   "source": [
    "n_epochs = 50"
   ]
  },
  {
   "cell_type": "code",
   "execution_count": 15,
   "id": "successful-indian",
   "metadata": {
    "scrolled": true,
    "slideshow": {
     "slide_type": "slide"
    }
   },
   "outputs": [
    {
     "name": "stdout",
     "output_type": "stream",
     "text": [
      "Epoch: 0; loss: 1.874355275917541\n",
      "Epoch: 1; loss: 1.7800693271105246\n",
      "Epoch: 2; loss: 1.7514333124355892\n",
      "Epoch: 3; loss: 1.7320330421942884\n",
      "Epoch: 4; loss: 1.7205420506884679\n",
      "Epoch: 5; loss: 1.7097386324497135\n",
      "Epoch: 6; loss: 1.7011178463621213\n",
      "Epoch: 7; loss: 1.6942256471080244\n",
      "Epoch: 8; loss: 1.688902742112689\n",
      "Epoch: 9; loss: 1.6841808565132452\n",
      "Epoch: 10; loss: 1.6804586086431732\n",
      "Epoch: 11; loss: 1.6757428361021953\n",
      "Epoch: 12; loss: 1.673028065572919\n",
      "Epoch: 13; loss: 1.6695020768953406\n",
      "Epoch: 14; loss: 1.6665118577535196\n",
      "Epoch: 15; loss: 1.6641408025151323\n",
      "Epoch: 16; loss: 1.661407266888777\n",
      "Epoch: 17; loss: 1.658984744182938\n",
      "Epoch: 18; loss: 1.6581373429664261\n",
      "Epoch: 19; loss: 1.6554413039970886\n",
      "Epoch: 20; loss: 1.6538395352680664\n",
      "Epoch: 21; loss: 1.6525974006908934\n",
      "Epoch: 22; loss: 1.6500399259045302\n",
      "Epoch: 23; loss: 1.6486378952365397\n",
      "Epoch: 24; loss: 1.647099858812054\n",
      "Epoch: 25; loss: 1.6456823149300597\n",
      "Epoch: 26; loss: 1.6451925940220924\n",
      "Epoch: 27; loss: 1.6441764026651602\n",
      "Epoch: 28; loss: 1.6432973940659057\n",
      "Epoch: 29; loss: 1.6415763239726386\n",
      "Epoch: 30; loss: 1.640787226617184\n",
      "Epoch: 31; loss: 1.6394992822881245\n",
      "Epoch: 32; loss: 1.6383092667135741\n",
      "Epoch: 33; loss: 1.6372153941932541\n",
      "Epoch: 34; loss: 1.6367011968132175\n",
      "Epoch: 35; loss: 1.6353119963880085\n",
      "Epoch: 36; loss: 1.6342255880155832\n",
      "Epoch: 37; loss: 1.6335245030920218\n",
      "Epoch: 38; loss: 1.6325788089381459\n",
      "Epoch: 39; loss: 1.6319479570364404\n",
      "Epoch: 40; loss: 1.6308364072419188\n",
      "Epoch: 41; loss: 1.630678261942266\n",
      "Epoch: 42; loss: 1.6293913883626308\n",
      "Epoch: 43; loss: 1.6281796559653319\n",
      "Epoch: 44; loss: 1.6283614934252961\n",
      "Epoch: 45; loss: 1.6270827048879755\n",
      "Epoch: 46; loss: 1.6269430739190571\n",
      "Epoch: 47; loss: 1.6251879401524048\n",
      "Epoch: 48; loss: 1.625129110520453\n",
      "Epoch: 49; loss: 1.6247597155363664\n",
      "Czas: 284 s\n",
      "\n",
      "\n",
      "\n",
      "\n"
     ]
    }
   ],
   "source": [
    "start = time.time()\n",
    "for epoch in range(n_epochs):\n",
    "    losses = []\n",
    "    for imgs, labels in train_loader:\n",
    "        batch_size = imgs.shape[0]\n",
    "        outputs = model(imgs.reshape(batch_size, -1))\n",
    "        loss = criterion(outputs, labels)\n",
    "        losses.append(loss.item())\n",
    "        \n",
    "        optimizer.zero_grad()\n",
    "        loss.backward()\n",
    "        optimizer.step()\n",
    "        \n",
    "    print(f\"Epoch: {epoch}; loss: {sum(losses)/len(losses)}\")\n",
    "print(f\"Czas: {round(time.time() - start)} s\\n\\n\\n\\n\")"
   ]
  },
  {
   "cell_type": "code",
   "execution_count": 16,
   "id": "indian-stations",
   "metadata": {
    "slideshow": {
     "slide_type": "slide"
    }
   },
   "outputs": [],
   "source": [
    "def get_accuracy(model, data_loader):\n",
    "    correct = 0\n",
    "    total = 0\n",
    "\n",
    "    with torch.no_grad():\n",
    "        for xs, ys in data_loader:\n",
    "            batch_size = xs.shape[0]\n",
    "            scores = model(xs.reshape(batch_size, -1))\n",
    "            _, predictions = torch.max(scores, dim=1)\n",
    "            correct += (predictions == ys).sum()\n",
    "            total += ys.shape[0]\n",
    "\n",
    "        acc = float(correct) / float(total) * 100\n",
    "        print(f\"accuracy: {acc:.2f}\")"
   ]
  },
  {
   "cell_type": "code",
   "execution_count": 17,
   "id": "undefined-saint",
   "metadata": {
    "slideshow": {
     "slide_type": "fragment"
    }
   },
   "outputs": [
    {
     "name": "stdout",
     "output_type": "stream",
     "text": [
      "accuracy: 45.57\n"
     ]
    }
   ],
   "source": [
    "get_accuracy(model, train_loader)"
   ]
  },
  {
   "cell_type": "code",
   "execution_count": 18,
   "id": "confused-property",
   "metadata": {
    "slideshow": {
     "slide_type": "fragment"
    }
   },
   "outputs": [
    {
     "name": "stdout",
     "output_type": "stream",
     "text": [
      "accuracy: 41.14\n"
     ]
    }
   ],
   "source": [
    "get_accuracy(model, test_loader)"
   ]
  },
  {
   "cell_type": "code",
   "execution_count": 16,
   "id": "burning-footwear",
   "metadata": {
    "slideshow": {
     "slide_type": "slide"
    }
   },
   "outputs": [],
   "source": [
    "model = nn.Sequential(\n",
    "    nn.Linear(32 * 32 * 3, 10), \n",
    "    nn.LogSoftmax(dim=1)\n",
    ")\n",
    "\n",
    "criterion = nn.NLLLoss()"
   ]
  },
  {
   "cell_type": "code",
   "execution_count": 17,
   "id": "willing-proceeding",
   "metadata": {
    "slideshow": {
     "slide_type": "fragment"
    }
   },
   "outputs": [],
   "source": [
    "model = nn.Sequential(\n",
    "    nn.Linear(32 * 32 * 3, 10)\n",
    ")\n",
    "\n",
    "criterion = nn.CrossEntropyLoss()"
   ]
  },
  {
   "cell_type": "code",
   "execution_count": 18,
   "id": "democratic-apparel",
   "metadata": {
    "slideshow": {
     "slide_type": "slide"
    }
   },
   "outputs": [],
   "source": [
    "model = nn.Sequential(\n",
    "    nn.Linear(32 * 32 * 3, 1024),\n",
    "    nn.Tanh(),\n",
    "    nn.Linear(1024, 256),\n",
    "    nn.Tanh(),\n",
    "    nn.Linear(256, 10)\n",
    ")"
   ]
  },
  {
   "cell_type": "code",
   "execution_count": 19,
   "id": "royal-butter",
   "metadata": {
    "slideshow": {
     "slide_type": "fragment"
    }
   },
   "outputs": [
    {
     "data": {
      "text/plain": [
       "[3145728, 1024, 262144, 256, 2560, 10]"
      ]
     },
     "execution_count": 19,
     "metadata": {},
     "output_type": "execute_result"
    }
   ],
   "source": [
    "params_to_train = [param.numel() for param in model.parameters() if param.requires_grad]\n",
    "params_to_train"
   ]
  },
  {
   "cell_type": "code",
   "execution_count": 20,
   "id": "coordinated-landing",
   "metadata": {
    "slideshow": {
     "slide_type": "fragment"
    }
   },
   "outputs": [
    {
     "data": {
      "text/plain": [
       "3411722"
      ]
     },
     "execution_count": 20,
     "metadata": {},
     "output_type": "execute_result"
    }
   ],
   "source": [
    "sum(params_to_train)"
   ]
  },
  {
   "cell_type": "markdown",
   "id": "instructional-slovenia",
   "metadata": {
    "slideshow": {
     "slide_type": "skip"
    }
   },
   "source": [
    "\n"
   ]
  }
 ],
 "metadata": {
  "celltoolbar": "Slideshow",
  "kernelspec": {
   "display_name": "Python 3",
   "language": "python",
   "name": "python3"
  },
  "language_info": {
   "codemirror_mode": {
    "name": "ipython",
    "version": 3
   },
   "file_extension": ".py",
   "mimetype": "text/x-python",
   "name": "python",
   "nbconvert_exporter": "python",
   "pygments_lexer": "ipython3",
   "version": "3.8.8"
  }
 },
 "nbformat": 4,
 "nbformat_minor": 5
}
