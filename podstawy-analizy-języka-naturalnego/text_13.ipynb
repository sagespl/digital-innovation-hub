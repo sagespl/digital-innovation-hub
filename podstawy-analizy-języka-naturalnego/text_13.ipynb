{
 "cells": [
  {
   "cell_type": "code",
   "execution_count": 1,
   "id": "complex-provider",
   "metadata": {
    "slideshow": {
     "slide_type": "skip"
    }
   },
   "outputs": [],
   "source": [
    "from sklearn.metrics.pairwise import cosine_similarity\n",
    "import pandas as pd\n",
    "import numpy as np\n",
    "import spacy\n",
    "\n",
    "nlp = spacy.load(\"pl_core_news_md\")"
   ]
  },
  {
   "cell_type": "markdown",
   "id": "virgin-yorkshire",
   "metadata": {
    "slideshow": {
     "slide_type": "slide"
    }
   },
   "source": [
    "# Podobieństwo tekstu"
   ]
  },
  {
   "cell_type": "markdown",
   "id": "undefined-personality",
   "metadata": {
    "slideshow": {
     "slide_type": "slide"
    }
   },
   "source": [
    "## Podobieństwo dokumentów"
   ]
  },
  {
   "cell_type": "markdown",
   "id": "speaking-windsor",
   "metadata": {
    "slideshow": {
     "slide_type": "fragment"
    }
   },
   "source": [
    "```\n",
    "wget https://klejbenchmark.com/static/data/klej_psc.zip\n",
    "unzip klej_psc.zip -d klej_psc\n",
    "```"
   ]
  },
  {
   "cell_type": "code",
   "execution_count": 2,
   "id": "sticky-cowboy",
   "metadata": {
    "slideshow": {
     "slide_type": "slide"
    }
   },
   "outputs": [
    {
     "data": {
      "text/html": [
       "<div>\n",
       "<style scoped>\n",
       "    .dataframe tbody tr th:only-of-type {\n",
       "        vertical-align: middle;\n",
       "    }\n",
       "\n",
       "    .dataframe tbody tr th {\n",
       "        vertical-align: top;\n",
       "    }\n",
       "\n",
       "    .dataframe thead th {\n",
       "        text-align: right;\n",
       "    }\n",
       "</style>\n",
       "<table border=\"1\" class=\"dataframe\">\n",
       "  <thead>\n",
       "    <tr style=\"text-align: right;\">\n",
       "      <th></th>\n",
       "      <th>extract_text</th>\n",
       "      <th>summary_text</th>\n",
       "      <th>label</th>\n",
       "    </tr>\n",
       "  </thead>\n",
       "  <tbody>\n",
       "    <tr>\n",
       "      <th>0</th>\n",
       "      <td>Prywatna spółka KrzysztofaToeplitza od siedmiu...</td>\n",
       "      <td>W piątek w wielu uczelniach odbyły się uroczys...</td>\n",
       "      <td>0</td>\n",
       "    </tr>\n",
       "    <tr>\n",
       "      <th>1</th>\n",
       "      <td>Jeżeli HP nie przyjmie propozycji ARiMR, zakoń...</td>\n",
       "      <td>Doszło do konfliktu pomiędzy Agencją Restruktu...</td>\n",
       "      <td>1</td>\n",
       "    </tr>\n",
       "    <tr>\n",
       "      <th>2</th>\n",
       "      <td>W latach 90. wielkość rosyjskiego Produktu Kra...</td>\n",
       "      <td>Trybunał Konstytucyjny orzekł, że posłom i sen...</td>\n",
       "      <td>0</td>\n",
       "    </tr>\n",
       "    <tr>\n",
       "      <th>3</th>\n",
       "      <td>Mit o potopie jest prastary, sięga czasów, gdy...</td>\n",
       "      <td>Dwójka amerykańskich geofizyków przedstawiła s...</td>\n",
       "      <td>1</td>\n",
       "    </tr>\n",
       "    <tr>\n",
       "      <th>4</th>\n",
       "      <td>Po zakończeniu obrad każdy poseł ma prawo wygł...</td>\n",
       "      <td>74 posłów AWS-u podpisało wniosek o wotum nieu...</td>\n",
       "      <td>0</td>\n",
       "    </tr>\n",
       "    <tr>\n",
       "      <th>5</th>\n",
       "      <td>Zębami, pazurami i dolarami bronią się związki...</td>\n",
       "      <td>Od kilkunastu lat poziom nauczania w amerykańs...</td>\n",
       "      <td>1</td>\n",
       "    </tr>\n",
       "  </tbody>\n",
       "</table>\n",
       "</div>"
      ],
      "text/plain": [
       "                                        extract_text  \\\n",
       "0  Prywatna spółka KrzysztofaToeplitza od siedmiu...   \n",
       "1  Jeżeli HP nie przyjmie propozycji ARiMR, zakoń...   \n",
       "2  W latach 90. wielkość rosyjskiego Produktu Kra...   \n",
       "3  Mit o potopie jest prastary, sięga czasów, gdy...   \n",
       "4  Po zakończeniu obrad każdy poseł ma prawo wygł...   \n",
       "5  Zębami, pazurami i dolarami bronią się związki...   \n",
       "\n",
       "                                        summary_text  label  \n",
       "0  W piątek w wielu uczelniach odbyły się uroczys...      0  \n",
       "1  Doszło do konfliktu pomiędzy Agencją Restruktu...      1  \n",
       "2  Trybunał Konstytucyjny orzekł, że posłom i sen...      0  \n",
       "3  Dwójka amerykańskich geofizyków przedstawiła s...      1  \n",
       "4  74 posłów AWS-u podpisało wniosek o wotum nieu...      0  \n",
       "5  Od kilkunastu lat poziom nauczania w amerykańs...      1  "
      ]
     },
     "execution_count": 2,
     "metadata": {},
     "output_type": "execute_result"
    }
   ],
   "source": [
    "df = pd.read_csv(\"klej_psc/train.tsv\", sep=\"\\t\", nrows=6)\n",
    "df"
   ]
  },
  {
   "cell_type": "code",
   "execution_count": 3,
   "id": "following-integral",
   "metadata": {
    "slideshow": {
     "slide_type": "fragment"
    }
   },
   "outputs": [],
   "source": [
    "doc_corpus1 = list(nlp.pipe(df[\"extract_text\"], disable=[\"ner\"]))\n",
    "doc_corpus2 = list(nlp.pipe(df[\"summary_text\"], disable=[\"ner\"]))\n",
    "flags = list(df[\"label\"])"
   ]
  },
  {
   "cell_type": "code",
   "execution_count": 4,
   "id": "focal-shakespeare",
   "metadata": {
    "slideshow": {
     "slide_type": "fragment"
    }
   },
   "outputs": [],
   "source": [
    "norm_corpus1 = [[token.lemma_ for token in doc if token.is_alpha and not token.is_stop] for doc in doc_corpus1]\n",
    "norm_corpus2 = [[token.lemma_ for token in doc if token.is_alpha and not token.is_stop] for doc in doc_corpus2]"
   ]
  },
  {
   "cell_type": "markdown",
   "id": "ceramic-press",
   "metadata": {
    "slideshow": {
     "slide_type": "slide"
    }
   },
   "source": [
    "### Jaccard"
   ]
  },
  {
   "cell_type": "code",
   "execution_count": 5,
   "id": "mediterranean-contact",
   "metadata": {
    "slideshow": {
     "slide_type": "fragment"
    }
   },
   "outputs": [],
   "source": [
    "def jaccard(doc1, doc2):\n",
    "    a = set(doc1) \n",
    "    b = set(doc2)\n",
    "    c = a.intersection(b)\n",
    "    d = a.union(b)\n",
    "    return len(c) / len(d)"
   ]
  },
  {
   "cell_type": "code",
   "execution_count": 6,
   "id": "behavioral-narrow",
   "metadata": {
    "slideshow": {
     "slide_type": "fragment"
    }
   },
   "outputs": [
    {
     "data": {
      "text/plain": [
       "0.2"
      ]
     },
     "execution_count": 6,
     "metadata": {},
     "output_type": "execute_result"
    }
   ],
   "source": [
    "x = [\"kot\", \"w\", \"butach\"]\n",
    "y = [\"kot\", \"bez\", \"butów\"]\n",
    "jaccard(x, y)"
   ]
  },
  {
   "cell_type": "code",
   "execution_count": 7,
   "id": "substantial-transition",
   "metadata": {
    "slideshow": {
     "slide_type": "slide"
    }
   },
   "outputs": [],
   "source": [
    "jaccard_sim = [jaccard(doc1, doc2) for doc1, doc2 in zip(norm_corpus1, norm_corpus2)]"
   ]
  },
  {
   "cell_type": "code",
   "execution_count": 8,
   "id": "incorporate-mumbai",
   "metadata": {
    "slideshow": {
     "slide_type": "fragment"
    }
   },
   "outputs": [
    {
     "data": {
      "text/plain": [
       "[(0, 0.013333333333333334),\n",
       " (1, 0.09230769230769231),\n",
       " (0, 0.0),\n",
       " (1, 0.09375),\n",
       " (0, 0.04225352112676056),\n",
       " (1, 0.15384615384615385)]"
      ]
     },
     "execution_count": 8,
     "metadata": {},
     "output_type": "execute_result"
    }
   ],
   "source": [
    "list(zip(flags, jaccard_sim))"
   ]
  },
  {
   "cell_type": "code",
   "execution_count": 9,
   "id": "stable-charm",
   "metadata": {
    "slideshow": {
     "slide_type": "fragment"
    }
   },
   "outputs": [],
   "source": [
    "selected_doc = norm_corpus1[-1]"
   ]
  },
  {
   "cell_type": "code",
   "execution_count": 10,
   "id": "boxed-minute",
   "metadata": {
    "slideshow": {
     "slide_type": "fragment"
    }
   },
   "outputs": [
    {
     "data": {
      "text/plain": [
       "[0.010869565217391304,\n",
       " 0.0,\n",
       " 0.0,\n",
       " 0.011235955056179775,\n",
       " 0.010869565217391304,\n",
       " 0.15384615384615385]"
      ]
     },
     "execution_count": 10,
     "metadata": {},
     "output_type": "execute_result"
    }
   ],
   "source": [
    "[jaccard(selected_doc, doc) for doc in norm_corpus2]"
   ]
  },
  {
   "cell_type": "markdown",
   "id": "comfortable-foster",
   "metadata": {
    "slideshow": {
     "slide_type": "slide"
    }
   },
   "source": [
    "### Cosinus"
   ]
  },
  {
   "cell_type": "code",
   "execution_count": 11,
   "id": "rocky-yugoslavia",
   "metadata": {
    "slideshow": {
     "slide_type": "fragment"
    }
   },
   "outputs": [],
   "source": [
    "from sklearn.feature_extraction.text import TfidfVectorizer"
   ]
  },
  {
   "cell_type": "code",
   "execution_count": 12,
   "id": "vietnamese-power",
   "metadata": {
    "slideshow": {
     "slide_type": "fragment"
    }
   },
   "outputs": [],
   "source": [
    "vect = TfidfVectorizer(preprocessor=lambda x: x, tokenizer=lambda x: x)"
   ]
  },
  {
   "cell_type": "code",
   "execution_count": 13,
   "id": "sweet-charity",
   "metadata": {
    "slideshow": {
     "slide_type": "fragment"
    }
   },
   "outputs": [],
   "source": [
    "dtm = vect.fit_transform(norm_corpus1 + norm_corpus2)"
   ]
  },
  {
   "cell_type": "code",
   "execution_count": 14,
   "id": "pending-monster",
   "metadata": {
    "slideshow": {
     "slide_type": "fragment"
    }
   },
   "outputs": [],
   "source": [
    "all_sim = cosine_similarity(dtm)"
   ]
  },
  {
   "cell_type": "code",
   "execution_count": 15,
   "id": "married-speech",
   "metadata": {
    "slideshow": {
     "slide_type": "slide"
    }
   },
   "outputs": [
    {
     "data": {
      "text/html": [
       "<div>\n",
       "<style scoped>\n",
       "    .dataframe tbody tr th:only-of-type {\n",
       "        vertical-align: middle;\n",
       "    }\n",
       "\n",
       "    .dataframe tbody tr th {\n",
       "        vertical-align: top;\n",
       "    }\n",
       "\n",
       "    .dataframe thead th {\n",
       "        text-align: right;\n",
       "    }\n",
       "</style>\n",
       "<table border=\"1\" class=\"dataframe\">\n",
       "  <thead>\n",
       "    <tr style=\"text-align: right;\">\n",
       "      <th></th>\n",
       "      <th>0</th>\n",
       "      <th>1</th>\n",
       "      <th>2</th>\n",
       "      <th>3</th>\n",
       "      <th>4</th>\n",
       "      <th>5</th>\n",
       "      <th>6</th>\n",
       "      <th>7</th>\n",
       "      <th>8</th>\n",
       "      <th>9</th>\n",
       "      <th>10</th>\n",
       "      <th>11</th>\n",
       "    </tr>\n",
       "  </thead>\n",
       "  <tbody>\n",
       "    <tr>\n",
       "      <th>0</th>\n",
       "      <td>1.000000</td>\n",
       "      <td>0.000000</td>\n",
       "      <td>0.009419</td>\n",
       "      <td>0.000000</td>\n",
       "      <td>0.000000</td>\n",
       "      <td>0.008452</td>\n",
       "      <td>0.013616</td>\n",
       "      <td>0.125080</td>\n",
       "      <td>0.000000</td>\n",
       "      <td>0.009996</td>\n",
       "      <td>0.033292</td>\n",
       "      <td>0.016871</td>\n",
       "    </tr>\n",
       "    <tr>\n",
       "      <th>1</th>\n",
       "      <td>0.000000</td>\n",
       "      <td>1.000000</td>\n",
       "      <td>0.000000</td>\n",
       "      <td>0.000000</td>\n",
       "      <td>0.000000</td>\n",
       "      <td>0.000000</td>\n",
       "      <td>0.000000</td>\n",
       "      <td>0.167795</td>\n",
       "      <td>0.025417</td>\n",
       "      <td>0.000000</td>\n",
       "      <td>0.000000</td>\n",
       "      <td>0.025701</td>\n",
       "    </tr>\n",
       "    <tr>\n",
       "      <th>2</th>\n",
       "      <td>0.009419</td>\n",
       "      <td>0.000000</td>\n",
       "      <td>1.000000</td>\n",
       "      <td>0.019392</td>\n",
       "      <td>0.000000</td>\n",
       "      <td>0.037528</td>\n",
       "      <td>0.014121</td>\n",
       "      <td>0.000000</td>\n",
       "      <td>0.000000</td>\n",
       "      <td>0.026859</td>\n",
       "      <td>0.017264</td>\n",
       "      <td>0.029915</td>\n",
       "    </tr>\n",
       "    <tr>\n",
       "      <th>3</th>\n",
       "      <td>0.000000</td>\n",
       "      <td>0.000000</td>\n",
       "      <td>0.019392</td>\n",
       "      <td>1.000000</td>\n",
       "      <td>0.000000</td>\n",
       "      <td>0.000000</td>\n",
       "      <td>0.017623</td>\n",
       "      <td>0.000000</td>\n",
       "      <td>0.000000</td>\n",
       "      <td>0.160124</td>\n",
       "      <td>0.000000</td>\n",
       "      <td>0.043089</td>\n",
       "    </tr>\n",
       "    <tr>\n",
       "      <th>4</th>\n",
       "      <td>0.000000</td>\n",
       "      <td>0.000000</td>\n",
       "      <td>0.000000</td>\n",
       "      <td>0.000000</td>\n",
       "      <td>1.000000</td>\n",
       "      <td>0.010556</td>\n",
       "      <td>0.013270</td>\n",
       "      <td>0.000000</td>\n",
       "      <td>0.023082</td>\n",
       "      <td>0.000000</td>\n",
       "      <td>0.064894</td>\n",
       "      <td>0.000000</td>\n",
       "    </tr>\n",
       "    <tr>\n",
       "      <th>5</th>\n",
       "      <td>0.008452</td>\n",
       "      <td>0.000000</td>\n",
       "      <td>0.037528</td>\n",
       "      <td>0.000000</td>\n",
       "      <td>0.010556</td>\n",
       "      <td>1.000000</td>\n",
       "      <td>0.020415</td>\n",
       "      <td>0.000000</td>\n",
       "      <td>0.000000</td>\n",
       "      <td>0.018604</td>\n",
       "      <td>0.009738</td>\n",
       "      <td>0.349213</td>\n",
       "    </tr>\n",
       "    <tr>\n",
       "      <th>6</th>\n",
       "      <td>0.013616</td>\n",
       "      <td>0.000000</td>\n",
       "      <td>0.014121</td>\n",
       "      <td>0.017623</td>\n",
       "      <td>0.013270</td>\n",
       "      <td>0.020415</td>\n",
       "      <td>1.000000</td>\n",
       "      <td>0.000000</td>\n",
       "      <td>0.000000</td>\n",
       "      <td>0.000000</td>\n",
       "      <td>0.027931</td>\n",
       "      <td>0.000000</td>\n",
       "    </tr>\n",
       "    <tr>\n",
       "      <th>7</th>\n",
       "      <td>0.125080</td>\n",
       "      <td>0.167795</td>\n",
       "      <td>0.000000</td>\n",
       "      <td>0.000000</td>\n",
       "      <td>0.000000</td>\n",
       "      <td>0.000000</td>\n",
       "      <td>0.000000</td>\n",
       "      <td>1.000000</td>\n",
       "      <td>0.012815</td>\n",
       "      <td>0.034417</td>\n",
       "      <td>0.032073</td>\n",
       "      <td>0.010112</td>\n",
       "    </tr>\n",
       "    <tr>\n",
       "      <th>8</th>\n",
       "      <td>0.000000</td>\n",
       "      <td>0.025417</td>\n",
       "      <td>0.000000</td>\n",
       "      <td>0.000000</td>\n",
       "      <td>0.023082</td>\n",
       "      <td>0.000000</td>\n",
       "      <td>0.000000</td>\n",
       "      <td>0.012815</td>\n",
       "      <td>1.000000</td>\n",
       "      <td>0.000000</td>\n",
       "      <td>0.042587</td>\n",
       "      <td>0.000000</td>\n",
       "    </tr>\n",
       "    <tr>\n",
       "      <th>9</th>\n",
       "      <td>0.009996</td>\n",
       "      <td>0.000000</td>\n",
       "      <td>0.026859</td>\n",
       "      <td>0.160124</td>\n",
       "      <td>0.000000</td>\n",
       "      <td>0.018604</td>\n",
       "      <td>0.000000</td>\n",
       "      <td>0.034417</td>\n",
       "      <td>0.000000</td>\n",
       "      <td>1.000000</td>\n",
       "      <td>0.000000</td>\n",
       "      <td>0.039137</td>\n",
       "    </tr>\n",
       "    <tr>\n",
       "      <th>10</th>\n",
       "      <td>0.033292</td>\n",
       "      <td>0.000000</td>\n",
       "      <td>0.017264</td>\n",
       "      <td>0.000000</td>\n",
       "      <td>0.064894</td>\n",
       "      <td>0.009738</td>\n",
       "      <td>0.027931</td>\n",
       "      <td>0.032073</td>\n",
       "      <td>0.042587</td>\n",
       "      <td>0.000000</td>\n",
       "      <td>1.000000</td>\n",
       "      <td>0.024563</td>\n",
       "    </tr>\n",
       "    <tr>\n",
       "      <th>11</th>\n",
       "      <td>0.016871</td>\n",
       "      <td>0.025701</td>\n",
       "      <td>0.029915</td>\n",
       "      <td>0.043089</td>\n",
       "      <td>0.000000</td>\n",
       "      <td>0.349213</td>\n",
       "      <td>0.000000</td>\n",
       "      <td>0.010112</td>\n",
       "      <td>0.000000</td>\n",
       "      <td>0.039137</td>\n",
       "      <td>0.024563</td>\n",
       "      <td>1.000000</td>\n",
       "    </tr>\n",
       "  </tbody>\n",
       "</table>\n",
       "</div>"
      ],
      "text/plain": [
       "          0         1         2         3         4         5         6   \\\n",
       "0   1.000000  0.000000  0.009419  0.000000  0.000000  0.008452  0.013616   \n",
       "1   0.000000  1.000000  0.000000  0.000000  0.000000  0.000000  0.000000   \n",
       "2   0.009419  0.000000  1.000000  0.019392  0.000000  0.037528  0.014121   \n",
       "3   0.000000  0.000000  0.019392  1.000000  0.000000  0.000000  0.017623   \n",
       "4   0.000000  0.000000  0.000000  0.000000  1.000000  0.010556  0.013270   \n",
       "5   0.008452  0.000000  0.037528  0.000000  0.010556  1.000000  0.020415   \n",
       "6   0.013616  0.000000  0.014121  0.017623  0.013270  0.020415  1.000000   \n",
       "7   0.125080  0.167795  0.000000  0.000000  0.000000  0.000000  0.000000   \n",
       "8   0.000000  0.025417  0.000000  0.000000  0.023082  0.000000  0.000000   \n",
       "9   0.009996  0.000000  0.026859  0.160124  0.000000  0.018604  0.000000   \n",
       "10  0.033292  0.000000  0.017264  0.000000  0.064894  0.009738  0.027931   \n",
       "11  0.016871  0.025701  0.029915  0.043089  0.000000  0.349213  0.000000   \n",
       "\n",
       "          7         8         9         10        11  \n",
       "0   0.125080  0.000000  0.009996  0.033292  0.016871  \n",
       "1   0.167795  0.025417  0.000000  0.000000  0.025701  \n",
       "2   0.000000  0.000000  0.026859  0.017264  0.029915  \n",
       "3   0.000000  0.000000  0.160124  0.000000  0.043089  \n",
       "4   0.000000  0.023082  0.000000  0.064894  0.000000  \n",
       "5   0.000000  0.000000  0.018604  0.009738  0.349213  \n",
       "6   0.000000  0.000000  0.000000  0.027931  0.000000  \n",
       "7   1.000000  0.012815  0.034417  0.032073  0.010112  \n",
       "8   0.012815  1.000000  0.000000  0.042587  0.000000  \n",
       "9   0.034417  0.000000  1.000000  0.000000  0.039137  \n",
       "10  0.032073  0.042587  0.000000  1.000000  0.024563  \n",
       "11  0.010112  0.000000  0.039137  0.024563  1.000000  "
      ]
     },
     "execution_count": 15,
     "metadata": {},
     "output_type": "execute_result"
    }
   ],
   "source": [
    "pd.DataFrame(all_sim)"
   ]
  },
  {
   "cell_type": "code",
   "execution_count": 16,
   "id": "australian-blend",
   "metadata": {
    "slideshow": {
     "slide_type": "fragment"
    }
   },
   "outputs": [
    {
     "data": {
      "text/plain": [
       "[(0, 6), (1, 7), (2, 8), (3, 9), (4, 10), (5, 11)]"
      ]
     },
     "execution_count": 16,
     "metadata": {},
     "output_type": "execute_result"
    }
   ],
   "source": [
    "idxs = [(0 + x, 6 + x) for x in range(6)]\n",
    "idxs"
   ]
  },
  {
   "cell_type": "code",
   "execution_count": 17,
   "id": "fallen-linux",
   "metadata": {
    "slideshow": {
     "slide_type": "slide"
    }
   },
   "outputs": [],
   "source": [
    "cos_sim = [all_sim[idx] for idx in idxs]"
   ]
  },
  {
   "cell_type": "code",
   "execution_count": 18,
   "id": "recorded-curve",
   "metadata": {
    "slideshow": {
     "slide_type": "fragment"
    }
   },
   "outputs": [
    {
     "data": {
      "text/plain": [
       "[(0, 0.013615789834667096),\n",
       " (1, 0.1677947851062898),\n",
       " (0, 0.0),\n",
       " (1, 0.16012365568505488),\n",
       " (0, 0.06489428267554186),\n",
       " (1, 0.34921255708390936)]"
      ]
     },
     "execution_count": 18,
     "metadata": {},
     "output_type": "execute_result"
    }
   ],
   "source": [
    "list(zip(flags, cos_sim))"
   ]
  },
  {
   "cell_type": "code",
   "execution_count": 19,
   "id": "perceived-exposure",
   "metadata": {
    "slideshow": {
     "slide_type": "slide"
    }
   },
   "outputs": [],
   "source": [
    "spacy_sim = [doc1.similarity(doc2) for doc1, doc2 in zip(doc_corpus1, doc_corpus2)]"
   ]
  },
  {
   "cell_type": "code",
   "execution_count": 20,
   "id": "proved-plaintiff",
   "metadata": {
    "scrolled": true,
    "slideshow": {
     "slide_type": "fragment"
    }
   },
   "outputs": [
    {
     "data": {
      "text/plain": [
       "[(0, 0.8191757812128119),\n",
       " (1, 0.827396244184051),\n",
       " (0, 0.8624696855667517),\n",
       " (1, 0.8993076697228352),\n",
       " (0, 0.7899082251076535),\n",
       " (1, 0.9379730011285272)]"
      ]
     },
     "execution_count": 20,
     "metadata": {},
     "output_type": "execute_result"
    }
   ],
   "source": [
    "list(zip(flags, spacy_sim))"
   ]
  },
  {
   "cell_type": "code",
   "execution_count": 21,
   "id": "tender-sense",
   "metadata": {
    "slideshow": {
     "slide_type": "slide"
    }
   },
   "outputs": [],
   "source": [
    "vects1 = [[token.vector for token in doc if token.is_alpha and not token.is_stop and token.has_vector] \n",
    "          for doc in doc_corpus1]\n",
    "vects2 = [[token.vector for token in doc if token.is_alpha and not token.is_stop and token.has_vector] \n",
    "          for doc in doc_corpus2]"
   ]
  },
  {
   "cell_type": "code",
   "execution_count": 22,
   "id": "signal-briefing",
   "metadata": {
    "slideshow": {
     "slide_type": "fragment"
    }
   },
   "outputs": [],
   "source": [
    "avg_vects1 = [np.mean(doc, axis=0) for doc in vects1]\n",
    "avg_vects2 = [np.mean(doc, axis=0) for doc in vects2]"
   ]
  },
  {
   "cell_type": "code",
   "execution_count": 23,
   "id": "ethical-contrast",
   "metadata": {
    "slideshow": {
     "slide_type": "fragment"
    }
   },
   "outputs": [],
   "source": [
    "all_vect_sim = cosine_similarity(avg_vects1 + avg_vects2)"
   ]
  },
  {
   "cell_type": "code",
   "execution_count": 24,
   "id": "destroyed-benefit",
   "metadata": {
    "slideshow": {
     "slide_type": "slide"
    }
   },
   "outputs": [
    {
     "data": {
      "text/html": [
       "<div>\n",
       "<style scoped>\n",
       "    .dataframe tbody tr th:only-of-type {\n",
       "        vertical-align: middle;\n",
       "    }\n",
       "\n",
       "    .dataframe tbody tr th {\n",
       "        vertical-align: top;\n",
       "    }\n",
       "\n",
       "    .dataframe thead th {\n",
       "        text-align: right;\n",
       "    }\n",
       "</style>\n",
       "<table border=\"1\" class=\"dataframe\">\n",
       "  <thead>\n",
       "    <tr style=\"text-align: right;\">\n",
       "      <th></th>\n",
       "      <th>0</th>\n",
       "      <th>1</th>\n",
       "      <th>2</th>\n",
       "      <th>3</th>\n",
       "      <th>4</th>\n",
       "      <th>5</th>\n",
       "      <th>6</th>\n",
       "      <th>7</th>\n",
       "      <th>8</th>\n",
       "      <th>9</th>\n",
       "      <th>10</th>\n",
       "      <th>11</th>\n",
       "    </tr>\n",
       "  </thead>\n",
       "  <tbody>\n",
       "    <tr>\n",
       "      <th>0</th>\n",
       "      <td>1.000000</td>\n",
       "      <td>0.727065</td>\n",
       "      <td>0.559986</td>\n",
       "      <td>0.456411</td>\n",
       "      <td>0.546333</td>\n",
       "      <td>0.564693</td>\n",
       "      <td>0.654282</td>\n",
       "      <td>0.635772</td>\n",
       "      <td>0.707998</td>\n",
       "      <td>0.552629</td>\n",
       "      <td>0.569953</td>\n",
       "      <td>0.610395</td>\n",
       "    </tr>\n",
       "    <tr>\n",
       "      <th>1</th>\n",
       "      <td>0.727065</td>\n",
       "      <td>1.000000</td>\n",
       "      <td>0.712642</td>\n",
       "      <td>0.470924</td>\n",
       "      <td>0.629901</td>\n",
       "      <td>0.717068</td>\n",
       "      <td>0.805417</td>\n",
       "      <td>0.825911</td>\n",
       "      <td>0.842312</td>\n",
       "      <td>0.674826</td>\n",
       "      <td>0.728975</td>\n",
       "      <td>0.782894</td>\n",
       "    </tr>\n",
       "    <tr>\n",
       "      <th>2</th>\n",
       "      <td>0.559986</td>\n",
       "      <td>0.712642</td>\n",
       "      <td>1.000000</td>\n",
       "      <td>0.689905</td>\n",
       "      <td>0.613194</td>\n",
       "      <td>0.721103</td>\n",
       "      <td>0.733334</td>\n",
       "      <td>0.484476</td>\n",
       "      <td>0.749476</td>\n",
       "      <td>0.739505</td>\n",
       "      <td>0.753060</td>\n",
       "      <td>0.745628</td>\n",
       "    </tr>\n",
       "    <tr>\n",
       "      <th>3</th>\n",
       "      <td>0.456411</td>\n",
       "      <td>0.470924</td>\n",
       "      <td>0.689905</td>\n",
       "      <td>1.000000</td>\n",
       "      <td>0.634640</td>\n",
       "      <td>0.535061</td>\n",
       "      <td>0.538170</td>\n",
       "      <td>0.268442</td>\n",
       "      <td>0.524662</td>\n",
       "      <td>0.804749</td>\n",
       "      <td>0.495772</td>\n",
       "      <td>0.592939</td>\n",
       "    </tr>\n",
       "    <tr>\n",
       "      <th>4</th>\n",
       "      <td>0.546333</td>\n",
       "      <td>0.629901</td>\n",
       "      <td>0.613194</td>\n",
       "      <td>0.634640</td>\n",
       "      <td>1.000000</td>\n",
       "      <td>0.672023</td>\n",
       "      <td>0.679972</td>\n",
       "      <td>0.441707</td>\n",
       "      <td>0.691945</td>\n",
       "      <td>0.668908</td>\n",
       "      <td>0.659147</td>\n",
       "      <td>0.688095</td>\n",
       "    </tr>\n",
       "    <tr>\n",
       "      <th>5</th>\n",
       "      <td>0.564693</td>\n",
       "      <td>0.717068</td>\n",
       "      <td>0.721103</td>\n",
       "      <td>0.535061</td>\n",
       "      <td>0.672023</td>\n",
       "      <td>1.000000</td>\n",
       "      <td>0.850444</td>\n",
       "      <td>0.514165</td>\n",
       "      <td>0.835729</td>\n",
       "      <td>0.709892</td>\n",
       "      <td>0.645347</td>\n",
       "      <td>0.910529</td>\n",
       "    </tr>\n",
       "    <tr>\n",
       "      <th>6</th>\n",
       "      <td>0.654282</td>\n",
       "      <td>0.805417</td>\n",
       "      <td>0.733334</td>\n",
       "      <td>0.538170</td>\n",
       "      <td>0.679972</td>\n",
       "      <td>0.850444</td>\n",
       "      <td>1.000000</td>\n",
       "      <td>0.627489</td>\n",
       "      <td>0.884137</td>\n",
       "      <td>0.721638</td>\n",
       "      <td>0.666250</td>\n",
       "      <td>0.894828</td>\n",
       "    </tr>\n",
       "    <tr>\n",
       "      <th>7</th>\n",
       "      <td>0.635772</td>\n",
       "      <td>0.825911</td>\n",
       "      <td>0.484476</td>\n",
       "      <td>0.268442</td>\n",
       "      <td>0.441707</td>\n",
       "      <td>0.514165</td>\n",
       "      <td>0.627489</td>\n",
       "      <td>1.000000</td>\n",
       "      <td>0.666621</td>\n",
       "      <td>0.495134</td>\n",
       "      <td>0.523677</td>\n",
       "      <td>0.606073</td>\n",
       "    </tr>\n",
       "    <tr>\n",
       "      <th>8</th>\n",
       "      <td>0.707998</td>\n",
       "      <td>0.842312</td>\n",
       "      <td>0.749476</td>\n",
       "      <td>0.524662</td>\n",
       "      <td>0.691945</td>\n",
       "      <td>0.835729</td>\n",
       "      <td>0.884137</td>\n",
       "      <td>0.666621</td>\n",
       "      <td>1.000000</td>\n",
       "      <td>0.724549</td>\n",
       "      <td>0.743104</td>\n",
       "      <td>0.895896</td>\n",
       "    </tr>\n",
       "    <tr>\n",
       "      <th>9</th>\n",
       "      <td>0.552629</td>\n",
       "      <td>0.674826</td>\n",
       "      <td>0.739505</td>\n",
       "      <td>0.804749</td>\n",
       "      <td>0.668908</td>\n",
       "      <td>0.709892</td>\n",
       "      <td>0.721638</td>\n",
       "      <td>0.495134</td>\n",
       "      <td>0.724549</td>\n",
       "      <td>1.000000</td>\n",
       "      <td>0.596961</td>\n",
       "      <td>0.772272</td>\n",
       "    </tr>\n",
       "    <tr>\n",
       "      <th>10</th>\n",
       "      <td>0.569953</td>\n",
       "      <td>0.728975</td>\n",
       "      <td>0.753060</td>\n",
       "      <td>0.495772</td>\n",
       "      <td>0.659147</td>\n",
       "      <td>0.645347</td>\n",
       "      <td>0.666250</td>\n",
       "      <td>0.523677</td>\n",
       "      <td>0.743104</td>\n",
       "      <td>0.596961</td>\n",
       "      <td>1.000000</td>\n",
       "      <td>0.662879</td>\n",
       "    </tr>\n",
       "    <tr>\n",
       "      <th>11</th>\n",
       "      <td>0.610395</td>\n",
       "      <td>0.782894</td>\n",
       "      <td>0.745628</td>\n",
       "      <td>0.592939</td>\n",
       "      <td>0.688095</td>\n",
       "      <td>0.910529</td>\n",
       "      <td>0.894828</td>\n",
       "      <td>0.606073</td>\n",
       "      <td>0.895896</td>\n",
       "      <td>0.772272</td>\n",
       "      <td>0.662879</td>\n",
       "      <td>1.000000</td>\n",
       "    </tr>\n",
       "  </tbody>\n",
       "</table>\n",
       "</div>"
      ],
      "text/plain": [
       "          0         1         2         3         4         5         6   \\\n",
       "0   1.000000  0.727065  0.559986  0.456411  0.546333  0.564693  0.654282   \n",
       "1   0.727065  1.000000  0.712642  0.470924  0.629901  0.717068  0.805417   \n",
       "2   0.559986  0.712642  1.000000  0.689905  0.613194  0.721103  0.733334   \n",
       "3   0.456411  0.470924  0.689905  1.000000  0.634640  0.535061  0.538170   \n",
       "4   0.546333  0.629901  0.613194  0.634640  1.000000  0.672023  0.679972   \n",
       "5   0.564693  0.717068  0.721103  0.535061  0.672023  1.000000  0.850444   \n",
       "6   0.654282  0.805417  0.733334  0.538170  0.679972  0.850444  1.000000   \n",
       "7   0.635772  0.825911  0.484476  0.268442  0.441707  0.514165  0.627489   \n",
       "8   0.707998  0.842312  0.749476  0.524662  0.691945  0.835729  0.884137   \n",
       "9   0.552629  0.674826  0.739505  0.804749  0.668908  0.709892  0.721638   \n",
       "10  0.569953  0.728975  0.753060  0.495772  0.659147  0.645347  0.666250   \n",
       "11  0.610395  0.782894  0.745628  0.592939  0.688095  0.910529  0.894828   \n",
       "\n",
       "          7         8         9         10        11  \n",
       "0   0.635772  0.707998  0.552629  0.569953  0.610395  \n",
       "1   0.825911  0.842312  0.674826  0.728975  0.782894  \n",
       "2   0.484476  0.749476  0.739505  0.753060  0.745628  \n",
       "3   0.268442  0.524662  0.804749  0.495772  0.592939  \n",
       "4   0.441707  0.691945  0.668908  0.659147  0.688095  \n",
       "5   0.514165  0.835729  0.709892  0.645347  0.910529  \n",
       "6   0.627489  0.884137  0.721638  0.666250  0.894828  \n",
       "7   1.000000  0.666621  0.495134  0.523677  0.606073  \n",
       "8   0.666621  1.000000  0.724549  0.743104  0.895896  \n",
       "9   0.495134  0.724549  1.000000  0.596961  0.772272  \n",
       "10  0.523677  0.743104  0.596961  1.000000  0.662879  \n",
       "11  0.606073  0.895896  0.772272  0.662879  1.000000  "
      ]
     },
     "execution_count": 24,
     "metadata": {},
     "output_type": "execute_result"
    }
   ],
   "source": [
    "pd.DataFrame(all_vect_sim)"
   ]
  },
  {
   "cell_type": "code",
   "execution_count": 25,
   "id": "disciplinary-manufacturer",
   "metadata": {
    "slideshow": {
     "slide_type": "slide"
    }
   },
   "outputs": [],
   "source": [
    "vect_sim = [all_vect_sim[idx] for idx in idxs]"
   ]
  },
  {
   "cell_type": "code",
   "execution_count": 26,
   "id": "thrown-antibody",
   "metadata": {
    "slideshow": {
     "slide_type": "fragment"
    }
   },
   "outputs": [
    {
     "data": {
      "text/plain": [
       "[(0, 0.6542816),\n",
       " (1, 0.8259107),\n",
       " (0, 0.7494765),\n",
       " (1, 0.80474937),\n",
       " (0, 0.6591472),\n",
       " (1, 0.910529)]"
      ]
     },
     "execution_count": 26,
     "metadata": {},
     "output_type": "execute_result"
    }
   ],
   "source": [
    "list(zip(flags, vect_sim))"
   ]
  },
  {
   "cell_type": "code",
   "execution_count": 27,
   "id": "induced-conservation",
   "metadata": {
    "slideshow": {
     "slide_type": "fragment"
    }
   },
   "outputs": [
    {
     "data": {
      "text/plain": [
       "[(0, 0.8191757812128119),\n",
       " (1, 0.827396244184051),\n",
       " (0, 0.8624696855667517),\n",
       " (1, 0.8993076697228352),\n",
       " (0, 0.7899082251076535),\n",
       " (1, 0.9379730011285272)]"
      ]
     },
     "execution_count": 27,
     "metadata": {},
     "output_type": "execute_result"
    }
   ],
   "source": [
    "list(zip(flags, spacy_sim))"
   ]
  },
  {
   "cell_type": "markdown",
   "id": "promotional-experience",
   "metadata": {
    "slideshow": {
     "slide_type": "skip"
    }
   },
   "source": [
    "\n"
   ]
  }
 ],
 "metadata": {
  "celltoolbar": "Slideshow",
  "kernelspec": {
   "display_name": "Python 3",
   "language": "python",
   "name": "python3"
  },
  "language_info": {
   "codemirror_mode": {
    "name": "ipython",
    "version": 3
   },
   "file_extension": ".py",
   "mimetype": "text/x-python",
   "name": "python",
   "nbconvert_exporter": "python",
   "pygments_lexer": "ipython3",
   "version": "3.8.5"
  }
 },
 "nbformat": 4,
 "nbformat_minor": 5
}
