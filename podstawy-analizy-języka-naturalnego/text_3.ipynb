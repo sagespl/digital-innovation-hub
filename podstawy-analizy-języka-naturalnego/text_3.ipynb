{
 "cells": [
  {
   "cell_type": "markdown",
   "id": "thorough-naples",
   "metadata": {
    "slideshow": {
     "slide_type": "slide"
    }
   },
   "source": [
    "# Zasoby dla języka polskiego"
   ]
  },
  {
   "cell_type": "markdown",
   "id": "martial-guidance",
   "metadata": {
    "slideshow": {
     "slide_type": "slide"
    }
   },
   "source": [
    "### NKJP - Podkorpus Milionowy\n",
    "\n",
    "http://nkjp.pl/"
   ]
  },
  {
   "cell_type": "markdown",
   "id": "accredited-input",
   "metadata": {
    "slideshow": {
     "slide_type": "fragment"
    }
   },
   "source": [
    "### Wolne Lektury\n",
    "\n",
    "https://wolnelektury.pl/"
   ]
  },
  {
   "cell_type": "markdown",
   "id": "different-billy",
   "metadata": {
    "slideshow": {
     "slide_type": "fragment"
    }
   },
   "source": [
    "### KLEJ Benchmark\n",
    "\n",
    "https://klejbenchmark.com/"
   ]
  },
  {
   "cell_type": "markdown",
   "id": "chinese-antique",
   "metadata": {
    "slideshow": {
     "slide_type": "slide"
    }
   },
   "source": [
    "### CLARIN-PL\n",
    "\n",
    "https://clarin-pl.eu/en/uslugi/"
   ]
  },
  {
   "cell_type": "markdown",
   "id": "polish-disclosure",
   "metadata": {
    "slideshow": {
     "slide_type": "fragment"
    }
   },
   "source": [
    "### CLIP\n",
    "\n",
    "http://clip.ipipan.waw.pl/LRT"
   ]
  },
  {
   "cell_type": "markdown",
   "id": "moved-combat",
   "metadata": {
    "slideshow": {
     "slide_type": "skip"
    }
   },
   "source": [
    "\n"
   ]
  }
 ],
 "metadata": {
  "celltoolbar": "Slideshow",
  "kernelspec": {
   "display_name": "Python 3",
   "language": "python",
   "name": "python3"
  },
  "language_info": {
   "codemirror_mode": {
    "name": "ipython",
    "version": 3
   },
   "file_extension": ".py",
   "mimetype": "text/x-python",
   "name": "python",
   "nbconvert_exporter": "python",
   "pygments_lexer": "ipython3",
   "version": "3.8.5"
  }
 },
 "nbformat": 4,
 "nbformat_minor": 5
}
