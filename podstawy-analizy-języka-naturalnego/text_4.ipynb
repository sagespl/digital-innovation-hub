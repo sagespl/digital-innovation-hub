{
 "cells": [
  {
   "cell_type": "markdown",
   "id": "affecting-prompt",
   "metadata": {
    "slideshow": {
     "slide_type": "slide"
    }
   },
   "source": [
    "# spaCy"
   ]
  },
  {
   "cell_type": "markdown",
   "id": "chinese-minority",
   "metadata": {
    "slideshow": {
     "slide_type": "slide"
    }
   },
   "source": [
    "## Alternatywy"
   ]
  },
  {
   "cell_type": "markdown",
   "id": "commercial-aluminum",
   "metadata": {
    "slideshow": {
     "slide_type": "fragment"
    }
   },
   "source": [
    "- **NLTK** - https://www.nltk.org/\n",
    "- **TextBlob** - https://textblob.readthedocs.io/en/dev/\n",
    "- **Spark NLP** - https://nlp.johnsnowlabs.com/"
   ]
  },
  {
   "cell_type": "markdown",
   "id": "baking-involvement",
   "metadata": {
    "slideshow": {
     "slide_type": "fragment"
    }
   },
   "source": [
    "- **gensim** - https://radimrehurek.com/gensim_3.8.3/\n",
    "- **transformers** - https://huggingface.co/transformers/"
   ]
  },
  {
   "cell_type": "markdown",
   "id": "false-surname",
   "metadata": {
    "slideshow": {
     "slide_type": "slide"
    }
   },
   "source": [
    "## spaCy\n",
    "\n",
    "<br><br>\n",
    "\n",
    "https://spacy.io/   \n",
    "https://spacy.io/models/pl"
   ]
  },
  {
   "cell_type": "markdown",
   "id": "transparent-madonna",
   "metadata": {
    "slideshow": {
     "slide_type": "slide"
    }
   },
   "source": [
    "## Instalacja"
   ]
  },
  {
   "cell_type": "markdown",
   "id": "unique-cookie",
   "metadata": {
    "slideshow": {
     "slide_type": "fragment"
    }
   },
   "source": [
    "```\n",
    "pip install spacy\n",
    "python -m spacy download pl_core_news_md\n",
    "```"
   ]
  },
  {
   "cell_type": "code",
   "execution_count": null,
   "id": "meaning-profit",
   "metadata": {
    "slideshow": {
     "slide_type": "fragment"
    }
   },
   "outputs": [],
   "source": [
    "!pip install spacy\n",
    "!python -m spacy download pl_core_news_md"
   ]
  },
  {
   "cell_type": "markdown",
   "id": "third-period",
   "metadata": {
    "slideshow": {
     "slide_type": "slide"
    }
   },
   "source": [
    "## Wczytywanie"
   ]
  },
  {
   "cell_type": "code",
   "execution_count": 1,
   "id": "ruled-expense",
   "metadata": {
    "slideshow": {
     "slide_type": "fragment"
    }
   },
   "outputs": [],
   "source": [
    "import spacy"
   ]
  },
  {
   "cell_type": "code",
   "execution_count": 2,
   "id": "congressional-iceland",
   "metadata": {
    "slideshow": {
     "slide_type": "fragment"
    }
   },
   "outputs": [],
   "source": [
    "nlp = spacy.load(\"pl_core_news_md\")"
   ]
  },
  {
   "cell_type": "markdown",
   "id": "champion-litigation",
   "metadata": {
    "slideshow": {
     "slide_type": "fragment"
    }
   },
   "source": [
    "```\n",
    "python -m spacy link pl_core_news_md pl_core_news_md -f\n",
    "```"
   ]
  },
  {
   "cell_type": "markdown",
   "id": "convinced-calibration",
   "metadata": {
    "slideshow": {
     "slide_type": "skip"
    }
   },
   "source": [
    "\n"
   ]
  }
 ],
 "metadata": {
  "celltoolbar": "Slideshow",
  "kernelspec": {
   "display_name": "Python 3",
   "language": "python",
   "name": "python3"
  },
  "language_info": {
   "codemirror_mode": {
    "name": "ipython",
    "version": 3
   },
   "file_extension": ".py",
   "mimetype": "text/x-python",
   "name": "python",
   "nbconvert_exporter": "python",
   "pygments_lexer": "ipython3",
   "version": "3.8.5"
  }
 },
 "nbformat": 4,
 "nbformat_minor": 5
}
