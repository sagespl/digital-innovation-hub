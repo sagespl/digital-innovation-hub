{
 "cells": [
  {
   "cell_type": "markdown",
   "id": "played-fisher",
   "metadata": {},
   "source": [
    "# Typy znakowe"
   ]
  },
  {
   "cell_type": "markdown",
   "id": "impaired-reporter",
   "metadata": {},
   "source": [
    "#"
   ]
  },
  {
   "cell_type": "markdown",
   "id": "right-blame",
   "metadata": {},
   "source": [
    "## str"
   ]
  },
  {
   "cell_type": "markdown",
   "id": "welcome-exposure",
   "metadata": {},
   "source": [
    "- Definicja\n",
    "- Konwersja typów\n",
    "- Cudzysłowia i apostrofy\n",
    "- Ciągi wieloliniowe\n",
    "- Znaki wyjścia\n",
    "- Łączenie\n",
    "- Długość\n",
    "- Wczytywanie od użytkownika"
   ]
  },
  {
   "cell_type": "code",
   "execution_count": null,
   "id": "straight-haiti",
   "metadata": {},
   "outputs": [],
   "source": [
    "text = \"It is Twardowski's \\\"Moon\\\"\"\n",
    "text"
   ]
  },
  {
   "cell_type": "code",
   "execution_count": null,
   "id": "dress-understanding",
   "metadata": {},
   "outputs": [],
   "source": [
    "html = '<a href=\"https://python.astrotech.io\">Matt\\'s Book</a>'\n",
    "html"
   ]
  },
  {
   "cell_type": "code",
   "execution_count": null,
   "id": "color-providence",
   "metadata": {},
   "outputs": [],
   "source": [
    "text = \"\"\"We choose to\n",
    "go to the Moon\"\"\""
   ]
  },
  {
   "cell_type": "code",
   "execution_count": null,
   "id": "religious-jurisdiction",
   "metadata": {},
   "outputs": [],
   "source": [
    "text"
   ]
  },
  {
   "cell_type": "code",
   "execution_count": null,
   "id": "powerful-factory",
   "metadata": {},
   "outputs": [],
   "source": [
    "print('Jan\\nTwardowski')"
   ]
  },
  {
   "cell_type": "code",
   "execution_count": null,
   "id": "incorporated-platform",
   "metadata": {},
   "outputs": [],
   "source": [
    "imie = 'Jan'"
   ]
  },
  {
   "cell_type": "code",
   "execution_count": null,
   "id": "baking-currency",
   "metadata": {},
   "outputs": [],
   "source": [
    "imie + ' ' + 'Twardowski'"
   ]
  },
  {
   "cell_type": "code",
   "execution_count": null,
   "id": "active-architect",
   "metadata": {},
   "outputs": [],
   "source": [
    "f'{imie} Twardowski'"
   ]
  },
  {
   "cell_type": "code",
   "execution_count": null,
   "id": "comfortable-wedding",
   "metadata": {},
   "outputs": [],
   "source": [
    "x = 'Watney'\n",
    "len(x)"
   ]
  },
  {
   "cell_type": "code",
   "execution_count": null,
   "id": "nonprofit-outline",
   "metadata": {},
   "outputs": [],
   "source": [
    "name = input('Podaj imię: ')\n",
    "dlugosc = len(name)\n",
    "\n",
    "print(f'Witaj {dlugosc}')"
   ]
  },
  {
   "cell_type": "code",
   "execution_count": null,
   "id": "center-denial",
   "metadata": {},
   "outputs": [],
   "source": [
    "wiek = input('Podaj wiek: ')\n",
    "wiek = float(wiek)\n",
    "pelnoletni = (wiek >= 18)\n",
    "\n",
    "print(f'Użytkownik jest {pelnoletni}')"
   ]
  },
  {
   "cell_type": "code",
   "execution_count": null,
   "id": "raising-pierre",
   "metadata": {},
   "outputs": [],
   "source": [
    "wiek = '18'\n",
    "print('wiek', type(wiek))\n",
    "\n",
    "x = int('18')\n",
    "print('x', type(x))"
   ]
  },
  {
   "cell_type": "code",
   "execution_count": null,
   "id": "infrared-metallic",
   "metadata": {},
   "outputs": [],
   "source": [
    "float('20')"
   ]
  },
  {
   "cell_type": "markdown",
   "id": "documented-retail",
   "metadata": {},
   "source": [
    "- Niemutowalność\n",
    "- Strip\n",
    "- Upper, Lower, Title, Capitalize\n",
    "- Replace\n",
    "- Starts with, Ends with\n",
    "- Splitline, Split\n",
    "- Join\n",
    "- Find\n",
    "- Contains\n",
    "- Count\n",
    "- Łączenie metod\n",
    "\n",
    "#"
   ]
  },
  {
   "cell_type": "code",
   "execution_count": null,
   "id": "deluxe-memory",
   "metadata": {},
   "outputs": [],
   "source": [
    "imie = 'Mark'\n",
    "imie = imie.upper()\n",
    "\n",
    "imie"
   ]
  },
  {
   "cell_type": "code",
   "execution_count": null,
   "id": "linear-anniversary",
   "metadata": {},
   "outputs": [],
   "source": [
    "text = '    hello     \\r\\n'\n",
    "\n",
    "text.strip()"
   ]
  },
  {
   "cell_type": "code",
   "execution_count": null,
   "id": "protected-attack",
   "metadata": {},
   "outputs": [],
   "source": [
    "name = 'Angus MacGyver'"
   ]
  },
  {
   "cell_type": "code",
   "execution_count": null,
   "id": "verified-certificate",
   "metadata": {},
   "outputs": [],
   "source": [
    "name.upper()"
   ]
  },
  {
   "cell_type": "code",
   "execution_count": null,
   "id": "associate-bridge",
   "metadata": {},
   "outputs": [],
   "source": [
    "name.lower()"
   ]
  },
  {
   "cell_type": "code",
   "execution_count": null,
   "id": "western-thunder",
   "metadata": {},
   "outputs": [],
   "source": [
    "name.title()"
   ]
  },
  {
   "cell_type": "code",
   "execution_count": null,
   "id": "endless-maine",
   "metadata": {},
   "outputs": [],
   "source": [
    "name.capitalize()"
   ]
  },
  {
   "cell_type": "code",
   "execution_count": null,
   "id": "similar-validation",
   "metadata": {},
   "outputs": [],
   "source": [
    "text = 'MaRK WAtnEY'\n",
    "text.title()"
   ]
  },
  {
   "cell_type": "code",
   "execution_count": null,
   "id": "martial-reflection",
   "metadata": {},
   "outputs": [],
   "source": [
    "text = 'Moon'\n",
    "\n",
    "text.replace('o', 'x')"
   ]
  },
  {
   "cell_type": "code",
   "execution_count": null,
   "id": "backed-stocks",
   "metadata": {},
   "outputs": [],
   "source": [
    "street = 'ul. Jana Trzeciego Twardowskiego 3/4'\n",
    "\n",
    "street = street.replace('ul.', '')\n",
    "street = street.replace('3/4', '')\n",
    "street = street.strip()\n",
    "street = street.replace('Trzeciego', 'III')\n",
    "\n",
    "street"
   ]
  },
  {
   "cell_type": "code",
   "execution_count": null,
   "id": "ceramic-nashville",
   "metadata": {},
   "outputs": [],
   "source": [
    "street = 'ul. Jana Trzeciego Twardowskiego 3/4'\n",
    "\n",
    "street.replace('ul.', '').replace('3/4', '').strip().replace('Trzeciego', 'III')"
   ]
  },
  {
   "cell_type": "code",
   "execution_count": null,
   "id": "professional-castle",
   "metadata": {},
   "outputs": [],
   "source": [
    "street = ('ul. Jana Trzeciego Twardowskiego 3/4'\n",
    "          .replace('ul.', '')\n",
    "          .replace('3/4', '')\n",
    "          .strip()\n",
    "          .replace('Trzeciego', 'III'))\n",
    "\n",
    "street"
   ]
  },
  {
   "cell_type": "code",
   "execution_count": null,
   "id": "continental-classics",
   "metadata": {},
   "outputs": [],
   "source": [
    "email = 'jan.twardowski@polsa.gov.pl'\n",
    "domeny = ('gov.pl', '.com.pl')\n",
    "\n",
    "email.endswith(domeny)"
   ]
  },
  {
   "cell_type": "code",
   "execution_count": null,
   "id": "dietary-category",
   "metadata": {},
   "outputs": [],
   "source": [
    "text = 'Jan Twardowski'\n",
    "imiona = ('Jan', 'Mark')\n",
    "\n",
    "text.startswith(imiona)"
   ]
  },
  {
   "cell_type": "markdown",
   "id": "regulated-hamburg",
   "metadata": {},
   "source": [
    "- Splitline, Split\n",
    "- Join\n",
    "- Find\n",
    "- Contains\n",
    "- Count\n",
    "- Łączenie metod"
   ]
  },
  {
   "cell_type": "code",
   "execution_count": null,
   "id": "forbidden-georgia",
   "metadata": {},
   "outputs": [],
   "source": [
    "text = \"\"\"We choose\n",
    "to go to the\n",
    "Moon\"\"\""
   ]
  },
  {
   "cell_type": "code",
   "execution_count": null,
   "id": "overhead-moldova",
   "metadata": {},
   "outputs": [],
   "source": [
    "text.splitlines()"
   ]
  },
  {
   "cell_type": "code",
   "execution_count": null,
   "id": "cheap-diana",
   "metadata": {},
   "outputs": [],
   "source": [
    "imie = 'Jan,Twardowski,44'\n",
    "\n",
    "firstname, lastname, age = imie.split(',')"
   ]
  },
  {
   "cell_type": "code",
   "execution_count": null,
   "id": "nuclear-wheat",
   "metadata": {},
   "outputs": [],
   "source": [
    "data = ['We choose', 'to go to the', 'Moon']\n",
    "\n",
    "':'.join(data)"
   ]
  },
  {
   "cell_type": "code",
   "execution_count": null,
   "id": "pointed-aerospace",
   "metadata": {},
   "outputs": [],
   "source": [
    "text = 'Moon'\n",
    "\n",
    "# 0 -> M\n",
    "# 1 -> o\n",
    "# 2 -> o\n",
    "# 3 -> n\n",
    "\n",
    "text.find('N')"
   ]
  },
  {
   "cell_type": "code",
   "execution_count": null,
   "id": "interested-equilibrium",
   "metadata": {},
   "outputs": [],
   "source": [
    "text = 'Moon'\n",
    "\n",
    "'mo' in text"
   ]
  },
  {
   "cell_type": "code",
   "execution_count": null,
   "id": "strategic-celebration",
   "metadata": {},
   "outputs": [],
   "source": [
    "text = 'Moon'\n",
    "\n",
    "text.count('m')"
   ]
  },
  {
   "cell_type": "code",
   "execution_count": null,
   "id": "athletic-match",
   "metadata": {},
   "outputs": [],
   "source": [
    "text = 'Moon'"
   ]
  },
  {
   "cell_type": "code",
   "execution_count": null,
   "id": "sophisticated-glenn",
   "metadata": {},
   "outputs": [],
   "source": [
    "help(str)"
   ]
  }
 ],
 "metadata": {
  "kernelspec": {
   "display_name": "Python 3",
   "language": "python",
   "name": "python3"
  },
  "language_info": {
   "codemirror_mode": {
    "name": "ipython",
    "version": 3
   },
   "file_extension": ".py",
   "mimetype": "text/x-python",
   "name": "python",
   "nbconvert_exporter": "python",
   "pygments_lexer": "ipython3",
   "version": "3.9.1"
  }
 },
 "nbformat": 4,
 "nbformat_minor": 5
}
