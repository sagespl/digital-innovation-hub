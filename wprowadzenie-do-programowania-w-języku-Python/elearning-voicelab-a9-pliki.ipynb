{
 "cells": [
  {
   "cell_type": "markdown",
   "id": "magnetic-moses",
   "metadata": {},
   "source": [
    "# Pliki"
   ]
  },
  {
   "cell_type": "markdown",
   "id": "broadband-sequence",
   "metadata": {},
   "source": [
    "## Ścieżki\n",
    "- wzlgędne\n",
    "- bezwzględne"
   ]
  },
  {
   "cell_type": "code",
   "execution_count": null,
   "id": "brazilian-coach",
   "metadata": {},
   "outputs": [],
   "source": [
    "plik = 'iris.csv'\n",
    "plik = './iris.csv'\n",
    "\n",
    "plik = 'data/iris.csv'\n",
    "plik = './data/iris.csv'\n",
    "\n",
    "plik = '../iris.csv'\n",
    "plik = '../data/iris.csv'\n",
    "plik = '../../data/iris.csv'"
   ]
  },
  {
   "cell_type": "code",
   "execution_count": 3,
   "id": "spatial-hungary",
   "metadata": {},
   "outputs": [],
   "source": [
    "plik = r'C:\\Users\\admin\\iris.csv'\n",
    "plik = '/home/admin/iris.csv'"
   ]
  },
  {
   "cell_type": "markdown",
   "id": "political-trainer",
   "metadata": {},
   "source": [
    "## Tryby dostępu\n",
    "- r - read\n",
    "- w - write\n",
    "- a - append\n",
    "- rt, wt, at - tryb tekstowy\n",
    "- rb, wb, ab - tryb binarny"
   ]
  },
  {
   "cell_type": "code",
   "execution_count": 18,
   "id": "hourly-twelve",
   "metadata": {},
   "outputs": [],
   "source": [
    "plik = open('mojplik.txt', mode='wb')\n",
    "plik.write('hello ś'.encode())\n",
    "plik.close()"
   ]
  },
  {
   "cell_type": "code",
   "execution_count": 19,
   "id": "illegal-error",
   "metadata": {},
   "outputs": [
    {
     "name": "stdout",
     "output_type": "stream",
     "text": [
      "hello ś"
     ]
    }
   ],
   "source": [
    "# na macOS oraz Linux, *nix\n",
    "%cat mojplik.txt"
   ]
  },
  {
   "cell_type": "code",
   "execution_count": 8,
   "id": "dominican-little",
   "metadata": {},
   "outputs": [
    {
     "name": "stderr",
     "output_type": "stream",
     "text": [
      "UsageError: Line magic function `%type` not found.\n"
     ]
    }
   ],
   "source": [
    "# Na Windows\n",
    "%type mojplik.txt"
   ]
  },
  {
   "cell_type": "code",
   "execution_count": 20,
   "id": "periodic-niger",
   "metadata": {},
   "outputs": [
    {
     "name": "stdout",
     "output_type": "stream",
     "text": [
      "hello ś\n"
     ]
    }
   ],
   "source": [
    "plik = open('mojplik.txt', mode='r')\n",
    "zawartosc = plik.read()\n",
    "plik.close()\n",
    "\n",
    "print(zawartosc)"
   ]
  },
  {
   "cell_type": "code",
   "execution_count": 24,
   "id": "portuguese-israeli",
   "metadata": {},
   "outputs": [
    {
     "name": "stdout",
     "output_type": "stream",
     "text": [
      "hello ś\n"
     ]
    }
   ],
   "source": [
    "with open('mojplik.txt', mode='r') as plik:\n",
    "    zawartosc = plik.read()\n",
    "        \n",
    "print(zawartosc)"
   ]
  },
  {
   "cell_type": "code",
   "execution_count": null,
   "id": "sustained-official",
   "metadata": {},
   "outputs": [],
   "source": [
    "with open('mojplik.txt', mode='r') as plik:\n",
    "    for line in file:\n",
    "        ...\n",
    "        \n",
    "print(zawartosc)"
   ]
  },
  {
   "cell_type": "markdown",
   "id": "nervous-origin",
   "metadata": {},
   "source": [
    "## Zapis\n",
    "- wartości proste\n",
    "- sekwencje"
   ]
  },
  {
   "cell_type": "code",
   "execution_count": 48,
   "id": "southwest-chemical",
   "metadata": {},
   "outputs": [
    {
     "name": "stdout",
     "output_type": "stream",
     "text": [
      "['hello', 'world']\n",
      "['Mark', 'Watney']\n"
     ]
    }
   ],
   "source": [
    "data = [\n",
    "    ['hello', 'world'],\n",
    "    ['Mark', 'Watney'],\n",
    "]\n",
    "\n",
    "\n",
    "with open('mojplik.txt', mode='w') as plik:\n",
    "    plik.writelines(','.join(row) + '\\n' for row in data)\n",
    "    \n",
    "\n",
    "with open('mojplik.txt') as plik:\n",
    "    for line in plik:\n",
    "        line = line.strip().split(',')\n",
    "        print(line)"
   ]
  },
  {
   "cell_type": "code",
   "execution_count": 49,
   "id": "governing-chair",
   "metadata": {},
   "outputs": [],
   "source": [
    "import pickle"
   ]
  },
  {
   "cell_type": "code",
   "execution_count": 53,
   "id": "thick-absolute",
   "metadata": {},
   "outputs": [],
   "source": [
    "data = [\n",
    "    ['hello', 'world'],\n",
    "    ['Mark', 'Watney'],\n",
    "]\n",
    "\n",
    "\n",
    "with open('mojplik.txt', mode='wb') as plik:\n",
    "    pickle.dump(data, plik)\n",
    "    \n",
    "with open('mojplik.txt', mode='rb') as plik:\n",
    "    zawartosc = pickle.load(plik)"
   ]
  },
  {
   "cell_type": "code",
   "execution_count": 54,
   "id": "prescription-circular",
   "metadata": {},
   "outputs": [
    {
     "name": "stdout",
     "output_type": "stream",
     "text": [
      "[['hello', 'world'], ['Mark', 'Watney']]\n"
     ]
    }
   ],
   "source": [
    "print(zawartosc)"
   ]
  },
  {
   "cell_type": "markdown",
   "id": "rubber-hello",
   "metadata": {},
   "source": [
    "## Dopisanie"
   ]
  },
  {
   "cell_type": "code",
   "execution_count": 71,
   "id": "ahead-indonesia",
   "metadata": {},
   "outputs": [],
   "source": [
    "with open('mojplik.txt', mode='a') as plik:\n",
    "    plik.write('hello\\n')"
   ]
  },
  {
   "cell_type": "markdown",
   "id": "touched-intention",
   "metadata": {},
   "source": [
    "## Odczyt"
   ]
  },
  {
   "cell_type": "code",
   "execution_count": 83,
   "id": "accessory-manhattan",
   "metadata": {},
   "outputs": [
    {
     "name": "stdout",
     "output_type": "stream",
     "text": [
      "hello\n",
      "\n",
      "hello\n",
      "\n",
      "hello\n",
      "\n",
      "hello\n",
      "\n",
      "hello\n",
      "\n"
     ]
    },
    {
     "ename": "StopIteration",
     "evalue": "",
     "output_type": "error",
     "traceback": [
      "Traceback \u001b[1;36m(most recent call last)\u001b[0m:\n",
      "\u001b[1;36m  File \u001b[1;32m\"<ipython-input-83-da0c7847812d>\"\u001b[1;36m, line \u001b[1;32m8\u001b[1;36m, in \u001b[1;35m<module>\u001b[1;36m\u001b[0m\n\u001b[1;33m    print(next(data))\u001b[0m\n",
      "\u001b[1;31mStopIteration\u001b[0m\n"
     ]
    }
   ],
   "source": [
    "with open('mojplik.txt') as plik:\n",
    "    data = plik"
   ]
  },
  {
   "cell_type": "code",
   "execution_count": null,
   "id": "skilled-relay",
   "metadata": {},
   "outputs": [],
   "source": []
  },
  {
   "cell_type": "code",
   "execution_count": null,
   "id": "minimal-walter",
   "metadata": {},
   "outputs": [],
   "source": []
  }
 ],
 "metadata": {
  "kernelspec": {
   "display_name": "Python 3",
   "language": "python",
   "name": "python3"
  },
  "language_info": {
   "codemirror_mode": {
    "name": "ipython",
    "version": 3
   },
   "file_extension": ".py",
   "mimetype": "text/x-python",
   "name": "python",
   "nbconvert_exporter": "python",
   "pygments_lexer": "ipython3",
   "version": "3.9.1"
  }
 },
 "nbformat": 4,
 "nbformat_minor": 5
}
