{
 "cells": [
  {
   "cell_type": "code",
   "execution_count": 1,
   "id": "buried-cuisine",
   "metadata": {
    "slideshow": {
     "slide_type": "skip"
    }
   },
   "outputs": [],
   "source": [
    "import spacy\n",
    "\n",
    "nlp = spacy.load(\"pl_core_news_md\")"
   ]
  },
  {
   "cell_type": "code",
   "execution_count": 2,
   "id": "associate-integrity",
   "metadata": {
    "slideshow": {
     "slide_type": "skip"
    }
   },
   "outputs": [],
   "source": [
    "corpus = [\"Przetwarzanie tekstu to świetna zabawa\", \n",
    "          \"Lubię pracować z tekstem\", \n",
    "          \"Python świetnie nadaje się do przetwarzania tekstu\"]\n",
    "doc_corpus = list(nlp.pipe(corpus, disable=[\"ner\"]))"
   ]
  },
  {
   "cell_type": "markdown",
   "id": "collective-evanescence",
   "metadata": {
    "slideshow": {
     "slide_type": "slide"
    }
   },
   "source": [
    "# Reprezentacja tekstu"
   ]
  },
  {
   "cell_type": "markdown",
   "id": "relevant-disco",
   "metadata": {
    "slideshow": {
     "slide_type": "slide"
    }
   },
   "source": [
    "## Własne wektory"
   ]
  },
  {
   "cell_type": "markdown",
   "id": "saving-devices",
   "metadata": {
    "slideshow": {
     "slide_type": "skip"
    }
   },
   "source": [
    "ma sens np kiedy mamy specyficzne słownictwo"
   ]
  },
  {
   "cell_type": "markdown",
   "id": "liable-prince",
   "metadata": {
    "slideshow": {
     "slide_type": "fragment"
    }
   },
   "source": [
    "```\n",
    "wget https://wolnelektury.pl/media/book/txt/quo-vadis.txt\n",
    "```"
   ]
  },
  {
   "cell_type": "code",
   "execution_count": 3,
   "id": "double-cliff",
   "metadata": {
    "slideshow": {
     "slide_type": "fragment"
    }
   },
   "outputs": [],
   "source": [
    "with open(\"quo-vadis.txt\", \"r\") as f:\n",
    "    quo_vadis = f.read()"
   ]
  },
  {
   "cell_type": "code",
   "execution_count": 4,
   "id": "interstate-salad",
   "metadata": {
    "slideshow": {
     "slide_type": "slide"
    }
   },
   "outputs": [],
   "source": [
    "import re"
   ]
  },
  {
   "cell_type": "code",
   "execution_count": 5,
   "id": "blank-raleigh",
   "metadata": {
    "slideshow": {
     "slide_type": "fragment"
    }
   },
   "outputs": [],
   "source": [
    "tokenizer = re.compile(r\"\\w+\")"
   ]
  },
  {
   "cell_type": "code",
   "execution_count": 6,
   "id": "turkish-christmas",
   "metadata": {
    "slideshow": {
     "slide_type": "fragment"
    }
   },
   "outputs": [],
   "source": [
    "documents = [tokenizer.findall(doc.lower()) for doc in quo_vadis.split(\"\\n\") if doc]"
   ]
  },
  {
   "cell_type": "code",
   "execution_count": 7,
   "id": "grand-thanksgiving",
   "metadata": {
    "slideshow": {
     "slide_type": "fragment"
    }
   },
   "outputs": [],
   "source": [
    "documents = [doc for doc in documents if len(doc) >= 3]"
   ]
  },
  {
   "cell_type": "code",
   "execution_count": 8,
   "id": "arabic-august",
   "metadata": {
    "slideshow": {
     "slide_type": "fragment"
    }
   },
   "outputs": [
    {
     "data": {
      "text/plain": [
       "4181"
      ]
     },
     "execution_count": 8,
     "metadata": {},
     "output_type": "execute_result"
    }
   ],
   "source": [
    "len(documents)"
   ]
  },
  {
   "cell_type": "code",
   "execution_count": 9,
   "id": "found-travel",
   "metadata": {
    "slideshow": {
     "slide_type": "slide"
    }
   },
   "outputs": [],
   "source": [
    "from gensim.models import Word2Vec"
   ]
  },
  {
   "cell_type": "code",
   "execution_count": 10,
   "id": "stuck-tradition",
   "metadata": {
    "slideshow": {
     "slide_type": "fragment"
    }
   },
   "outputs": [
    {
     "data": {
      "text/plain": [
       "(1262335, 1684380)"
      ]
     },
     "execution_count": 10,
     "metadata": {},
     "output_type": "execute_result"
    }
   ],
   "source": [
    "model = Word2Vec(sentences=documents, size=100, window=3, min_count=2, seed=42, workers=2)\n",
    "model.train(documents, total_examples=len(documents), epochs=10)"
   ]
  },
  {
   "cell_type": "code",
   "execution_count": 11,
   "id": "under-whale",
   "metadata": {
    "slideshow": {
     "slide_type": "fragment"
    }
   },
   "outputs": [],
   "source": [
    "trained_wv = model.wv\n",
    "neron = trained_wv[\"neron\"]"
   ]
  },
  {
   "cell_type": "code",
   "execution_count": 12,
   "id": "gothic-native",
   "metadata": {
    "slideshow": {
     "slide_type": "slide"
    }
   },
   "outputs": [
    {
     "data": {
      "text/plain": [
       "array([ 3.32768112e-02, -8.10785443e-02,  4.84347492e-02,  2.72680540e-02,\n",
       "        1.60213456e-01, -1.04195233e-02, -8.96861032e-02,  2.10979879e-01,\n",
       "       -2.06511747e-03, -1.22237258e-01, -4.06657718e-02,  9.06449556e-02,\n",
       "        3.58812325e-02, -6.31325617e-02,  1.73960552e-02,  2.34117750e-02,\n",
       "       -3.82457636e-02, -1.18065901e-01, -1.32369071e-01,  1.00069650e-01,\n",
       "       -5.58557548e-02, -1.62739027e-02, -3.40475403e-02, -6.52748793e-02,\n",
       "       -1.01042293e-01,  1.58580430e-02, -7.99588114e-02,  7.40639493e-02,\n",
       "        1.08034745e-01, -6.79198951e-02,  7.29969367e-02,  5.96049987e-02,\n",
       "       -1.93278089e-01,  5.95788695e-02, -2.00839043e-02,  1.12354107e-01,\n",
       "       -1.41471967e-01, -1.92753766e-02,  9.98983532e-02,  2.98144650e-02,\n",
       "       -3.16572711e-02, -3.73480916e-02, -3.93975675e-02, -1.27847120e-01,\n",
       "       -7.59050017e-03, -1.86334208e-01,  4.20219339e-02, -2.52452958e-02,\n",
       "        3.62232327e-02, -9.08472613e-02,  3.86644490e-02, -2.35483646e-02,\n",
       "       -5.27314767e-02,  6.84551448e-02,  5.16623668e-02, -8.95234756e-03,\n",
       "        4.74328190e-05,  8.05293918e-02,  3.97760309e-02,  2.27291267e-02,\n",
       "       -1.15731694e-01, -1.70305260e-02, -2.90951896e-02, -8.39540213e-02,\n",
       "       -9.54104662e-02, -3.65227945e-02, -2.25974143e-01, -2.58033480e-02,\n",
       "        5.57332486e-02,  1.94095634e-03,  3.73951644e-02,  1.26261801e-01,\n",
       "        7.72486301e-03,  1.01596124e-01, -4.96323556e-02,  3.06182839e-02,\n",
       "        1.30374925e-02, -2.06161477e-02,  1.05292827e-01,  1.01541400e-01,\n",
       "        4.29100692e-02, -1.06922977e-01, -6.76246285e-02, -2.30767280e-02,\n",
       "        4.12243791e-02,  2.11083260e-03,  8.96304026e-02, -8.97510275e-02,\n",
       "       -4.58732843e-02, -8.15318599e-02,  7.05464510e-03,  1.30481094e-01,\n",
       "        6.09517144e-03,  7.02008456e-02,  2.28008851e-02, -4.43179011e-02,\n",
       "       -3.26254182e-02,  1.27642807e-02,  1.14270531e-01,  1.45070538e-01],\n",
       "      dtype=float32)"
      ]
     },
     "execution_count": 12,
     "metadata": {},
     "output_type": "execute_result"
    }
   ],
   "source": [
    "neron"
   ]
  },
  {
   "cell_type": "code",
   "execution_count": 13,
   "id": "rural-termination",
   "metadata": {
    "slideshow": {
     "slide_type": "fragment"
    }
   },
   "outputs": [
    {
     "data": {
      "text/plain": [
       "[('gorączka', 0.9942690134048462),\n",
       " ('aulusowi', 0.9933432340621948),\n",
       " ('wyzwoleniec', 0.9928425550460815),\n",
       " ('pół', 0.992402195930481),\n",
       " ('wojownik', 0.9922508001327515),\n",
       " ('ludzkimi', 0.9922260046005249),\n",
       " ('odbędzie', 0.992123544216156),\n",
       " ('kazać', 0.9919620752334595),\n",
       " ('matka', 0.9919359683990479),\n",
       " ('złym', 0.9918915033340454)]"
      ]
     },
     "execution_count": 13,
     "metadata": {},
     "output_type": "execute_result"
    }
   ],
   "source": [
    "trained_wv.most_similar(\"neron\")"
   ]
  },
  {
   "cell_type": "markdown",
   "id": "backed-fault",
   "metadata": {
    "slideshow": {
     "slide_type": "slide"
    }
   },
   "source": [
    "## Zapisywanie i wczytywanie wektorów"
   ]
  },
  {
   "cell_type": "code",
   "execution_count": 14,
   "id": "speaking-hamburg",
   "metadata": {
    "slideshow": {
     "slide_type": "fragment"
    }
   },
   "outputs": [],
   "source": [
    "trained_wv.save_word2vec_format(\"w2v.vec\")"
   ]
  },
  {
   "cell_type": "code",
   "execution_count": 15,
   "id": "upper-occasion",
   "metadata": {
    "slideshow": {
     "slide_type": "fragment"
    }
   },
   "outputs": [],
   "source": [
    "from gensim.models import KeyedVectors"
   ]
  },
  {
   "cell_type": "code",
   "execution_count": 16,
   "id": "broadband-tumor",
   "metadata": {
    "slideshow": {
     "slide_type": "fragment"
    }
   },
   "outputs": [],
   "source": [
    "loaded_wv = KeyedVectors.load_word2vec_format(\"w2v.vec\")"
   ]
  },
  {
   "cell_type": "code",
   "execution_count": 17,
   "id": "thorough-albania",
   "metadata": {
    "slideshow": {
     "slide_type": "fragment"
    }
   },
   "outputs": [
    {
     "data": {
      "text/plain": [
       "array([ 3.32768112e-02, -8.10785443e-02,  4.84347492e-02,  2.72680540e-02,\n",
       "        1.60213456e-01, -1.04195233e-02, -8.96861032e-02,  2.10979879e-01,\n",
       "       -2.06511747e-03, -1.22237258e-01, -4.06657718e-02,  9.06449556e-02,\n",
       "        3.58812325e-02, -6.31325617e-02,  1.73960552e-02,  2.34117750e-02,\n",
       "       -3.82457636e-02, -1.18065901e-01, -1.32369071e-01,  1.00069650e-01,\n",
       "       -5.58557548e-02, -1.62739027e-02, -3.40475403e-02, -6.52748793e-02,\n",
       "       -1.01042293e-01,  1.58580430e-02, -7.99588114e-02,  7.40639493e-02,\n",
       "        1.08034745e-01, -6.79198951e-02,  7.29969367e-02,  5.96049987e-02,\n",
       "       -1.93278089e-01,  5.95788695e-02, -2.00839043e-02,  1.12354107e-01,\n",
       "       -1.41471967e-01, -1.92753766e-02,  9.98983532e-02,  2.98144650e-02,\n",
       "       -3.16572711e-02, -3.73480916e-02, -3.93975675e-02, -1.27847120e-01,\n",
       "       -7.59050017e-03, -1.86334208e-01,  4.20219339e-02, -2.52452958e-02,\n",
       "        3.62232327e-02, -9.08472613e-02,  3.86644490e-02, -2.35483646e-02,\n",
       "       -5.27314767e-02,  6.84551448e-02,  5.16623668e-02, -8.95234756e-03,\n",
       "        4.74328190e-05,  8.05293918e-02,  3.97760309e-02,  2.27291267e-02,\n",
       "       -1.15731694e-01, -1.70305260e-02, -2.90951896e-02, -8.39540213e-02,\n",
       "       -9.54104662e-02, -3.65227945e-02, -2.25974143e-01, -2.58033480e-02,\n",
       "        5.57332486e-02,  1.94095634e-03,  3.73951644e-02,  1.26261801e-01,\n",
       "        7.72486301e-03,  1.01596124e-01, -4.96323556e-02,  3.06182839e-02,\n",
       "        1.30374925e-02, -2.06161477e-02,  1.05292827e-01,  1.01541400e-01,\n",
       "        4.29100692e-02, -1.06922977e-01, -6.76246285e-02, -2.30767280e-02,\n",
       "        4.12243791e-02,  2.11083260e-03,  8.96304026e-02, -8.97510275e-02,\n",
       "       -4.58732843e-02, -8.15318599e-02,  7.05464510e-03,  1.30481094e-01,\n",
       "        6.09517144e-03,  7.02008456e-02,  2.28008851e-02, -4.43179011e-02,\n",
       "       -3.26254182e-02,  1.27642807e-02,  1.14270531e-01,  1.45070538e-01],\n",
       "      dtype=float32)"
      ]
     },
     "execution_count": 17,
     "metadata": {},
     "output_type": "execute_result"
    }
   ],
   "source": [
    "loaded_wv[\"neron\"]"
   ]
  },
  {
   "cell_type": "markdown",
   "id": "assumed-commander",
   "metadata": {
    "slideshow": {
     "slide_type": "slide"
    }
   },
   "source": [
    "## Fasttext"
   ]
  },
  {
   "cell_type": "markdown",
   "id": "aging-worker",
   "metadata": {
    "slideshow": {
     "slide_type": "fragment"
    }
   },
   "source": [
    "```\n",
    "wget https://dl.fbaipublicfiles.com/fasttext/vectors-crawl/cc.pl.300.bin.gz\n",
    "gunzip cc.pl.300.bin.gz\n",
    "pip install fasttext\n",
    "```"
   ]
  },
  {
   "cell_type": "code",
   "execution_count": 18,
   "id": "imported-complaint",
   "metadata": {
    "slideshow": {
     "slide_type": "fragment"
    }
   },
   "outputs": [
    {
     "name": "stderr",
     "output_type": "stream",
     "text": [
      "Warning : `load_model` does not return WordVectorModel or SupervisedModel any more, but a `FastText` object which is very similar.\n"
     ]
    }
   ],
   "source": [
    "import fasttext\n",
    "ft = fasttext.load_model(\"cc.pl.300.bin\")"
   ]
  },
  {
   "cell_type": "code",
   "execution_count": 19,
   "id": "compressed-symposium",
   "metadata": {
    "scrolled": true,
    "slideshow": {
     "slide_type": "slide"
    }
   },
   "outputs": [
    {
     "data": {
      "text/plain": [
       "array([-0.02647543, -0.0252537 ,  0.05910497, -0.00575127, -0.00548102,\n",
       "       -0.00587044,  0.00196852,  0.05388857,  0.05830808, -0.0286649 ,\n",
       "        0.00275673,  0.05129708,  0.04199098,  0.01145994,  0.02479033,\n",
       "       -0.01525387,  0.05866029,  0.09368735,  0.03709818,  0.06261092,\n",
       "        0.05115037, -0.0156334 , -0.03784498, -0.00291721, -0.03983516,\n",
       "       -0.0272979 , -0.00470353,  0.02694059, -0.02943078,  0.07209317,\n",
       "       -0.07836877, -0.04038231, -0.01679254,  0.0179914 ,  0.05483805,\n",
       "        0.04735688, -0.08677525, -0.01825706, -0.0065794 ,  0.00524998,\n",
       "       -0.06532191, -0.01248267,  0.03617037, -0.00643929, -0.08174316,\n",
       "        0.0789717 ,  0.02424479, -0.00595614, -0.01657333, -0.03259782,\n",
       "        0.04934077, -0.10784138, -0.03989692, -0.05039958, -0.0178291 ,\n",
       "       -0.03989087, -0.0182874 , -0.04051604,  0.00537276, -0.04363908,\n",
       "       -0.0196447 ,  0.0309539 , -0.05604235, -0.04133778, -0.00302048,\n",
       "       -0.03532403,  0.02349327, -0.00754734,  0.02247686, -0.02755968,\n",
       "       -0.01132188,  0.01823049,  0.10450535, -0.11154285,  0.00093111,\n",
       "        0.01325548,  0.04573556, -0.05468044, -0.1016333 ,  0.06372256,\n",
       "        0.06947943, -0.00231913,  0.10463195,  0.06157693,  0.01945395,\n",
       "        0.00127027,  0.08075257, -0.01999561,  0.07183444,  0.0527742 ,\n",
       "        0.01449593,  0.01564464, -0.04727452,  0.01835413,  0.03577755,\n",
       "        0.0623197 ,  0.02228944, -0.07186931, -0.07489099, -0.05476783,\n",
       "       -0.03889279, -0.01574799, -0.04402443, -0.02394741,  0.00583262,\n",
       "       -0.03111872,  0.05187666, -0.0310503 ,  0.02239954,  0.05992339,\n",
       "        0.0701542 ,  0.0269917 , -0.00680709, -0.07023137,  0.03366138,\n",
       "        0.01004786, -0.03719499, -0.00094009, -0.04039621,  0.02583   ,\n",
       "       -0.03596708, -0.00988277,  0.02933384,  0.03016536, -0.07285768,\n",
       "        0.0257606 ,  0.0362648 ,  0.03707795, -0.00557436,  0.01654125,\n",
       "        0.00393928, -0.01210995, -0.0248802 ,  0.03740279,  0.03885563,\n",
       "        0.06248952, -0.05906895, -0.07621132, -0.03272135, -0.02214213,\n",
       "       -0.04896   ,  0.0800487 , -0.01820733, -0.14052153, -0.02669445,\n",
       "       -0.0141929 , -0.00645168,  0.00727371,  0.02919573,  0.03973108,\n",
       "        0.02254639,  0.06060442,  0.04071014, -0.08061484,  0.00066419,\n",
       "       -0.0159902 , -0.00145911,  0.03558875,  0.04424688, -0.08936109,\n",
       "       -0.01406028, -0.03958362, -0.01415752, -0.00714842, -0.03177355,\n",
       "       -0.00969227,  0.03221596,  0.06062972,  0.09459273,  0.0280395 ,\n",
       "        0.02678763,  0.02108971, -0.05233352,  0.00018013, -0.01968162,\n",
       "        0.00581639, -0.03553212, -0.02308418, -0.0065563 ,  0.02702359,\n",
       "        0.02524085,  0.00332564, -0.01954909,  0.02747735,  0.02173869,\n",
       "        0.04218909, -0.00620772, -0.03248973,  0.00265014,  0.02940352,\n",
       "        0.01629689, -0.00570872,  0.00289648,  0.04263106, -0.02631286,\n",
       "        0.07336923, -0.01277199, -0.10730615, -0.05825944,  0.00634226,\n",
       "       -0.09388848, -0.03997577,  0.02001726,  0.00494056,  0.00377336,\n",
       "        0.03922075, -0.02764606, -0.04443436, -0.01050416, -0.05317017,\n",
       "       -0.01448638,  0.01159365,  0.01325748, -0.04616617,  0.04138306,\n",
       "       -0.05517112, -0.03581144,  0.00036803,  0.00413202,  0.007494  ,\n",
       "       -0.03425767, -0.02221255,  0.02366031, -0.04271774, -0.01352119,\n",
       "       -0.00961879, -0.00560095,  0.08756007,  0.0035898 ,  0.01494053,\n",
       "        0.04360401, -0.04246381,  0.01028702, -0.02467764,  0.0589564 ,\n",
       "       -0.09129529,  0.00438407,  0.00123429,  0.00922778,  0.05166413,\n",
       "        0.03523516, -0.00158029, -0.04696389,  0.01622199, -0.01254615,\n",
       "       -0.00139195, -0.11383386,  0.02529699, -0.05889042,  0.00036924,\n",
       "       -0.00517282,  0.0223239 ,  0.04164963,  0.02022151, -0.02549406,\n",
       "       -0.03754843, -0.03373771, -0.01434897,  0.03762944,  0.0443354 ,\n",
       "        0.00151609,  0.01240669,  0.00855495,  0.06943181,  0.00240984,\n",
       "        0.02403577, -0.0445325 ,  0.06120104, -0.03219004,  0.03771162,\n",
       "       -0.00518844, -0.01508291, -0.00932002, -0.0286036 , -0.00968256,\n",
       "        0.01401421, -0.01756466,  0.01917875,  0.03717263, -0.04665677,\n",
       "       -0.0332235 ,  0.05032493, -0.05792183, -0.0119159 , -0.01374175,\n",
       "       -0.00509325,  0.05317993, -0.01098661,  0.0481969 , -0.04617719,\n",
       "       -0.01671803, -0.04810616,  0.06377713, -0.01808157, -0.04094257,\n",
       "        0.03316775, -0.05128188, -0.05985286, -0.04419171, -0.00807083],\n",
       "      dtype=float32)"
      ]
     },
     "execution_count": 19,
     "metadata": {},
     "output_type": "execute_result"
    }
   ],
   "source": [
    "ft.get_word_vector(\"lajkować\")"
   ]
  },
  {
   "cell_type": "code",
   "execution_count": 20,
   "id": "disturbed-butler",
   "metadata": {
    "scrolled": true,
    "slideshow": {
     "slide_type": "slide"
    }
   },
   "outputs": [
    {
     "data": {
      "text/plain": [
       "array([ 1.30201345e-02, -1.32711306e-02,  1.87702547e-03,  9.93683562e-03,\n",
       "        1.57532562e-02,  1.06620509e-02,  1.38570992e-02,  1.05386581e-02,\n",
       "        7.25866295e-04, -2.67259288e-03, -3.79300630e-03, -4.75739595e-03,\n",
       "        3.76828387e-02, -9.76870302e-03,  5.35208441e-04, -3.82616334e-02,\n",
       "       -4.95770089e-02, -1.01315873e-02, -2.51040701e-03, -1.22554367e-02,\n",
       "       -1.39486045e-02,  4.74699913e-03, -4.69717570e-03,  2.19905674e-02,\n",
       "        4.48115468e-02,  5.31882793e-02, -4.18519154e-02, -8.76845419e-03,\n",
       "        3.66539229e-03, -1.22610759e-02,  1.02790454e-02,  4.41305153e-02,\n",
       "       -5.69318375e-03,  1.05332276e-02, -7.12360768e-03, -9.06831119e-03,\n",
       "       -1.13079119e-02,  6.25611749e-04, -1.06186299e-05,  6.26635132e-03,\n",
       "        1.93767026e-02, -2.93021780e-02,  9.33759287e-03,  1.47731311e-03,\n",
       "        5.18914871e-03,  1.09803230e-02,  7.91308191e-03,  3.96871381e-03,\n",
       "        1.75514929e-02, -5.69907799e-02,  1.62261277e-02, -2.12383773e-02,\n",
       "       -1.04675815e-02,  1.21470541e-02,  1.93468388e-02,  1.07653311e-03,\n",
       "       -9.67129134e-03, -3.43513377e-02,  4.69923345e-03,  2.26046587e-03,\n",
       "        1.14527225e-04,  9.96571034e-03,  5.21480758e-03, -1.33039197e-03,\n",
       "        5.94533188e-03,  1.34473608e-03, -2.89450772e-03, -1.18236952e-02,\n",
       "        1.28573421e-02, -5.29093086e-04, -1.66067407e-02, -5.04204445e-03,\n",
       "        3.89367938e-02, -1.92258682e-03, -1.09860441e-02,  7.57268630e-04,\n",
       "       -1.87364861e-03, -5.40001225e-03,  4.29617381e-03,  1.73119567e-02,\n",
       "        5.47289988e-03, -1.69754568e-02,  5.35305403e-02,  1.60517227e-02,\n",
       "        1.31335780e-02, -2.05195174e-02,  8.68947711e-03, -1.25299273e-02,\n",
       "        4.01951745e-03,  1.84448548e-02, -1.89593807e-03,  6.46494776e-02,\n",
       "       -1.94632262e-02,  1.13043236e-03, -1.10794529e-02,  3.86131508e-03,\n",
       "        7.11916422e-04, -9.85237584e-03, -5.89814596e-03, -1.33424848e-02,\n",
       "       -1.74550787e-02,  9.55509022e-05, -1.79404486e-02,  8.88283103e-05,\n",
       "        1.37818046e-02,  1.95128133e-03,  1.97952911e-02,  2.53156829e-03,\n",
       "        1.09048130e-03, -9.70753841e-03,  6.34961342e-03,  4.01875973e-02,\n",
       "        8.63636285e-03,  7.14505976e-03,  9.01015755e-03,  8.99317861e-03,\n",
       "       -9.70403664e-03, -8.65948386e-03, -1.52937118e-02, -9.58170369e-03,\n",
       "        1.39813861e-02, -3.53331938e-02,  2.12655067e-02,  6.59295078e-03,\n",
       "        1.28821358e-02, -7.28833443e-03,  5.13669569e-04,  1.54878333e-04,\n",
       "        3.62600908e-02, -1.36262812e-02,  8.51820968e-03,  1.07224239e-02,\n",
       "        3.95691674e-03,  4.02673259e-02,  8.74117203e-03,  5.73572051e-03,\n",
       "        1.98129583e-02,  1.36625534e-02, -1.48861874e-02, -1.35723427e-02,\n",
       "        1.75958723e-02,  2.14423030e-03,  8.68847501e-03, -4.53248620e-02,\n",
       "       -2.60187592e-02,  3.82202561e-03,  2.23439299e-02,  3.75697343e-03,\n",
       "       -4.99958987e-04,  2.00975649e-02,  1.75547041e-02,  2.60109007e-02,\n",
       "       -2.99218670e-03, -3.22637111e-02, -2.30258107e-02, -1.26273111e-02,\n",
       "       -2.06546634e-02, -2.72906851e-02, -6.48220442e-03, -4.90061007e-03,\n",
       "        2.37506535e-02,  1.66027881e-02, -6.13067672e-03,  1.09131625e-02,\n",
       "        2.72393562e-02, -2.40514777e-03,  1.89306345e-02,  1.59844141e-02,\n",
       "        1.16227223e-02, -1.12595959e-02,  1.14882626e-02, -1.43963788e-02,\n",
       "       -3.77260447e-02,  2.83751171e-02,  1.31450435e-02, -6.05402887e-03,\n",
       "        1.30620059e-02,  1.67133324e-02,  1.66582968e-02, -1.19460877e-02,\n",
       "        4.14419584e-02, -2.62816879e-03, -1.96507163e-02, -1.24193635e-02,\n",
       "        1.41533203e-02,  5.20073436e-02,  9.71042737e-03, -1.58179663e-02,\n",
       "       -1.09627505e-03,  5.58963558e-03,  4.02598269e-03,  1.08697852e-02,\n",
       "       -8.03351589e-03,  2.93310657e-02,  6.65943697e-03, -1.19340476e-02,\n",
       "        2.95722671e-03,  3.50005133e-03,  1.05116959e-03, -1.72116363e-03,\n",
       "       -1.41041353e-03,  8.29990488e-03, -1.89971291e-02, -2.70216130e-02,\n",
       "        1.97412763e-02, -7.84788094e-03,  3.87825677e-03, -9.23462212e-05,\n",
       "       -1.34457303e-02, -7.39501417e-03, -3.80312605e-03, -1.22595755e-02,\n",
       "       -1.01572052e-02, -1.78067703e-02, -7.17106834e-03,  2.99014784e-02,\n",
       "        2.25115903e-02, -3.25525505e-03,  6.52562082e-03, -2.02695578e-02,\n",
       "       -8.07879772e-03, -7.20975688e-03, -6.67520193e-03,  1.18325222e-02,\n",
       "       -4.00054036e-03, -1.30103100e-02, -1.02372253e-02, -9.07000713e-03,\n",
       "       -7.81877525e-03, -2.50422047e-03, -1.01591728e-03, -2.03196146e-02,\n",
       "        2.31249221e-02, -2.88452655e-02,  3.09084862e-04,  1.31290257e-02,\n",
       "        6.02690969e-03, -9.63486545e-03,  1.03956182e-03, -1.39561621e-02,\n",
       "       -3.48691642e-02, -1.62332132e-02, -1.73417609e-02, -3.97710642e-03,\n",
       "       -1.67132355e-02, -1.09705068e-02, -9.41476785e-03, -4.20541037e-04,\n",
       "       -8.54442082e-03,  1.71217974e-02, -1.63142029e-02, -9.56794340e-03,\n",
       "        1.57569945e-02,  9.44166537e-03, -7.51933362e-03,  1.21011045e-02,\n",
       "       -8.29431973e-03,  9.65903513e-03,  4.00445834e-02, -5.09824324e-03,\n",
       "        1.34496740e-03,  1.03305466e-02, -1.01281703e-03, -1.35008562e-02,\n",
       "       -1.14401206e-02,  1.71837844e-02, -9.40275099e-03,  8.78366362e-03,\n",
       "        3.06534022e-02,  2.08225939e-02, -2.13383716e-02, -1.75006222e-02,\n",
       "       -1.09859370e-02, -6.99173100e-03,  1.82690192e-02, -2.61768769e-03,\n",
       "        9.96184070e-03, -1.84567366e-02, -6.56371340e-05,  2.45741419e-02,\n",
       "       -1.50757506e-02,  1.94180291e-03, -1.41235888e-02,  1.38011703e-03,\n",
       "        5.72049618e-03,  9.92197637e-03,  2.82573812e-02,  2.23118719e-02,\n",
       "       -1.92854851e-02,  1.54310632e-02, -2.91617326e-02,  3.32230888e-02,\n",
       "        1.17883636e-02,  1.06403073e-02,  6.93851477e-03, -1.10096391e-02,\n",
       "        9.61429998e-03,  2.74877734e-02,  3.65873310e-03,  2.58566514e-02],\n",
       "      dtype=float32)"
      ]
     },
     "execution_count": 20,
     "metadata": {},
     "output_type": "execute_result"
    }
   ],
   "source": [
    "ft.get_word_vector(\"hybydyby\")"
   ]
  },
  {
   "cell_type": "code",
   "execution_count": 21,
   "id": "postal-movie",
   "metadata": {
    "slideshow": {
     "slide_type": "fragment"
    }
   },
   "outputs": [
    {
     "data": {
      "text/plain": [
       "(['<hyby', 'hybyd', 'ybydy', 'bydyb', 'ydyby', 'dyby>'],\n",
       " array([2682557, 3826421, 3233970, 2104779, 2428182, 2410315]))"
      ]
     },
     "execution_count": 21,
     "metadata": {},
     "output_type": "execute_result"
    }
   ],
   "source": [
    "ft.get_subwords(\"hybydyby\")"
   ]
  },
  {
   "cell_type": "markdown",
   "id": "rural-chinese",
   "metadata": {
    "slideshow": {
     "slide_type": "slide"
    }
   },
   "source": [
    "## Jak użyć wektorów w klasycznych modelach?"
   ]
  },
  {
   "cell_type": "code",
   "execution_count": 22,
   "id": "flying-negotiation",
   "metadata": {
    "slideshow": {
     "slide_type": "fragment"
    }
   },
   "outputs": [
    {
     "data": {
      "text/plain": [
       "[Przetwarzanie tekstu to świetna zabawa,\n",
       " Lubię pracować z tekstem,\n",
       " Python świetnie nadaje się do przetwarzania tekstu]"
      ]
     },
     "execution_count": 22,
     "metadata": {},
     "output_type": "execute_result"
    }
   ],
   "source": [
    "doc_corpus"
   ]
  },
  {
   "cell_type": "code",
   "execution_count": 23,
   "id": "smooth-ordinance",
   "metadata": {
    "slideshow": {
     "slide_type": "fragment"
    }
   },
   "outputs": [],
   "source": [
    "doc1, doc2, doc3 = doc_corpus"
   ]
  },
  {
   "cell_type": "markdown",
   "id": "current-boutique",
   "metadata": {
    "slideshow": {
     "slide_type": "fragment"
    }
   },
   "source": [
    "```\n",
    "pip install numpy\n",
    "```"
   ]
  },
  {
   "cell_type": "code",
   "execution_count": 24,
   "id": "incorporated-external",
   "metadata": {
    "slideshow": {
     "slide_type": "fragment"
    }
   },
   "outputs": [],
   "source": [
    "import numpy as np"
   ]
  },
  {
   "cell_type": "code",
   "execution_count": 25,
   "id": "stupid-revolution",
   "metadata": {
    "slideshow": {
     "slide_type": "slide"
    }
   },
   "outputs": [
    {
     "data": {
      "text/plain": [
       "(5, 300)"
      ]
     },
     "execution_count": 25,
     "metadata": {},
     "output_type": "execute_result"
    }
   ],
   "source": [
    "np.array([token.vector for token in doc1]).shape"
   ]
  },
  {
   "cell_type": "code",
   "execution_count": 26,
   "id": "solved-conducting",
   "metadata": {
    "slideshow": {
     "slide_type": "fragment"
    }
   },
   "outputs": [
    {
     "data": {
      "text/plain": [
       "(4, 300)"
      ]
     },
     "execution_count": 26,
     "metadata": {},
     "output_type": "execute_result"
    }
   ],
   "source": [
    "np.array([token.vector for token in doc2]).shape"
   ]
  },
  {
   "cell_type": "code",
   "execution_count": 27,
   "id": "extended-inspiration",
   "metadata": {
    "slideshow": {
     "slide_type": "fragment"
    }
   },
   "outputs": [
    {
     "data": {
      "text/plain": [
       "(7, 300)"
      ]
     },
     "execution_count": 27,
     "metadata": {},
     "output_type": "execute_result"
    }
   ],
   "source": [
    "np.array([token.vector for token in doc3]).shape"
   ]
  },
  {
   "cell_type": "code",
   "execution_count": 28,
   "id": "genuine-soldier",
   "metadata": {
    "scrolled": true,
    "slideshow": {
     "slide_type": "slide"
    }
   },
   "outputs": [
    {
     "data": {
      "text/plain": [
       "(300,)"
      ]
     },
     "execution_count": 28,
     "metadata": {},
     "output_type": "execute_result"
    }
   ],
   "source": [
    "np.mean([token.vector for token in doc1], axis=0).shape"
   ]
  },
  {
   "cell_type": "code",
   "execution_count": 29,
   "id": "coral-hearing",
   "metadata": {
    "slideshow": {
     "slide_type": "fragment"
    }
   },
   "outputs": [
    {
     "data": {
      "text/plain": [
       "(300,)"
      ]
     },
     "execution_count": 29,
     "metadata": {},
     "output_type": "execute_result"
    }
   ],
   "source": [
    "np.mean([token.vector for token in doc2], axis=0).shape"
   ]
  },
  {
   "cell_type": "code",
   "execution_count": 30,
   "id": "sorted-monitoring",
   "metadata": {
    "slideshow": {
     "slide_type": "fragment"
    }
   },
   "outputs": [
    {
     "data": {
      "text/plain": [
       "(300,)"
      ]
     },
     "execution_count": 30,
     "metadata": {},
     "output_type": "execute_result"
    }
   ],
   "source": [
    "np.mean([token.vector for token in doc3], axis=0).shape"
   ]
  },
  {
   "cell_type": "markdown",
   "id": "liked-miami",
   "metadata": {
    "slideshow": {
     "slide_type": "skip"
    }
   },
   "source": [
    "\n"
   ]
  }
 ],
 "metadata": {
  "celltoolbar": "Slideshow",
  "kernelspec": {
   "display_name": "Python 3",
   "language": "python",
   "name": "python3"
  },
  "language_info": {
   "codemirror_mode": {
    "name": "ipython",
    "version": 3
   },
   "file_extension": ".py",
   "mimetype": "text/x-python",
   "name": "python",
   "nbconvert_exporter": "python",
   "pygments_lexer": "ipython3",
   "version": "3.8.5"
  }
 },
 "nbformat": 4,
 "nbformat_minor": 5
}
